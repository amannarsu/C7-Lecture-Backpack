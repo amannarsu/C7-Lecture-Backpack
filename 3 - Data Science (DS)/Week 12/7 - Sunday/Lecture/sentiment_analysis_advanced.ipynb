{
 "cells": [
  {
   "cell_type": "markdown",
   "metadata": {},
   "source": [
    "### **Advanced Sentiment Analysis**\n",
    "Sentiment analysis is the process of determining the emotional tone or opinion expressed in a piece of text. In this advanced notebook, we will explore techniques to improve sentiment analysis by addressing some of the limitations of the basic approach, such as handling sarcasm, irony, and complex language structures.\n",
    "### **Polarity and Subjectivity**\n",
    "Polarity is a measure of the positive or negative orientation of a text, ranging from -1 to 1. Subjectivity refers to the extent to which a text expresses personal opinions or feelings, ranging from 0 to 1.\n",
    "### **Handling Sarcasm and Irony**\n",
    "Sarcasm and irony can be challenging for sentiment analysis models to interpret correctly. One approach to handle this is to use a sarcasm detection model alongside the sentiment analysis model. We can train a separate model specifically for sarcasm detection using labeled data and incorporate its predictions into the sentiment analysis pipeline."
   ]
  },
  {
   "cell_type": "code",
   "execution_count": 34,
   "metadata": {},
   "outputs": [],
   "source": [
    "# Import necessary libraries\n",
    "import spacy\n",
    "import pandas as pd\n",
    "from spacytextblob.spacytextblob import SpacyTextBlob\n",
    "from transformers import AutoTokenizer, AutoModelForSequenceClassification, pipeline"
   ]
  },
  {
   "cell_type": "code",
   "execution_count": 35,
   "metadata": {},
   "outputs": [
    {
     "data": {
      "text/plain": [
       "<spacytextblob.spacytextblob.SpacyTextBlob at 0x4bdfa8cd0>"
      ]
     },
     "execution_count": 35,
     "metadata": {},
     "output_type": "execute_result"
    }
   ],
   "source": [
    "# Load the spaCy model\n",
    "nlp = spacy.load('en_core_web_lg')\n",
    "nlp.add_pipe('spacytextblob')"
   ]
  },
  {
   "cell_type": "code",
   "execution_count": 36,
   "metadata": {},
   "outputs": [
    {
     "name": "stderr",
     "output_type": "stream",
     "text": [
      "/Library/Frameworks/Python.framework/Versions/3.11/lib/python3.11/site-packages/huggingface_hub/file_download.py:1132: FutureWarning: `resume_download` is deprecated and will be removed in version 1.0.0. Downloads always resume when possible. If you want to force a new download, use `force_download=True`.\n",
      "  warnings.warn(\n"
     ]
    },
    {
     "data": {
      "application/vnd.jupyter.widget-view+json": {
       "model_id": "8c1a7394c43b44f5887a89e32b82ced5",
       "version_major": 2,
       "version_minor": 0
      },
      "text/plain": [
       "tokenizer_config.json:   0%|          | 0.00/25.0 [00:00<?, ?B/s]"
      ]
     },
     "metadata": {},
     "output_type": "display_data"
    },
    {
     "data": {
      "application/vnd.jupyter.widget-view+json": {
       "model_id": "eec67d23c0874557b73fd1aace857d6b",
       "version_major": 2,
       "version_minor": 0
      },
      "text/plain": [
       "config.json:   0%|          | 0.00/1.21k [00:00<?, ?B/s]"
      ]
     },
     "metadata": {},
     "output_type": "display_data"
    },
    {
     "data": {
      "application/vnd.jupyter.widget-view+json": {
       "model_id": "223ed8b948384a1a8dae226b42222967",
       "version_major": 2,
       "version_minor": 0
      },
      "text/plain": [
       "spiece.model:   0%|          | 0.00/792k [00:00<?, ?B/s]"
      ]
     },
     "metadata": {},
     "output_type": "display_data"
    },
    {
     "data": {
      "application/vnd.jupyter.widget-view+json": {
       "model_id": "00962ad23b324d4b9ac7363eae3ee392",
       "version_major": 2,
       "version_minor": 0
      },
      "text/plain": [
       "special_tokens_map.json:   0%|          | 0.00/1.79k [00:00<?, ?B/s]"
      ]
     },
     "metadata": {},
     "output_type": "display_data"
    },
    {
     "name": "stderr",
     "output_type": "stream",
     "text": [
      "You are using the default legacy behaviour of the <class 'transformers.models.t5.tokenization_t5.T5Tokenizer'>. This is expected, and simply means that the `legacy` (previous) behavior will be used so nothing changes for you. If you want to use the new behaviour, set `legacy=False`. This should only be set if you understand what it means, and thoroughly read the reason why this was added as explained in https://github.com/huggingface/transformers/pull/24565\n"
     ]
    },
    {
     "data": {
      "application/vnd.jupyter.widget-view+json": {
       "model_id": "361d638172be4614aa37f11438eb483d",
       "version_major": 2,
       "version_minor": 0
      },
      "text/plain": [
       "model.safetensors:   0%|          | 0.00/892M [00:00<?, ?B/s]"
      ]
     },
     "metadata": {},
     "output_type": "display_data"
    },
    {
     "name": "stderr",
     "output_type": "stream",
     "text": [
      "Some weights of T5ForSequenceClassification were not initialized from the model checkpoint at mrm8488/t5-base-finetuned-sarcasm-twitter and are newly initialized: ['classification_head.dense.bias', 'classification_head.dense.weight', 'classification_head.out_proj.bias', 'classification_head.out_proj.weight']\n",
      "You should probably TRAIN this model on a down-stream task to be able to use it for predictions and inference.\n"
     ]
    }
   ],
   "source": [
    "# Note: this loads almost 1GB of data and might take a while, run with caution\n",
    "# Load a pre-trained sarcasm detection model\n",
    "sarcasm_tokenizer = AutoTokenizer.from_pretrained(\"mrm8488/t5-base-finetuned-sarcasm-twitter\")\n",
    "sarcasm_model = AutoModelForSequenceClassification.from_pretrained(\"mrm8488/t5-base-finetuned-sarcasm-twitter\")\n",
    "sarcasm_pipeline = pipeline(\"text-classification\", model=sarcasm_model, tokenizer=sarcasm_tokenizer)"
   ]
  },
  {
   "cell_type": "code",
   "execution_count": 37,
   "metadata": {},
   "outputs": [],
   "source": [
    "# Text Preprocessing\n",
    "def preprocess_text(text):\n",
    "    # Create a spaCy document\n",
    "    doc = nlp(text)\n",
    "    \n",
    "    # Remove stopwords and punctuation\n",
    "    filtered_tokens = [token for token in doc if not token.is_stop and not token.is_punct]\n",
    "    \n",
    "    # Lemmatize the tokens\n",
    "    lemmatized_tokens = [token.lemma_ for token in filtered_tokens]\n",
    "    \n",
    "    # Join the lemmatized tokens back into a string\n",
    "    preprocessed_text = ' '.join(lemmatized_tokens)\n",
    "    \n",
    "    return preprocessed_text"
   ]
  },
  {
   "cell_type": "code",
   "execution_count": 38,
   "metadata": {},
   "outputs": [],
   "source": [
    "# Sarcasm Detection\n",
    "def detect_sarcasm(text):\n",
    "    result = sarcasm_pipeline(text)\n",
    "    return result[0]['label']"
   ]
  },
  {
   "cell_type": "code",
   "execution_count": 39,
   "metadata": {},
   "outputs": [],
   "source": [
    "# Sentiment Analysis\n",
    "def analyze_sentiment(text):\n",
    "    # Create a spaCy document\n",
    "    doc = nlp(text)\n",
    "    \n",
    "    # Get the sentiment polarity and subjectivity\n",
    "    polarity = doc._.blob.polarity\n",
    "    subjectivity = doc._.blob.subjectivity\n",
    "    \n",
    "    # Detect sarcasm\n",
    "    sarcasm = detect_sarcasm(text)\n",
    "    \n",
    "    # Adjust polarity based on sarcasm detection\n",
    "    if sarcasm == 'SARCASM':\n",
    "        polarity *= -1\n",
    "    \n",
    "    # Determine the sentiment label\n",
    "    if polarity > 0:\n",
    "        sentiment = 'Positive'\n",
    "    elif polarity < 0:\n",
    "        sentiment = 'Negative'\n",
    "    else:\n",
    "        sentiment = 'Neutral'\n",
    "    \n",
    "    return sentiment, polarity, subjectivity, sarcasm"
   ]
  },
  {
   "cell_type": "code",
   "execution_count": 40,
   "metadata": {},
   "outputs": [],
   "source": [
    "# Load in the dataset\n",
    "df = pd.read_csv('Reviews.csv')"
   ]
  },
  {
   "cell_type": "code",
   "execution_count": 41,
   "metadata": {},
   "outputs": [],
   "source": [
    "# Preprocess the text column\n",
    "df['preprocessed_text'] = df['Text'].apply(preprocess_text)"
   ]
  },
  {
   "cell_type": "code",
   "execution_count": 42,
   "metadata": {},
   "outputs": [],
   "source": [
    "# Analyze the sentiment of the preprocessed text\n",
    "df['sentiment'], df['polarity'], df['subjectivity'], df['sarcasm'] = zip(*df['preprocessed_text'].apply(analyze_sentiment))"
   ]
  },
  {
   "cell_type": "code",
   "execution_count": 43,
   "metadata": {},
   "outputs": [
    {
     "data": {
      "text/html": [
       "<div>\n",
       "<style scoped>\n",
       "    .dataframe tbody tr th:only-of-type {\n",
       "        vertical-align: middle;\n",
       "    }\n",
       "\n",
       "    .dataframe tbody tr th {\n",
       "        vertical-align: top;\n",
       "    }\n",
       "\n",
       "    .dataframe thead th {\n",
       "        text-align: right;\n",
       "    }\n",
       "</style>\n",
       "<table border=\"1\" class=\"dataframe\">\n",
       "  <thead>\n",
       "    <tr style=\"text-align: right;\">\n",
       "      <th></th>\n",
       "      <th>Id</th>\n",
       "      <th>Summary</th>\n",
       "      <th>Text</th>\n",
       "      <th>preprocessed_text</th>\n",
       "      <th>sentiment</th>\n",
       "      <th>polarity</th>\n",
       "      <th>subjectivity</th>\n",
       "      <th>sarcasm</th>\n",
       "    </tr>\n",
       "  </thead>\n",
       "  <tbody>\n",
       "    <tr>\n",
       "      <th>0</th>\n",
       "      <td>1</td>\n",
       "      <td>Good Quality Dog Food</td>\n",
       "      <td>I have bought several of the Vitality canned d...</td>\n",
       "      <td>buy Vitality can dog food product find good qu...</td>\n",
       "      <td>Positive</td>\n",
       "      <td>0.700000</td>\n",
       "      <td>0.600000</td>\n",
       "      <td>LABEL_0</td>\n",
       "    </tr>\n",
       "    <tr>\n",
       "      <th>1</th>\n",
       "      <td>2</td>\n",
       "      <td>Not as Advertised</td>\n",
       "      <td>Product arrived labeled as Jumbo Salted Peanut...</td>\n",
       "      <td>product arrived label Jumbo Salted Peanuts pea...</td>\n",
       "      <td>Positive</td>\n",
       "      <td>0.216667</td>\n",
       "      <td>0.762963</td>\n",
       "      <td>LABEL_0</td>\n",
       "    </tr>\n",
       "    <tr>\n",
       "      <th>2</th>\n",
       "      <td>3</td>\n",
       "      <td>\"Delight\" says it all</td>\n",
       "      <td>This is a confection that has been around a fe...</td>\n",
       "      <td>confection century   light pillowy citrus gela...</td>\n",
       "      <td>Positive</td>\n",
       "      <td>0.187000</td>\n",
       "      <td>0.548000</td>\n",
       "      <td>LABEL_0</td>\n",
       "    </tr>\n",
       "    <tr>\n",
       "      <th>3</th>\n",
       "      <td>4</td>\n",
       "      <td>Cough Medicine</td>\n",
       "      <td>If you are looking for the secret ingredient i...</td>\n",
       "      <td>look secret ingredient Robitussin believe find...</td>\n",
       "      <td>Positive</td>\n",
       "      <td>0.150000</td>\n",
       "      <td>0.650000</td>\n",
       "      <td>LABEL_1</td>\n",
       "    </tr>\n",
       "    <tr>\n",
       "      <th>4</th>\n",
       "      <td>5</td>\n",
       "      <td>Great taffy</td>\n",
       "      <td>Great taffy at a great price.  There was a wid...</td>\n",
       "      <td>great taffy great price   wide assortment yumm...</td>\n",
       "      <td>Positive</td>\n",
       "      <td>0.458333</td>\n",
       "      <td>0.600000</td>\n",
       "      <td>LABEL_1</td>\n",
       "    </tr>\n",
       "  </tbody>\n",
       "</table>\n",
       "</div>"
      ],
      "text/plain": [
       "   Id                Summary  \\\n",
       "0   1  Good Quality Dog Food   \n",
       "1   2      Not as Advertised   \n",
       "2   3  \"Delight\" says it all   \n",
       "3   4         Cough Medicine   \n",
       "4   5            Great taffy   \n",
       "\n",
       "                                                Text  \\\n",
       "0  I have bought several of the Vitality canned d...   \n",
       "1  Product arrived labeled as Jumbo Salted Peanut...   \n",
       "2  This is a confection that has been around a fe...   \n",
       "3  If you are looking for the secret ingredient i...   \n",
       "4  Great taffy at a great price.  There was a wid...   \n",
       "\n",
       "                                   preprocessed_text sentiment  polarity  \\\n",
       "0  buy Vitality can dog food product find good qu...  Positive  0.700000   \n",
       "1  product arrived label Jumbo Salted Peanuts pea...  Positive  0.216667   \n",
       "2  confection century   light pillowy citrus gela...  Positive  0.187000   \n",
       "3  look secret ingredient Robitussin believe find...  Positive  0.150000   \n",
       "4  great taffy great price   wide assortment yumm...  Positive  0.458333   \n",
       "\n",
       "   subjectivity  sarcasm  \n",
       "0      0.600000  LABEL_0  \n",
       "1      0.762963  LABEL_0  \n",
       "2      0.548000  LABEL_0  \n",
       "3      0.650000  LABEL_1  \n",
       "4      0.600000  LABEL_1  "
      ]
     },
     "execution_count": 43,
     "metadata": {},
     "output_type": "execute_result"
    }
   ],
   "source": [
    "df.head()"
   ]
  },
  {
   "cell_type": "code",
   "execution_count": 44,
   "metadata": {},
   "outputs": [
    {
     "name": "stdout",
     "output_type": "stream",
     "text": [
      "Review: I purchased the Mango flavor, and to me it doesn't take like Mango at all.  There is no hint of sweetness, and unfortunately there is a hint or aftertaste almost like licorice.  I've been consuming various sports nutrition products for decades, so I'm familiar and have come to like the taste of the most of the products I've tried.  The mango flavor is one of the least appealing I've tasted.  It's not terrible, but it's bad enough that I notice the bad taste every sip I take.\n",
      "Preprocessed Text: purchase Mango flavor like Mango   hint sweetness unfortunately hint aftertaste like licorice   consume sport nutrition product decade familiar come like taste product try   mango flavor appeal taste   terrible bad notice bad taste sip\n",
      "Polarity: -0.5049999999999999\n",
      "Sarcasm: LABEL_1\n",
      "\n",
      "Review: Arrived in 6 days and were so stale i could not eat any of the 6 bags!!\n",
      "Preprocessed Text: arrive 6 day stale eat 6 bag\n",
      "Polarity: -0.5\n",
      "Sarcasm: LABEL_0\n",
      "\n",
      "Review: The Strawberry Twizzlers are my guilty pleasure - yummy. Six pounds will be around for a while with my son and I.\n",
      "Preprocessed Text: Strawberry Twizzlers guilty pleasure yummy pound son I.\n",
      "Polarity: -0.5\n",
      "Sarcasm: LABEL_0\n",
      "\n",
      "Review: I fed this to my Golden Retriever and he hated it.  He wouldn't eat it, and when he did, it gave him terrible diarrhea.  We will not be buying this again.  It's also super expensive.\n",
      "Preprocessed Text: feed Golden Retriever hate   eat give terrible diarrhea   buy   super expensive\n",
      "Polarity: -0.33333333333333337\n",
      "Sarcasm: LABEL_1\n",
      "\n",
      "Review: this was sooooo deliscious but too bad i ate em too fast and gained 2 pds! my fault\n",
      "Preprocessed Text: sooooo deliscious bad eat em fast gain 2 pd fault\n",
      "Polarity: -0.24999999999999992\n",
      "Sarcasm: LABEL_1\n",
      "\n"
     ]
    }
   ],
   "source": [
    "# Show text of top 5 most negative reviews along with their polarity, preprocessed text, and sarcasm detection\n",
    "for index, row in df.sort_values('polarity').head().iterrows():\n",
    "    print(f\"Review: {row['Text']}\")\n",
    "    print(f\"Preprocessed Text: {row['preprocessed_text']}\")\n",
    "    print(f\"Polarity: {row['polarity']}\")\n",
    "    print(f\"Sarcasm: {row['sarcasm']}\")\n",
    "    print()"
   ]
  },
  {
   "cell_type": "code",
   "execution_count": 45,
   "metadata": {},
   "outputs": [
    {
     "name": "stdout",
     "output_type": "stream",
     "text": [
      "Review: I can remember buying this candy as a kid and the quality hasn't dropped in all these years. Still a superb product you won't be disappointed with.\n",
      "Preprocessed Text: remember buy candy kid quality drop year superb product will disappoint\n",
      "Polarity: 1.0\n",
      "Sarcasm: LABEL_1\n",
      "\n",
      "Review: This offer is a great price and a great taste, thanks Amazon for selling this product.<br /><br />Staral\n",
      "Preprocessed Text: offer great price great taste thank Amazon sell product.<br /><br />Staral\n",
      "Polarity: 0.8\n",
      "Sarcasm: LABEL_1\n",
      "\n",
      "Review: This is great dog food, my dog has severs allergies and this brand is the only one that we can feed him.\n",
      "Preprocessed Text: great dog food dog sever allergy brand feed\n",
      "Polarity: 0.8\n",
      "Sarcasm: LABEL_1\n",
      "\n",
      "Review: Great product, nice combination of chocolates and perfect size!  The bags had plenty, and they were shipped promptly.  The kids in the neighborhood liked our candies!\n",
      "Preprocessed Text: great product nice combination chocolate perfect size   bag plenty ship promptly   kid neighborhood like candy\n",
      "Polarity: 0.7999999999999999\n",
      "Sarcasm: LABEL_1\n",
      "\n",
      "Review: I have bought several of the Vitality canned dog food products and have found them all to be of good quality. The product looks more like a stew than a processed meat and it smells better. My Labrador is finicky and she appreciates this product better than  most.\n",
      "Preprocessed Text: buy Vitality can dog food product find good quality product look like stew process meat smell well Labrador finicky appreciate product well  \n",
      "Polarity: 0.7\n",
      "Sarcasm: LABEL_0\n",
      "\n"
     ]
    }
   ],
   "source": [
    "# Show the top 5 most positive reviews along with their polarity, preprocessed text, and sarcasm detection\n",
    "for index, row in df.sort_values('polarity', ascending=False).head().iterrows():\n",
    "    print(f\"Review: {row['Text']}\")\n",
    "    print(f\"Preprocessed Text: {row['preprocessed_text']}\")\n",
    "    print(f\"Polarity: {row['polarity']}\")\n",
    "    print(f\"Sarcasm: {row['sarcasm']}\")\n",
    "    print()"
   ]
  },
  {
   "cell_type": "markdown",
   "metadata": {},
   "source": [
    "**Improvements**:\n",
    "- Incorporated sarcasm detection to handle sarcastic and ironic texts more accurately.\n",
    "\n",
    "**Limitations and Future Work**:\n",
    "- The sarcasm detection model used in this example is pre-trained and may not be optimal for all domains. Fine-tuning the sarcasm detection model on domain-specific data could improve its accuracy.\n",
    "- Evaluating the performance of the improved sentiment analysis model against a labeled dataset would provide insights into its effectiveness."
   ]
  },
  {
   "cell_type": "code",
   "execution_count": null,
   "metadata": {},
   "outputs": [],
   "source": []
  }
 ],
 "metadata": {
  "kernelspec": {
   "display_name": "Python 3",
   "language": "python",
   "name": "python3"
  },
  "language_info": {
   "codemirror_mode": {
    "name": "ipython",
    "version": 3
   },
   "file_extension": ".py",
   "mimetype": "text/x-python",
   "name": "python",
   "nbconvert_exporter": "python",
   "pygments_lexer": "ipython3",
   "version": "3.11.6"
  }
 },
 "nbformat": 4,
 "nbformat_minor": 2
}
