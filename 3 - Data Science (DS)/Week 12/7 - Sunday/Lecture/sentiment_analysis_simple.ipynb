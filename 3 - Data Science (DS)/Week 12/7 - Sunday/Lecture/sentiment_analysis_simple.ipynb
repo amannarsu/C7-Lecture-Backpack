{
 "cells": [
  {
   "cell_type": "markdown",
   "metadata": {},
   "source": [
    "### __Sentiment Analysis__\n",
    "Sentiment analysis is the process of determining the emotional tone or opinion expressed in a piece of text. It involves classifying text into positive, negative, or neutral categories based on the sentiment conveyed by the words and phrases used.\n",
    "\n",
    "### __Polarity__\n",
    "Polarity is a measure of the positive or negative orientation of a text. It represents the degree to which a text expresses a positive or negative sentiment. Polarity scores typically range from -1 to 1, where -1 indicates a highly negative sentiment, 0 represents a neutral sentiment, and 1 indicates a highly positive sentiment.\n",
    "\n",
    "### __Subjectivity__\n",
    "Subjectivity refers to the extent to which a text expresses personal opinions, beliefs, or feelings, rather than factual information. It measures how subjective or opinionated a text is. Subjectivity scores usually range from 0 to 1, where 0 indicates a highly objective text and 1 indicates a highly subjective text."
   ]
  },
  {
   "cell_type": "code",
   "execution_count": 2,
   "metadata": {},
   "outputs": [
    {
     "name": "stdout",
     "output_type": "stream",
     "text": [
      "Requirement already satisfied: spacytextblob in /Library/Frameworks/Python.framework/Versions/3.11/lib/python3.11/site-packages (4.0.0)\n",
      "Requirement already satisfied: spacy<4.0,>=3.0 in /Library/Frameworks/Python.framework/Versions/3.11/lib/python3.11/site-packages (from spacytextblob) (3.7.4)\n",
      "Requirement already satisfied: textblob<0.16.0,>=0.15.3 in /Library/Frameworks/Python.framework/Versions/3.11/lib/python3.11/site-packages (from spacytextblob) (0.15.3)\n",
      "Requirement already satisfied: spacy-legacy<3.1.0,>=3.0.11 in /Library/Frameworks/Python.framework/Versions/3.11/lib/python3.11/site-packages (from spacy<4.0,>=3.0->spacytextblob) (3.0.12)\n",
      "Requirement already satisfied: spacy-loggers<2.0.0,>=1.0.0 in /Library/Frameworks/Python.framework/Versions/3.11/lib/python3.11/site-packages (from spacy<4.0,>=3.0->spacytextblob) (1.0.5)\n",
      "Requirement already satisfied: murmurhash<1.1.0,>=0.28.0 in /Library/Frameworks/Python.framework/Versions/3.11/lib/python3.11/site-packages (from spacy<4.0,>=3.0->spacytextblob) (1.0.10)\n",
      "Requirement already satisfied: cymem<2.1.0,>=2.0.2 in /Library/Frameworks/Python.framework/Versions/3.11/lib/python3.11/site-packages (from spacy<4.0,>=3.0->spacytextblob) (2.0.8)\n",
      "Requirement already satisfied: preshed<3.1.0,>=3.0.2 in /Library/Frameworks/Python.framework/Versions/3.11/lib/python3.11/site-packages (from spacy<4.0,>=3.0->spacytextblob) (3.0.9)\n",
      "Requirement already satisfied: thinc<8.3.0,>=8.2.2 in /Library/Frameworks/Python.framework/Versions/3.11/lib/python3.11/site-packages (from spacy<4.0,>=3.0->spacytextblob) (8.2.3)\n",
      "Requirement already satisfied: wasabi<1.2.0,>=0.9.1 in /Library/Frameworks/Python.framework/Versions/3.11/lib/python3.11/site-packages (from spacy<4.0,>=3.0->spacytextblob) (1.1.2)\n",
      "Requirement already satisfied: srsly<3.0.0,>=2.4.3 in /Library/Frameworks/Python.framework/Versions/3.11/lib/python3.11/site-packages (from spacy<4.0,>=3.0->spacytextblob) (2.4.8)\n",
      "Requirement already satisfied: catalogue<2.1.0,>=2.0.6 in /Library/Frameworks/Python.framework/Versions/3.11/lib/python3.11/site-packages (from spacy<4.0,>=3.0->spacytextblob) (2.0.10)\n",
      "Requirement already satisfied: weasel<0.4.0,>=0.1.0 in /Library/Frameworks/Python.framework/Versions/3.11/lib/python3.11/site-packages (from spacy<4.0,>=3.0->spacytextblob) (0.3.4)\n",
      "Requirement already satisfied: typer<0.10.0,>=0.3.0 in /Library/Frameworks/Python.framework/Versions/3.11/lib/python3.11/site-packages (from spacy<4.0,>=3.0->spacytextblob) (0.9.0)\n",
      "Requirement already satisfied: smart-open<7.0.0,>=5.2.1 in /Library/Frameworks/Python.framework/Versions/3.11/lib/python3.11/site-packages (from spacy<4.0,>=3.0->spacytextblob) (6.4.0)\n",
      "Requirement already satisfied: tqdm<5.0.0,>=4.38.0 in /Library/Frameworks/Python.framework/Versions/3.11/lib/python3.11/site-packages (from spacy<4.0,>=3.0->spacytextblob) (4.66.1)\n",
      "Requirement already satisfied: requests<3.0.0,>=2.13.0 in /Library/Frameworks/Python.framework/Versions/3.11/lib/python3.11/site-packages (from spacy<4.0,>=3.0->spacytextblob) (2.31.0)\n",
      "Requirement already satisfied: pydantic!=1.8,!=1.8.1,<3.0.0,>=1.7.4 in /Library/Frameworks/Python.framework/Versions/3.11/lib/python3.11/site-packages (from spacy<4.0,>=3.0->spacytextblob) (2.6.1)\n",
      "Requirement already satisfied: jinja2 in /Library/Frameworks/Python.framework/Versions/3.11/lib/python3.11/site-packages (from spacy<4.0,>=3.0->spacytextblob) (3.1.3)\n",
      "Requirement already satisfied: setuptools in /Library/Frameworks/Python.framework/Versions/3.11/lib/python3.11/site-packages (from spacy<4.0,>=3.0->spacytextblob) (69.5.1)\n",
      "Requirement already satisfied: packaging>=20.0 in /Library/Frameworks/Python.framework/Versions/3.11/lib/python3.11/site-packages (from spacy<4.0,>=3.0->spacytextblob) (23.2)\n",
      "Requirement already satisfied: langcodes<4.0.0,>=3.2.0 in /Library/Frameworks/Python.framework/Versions/3.11/lib/python3.11/site-packages (from spacy<4.0,>=3.0->spacytextblob) (3.3.0)\n",
      "Requirement already satisfied: numpy>=1.19.0 in /Library/Frameworks/Python.framework/Versions/3.11/lib/python3.11/site-packages (from spacy<4.0,>=3.0->spacytextblob) (1.26.4)\n",
      "Requirement already satisfied: nltk>=3.1 in /Library/Frameworks/Python.framework/Versions/3.11/lib/python3.11/site-packages (from textblob<0.16.0,>=0.15.3->spacytextblob) (3.8.1)\n",
      "Requirement already satisfied: click in /Library/Frameworks/Python.framework/Versions/3.11/lib/python3.11/site-packages (from nltk>=3.1->textblob<0.16.0,>=0.15.3->spacytextblob) (8.1.7)\n",
      "Requirement already satisfied: joblib in /Library/Frameworks/Python.framework/Versions/3.11/lib/python3.11/site-packages (from nltk>=3.1->textblob<0.16.0,>=0.15.3->spacytextblob) (1.3.2)\n",
      "Requirement already satisfied: regex>=2021.8.3 in /Library/Frameworks/Python.framework/Versions/3.11/lib/python3.11/site-packages (from nltk>=3.1->textblob<0.16.0,>=0.15.3->spacytextblob) (2023.12.25)\n",
      "Requirement already satisfied: annotated-types>=0.4.0 in /Library/Frameworks/Python.framework/Versions/3.11/lib/python3.11/site-packages (from pydantic!=1.8,!=1.8.1,<3.0.0,>=1.7.4->spacy<4.0,>=3.0->spacytextblob) (0.6.0)\n",
      "Requirement already satisfied: pydantic-core==2.16.2 in /Library/Frameworks/Python.framework/Versions/3.11/lib/python3.11/site-packages (from pydantic!=1.8,!=1.8.1,<3.0.0,>=1.7.4->spacy<4.0,>=3.0->spacytextblob) (2.16.2)\n",
      "Requirement already satisfied: typing-extensions>=4.6.1 in /Library/Frameworks/Python.framework/Versions/3.11/lib/python3.11/site-packages (from pydantic!=1.8,!=1.8.1,<3.0.0,>=1.7.4->spacy<4.0,>=3.0->spacytextblob) (4.11.0)\n",
      "Requirement already satisfied: charset-normalizer<4,>=2 in /Library/Frameworks/Python.framework/Versions/3.11/lib/python3.11/site-packages (from requests<3.0.0,>=2.13.0->spacy<4.0,>=3.0->spacytextblob) (3.3.2)\n",
      "Requirement already satisfied: idna<4,>=2.5 in /Library/Frameworks/Python.framework/Versions/3.11/lib/python3.11/site-packages (from requests<3.0.0,>=2.13.0->spacy<4.0,>=3.0->spacytextblob) (3.6)\n",
      "Requirement already satisfied: urllib3<3,>=1.21.1 in /Library/Frameworks/Python.framework/Versions/3.11/lib/python3.11/site-packages (from requests<3.0.0,>=2.13.0->spacy<4.0,>=3.0->spacytextblob) (1.26.18)\n",
      "Requirement already satisfied: certifi>=2017.4.17 in /Library/Frameworks/Python.framework/Versions/3.11/lib/python3.11/site-packages (from requests<3.0.0,>=2.13.0->spacy<4.0,>=3.0->spacytextblob) (2024.2.2)\n",
      "Requirement already satisfied: blis<0.8.0,>=0.7.8 in /Library/Frameworks/Python.framework/Versions/3.11/lib/python3.11/site-packages (from thinc<8.3.0,>=8.2.2->spacy<4.0,>=3.0->spacytextblob) (0.7.11)\n",
      "Requirement already satisfied: confection<1.0.0,>=0.0.1 in /Library/Frameworks/Python.framework/Versions/3.11/lib/python3.11/site-packages (from thinc<8.3.0,>=8.2.2->spacy<4.0,>=3.0->spacytextblob) (0.1.4)\n",
      "Requirement already satisfied: cloudpathlib<0.17.0,>=0.7.0 in /Library/Frameworks/Python.framework/Versions/3.11/lib/python3.11/site-packages (from weasel<0.4.0,>=0.1.0->spacy<4.0,>=3.0->spacytextblob) (0.16.0)\n",
      "Requirement already satisfied: MarkupSafe>=2.0 in /Library/Frameworks/Python.framework/Versions/3.11/lib/python3.11/site-packages (from jinja2->spacy<4.0,>=3.0->spacytextblob) (2.1.5)\n"
     ]
    }
   ],
   "source": [
    "# Install required libraries\n",
    "!pip install spacytextblob"
   ]
  },
  {
   "cell_type": "code",
   "execution_count": 3,
   "metadata": {},
   "outputs": [],
   "source": [
    "# Import necessary libraries\n",
    "import spacy\n",
    "import pandas as pd\n",
    "from spacytextblob.spacytextblob import SpacyTextBlob"
   ]
  },
  {
   "cell_type": "code",
   "execution_count": 4,
   "metadata": {},
   "outputs": [],
   "source": [
    "# Load the spaCy model\n",
    "nlp = spacy.load('en_core_web_lg')\n",
    "# nlp = spacy.load('en_core_web_sm')"
   ]
  },
  {
   "cell_type": "code",
   "execution_count": 5,
   "metadata": {},
   "outputs": [
    {
     "name": "stdout",
     "output_type": "stream",
     "text": [
      "['tok2vec', 'tagger', 'parser', 'attribute_ruler', 'lemmatizer', 'ner']\n"
     ]
    }
   ],
   "source": [
    "# View current spacy pipeline\n",
    "print(nlp.pipe_names)"
   ]
  },
  {
   "cell_type": "code",
   "execution_count": 6,
   "metadata": {},
   "outputs": [
    {
     "data": {
      "text/plain": [
       "<spacytextblob.spacytextblob.SpacyTextBlob at 0x324bde710>"
      ]
     },
     "execution_count": 6,
     "metadata": {},
     "output_type": "execute_result"
    }
   ],
   "source": [
    "# Add SpacyTextBlob to the pipeline\n",
    "nlp.add_pipe('spacytextblob')"
   ]
  },
  {
   "cell_type": "code",
   "execution_count": 7,
   "metadata": {},
   "outputs": [
    {
     "name": "stdout",
     "output_type": "stream",
     "text": [
      "['tok2vec', 'tagger', 'parser', 'attribute_ruler', 'lemmatizer', 'ner', 'spacytextblob']\n"
     ]
    }
   ],
   "source": [
    "print(nlp.pipe_names)"
   ]
  },
  {
   "cell_type": "code",
   "execution_count": 1,
   "metadata": {},
   "outputs": [],
   "source": [
    "# Text Preprocessing\n",
    "def preprocess_text(text):\n",
    "    # Create a spaCy document\n",
    "    doc = nlp(text)\n",
    "    \n",
    "    # Remove stopwords and punctuation\n",
    "    filtered_tokens = [token for token in doc if not token.is_stop and not token.is_punct]\n",
    "    \n",
    "    # Lemmatize the tokens\n",
    "    lemmatized_tokens = [token.lemma_ for token in filtered_tokens]\n",
    "    \n",
    "    # Join the lemmatized tokens back into a string\n",
    "    preprocessed_text = ' '.join(lemmatized_tokens)\n",
    "    \n",
    "    return preprocessed_text"
   ]
  },
  {
   "cell_type": "code",
   "execution_count": 8,
   "metadata": {},
   "outputs": [],
   "source": [
    "# Sentiment Analysis\n",
    "def analyze_sentiment(text):\n",
    "    # Create a spaCy document\n",
    "    doc = nlp(text)\n",
    "    \n",
    "    # Get the sentiment polarity and subjectivity\n",
    "    polarity = doc._.blob.polarity\n",
    "    subjectivity = doc._.blob.subjectivity\n",
    "    \n",
    "    # Determine the sentiment label\n",
    "    if polarity > 0:\n",
    "        sentiment = 'Positive'\n",
    "    elif polarity < 0:\n",
    "        sentiment = 'Negative'\n",
    "    else:\n",
    "        sentiment = 'Neutral'\n",
    "    \n",
    "    return sentiment, polarity, subjectivity"
   ]
  },
  {
   "cell_type": "code",
   "execution_count": 9,
   "metadata": {},
   "outputs": [],
   "source": [
    "# Load in the dataset\n",
    "df = pd.read_csv('Reviews.csv')"
   ]
  },
  {
   "cell_type": "code",
   "execution_count": 10,
   "metadata": {},
   "outputs": [],
   "source": [
    "# Preprocess the text column\n",
    "df['preprocessed_text'] = df['Text'].apply(preprocess_text)"
   ]
  },
  {
   "cell_type": "code",
   "execution_count": 11,
   "metadata": {},
   "outputs": [],
   "source": [
    "# Analyze the sentiment of the preprocessed text\n",
    "df['sentiment'], df['polarity'], df['subjectivity'] = zip(*df['preprocessed_text'].apply(analyze_sentiment))"
   ]
  },
  {
   "cell_type": "code",
   "execution_count": 12,
   "metadata": {},
   "outputs": [
    {
     "data": {
      "text/html": [
       "<div>\n",
       "<style scoped>\n",
       "    .dataframe tbody tr th:only-of-type {\n",
       "        vertical-align: middle;\n",
       "    }\n",
       "\n",
       "    .dataframe tbody tr th {\n",
       "        vertical-align: top;\n",
       "    }\n",
       "\n",
       "    .dataframe thead th {\n",
       "        text-align: right;\n",
       "    }\n",
       "</style>\n",
       "<table border=\"1\" class=\"dataframe\">\n",
       "  <thead>\n",
       "    <tr style=\"text-align: right;\">\n",
       "      <th></th>\n",
       "      <th>Id</th>\n",
       "      <th>Summary</th>\n",
       "      <th>Text</th>\n",
       "      <th>preprocessed_text</th>\n",
       "      <th>sentiment</th>\n",
       "      <th>polarity</th>\n",
       "      <th>subjectivity</th>\n",
       "    </tr>\n",
       "  </thead>\n",
       "  <tbody>\n",
       "    <tr>\n",
       "      <th>0</th>\n",
       "      <td>1</td>\n",
       "      <td>Good Quality Dog Food</td>\n",
       "      <td>I have bought several of the Vitality canned d...</td>\n",
       "      <td>buy Vitality can dog food product find good qu...</td>\n",
       "      <td>Positive</td>\n",
       "      <td>0.700000</td>\n",
       "      <td>0.600000</td>\n",
       "    </tr>\n",
       "    <tr>\n",
       "      <th>1</th>\n",
       "      <td>2</td>\n",
       "      <td>Not as Advertised</td>\n",
       "      <td>Product arrived labeled as Jumbo Salted Peanut...</td>\n",
       "      <td>product arrived label Jumbo Salted Peanuts pea...</td>\n",
       "      <td>Positive</td>\n",
       "      <td>0.216667</td>\n",
       "      <td>0.762963</td>\n",
       "    </tr>\n",
       "    <tr>\n",
       "      <th>2</th>\n",
       "      <td>3</td>\n",
       "      <td>\"Delight\" says it all</td>\n",
       "      <td>This is a confection that has been around a fe...</td>\n",
       "      <td>confection century   light pillowy citrus gela...</td>\n",
       "      <td>Positive</td>\n",
       "      <td>0.187000</td>\n",
       "      <td>0.548000</td>\n",
       "    </tr>\n",
       "    <tr>\n",
       "      <th>3</th>\n",
       "      <td>4</td>\n",
       "      <td>Cough Medicine</td>\n",
       "      <td>If you are looking for the secret ingredient i...</td>\n",
       "      <td>look secret ingredient Robitussin believe find...</td>\n",
       "      <td>Positive</td>\n",
       "      <td>0.150000</td>\n",
       "      <td>0.650000</td>\n",
       "    </tr>\n",
       "    <tr>\n",
       "      <th>4</th>\n",
       "      <td>5</td>\n",
       "      <td>Great taffy</td>\n",
       "      <td>Great taffy at a great price.  There was a wid...</td>\n",
       "      <td>great taffy great price   wide assortment yumm...</td>\n",
       "      <td>Positive</td>\n",
       "      <td>0.458333</td>\n",
       "      <td>0.600000</td>\n",
       "    </tr>\n",
       "  </tbody>\n",
       "</table>\n",
       "</div>"
      ],
      "text/plain": [
       "   Id                Summary  \\\n",
       "0   1  Good Quality Dog Food   \n",
       "1   2      Not as Advertised   \n",
       "2   3  \"Delight\" says it all   \n",
       "3   4         Cough Medicine   \n",
       "4   5            Great taffy   \n",
       "\n",
       "                                                Text  \\\n",
       "0  I have bought several of the Vitality canned d...   \n",
       "1  Product arrived labeled as Jumbo Salted Peanut...   \n",
       "2  This is a confection that has been around a fe...   \n",
       "3  If you are looking for the secret ingredient i...   \n",
       "4  Great taffy at a great price.  There was a wid...   \n",
       "\n",
       "                                   preprocessed_text sentiment  polarity  \\\n",
       "0  buy Vitality can dog food product find good qu...  Positive  0.700000   \n",
       "1  product arrived label Jumbo Salted Peanuts pea...  Positive  0.216667   \n",
       "2  confection century   light pillowy citrus gela...  Positive  0.187000   \n",
       "3  look secret ingredient Robitussin believe find...  Positive  0.150000   \n",
       "4  great taffy great price   wide assortment yumm...  Positive  0.458333   \n",
       "\n",
       "   subjectivity  \n",
       "0      0.600000  \n",
       "1      0.762963  \n",
       "2      0.548000  \n",
       "3      0.650000  \n",
       "4      0.600000  "
      ]
     },
     "execution_count": 12,
     "metadata": {},
     "output_type": "execute_result"
    }
   ],
   "source": [
    "# Print the first few rows of the DataFrame\n",
    "df.head()"
   ]
  },
  {
   "cell_type": "code",
   "execution_count": 15,
   "metadata": {},
   "outputs": [
    {
     "name": "stdout",
     "output_type": "stream",
     "text": [
      "Review: I purchased the Mango flavor, and to me it doesn't take like Mango at all.  There is no hint of sweetness, and unfortunately there is a hint or aftertaste almost like licorice.  I've been consuming various sports nutrition products for decades, so I'm familiar and have come to like the taste of the most of the products I've tried.  The mango flavor is one of the least appealing I've tasted.  It's not terrible, but it's bad enough that I notice the bad taste every sip I take.\n",
      "Preprocessed Text: purchase Mango flavor like Mango   hint sweetness unfortunately hint aftertaste like licorice   consume sport nutrition product decade familiar come like taste product try   mango flavor appeal taste   terrible bad notice bad taste sip\n",
      "Polarity: -0.5049999999999999\n",
      "\n",
      "Review: Arrived in 6 days and were so stale i could not eat any of the 6 bags!!\n",
      "Preprocessed Text: arrive 6 day stale eat 6 bag\n",
      "Polarity: -0.5\n",
      "\n",
      "Review: The Strawberry Twizzlers are my guilty pleasure - yummy. Six pounds will be around for a while with my son and I.\n",
      "Preprocessed Text: Strawberry Twizzlers guilty pleasure yummy pound son I.\n",
      "Polarity: -0.5\n",
      "\n",
      "Review: I fed this to my Golden Retriever and he hated it.  He wouldn't eat it, and when he did, it gave him terrible diarrhea.  We will not be buying this again.  It's also super expensive.\n",
      "Preprocessed Text: feed Golden Retriever hate   eat give terrible diarrhea   buy   super expensive\n",
      "Polarity: -0.33333333333333337\n",
      "\n",
      "Review: this was sooooo deliscious but too bad i ate em too fast and gained 2 pds! my fault\n",
      "Preprocessed Text: sooooo deliscious bad eat em fast gain 2 pd fault\n",
      "Polarity: -0.24999999999999992\n",
      "\n"
     ]
    }
   ],
   "source": [
    "# Show text of top 5 most negative reviews along with their polarity and preprocessed text\n",
    "for index, row in df.sort_values('polarity').head().iterrows():\n",
    "    print(f\"Review: {row['Text']}\")\n",
    "    print(f\"Preprocessed Text: {row['preprocessed_text']}\")\n",
    "    print(f\"Polarity: {row['polarity']}\")\n",
    "    print()"
   ]
  },
  {
   "cell_type": "code",
   "execution_count": 17,
   "metadata": {},
   "outputs": [
    {
     "name": "stdout",
     "output_type": "stream",
     "text": [
      "Review: I can remember buying this candy as a kid and the quality hasn't dropped in all these years. Still a superb product you won't be disappointed with.\n",
      "Preprocessed Text: remember buy candy kid quality drop year superb product will disappoint\n",
      "Polarity: 1.0\n",
      "\n",
      "Review: This offer is a great price and a great taste, thanks Amazon for selling this product.<br /><br />Staral\n",
      "Preprocessed Text: offer great price great taste thank Amazon sell product.<br /><br />Staral\n",
      "Polarity: 0.8\n",
      "\n",
      "Review: This is great dog food, my dog has severs allergies and this brand is the only one that we can feed him.\n",
      "Preprocessed Text: great dog food dog sever allergy brand feed\n",
      "Polarity: 0.8\n",
      "\n",
      "Review: Great product, nice combination of chocolates and perfect size!  The bags had plenty, and they were shipped promptly.  The kids in the neighborhood liked our candies!\n",
      "Preprocessed Text: great product nice combination chocolate perfect size   bag plenty ship promptly   kid neighborhood like candy\n",
      "Polarity: 0.7999999999999999\n",
      "\n",
      "Review: I have bought several of the Vitality canned dog food products and have found them all to be of good quality. The product looks more like a stew than a processed meat and it smells better. My Labrador is finicky and she appreciates this product better than  most.\n",
      "Preprocessed Text: buy Vitality can dog food product find good quality product look like stew process meat smell well Labrador finicky appreciate product well  \n",
      "Polarity: 0.7\n",
      "\n"
     ]
    }
   ],
   "source": [
    "# Show the top 5 most positive reviews along with their polarity and preprocessed text\n",
    "for index, row in df.sort_values('polarity', ascending=False).head().iterrows():\n",
    "    print(f\"Review: {row['Text']}\")\n",
    "    print(f\"Preprocessed Text: {row['preprocessed_text']}\")\n",
    "    print(f\"Polarity: {row['polarity']}\")\n",
    "    print()"
   ]
  },
  {
   "cell_type": "markdown",
   "metadata": {},
   "source": [
    "__Strengths__:\n",
    "- The sentiment analysis model can quickly classify reviews into positive, negative, and neutral categories.\n",
    "- It provides a quantitative measure of sentiment polarity and subjectivity.\n",
    "- The model can handle a large dataset of reviews efficiently.\n",
    "\n",
    "__Limitations__:\n",
    "- The model relies on the pre-trained spaCy model and TextBlob library, which may not capture all nuances and context-specific sentiments.\n",
    "- Sarcasm, irony, and complex language structures can be challenging for the model to interpret correctly.\n",
    "- The model's performance may be affected by the quality and representativeness of the training data used by spaCy and TextBlob."
   ]
  }
 ],
 "metadata": {
  "kernelspec": {
   "display_name": "Python 3",
   "language": "python",
   "name": "python3"
  },
  "language_info": {
   "codemirror_mode": {
    "name": "ipython",
    "version": 3
   },
   "file_extension": ".py",
   "mimetype": "text/x-python",
   "name": "python",
   "nbconvert_exporter": "python",
   "pygments_lexer": "ipython3",
   "version": "3.11.6"
  }
 },
 "nbformat": 4,
 "nbformat_minor": 2
}
