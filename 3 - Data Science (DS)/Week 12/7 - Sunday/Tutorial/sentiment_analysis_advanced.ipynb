{
 "cells": [
  {
   "cell_type": "markdown",
   "metadata": {},
   "source": [
    "# Sentiment Analysis with spaCy and Advanced Models\n",
    "\n",
    "## Introduction\n",
    "\n",
    "This notebook demonstrates an improved approach to sentiment analysis using natural language processing (NLP) with the spaCy library and more advanced machine learning models. The goal is to accurately classify text as expressing positive or negative sentiment.\n"
   ]
  },
  {
   "cell_type": "code",
   "execution_count": 1,
   "metadata": {},
   "outputs": [],
   "source": [
    "import os"
   ]
  },
  {
   "cell_type": "code",
   "execution_count": 2,
   "metadata": {},
   "outputs": [
    {
     "name": "stdout",
     "output_type": "stream",
     "text": [
      "Requirement already satisfied: torch in /Library/Frameworks/Python.framework/Versions/3.11/lib/python3.11/site-packages (2.2.0)\n",
      "Requirement already satisfied: transformers in /Library/Frameworks/Python.framework/Versions/3.11/lib/python3.11/site-packages (4.40.2)\n",
      "Requirement already satisfied: filelock in /Library/Frameworks/Python.framework/Versions/3.11/lib/python3.11/site-packages (from torch) (3.13.1)\n",
      "Requirement already satisfied: typing-extensions>=4.8.0 in /Library/Frameworks/Python.framework/Versions/3.11/lib/python3.11/site-packages (from torch) (4.11.0)\n",
      "Requirement already satisfied: sympy in /Library/Frameworks/Python.framework/Versions/3.11/lib/python3.11/site-packages (from torch) (1.12)\n",
      "Requirement already satisfied: networkx in /Library/Frameworks/Python.framework/Versions/3.11/lib/python3.11/site-packages (from torch) (3.2.1)\n",
      "Requirement already satisfied: jinja2 in /Library/Frameworks/Python.framework/Versions/3.11/lib/python3.11/site-packages (from torch) (3.1.3)\n",
      "Requirement already satisfied: fsspec in /Library/Frameworks/Python.framework/Versions/3.11/lib/python3.11/site-packages (from torch) (2024.2.0)\n",
      "Requirement already satisfied: huggingface-hub<1.0,>=0.19.3 in /Library/Frameworks/Python.framework/Versions/3.11/lib/python3.11/site-packages (from transformers) (0.23.0)\n",
      "Requirement already satisfied: numpy>=1.17 in /Library/Frameworks/Python.framework/Versions/3.11/lib/python3.11/site-packages (from transformers) (1.26.4)\n",
      "Requirement already satisfied: packaging>=20.0 in /Library/Frameworks/Python.framework/Versions/3.11/lib/python3.11/site-packages (from transformers) (23.2)\n",
      "Requirement already satisfied: pyyaml>=5.1 in /Library/Frameworks/Python.framework/Versions/3.11/lib/python3.11/site-packages (from transformers) (6.0.1)\n",
      "Requirement already satisfied: regex!=2019.12.17 in /Library/Frameworks/Python.framework/Versions/3.11/lib/python3.11/site-packages (from transformers) (2023.12.25)\n",
      "Requirement already satisfied: requests in /Library/Frameworks/Python.framework/Versions/3.11/lib/python3.11/site-packages (from transformers) (2.31.0)\n",
      "Requirement already satisfied: tokenizers<0.20,>=0.19 in /Library/Frameworks/Python.framework/Versions/3.11/lib/python3.11/site-packages (from transformers) (0.19.1)\n",
      "Requirement already satisfied: safetensors>=0.4.1 in /Library/Frameworks/Python.framework/Versions/3.11/lib/python3.11/site-packages (from transformers) (0.4.2)\n",
      "Requirement already satisfied: tqdm>=4.27 in /Library/Frameworks/Python.framework/Versions/3.11/lib/python3.11/site-packages (from transformers) (4.66.1)\n",
      "Requirement already satisfied: MarkupSafe>=2.0 in /Library/Frameworks/Python.framework/Versions/3.11/lib/python3.11/site-packages (from jinja2->torch) (2.1.5)\n",
      "Requirement already satisfied: charset-normalizer<4,>=2 in /Library/Frameworks/Python.framework/Versions/3.11/lib/python3.11/site-packages (from requests->transformers) (3.3.2)\n",
      "Requirement already satisfied: idna<4,>=2.5 in /Library/Frameworks/Python.framework/Versions/3.11/lib/python3.11/site-packages (from requests->transformers) (3.6)\n",
      "Requirement already satisfied: urllib3<3,>=1.21.1 in /Library/Frameworks/Python.framework/Versions/3.11/lib/python3.11/site-packages (from requests->transformers) (1.26.18)\n",
      "Requirement already satisfied: certifi>=2017.4.17 in /Library/Frameworks/Python.framework/Versions/3.11/lib/python3.11/site-packages (from requests->transformers) (2024.2.2)\n",
      "Requirement already satisfied: mpmath>=0.19 in /Library/Frameworks/Python.framework/Versions/3.11/lib/python3.11/site-packages (from sympy->torch) (1.3.0)\n"
     ]
    }
   ],
   "source": [
    "!pip install torch transformers"
   ]
  },
  {
   "cell_type": "code",
   "execution_count": 3,
   "metadata": {},
   "outputs": [],
   "source": [
    "import spacy\n",
    "import pandas as pd\n",
    "from sklearn.model_selection import train_test_split\n",
    "from sklearn.feature_extraction.text import TfidfVectorizer\n",
    "from sklearn.linear_model import LogisticRegression\n",
    "from sklearn.ensemble import RandomForestClassifier \n",
    "from sklearn.svm import LinearSVC\n",
    "from sklearn.metrics import accuracy_score, classification_report\n",
    "import tensorflow as tf\n",
    "from transformers import AutoTokenizer, AutoModelForSequenceClassification, Trainer, TrainingArguments\n",
    "import torch"
   ]
  },
  {
   "cell_type": "code",
   "execution_count": 4,
   "metadata": {},
   "outputs": [],
   "source": [
    "df_train = pd.read_csv(\"emotions_train_data.txt\", sep=\";\", names=[\"text\", \"emotion\"])\n",
    "df_test = pd.read_csv(\"emotions_test_data.txt\", sep=\";\", names=[\"text\", \"emotion\"])"
   ]
  },
  {
   "cell_type": "code",
   "execution_count": 5,
   "metadata": {},
   "outputs": [],
   "source": [
    "# Preprocess text with spaCy\n",
    "nlp = spacy.load(\"en_core_web_lg\")"
   ]
  },
  {
   "cell_type": "code",
   "execution_count": 6,
   "metadata": {},
   "outputs": [
    {
     "data": {
      "text/html": [
       "<div>\n",
       "<style scoped>\n",
       "    .dataframe tbody tr th:only-of-type {\n",
       "        vertical-align: middle;\n",
       "    }\n",
       "\n",
       "    .dataframe tbody tr th {\n",
       "        vertical-align: top;\n",
       "    }\n",
       "\n",
       "    .dataframe thead th {\n",
       "        text-align: right;\n",
       "    }\n",
       "</style>\n",
       "<table border=\"1\" class=\"dataframe\">\n",
       "  <thead>\n",
       "    <tr style=\"text-align: right;\">\n",
       "      <th></th>\n",
       "      <th>text</th>\n",
       "      <th>emotion</th>\n",
       "    </tr>\n",
       "  </thead>\n",
       "  <tbody>\n",
       "    <tr>\n",
       "      <th>0</th>\n",
       "      <td>im feeling quite sad and sorry for myself but ...</td>\n",
       "      <td>sadness</td>\n",
       "    </tr>\n",
       "    <tr>\n",
       "      <th>1</th>\n",
       "      <td>i feel like i am still looking at a blank canv...</td>\n",
       "      <td>sadness</td>\n",
       "    </tr>\n",
       "    <tr>\n",
       "      <th>2</th>\n",
       "      <td>i feel like a faithful servant</td>\n",
       "      <td>love</td>\n",
       "    </tr>\n",
       "    <tr>\n",
       "      <th>3</th>\n",
       "      <td>i am just feeling cranky and blue</td>\n",
       "      <td>anger</td>\n",
       "    </tr>\n",
       "    <tr>\n",
       "      <th>4</th>\n",
       "      <td>i can have for a treat or if i am feeling festive</td>\n",
       "      <td>joy</td>\n",
       "    </tr>\n",
       "  </tbody>\n",
       "</table>\n",
       "</div>"
      ],
      "text/plain": [
       "                                                text  emotion\n",
       "0  im feeling quite sad and sorry for myself but ...  sadness\n",
       "1  i feel like i am still looking at a blank canv...  sadness\n",
       "2                     i feel like a faithful servant     love\n",
       "3                  i am just feeling cranky and blue    anger\n",
       "4  i can have for a treat or if i am feeling festive      joy"
      ]
     },
     "execution_count": 6,
     "metadata": {},
     "output_type": "execute_result"
    }
   ],
   "source": [
    "df_train.head()"
   ]
  },
  {
   "cell_type": "code",
   "execution_count": 7,
   "metadata": {},
   "outputs": [],
   "source": [
    "def preprocess(text):\n",
    "    doc = nlp(text)\n",
    "    \n",
    "    tokens = [] \n",
    "    for token in doc:\n",
    "        if not token.is_punct and not token.is_space and not token.like_num:\n",
    "            tokens.append(token.lemma_.lower())\n",
    "\n",
    "    return \" \".join(tokens)"
   ]
  },
  {
   "cell_type": "code",
   "execution_count": 8,
   "metadata": {},
   "outputs": [],
   "source": [
    "df_train['preprocessed_text'] = df_train['text'].apply(preprocess) "
   ]
  },
  {
   "cell_type": "code",
   "execution_count": 9,
   "metadata": {},
   "outputs": [],
   "source": [
    "# Split train data into train and validation\n",
    "X_train, X_val, y_train, y_val = train_test_split(df_train['preprocessed_text'], df_train['emotion'], test_size=0.2, random_state=42)"
   ]
  },
  {
   "cell_type": "code",
   "execution_count": 10,
   "metadata": {},
   "outputs": [],
   "source": [
    "vectorizer = TfidfVectorizer()\n",
    "X_train_vect = vectorizer.fit_transform(X_train) \n",
    "X_val_vect = vectorizer.transform(X_val)"
   ]
  },
  {
   "cell_type": "code",
   "execution_count": 11,
   "metadata": {},
   "outputs": [
    {
     "name": "stdout",
     "output_type": "stream",
     "text": [
      "LogisticRegression Accuracy: 0.537\n",
      "              precision    recall  f1-score   support\n",
      "\n",
      "       anger       0.78      0.27      0.41        51\n",
      "        fear       0.73      0.17      0.28        46\n",
      "         joy       0.48      0.91      0.63       127\n",
      "        love       1.00      0.02      0.04        46\n",
      "     sadness       0.60      0.64      0.62       118\n",
      "    surprise       0.00      0.00      0.00        12\n",
      "\n",
      "    accuracy                           0.54       400\n",
      "   macro avg       0.60      0.34      0.33       400\n",
      "weighted avg       0.63      0.54      0.47       400\n",
      "\n"
     ]
    },
    {
     "name": "stderr",
     "output_type": "stream",
     "text": [
      "/Library/Frameworks/Python.framework/Versions/3.11/lib/python3.11/site-packages/sklearn/metrics/_classification.py:1509: UndefinedMetricWarning: Precision is ill-defined and being set to 0.0 in labels with no predicted samples. Use `zero_division` parameter to control this behavior.\n",
      "  _warn_prf(average, modifier, f\"{metric.capitalize()} is\", len(result))\n",
      "/Library/Frameworks/Python.framework/Versions/3.11/lib/python3.11/site-packages/sklearn/metrics/_classification.py:1509: UndefinedMetricWarning: Precision is ill-defined and being set to 0.0 in labels with no predicted samples. Use `zero_division` parameter to control this behavior.\n",
      "  _warn_prf(average, modifier, f\"{metric.capitalize()} is\", len(result))\n",
      "/Library/Frameworks/Python.framework/Versions/3.11/lib/python3.11/site-packages/sklearn/metrics/_classification.py:1509: UndefinedMetricWarning: Precision is ill-defined and being set to 0.0 in labels with no predicted samples. Use `zero_division` parameter to control this behavior.\n",
      "  _warn_prf(average, modifier, f\"{metric.capitalize()} is\", len(result))\n"
     ]
    },
    {
     "name": "stdout",
     "output_type": "stream",
     "text": [
      "RandomForestClassifier Accuracy: 0.545\n",
      "              precision    recall  f1-score   support\n",
      "\n",
      "       anger       0.84      0.31      0.46        51\n",
      "        fear       0.75      0.33      0.45        46\n",
      "         joy       0.45      0.91      0.60       127\n",
      "        love       0.94      0.35      0.51        46\n",
      "     sadness       0.62      0.43      0.51       118\n",
      "    surprise       1.00      0.42      0.59        12\n",
      "\n",
      "    accuracy                           0.55       400\n",
      "   macro avg       0.77      0.46      0.52       400\n",
      "weighted avg       0.66      0.55      0.53       400\n",
      "\n",
      "LinearSVC Accuracy: 0.720\n",
      "              precision    recall  f1-score   support\n",
      "\n",
      "       anger       0.80      0.73      0.76        51\n",
      "        fear       0.77      0.59      0.67        46\n",
      "         joy       0.65      0.86      0.74       127\n",
      "        love       0.88      0.46      0.60        46\n",
      "     sadness       0.74      0.73      0.73       118\n",
      "    surprise       0.73      0.67      0.70        12\n",
      "\n",
      "    accuracy                           0.72       400\n",
      "   macro avg       0.76      0.67      0.70       400\n",
      "weighted avg       0.74      0.72      0.72       400\n",
      "\n"
     ]
    },
    {
     "name": "stderr",
     "output_type": "stream",
     "text": [
      "/Library/Frameworks/Python.framework/Versions/3.11/lib/python3.11/site-packages/sklearn/svm/_classes.py:31: FutureWarning: The default value of `dual` will change from `True` to `'auto'` in 1.5. Set the value of `dual` explicitly to suppress the warning.\n",
      "  warnings.warn(\n"
     ]
    }
   ],
   "source": [
    "# Train and evaluate models\n",
    "def evaluate_model(model):\n",
    "    model.fit(X_train_vect, y_train)\n",
    "    preds = model.predict(X_val_vect)\n",
    "    print(f\"{type(model).__name__} Accuracy: {accuracy_score(y_val, preds):.3f}\")\n",
    "    print(classification_report(y_val, preds))\n",
    "\n",
    "models = [\n",
    "    LogisticRegression(max_iter=1000),\n",
    "    RandomForestClassifier(),\n",
    "    LinearSVC()\n",
    "]\n",
    "\n",
    "for model in models:\n",
    "    evaluate_model(model)"
   ]
  },
  {
   "cell_type": "markdown",
   "metadata": {},
   "source": [
    "# Deep Learning with BERT"
   ]
  },
  {
   "cell_type": "code",
   "execution_count": 12,
   "metadata": {},
   "outputs": [],
   "source": [
    "# df with train and test sets\n",
    "df = pd.concat([df_train, df_test])"
   ]
  },
  {
   "cell_type": "code",
   "execution_count": 13,
   "metadata": {},
   "outputs": [
    {
     "data": {
      "text/plain": [
       "array(['sadness', 'love', 'anger', 'joy', 'fear', 'surprise'],\n",
       "      dtype=object)"
      ]
     },
     "execution_count": 13,
     "metadata": {},
     "output_type": "execute_result"
    }
   ],
   "source": [
    "df['emotion'].unique()"
   ]
  },
  {
   "cell_type": "code",
   "execution_count": 14,
   "metadata": {},
   "outputs": [
    {
     "name": "stderr",
     "output_type": "stream",
     "text": [
      "/Library/Frameworks/Python.framework/Versions/3.11/lib/python3.11/site-packages/huggingface_hub/file_download.py:1132: FutureWarning: `resume_download` is deprecated and will be removed in version 1.0.0. Downloads always resume when possible. If you want to force a new download, use `force_download=True`.\n",
      "  warnings.warn(\n",
      "Some weights of BertForSequenceClassification were not initialized from the model checkpoint at bert-base-uncased and are newly initialized: ['classifier.bias', 'classifier.weight']\n",
      "You should probably TRAIN this model on a down-stream task to be able to use it for predictions and inference.\n"
     ]
    }
   ],
   "source": [
    "# Load BERT model and tokenizer \n",
    "model_name = \"bert-base-uncased\"\n",
    "tokenizer = AutoTokenizer.from_pretrained(model_name)\n",
    "model = AutoModelForSequenceClassification.from_pretrained(model_name, num_labels=2)"
   ]
  },
  {
   "cell_type": "code",
   "execution_count": 15,
   "metadata": {},
   "outputs": [],
   "source": [
    "def emotion_encoder(df):\n",
    "    df.replace(\"surprise\", 1, inplace=True)\n",
    "    df.replace(\"love\", 1, inplace=True)\n",
    "    df.replace(\"joy\", 1, inplace=True)\n",
    "    df.replace(\"fear\", 0, inplace=True)\n",
    "    df.replace(\"anger\", 0, inplace=True)\n",
    "    df.replace(\"sadness\", 0, inplace=True)"
   ]
  },
  {
   "cell_type": "code",
   "execution_count": 16,
   "metadata": {},
   "outputs": [
    {
     "name": "stderr",
     "output_type": "stream",
     "text": [
      "/var/folders/3q/r2zc74911hn2f967w656zszm0000gn/T/ipykernel_36779/2398407963.py:7: FutureWarning: Downcasting behavior in `replace` is deprecated and will be removed in a future version. To retain the old behavior, explicitly call `result.infer_objects(copy=False)`. To opt-in to the future behavior, set `pd.set_option('future.no_silent_downcasting', True)`\n",
      "  df.replace(\"sadness\", 0, inplace=True)\n"
     ]
    }
   ],
   "source": [
    "X = df['text']\n",
    "y = df['emotion']\n",
    "emotion_encoder(y)\n",
    "X_train, X_test, y_train, y_test = train_test_split(X, y, test_size=0.2, random_state=42)"
   ]
  },
  {
   "cell_type": "code",
   "execution_count": 17,
   "metadata": {},
   "outputs": [
    {
     "data": {
      "text/plain": [
       "1994                             i can feel its suffering\n",
       "423     i enjoyed it for the most part for an entertai...\n",
       "991     ive had a few rough days since then and in the...\n",
       "1221    i can say is that despite my occasional jokes ...\n",
       "506     i dont come from a perfect past i come from a ...\n",
       "Name: text, dtype: object"
      ]
     },
     "execution_count": 17,
     "metadata": {},
     "output_type": "execute_result"
    }
   ],
   "source": [
    "X_train.head()"
   ]
  },
  {
   "cell_type": "code",
   "execution_count": 18,
   "metadata": {},
   "outputs": [],
   "source": [
    "def tokenize(text):\n",
    "    return tokenizer(text, padding=True, truncation=True, return_tensors='pt')"
   ]
  },
  {
   "cell_type": "code",
   "execution_count": 19,
   "metadata": {},
   "outputs": [],
   "source": [
    "import torch\n",
    "from torch.utils.data import DataLoader, TensorDataset\n",
    "from sklearn.metrics import accuracy_score\n",
    "from transformers import TrainingArguments"
   ]
  },
  {
   "cell_type": "code",
   "execution_count": 20,
   "metadata": {},
   "outputs": [],
   "source": [
    "train_encodings = tokenize(X_train.tolist())\n",
    "train_labels = torch.tensor(y_train.tolist())\n",
    "train_dataset = TensorDataset(train_encodings['input_ids'].squeeze(), \n",
    "                              train_encodings['attention_mask'].squeeze(), \n",
    "                              train_labels)"
   ]
  },
  {
   "cell_type": "code",
   "execution_count": 21,
   "metadata": {},
   "outputs": [],
   "source": [
    "test_encodings = tokenize(X_test.tolist())\n",
    "test_labels = torch.tensor(y_test.tolist())\n",
    "test_dataset = TensorDataset(test_encodings['input_ids'].squeeze(), \n",
    "                             test_encodings['attention_mask'].squeeze(), \n",
    "                             test_labels)"
   ]
  },
  {
   "cell_type": "code",
   "execution_count": 22,
   "metadata": {},
   "outputs": [],
   "source": [
    "def compute_metrics(pred):\n",
    "    labels = pred.label_ids\n",
    "    preds = pred.predictions.argmax(-1)\n",
    "    acc = accuracy_score(labels, preds)\n",
    "    return {'accuracy': acc}"
   ]
  },
  {
   "cell_type": "code",
   "execution_count": 23,
   "metadata": {},
   "outputs": [],
   "source": [
    "training_args = TrainingArguments(\n",
    "    output_dir='./results',\n",
    "    num_train_epochs=3,\n",
    "    per_device_train_batch_size=16,\n",
    "    per_device_eval_batch_size=64,\n",
    "    warmup_steps=500,\n",
    "    weight_decay=0.01,\n",
    "    logging_dir='./logs',\n",
    "    logging_steps=10,\n",
    "    evaluation_strategy='epoch',\n",
    "    save_strategy='epoch',\n",
    "    load_best_model_at_end=True,\n",
    "    metric_for_best_model='accuracy'\n",
    ")"
   ]
  },
  {
   "cell_type": "code",
   "execution_count": 24,
   "metadata": {},
   "outputs": [
    {
     "name": "stderr",
     "output_type": "stream",
     "text": [
      "huggingface/tokenizers: The current process just got forked, after parallelism has already been used. Disabling parallelism to avoid deadlocks...\n",
      "To disable this warning, you can either:\n",
      "\t- Avoid using `tokenizers` before the fork if possible\n",
      "\t- Explicitly set the environment variable TOKENIZERS_PARALLELISM=(true | false)\n",
      "huggingface/tokenizers: The current process just got forked, after parallelism has already been used. Disabling parallelism to avoid deadlocks...\n",
      "To disable this warning, you can either:\n",
      "\t- Avoid using `tokenizers` before the fork if possible\n",
      "\t- Explicitly set the environment variable TOKENIZERS_PARALLELISM=(true | false)\n"
     ]
    }
   ],
   "source": [
    "trainer = Trainer(\n",
    "    model=model,\n",
    "    args=training_args,\n",
    "    train_dataset=train_dataset,\n",
    "    eval_dataset=test_dataset,\n",
    "    data_collator=lambda data: {\n",
    "        'input_ids': torch.stack([f[0] for f in data]),\n",
    "        'attention_mask': torch.stack([f[1] for f in data]),\n",
    "        'labels': torch.stack([f[2] for f in data])\n",
    "    },\n",
    "    compute_metrics=compute_metrics\n",
    ")"
   ]
  },
  {
   "cell_type": "code",
   "execution_count": 25,
   "metadata": {},
   "outputs": [],
   "source": [
    "import matplotlib.pyplot as plt"
   ]
  },
  {
   "cell_type": "code",
   "execution_count": 26,
   "metadata": {},
   "outputs": [
    {
     "name": "stderr",
     "output_type": "stream",
     "text": [
      "Failed to detect the name of this notebook, you can set it manually with the WANDB_NOTEBOOK_NAME environment variable to enable code saving.\n",
      "huggingface/tokenizers: The current process just got forked, after parallelism has already been used. Disabling parallelism to avoid deadlocks...\n",
      "To disable this warning, you can either:\n",
      "\t- Avoid using `tokenizers` before the fork if possible\n",
      "\t- Explicitly set the environment variable TOKENIZERS_PARALLELISM=(true | false)\n",
      "huggingface/tokenizers: The current process just got forked, after parallelism has already been used. Disabling parallelism to avoid deadlocks...\n",
      "To disable this warning, you can either:\n",
      "\t- Avoid using `tokenizers` before the fork if possible\n",
      "\t- Explicitly set the environment variable TOKENIZERS_PARALLELISM=(true | false)\n",
      "\u001b[34m\u001b[1mwandb\u001b[0m: Currently logged in as: \u001b[33manri-m-lombard\u001b[0m (\u001b[33manri-lombard\u001b[0m). Use \u001b[1m`wandb login --relogin`\u001b[0m to force relogin\n",
      "huggingface/tokenizers: The current process just got forked, after parallelism has already been used. Disabling parallelism to avoid deadlocks...\n",
      "To disable this warning, you can either:\n",
      "\t- Avoid using `tokenizers` before the fork if possible\n",
      "\t- Explicitly set the environment variable TOKENIZERS_PARALLELISM=(true | false)\n",
      "huggingface/tokenizers: The current process just got forked, after parallelism has already been used. Disabling parallelism to avoid deadlocks...\n",
      "To disable this warning, you can either:\n",
      "\t- Avoid using `tokenizers` before the fork if possible\n",
      "\t- Explicitly set the environment variable TOKENIZERS_PARALLELISM=(true | false)\n"
     ]
    },
    {
     "data": {
      "text/html": [
       "Tracking run with wandb version 0.17.0"
      ],
      "text/plain": [
       "<IPython.core.display.HTML object>"
      ]
     },
     "metadata": {},
     "output_type": "display_data"
    },
    {
     "data": {
      "text/html": [
       "Run data is saved locally in <code>/Users/anrilombard/Desktop/Hyperion/C7-Lecture-Backpack/3 - Data Science (DS)/Week 12/7 - Sunday/Tutorial/wandb/run-20240602_171917-i48n89qe</code>"
      ],
      "text/plain": [
       "<IPython.core.display.HTML object>"
      ]
     },
     "metadata": {},
     "output_type": "display_data"
    },
    {
     "data": {
      "text/html": [
       "Syncing run <strong><a href='https://wandb.ai/anri-lombard/huggingface/runs/i48n89qe' target=\"_blank\">eager-cosmos-7</a></strong> to <a href='https://wandb.ai/anri-lombard/huggingface' target=\"_blank\">Weights & Biases</a> (<a href='https://wandb.me/run' target=\"_blank\">docs</a>)<br/>"
      ],
      "text/plain": [
       "<IPython.core.display.HTML object>"
      ]
     },
     "metadata": {},
     "output_type": "display_data"
    },
    {
     "data": {
      "text/html": [
       " View project at <a href='https://wandb.ai/anri-lombard/huggingface' target=\"_blank\">https://wandb.ai/anri-lombard/huggingface</a>"
      ],
      "text/plain": [
       "<IPython.core.display.HTML object>"
      ]
     },
     "metadata": {},
     "output_type": "display_data"
    },
    {
     "data": {
      "text/html": [
       " View run at <a href='https://wandb.ai/anri-lombard/huggingface/runs/i48n89qe' target=\"_blank\">https://wandb.ai/anri-lombard/huggingface/runs/i48n89qe</a>"
      ],
      "text/plain": [
       "<IPython.core.display.HTML object>"
      ]
     },
     "metadata": {},
     "output_type": "display_data"
    },
    {
     "name": "stderr",
     "output_type": "stream",
     "text": [
      "huggingface/tokenizers: The current process just got forked, after parallelism has already been used. Disabling parallelism to avoid deadlocks...\n",
      "To disable this warning, you can either:\n",
      "\t- Avoid using `tokenizers` before the fork if possible\n",
      "\t- Explicitly set the environment variable TOKENIZERS_PARALLELISM=(true | false)\n"
     ]
    },
    {
     "data": {
      "application/vnd.jupyter.widget-view+json": {
       "model_id": "70b4fbc6c7ba42aba3e922883722c6f1",
       "version_major": 2,
       "version_minor": 0
      },
      "text/plain": [
       "  0%|          | 0/600 [00:00<?, ?it/s]"
      ]
     },
     "metadata": {},
     "output_type": "display_data"
    },
    {
     "name": "stdout",
     "output_type": "stream",
     "text": [
      "{'loss': 0.731, 'grad_norm': 3.3513808250427246, 'learning_rate': 1.0000000000000002e-06, 'epoch': 0.05}\n",
      "{'loss': 0.7192, 'grad_norm': 2.8848929405212402, 'learning_rate': 2.0000000000000003e-06, 'epoch': 0.1}\n",
      "{'loss': 0.7248, 'grad_norm': 6.732677459716797, 'learning_rate': 3e-06, 'epoch': 0.15}\n",
      "{'loss': 0.6896, 'grad_norm': 2.828784227371216, 'learning_rate': 4.000000000000001e-06, 'epoch': 0.2}\n",
      "{'loss': 0.7019, 'grad_norm': 5.559428691864014, 'learning_rate': 5e-06, 'epoch': 0.25}\n",
      "{'loss': 0.6812, 'grad_norm': 3.8696274757385254, 'learning_rate': 6e-06, 'epoch': 0.3}\n",
      "{'loss': 0.633, 'grad_norm': 5.832087516784668, 'learning_rate': 7.000000000000001e-06, 'epoch': 0.35}\n",
      "{'loss': 0.6432, 'grad_norm': 7.036718845367432, 'learning_rate': 8.000000000000001e-06, 'epoch': 0.4}\n",
      "{'loss': 0.6231, 'grad_norm': 5.321320533752441, 'learning_rate': 9e-06, 'epoch': 0.45}\n",
      "{'loss': 0.5429, 'grad_norm': 7.415954113006592, 'learning_rate': 1e-05, 'epoch': 0.5}\n",
      "{'loss': 0.5041, 'grad_norm': 8.737800598144531, 'learning_rate': 1.1000000000000001e-05, 'epoch': 0.55}\n",
      "{'loss': 0.4493, 'grad_norm': 7.6835737228393555, 'learning_rate': 1.2e-05, 'epoch': 0.6}\n",
      "{'loss': 0.423, 'grad_norm': 19.17172622680664, 'learning_rate': 1.3000000000000001e-05, 'epoch': 0.65}\n",
      "{'loss': 0.408, 'grad_norm': 23.53612518310547, 'learning_rate': 1.4000000000000001e-05, 'epoch': 0.7}\n",
      "{'loss': 0.4365, 'grad_norm': 13.927196502685547, 'learning_rate': 1.5e-05, 'epoch': 0.75}\n",
      "{'loss': 0.3273, 'grad_norm': 10.302165031433105, 'learning_rate': 1.6000000000000003e-05, 'epoch': 0.8}\n",
      "{'loss': 0.2729, 'grad_norm': 4.38129186630249, 'learning_rate': 1.7000000000000003e-05, 'epoch': 0.85}\n",
      "{'loss': 0.3024, 'grad_norm': 8.742805480957031, 'learning_rate': 1.8e-05, 'epoch': 0.9}\n",
      "{'loss': 0.2558, 'grad_norm': 3.393831729888916, 'learning_rate': 1.9e-05, 'epoch': 0.95}\n",
      "{'loss': 0.2397, 'grad_norm': 7.724899768829346, 'learning_rate': 2e-05, 'epoch': 1.0}\n"
     ]
    },
    {
     "data": {
      "application/vnd.jupyter.widget-view+json": {
       "model_id": "f9e0c7e4a0a946ae8613c75bb658df08",
       "version_major": 2,
       "version_minor": 0
      },
      "text/plain": [
       "  0%|          | 0/13 [00:00<?, ?it/s]"
      ]
     },
     "metadata": {},
     "output_type": "display_data"
    },
    {
     "name": "stdout",
     "output_type": "stream",
     "text": [
      "{'eval_loss': 0.2688598036766052, 'eval_accuracy': 0.9075, 'eval_runtime': 5.5788, 'eval_samples_per_second': 143.399, 'eval_steps_per_second': 2.33, 'epoch': 1.0}\n",
      "{'loss': 0.2017, 'grad_norm': 1.3138208389282227, 'learning_rate': 2.1e-05, 'epoch': 1.05}\n",
      "{'loss': 0.2197, 'grad_norm': 3.330958604812622, 'learning_rate': 2.2000000000000003e-05, 'epoch': 1.1}\n",
      "{'loss': 0.2392, 'grad_norm': 11.154090881347656, 'learning_rate': 2.3000000000000003e-05, 'epoch': 1.15}\n",
      "{'loss': 0.2478, 'grad_norm': 12.46111011505127, 'learning_rate': 2.4e-05, 'epoch': 1.2}\n",
      "{'loss': 0.1312, 'grad_norm': 17.72269058227539, 'learning_rate': 2.5e-05, 'epoch': 1.25}\n",
      "{'loss': 0.2277, 'grad_norm': 3.106731653213501, 'learning_rate': 2.6000000000000002e-05, 'epoch': 1.3}\n",
      "{'loss': 0.2507, 'grad_norm': 7.689471244812012, 'learning_rate': 2.7000000000000002e-05, 'epoch': 1.35}\n",
      "{'loss': 0.3427, 'grad_norm': 14.654104232788086, 'learning_rate': 2.8000000000000003e-05, 'epoch': 1.4}\n",
      "{'loss': 0.1636, 'grad_norm': 5.631298542022705, 'learning_rate': 2.9e-05, 'epoch': 1.45}\n",
      "{'loss': 0.2439, 'grad_norm': 0.8219728469848633, 'learning_rate': 3e-05, 'epoch': 1.5}\n",
      "{'loss': 0.2234, 'grad_norm': 0.7325593829154968, 'learning_rate': 3.1e-05, 'epoch': 1.55}\n",
      "{'loss': 0.0447, 'grad_norm': 0.27064844965934753, 'learning_rate': 3.2000000000000005e-05, 'epoch': 1.6}\n",
      "{'loss': 0.3397, 'grad_norm': 0.30986329913139343, 'learning_rate': 3.3e-05, 'epoch': 1.65}\n",
      "{'loss': 0.2068, 'grad_norm': 33.50166320800781, 'learning_rate': 3.4000000000000007e-05, 'epoch': 1.7}\n",
      "{'loss': 0.236, 'grad_norm': 6.344669818878174, 'learning_rate': 3.5e-05, 'epoch': 1.75}\n",
      "{'loss': 0.1807, 'grad_norm': 3.6741678714752197, 'learning_rate': 3.6e-05, 'epoch': 1.8}\n",
      "{'loss': 0.1901, 'grad_norm': 15.696125984191895, 'learning_rate': 3.7e-05, 'epoch': 1.85}\n",
      "{'loss': 0.2301, 'grad_norm': 6.489867687225342, 'learning_rate': 3.8e-05, 'epoch': 1.9}\n",
      "{'loss': 0.1625, 'grad_norm': 37.2572021484375, 'learning_rate': 3.9000000000000006e-05, 'epoch': 1.95}\n",
      "{'loss': 0.1128, 'grad_norm': 0.24180378019809723, 'learning_rate': 4e-05, 'epoch': 2.0}\n"
     ]
    },
    {
     "data": {
      "application/vnd.jupyter.widget-view+json": {
       "model_id": "28ed15f265c442868619996cf33399a1",
       "version_major": 2,
       "version_minor": 0
      },
      "text/plain": [
       "  0%|          | 0/13 [00:00<?, ?it/s]"
      ]
     },
     "metadata": {},
     "output_type": "display_data"
    },
    {
     "name": "stdout",
     "output_type": "stream",
     "text": [
      "{'eval_loss': 0.18657371401786804, 'eval_accuracy': 0.95625, 'eval_runtime': 4.6248, 'eval_samples_per_second': 172.982, 'eval_steps_per_second': 2.811, 'epoch': 2.0}\n",
      "{'loss': 0.0955, 'grad_norm': 0.10543881356716156, 'learning_rate': 4.1e-05, 'epoch': 2.05}\n",
      "{'loss': 0.0676, 'grad_norm': 8.251967430114746, 'learning_rate': 4.2e-05, 'epoch': 2.1}\n",
      "{'loss': 0.0317, 'grad_norm': 10.577871322631836, 'learning_rate': 4.3e-05, 'epoch': 2.15}\n",
      "{'loss': 0.0612, 'grad_norm': 0.10848495364189148, 'learning_rate': 4.4000000000000006e-05, 'epoch': 2.2}\n",
      "{'loss': 0.147, 'grad_norm': 9.305208206176758, 'learning_rate': 4.5e-05, 'epoch': 2.25}\n",
      "{'loss': 0.1703, 'grad_norm': 0.5520910620689392, 'learning_rate': 4.600000000000001e-05, 'epoch': 2.3}\n",
      "{'loss': 0.0409, 'grad_norm': 6.052298545837402, 'learning_rate': 4.7e-05, 'epoch': 2.35}\n",
      "{'loss': 0.1795, 'grad_norm': 3.776885986328125, 'learning_rate': 4.8e-05, 'epoch': 2.4}\n",
      "{'loss': 0.1196, 'grad_norm': 9.537435531616211, 'learning_rate': 4.9e-05, 'epoch': 2.45}\n",
      "{'loss': 0.0957, 'grad_norm': 35.45069122314453, 'learning_rate': 5e-05, 'epoch': 2.5}\n",
      "{'loss': 0.0823, 'grad_norm': 0.5739014148712158, 'learning_rate': 4.5e-05, 'epoch': 2.55}\n",
      "{'loss': 0.0149, 'grad_norm': 0.5179268717765808, 'learning_rate': 4e-05, 'epoch': 2.6}\n",
      "{'loss': 0.1155, 'grad_norm': 5.826991081237793, 'learning_rate': 3.5e-05, 'epoch': 2.65}\n",
      "{'loss': 0.1423, 'grad_norm': 0.5154260396957397, 'learning_rate': 3e-05, 'epoch': 2.7}\n",
      "{'loss': 0.122, 'grad_norm': 6.17694616317749, 'learning_rate': 2.5e-05, 'epoch': 2.75}\n",
      "{'loss': 0.0185, 'grad_norm': 46.88832473754883, 'learning_rate': 2e-05, 'epoch': 2.8}\n",
      "{'loss': 0.1198, 'grad_norm': 20.140113830566406, 'learning_rate': 1.5e-05, 'epoch': 2.85}\n",
      "{'loss': 0.0067, 'grad_norm': 0.08002013713121414, 'learning_rate': 1e-05, 'epoch': 2.9}\n",
      "{'loss': 0.161, 'grad_norm': 1.0466290712356567, 'learning_rate': 5e-06, 'epoch': 2.95}\n",
      "{'loss': 0.0435, 'grad_norm': 2.828141450881958, 'learning_rate': 0.0, 'epoch': 3.0}\n"
     ]
    },
    {
     "data": {
      "application/vnd.jupyter.widget-view+json": {
       "model_id": "c009534697924b9c9de6294956b1d672",
       "version_major": 2,
       "version_minor": 0
      },
      "text/plain": [
       "  0%|          | 0/13 [00:00<?, ?it/s]"
      ]
     },
     "metadata": {},
     "output_type": "display_data"
    },
    {
     "name": "stdout",
     "output_type": "stream",
     "text": [
      "{'eval_loss': 0.1951349377632141, 'eval_accuracy': 0.95375, 'eval_runtime': 5.2285, 'eval_samples_per_second': 153.008, 'eval_steps_per_second': 2.486, 'epoch': 3.0}\n",
      "{'train_runtime': 352.3499, 'train_samples_per_second': 27.246, 'train_steps_per_second': 1.703, 'train_loss': 0.27231992048521836, 'epoch': 3.0}\n"
     ]
    },
    {
     "data": {
      "application/vnd.jupyter.widget-view+json": {
       "model_id": "2d005ca6eccb4d36bf9e04807c4cb3e6",
       "version_major": 2,
       "version_minor": 0
      },
      "text/plain": [
       "  0%|          | 0/50 [00:00<?, ?it/s]"
      ]
     },
     "metadata": {},
     "output_type": "display_data"
    },
    {
     "data": {
      "application/vnd.jupyter.widget-view+json": {
       "model_id": "a6aa69cf03d04832a644b9824222e278",
       "version_major": 2,
       "version_minor": 0
      },
      "text/plain": [
       "  0%|          | 0/13 [00:00<?, ?it/s]"
      ]
     },
     "metadata": {},
     "output_type": "display_data"
    },
    {
     "data": {
      "application/vnd.jupyter.widget-view+json": {
       "model_id": "b78bc36e0d434fb5a502feddba648539",
       "version_major": 2,
       "version_minor": 0
      },
      "text/plain": [
       "  0%|          | 0/600 [00:00<?, ?it/s]"
      ]
     },
     "metadata": {},
     "output_type": "display_data"
    },
    {
     "name": "stdout",
     "output_type": "stream",
     "text": [
      "{'loss': 0.0406, 'grad_norm': 18.215635299682617, 'learning_rate': 1.0000000000000002e-06, 'epoch': 0.05}\n",
      "{'loss': 0.1416, 'grad_norm': 0.21140030026435852, 'learning_rate': 2.0000000000000003e-06, 'epoch': 0.1}\n",
      "{'loss': 0.0974, 'grad_norm': 25.5891056060791, 'learning_rate': 3e-06, 'epoch': 0.15}\n",
      "{'loss': 0.0647, 'grad_norm': 0.19597691297531128, 'learning_rate': 4.000000000000001e-06, 'epoch': 0.2}\n",
      "{'loss': 0.1207, 'grad_norm': 0.14698703587055206, 'learning_rate': 5e-06, 'epoch': 0.25}\n",
      "{'loss': 0.0475, 'grad_norm': 0.17880704998970032, 'learning_rate': 6e-06, 'epoch': 0.3}\n",
      "{'loss': 0.055, 'grad_norm': 0.15962101519107819, 'learning_rate': 7.000000000000001e-06, 'epoch': 0.35}\n",
      "{'loss': 0.0793, 'grad_norm': 0.12684372067451477, 'learning_rate': 8.000000000000001e-06, 'epoch': 0.4}\n",
      "{'loss': 0.0059, 'grad_norm': 0.1164880320429802, 'learning_rate': 9e-06, 'epoch': 0.45}\n",
      "{'loss': 0.0752, 'grad_norm': 0.1275833696126938, 'learning_rate': 1e-05, 'epoch': 0.5}\n",
      "{'loss': 0.0561, 'grad_norm': 0.1212250366806984, 'learning_rate': 1.1000000000000001e-05, 'epoch': 0.55}\n",
      "{'loss': 0.1062, 'grad_norm': 0.10262134671211243, 'learning_rate': 1.2e-05, 'epoch': 0.6}\n",
      "{'loss': 0.083, 'grad_norm': 0.07483577728271484, 'learning_rate': 1.3000000000000001e-05, 'epoch': 0.65}\n",
      "{'loss': 0.0321, 'grad_norm': 32.291873931884766, 'learning_rate': 1.4000000000000001e-05, 'epoch': 0.7}\n",
      "{'loss': 0.1136, 'grad_norm': 9.556018829345703, 'learning_rate': 1.5e-05, 'epoch': 0.75}\n",
      "{'loss': 0.0793, 'grad_norm': 0.05980639532208443, 'learning_rate': 1.6000000000000003e-05, 'epoch': 0.8}\n",
      "{'loss': 0.0578, 'grad_norm': 0.1597348302602768, 'learning_rate': 1.7000000000000003e-05, 'epoch': 0.85}\n",
      "{'loss': 0.0635, 'grad_norm': 0.053004566580057144, 'learning_rate': 1.8e-05, 'epoch': 0.9}\n",
      "{'loss': 0.0373, 'grad_norm': 0.16575275361537933, 'learning_rate': 1.9e-05, 'epoch': 0.95}\n",
      "{'loss': 0.0025, 'grad_norm': 0.058646705001592636, 'learning_rate': 2e-05, 'epoch': 1.0}\n"
     ]
    },
    {
     "data": {
      "application/vnd.jupyter.widget-view+json": {
       "model_id": "36ced4ab95aa4885b5eb0065ee26dbe1",
       "version_major": 2,
       "version_minor": 0
      },
      "text/plain": [
       "  0%|          | 0/13 [00:00<?, ?it/s]"
      ]
     },
     "metadata": {},
     "output_type": "display_data"
    },
    {
     "name": "stdout",
     "output_type": "stream",
     "text": [
      "{'eval_loss': 0.15506821870803833, 'eval_accuracy': 0.9675, 'eval_runtime': 4.1422, 'eval_samples_per_second': 193.134, 'eval_steps_per_second': 3.138, 'epoch': 1.0}\n",
      "{'loss': 0.0252, 'grad_norm': 0.04300520569086075, 'learning_rate': 2.1e-05, 'epoch': 1.05}\n",
      "{'loss': 0.1119, 'grad_norm': 0.04195025563240051, 'learning_rate': 2.2000000000000003e-05, 'epoch': 1.1}\n",
      "{'loss': 0.0902, 'grad_norm': 6.568905353546143, 'learning_rate': 2.3000000000000003e-05, 'epoch': 1.15}\n",
      "{'loss': 0.058, 'grad_norm': 0.1034184992313385, 'learning_rate': 2.4e-05, 'epoch': 1.2}\n",
      "{'loss': 0.0371, 'grad_norm': 0.056751590222120285, 'learning_rate': 2.5e-05, 'epoch': 1.25}\n",
      "{'loss': 0.0115, 'grad_norm': 20.59679412841797, 'learning_rate': 2.6000000000000002e-05, 'epoch': 1.3}\n",
      "{'loss': 0.0582, 'grad_norm': 0.06103917583823204, 'learning_rate': 2.7000000000000002e-05, 'epoch': 1.35}\n",
      "{'loss': 0.0433, 'grad_norm': 0.10225656628608704, 'learning_rate': 2.8000000000000003e-05, 'epoch': 1.4}\n",
      "{'loss': 0.0327, 'grad_norm': 0.24401012063026428, 'learning_rate': 2.9e-05, 'epoch': 1.45}\n",
      "{'loss': 0.0722, 'grad_norm': 0.029113609343767166, 'learning_rate': 3e-05, 'epoch': 1.5}\n",
      "{'loss': 0.0375, 'grad_norm': 0.04223109036684036, 'learning_rate': 3.1e-05, 'epoch': 1.55}\n",
      "{'loss': 0.0013, 'grad_norm': 0.0705704540014267, 'learning_rate': 3.2000000000000005e-05, 'epoch': 1.6}\n",
      "{'loss': 0.0247, 'grad_norm': 0.022814132273197174, 'learning_rate': 3.3e-05, 'epoch': 1.65}\n",
      "{'loss': 0.0402, 'grad_norm': 19.170507431030273, 'learning_rate': 3.4000000000000007e-05, 'epoch': 1.7}\n",
      "{'loss': 0.1252, 'grad_norm': 22.03147315979004, 'learning_rate': 3.5e-05, 'epoch': 1.75}\n",
      "{'loss': 0.0284, 'grad_norm': 0.025363029912114143, 'learning_rate': 3.6e-05, 'epoch': 1.8}\n",
      "{'loss': 0.0509, 'grad_norm': 12.024604797363281, 'learning_rate': 3.7e-05, 'epoch': 1.85}\n",
      "{'loss': 0.054, 'grad_norm': 0.09840018302202225, 'learning_rate': 3.8e-05, 'epoch': 1.9}\n",
      "{'loss': 0.0029, 'grad_norm': 0.014931075274944305, 'learning_rate': 3.9000000000000006e-05, 'epoch': 1.95}\n",
      "{'loss': 0.0368, 'grad_norm': 0.013243739493191242, 'learning_rate': 4e-05, 'epoch': 2.0}\n"
     ]
    },
    {
     "data": {
      "application/vnd.jupyter.widget-view+json": {
       "model_id": "3b0af709cbd840e1a28319d3ce45d95e",
       "version_major": 2,
       "version_minor": 0
      },
      "text/plain": [
       "  0%|          | 0/13 [00:00<?, ?it/s]"
      ]
     },
     "metadata": {},
     "output_type": "display_data"
    },
    {
     "name": "stdout",
     "output_type": "stream",
     "text": [
      "{'eval_loss': 0.21122844517230988, 'eval_accuracy': 0.95875, 'eval_runtime': 3.9602, 'eval_samples_per_second': 202.008, 'eval_steps_per_second': 3.283, 'epoch': 2.0}\n",
      "{'loss': 0.0302, 'grad_norm': 0.016012322157621384, 'learning_rate': 4.1e-05, 'epoch': 2.05}\n",
      "{'loss': 0.0195, 'grad_norm': 0.06622493267059326, 'learning_rate': 4.2e-05, 'epoch': 2.1}\n",
      "{'loss': 0.0025, 'grad_norm': 0.009627931751310825, 'learning_rate': 4.3e-05, 'epoch': 2.15}\n",
      "{'loss': 0.0005, 'grad_norm': 0.009290593676269054, 'learning_rate': 4.4000000000000006e-05, 'epoch': 2.2}\n",
      "{'loss': 0.0818, 'grad_norm': 70.55670928955078, 'learning_rate': 4.5e-05, 'epoch': 2.25}\n",
      "{'loss': 0.0008, 'grad_norm': 0.2854941487312317, 'learning_rate': 4.600000000000001e-05, 'epoch': 2.3}\n",
      "{'loss': 0.0759, 'grad_norm': 12.112178802490234, 'learning_rate': 4.7e-05, 'epoch': 2.35}\n",
      "{'loss': 0.1494, 'grad_norm': 60.551822662353516, 'learning_rate': 4.8e-05, 'epoch': 2.4}\n",
      "{'loss': 0.1257, 'grad_norm': 0.8987879753112793, 'learning_rate': 4.9e-05, 'epoch': 2.45}\n",
      "{'loss': 0.0426, 'grad_norm': 0.23965762555599213, 'learning_rate': 5e-05, 'epoch': 2.5}\n",
      "{'loss': 0.0022, 'grad_norm': 0.3147585690021515, 'learning_rate': 4.5e-05, 'epoch': 2.55}\n",
      "{'loss': 0.0008, 'grad_norm': 0.012433427385985851, 'learning_rate': 4e-05, 'epoch': 2.6}\n",
      "{'loss': 0.113, 'grad_norm': 0.03414272144436836, 'learning_rate': 3.5e-05, 'epoch': 2.65}\n",
      "{'loss': 0.0742, 'grad_norm': 0.039089642465114594, 'learning_rate': 3e-05, 'epoch': 2.7}\n",
      "{'loss': 0.0528, 'grad_norm': 1.4321757555007935, 'learning_rate': 2.5e-05, 'epoch': 2.75}\n",
      "{'loss': 0.0054, 'grad_norm': 0.067656509578228, 'learning_rate': 2e-05, 'epoch': 2.8}\n",
      "{'loss': 0.0416, 'grad_norm': 1.3349452018737793, 'learning_rate': 1.5e-05, 'epoch': 2.85}\n",
      "{'loss': 0.0497, 'grad_norm': 21.060941696166992, 'learning_rate': 1e-05, 'epoch': 2.9}\n",
      "{'loss': 0.0011, 'grad_norm': 0.03908072039484978, 'learning_rate': 5e-06, 'epoch': 2.95}\n",
      "{'loss': 0.0109, 'grad_norm': 0.017810998484492302, 'learning_rate': 0.0, 'epoch': 3.0}\n"
     ]
    },
    {
     "data": {
      "application/vnd.jupyter.widget-view+json": {
       "model_id": "967f967a1b484e169025661952a68c83",
       "version_major": 2,
       "version_minor": 0
      },
      "text/plain": [
       "  0%|          | 0/13 [00:00<?, ?it/s]"
      ]
     },
     "metadata": {},
     "output_type": "display_data"
    },
    {
     "name": "stdout",
     "output_type": "stream",
     "text": [
      "{'eval_loss': 0.23258405923843384, 'eval_accuracy': 0.95875, 'eval_runtime': 4.9847, 'eval_samples_per_second': 160.49, 'eval_steps_per_second': 2.608, 'epoch': 3.0}\n",
      "{'train_runtime': 337.8673, 'train_samples_per_second': 28.414, 'train_steps_per_second': 1.776, 'train_loss': 0.053031935065519065, 'epoch': 3.0}\n"
     ]
    },
    {
     "data": {
      "application/vnd.jupyter.widget-view+json": {
       "model_id": "ac49dec3464d4833a93fc63d3d05ad18",
       "version_major": 2,
       "version_minor": 0
      },
      "text/plain": [
       "  0%|          | 0/50 [00:00<?, ?it/s]"
      ]
     },
     "metadata": {},
     "output_type": "display_data"
    },
    {
     "data": {
      "application/vnd.jupyter.widget-view+json": {
       "model_id": "af82484b9db84c52b7f45c9ed4365a09",
       "version_major": 2,
       "version_minor": 0
      },
      "text/plain": [
       "  0%|          | 0/13 [00:00<?, ?it/s]"
      ]
     },
     "metadata": {},
     "output_type": "display_data"
    },
    {
     "data": {
      "application/vnd.jupyter.widget-view+json": {
       "model_id": "b418a8ce003347ff8283f35a60b6761c",
       "version_major": 2,
       "version_minor": 0
      },
      "text/plain": [
       "  0%|          | 0/600 [00:00<?, ?it/s]"
      ]
     },
     "metadata": {},
     "output_type": "display_data"
    },
    {
     "name": "stdout",
     "output_type": "stream",
     "text": [
      "{'loss': 0.0261, 'grad_norm': 0.5705716609954834, 'learning_rate': 1.0000000000000002e-06, 'epoch': 0.05}\n",
      "{'loss': 0.114, 'grad_norm': 0.04606282711029053, 'learning_rate': 2.0000000000000003e-06, 'epoch': 0.1}\n",
      "{'loss': 0.0678, 'grad_norm': 0.07016687840223312, 'learning_rate': 3e-06, 'epoch': 0.15}\n",
      "{'loss': 0.0695, 'grad_norm': 0.05290444940328598, 'learning_rate': 4.000000000000001e-06, 'epoch': 0.2}\n",
      "{'loss': 0.1129, 'grad_norm': 0.07199165225028992, 'learning_rate': 5e-06, 'epoch': 0.25}\n",
      "{'loss': 0.0378, 'grad_norm': 0.0651053637266159, 'learning_rate': 6e-06, 'epoch': 0.3}\n",
      "{'loss': 0.0062, 'grad_norm': 0.05535995215177536, 'learning_rate': 7.000000000000001e-06, 'epoch': 0.35}\n",
      "{'loss': 0.0386, 'grad_norm': 0.04567122831940651, 'learning_rate': 8.000000000000001e-06, 'epoch': 0.4}\n",
      "{'loss': 0.0017, 'grad_norm': 0.044744089245796204, 'learning_rate': 9e-06, 'epoch': 0.45}\n",
      "{'loss': 0.0384, 'grad_norm': 0.038107436150312424, 'learning_rate': 1e-05, 'epoch': 0.5}\n",
      "{'loss': 0.0314, 'grad_norm': 0.031534332782030106, 'learning_rate': 1.1000000000000001e-05, 'epoch': 0.55}\n",
      "{'loss': 0.0354, 'grad_norm': 0.03785834461450577, 'learning_rate': 1.2e-05, 'epoch': 0.6}\n",
      "{'loss': 0.006, 'grad_norm': 0.03150809928774834, 'learning_rate': 1.3000000000000001e-05, 'epoch': 0.65}\n",
      "{'loss': 0.0011, 'grad_norm': 0.027554361149668694, 'learning_rate': 1.4000000000000001e-05, 'epoch': 0.7}\n",
      "{'loss': 0.0019, 'grad_norm': 0.6917911171913147, 'learning_rate': 1.5e-05, 'epoch': 0.75}\n",
      "{'loss': 0.0014, 'grad_norm': 0.026577649638056755, 'learning_rate': 1.6000000000000003e-05, 'epoch': 0.8}\n",
      "{'loss': 0.0115, 'grad_norm': 0.023037638515233994, 'learning_rate': 1.7000000000000003e-05, 'epoch': 0.85}\n",
      "{'loss': 0.0322, 'grad_norm': 0.01954718306660652, 'learning_rate': 1.8e-05, 'epoch': 0.9}\n",
      "{'loss': 0.0317, 'grad_norm': 0.018012594431638718, 'learning_rate': 1.9e-05, 'epoch': 0.95}\n",
      "{'loss': 0.0006, 'grad_norm': 0.017761288210749626, 'learning_rate': 2e-05, 'epoch': 1.0}\n"
     ]
    },
    {
     "data": {
      "application/vnd.jupyter.widget-view+json": {
       "model_id": "554834b7905f42f29965cf7c11742ea1",
       "version_major": 2,
       "version_minor": 0
      },
      "text/plain": [
       "  0%|          | 0/13 [00:00<?, ?it/s]"
      ]
     },
     "metadata": {},
     "output_type": "display_data"
    },
    {
     "name": "stdout",
     "output_type": "stream",
     "text": [
      "{'eval_loss': 0.19511783123016357, 'eval_accuracy': 0.96375, 'eval_runtime': 4.0345, 'eval_samples_per_second': 198.289, 'eval_steps_per_second': 3.222, 'epoch': 1.0}\n",
      "{'loss': 0.0239, 'grad_norm': 0.013744358904659748, 'learning_rate': 2.1e-05, 'epoch': 1.05}\n",
      "{'loss': 0.1156, 'grad_norm': 0.02423221617937088, 'learning_rate': 2.2000000000000003e-05, 'epoch': 1.1}\n",
      "{'loss': 0.0468, 'grad_norm': 0.1405574381351471, 'learning_rate': 2.3000000000000003e-05, 'epoch': 1.15}\n",
      "{'loss': 0.0713, 'grad_norm': 0.08049789816141129, 'learning_rate': 2.4e-05, 'epoch': 1.2}\n",
      "{'loss': 0.0017, 'grad_norm': 0.05213026702404022, 'learning_rate': 2.5e-05, 'epoch': 1.25}\n",
      "{'loss': 0.0013, 'grad_norm': 0.16613246500492096, 'learning_rate': 2.6000000000000002e-05, 'epoch': 1.3}\n",
      "{'loss': 0.021, 'grad_norm': 0.02022903598845005, 'learning_rate': 2.7000000000000002e-05, 'epoch': 1.35}\n",
      "{'loss': 0.1389, 'grad_norm': 0.016675075516104698, 'learning_rate': 2.8000000000000003e-05, 'epoch': 1.4}\n",
      "{'loss': 0.035, 'grad_norm': 20.395475387573242, 'learning_rate': 2.9e-05, 'epoch': 1.45}\n",
      "{'loss': 0.0915, 'grad_norm': 0.06337986141443253, 'learning_rate': 3e-05, 'epoch': 1.5}\n",
      "{'loss': 0.1364, 'grad_norm': 0.02296910434961319, 'learning_rate': 3.1e-05, 'epoch': 1.55}\n",
      "{'loss': 0.0227, 'grad_norm': 35.32371520996094, 'learning_rate': 3.2000000000000005e-05, 'epoch': 1.6}\n",
      "{'loss': 0.0654, 'grad_norm': 0.01512108277529478, 'learning_rate': 3.3e-05, 'epoch': 1.65}\n",
      "{'loss': 0.0035, 'grad_norm': 0.037118200212717056, 'learning_rate': 3.4000000000000007e-05, 'epoch': 1.7}\n",
      "{'loss': 0.0639, 'grad_norm': 7.593655109405518, 'learning_rate': 3.5e-05, 'epoch': 1.75}\n",
      "{'loss': 0.0415, 'grad_norm': 44.12582778930664, 'learning_rate': 3.6e-05, 'epoch': 1.8}\n",
      "{'loss': 0.039, 'grad_norm': 3.243298292160034, 'learning_rate': 3.7e-05, 'epoch': 1.85}\n",
      "{'loss': 0.0249, 'grad_norm': 0.03446725383400917, 'learning_rate': 3.8e-05, 'epoch': 1.9}\n",
      "{'loss': 0.0877, 'grad_norm': 0.01023170631378889, 'learning_rate': 3.9000000000000006e-05, 'epoch': 1.95}\n",
      "{'loss': 0.151, 'grad_norm': 0.019070813432335854, 'learning_rate': 4e-05, 'epoch': 2.0}\n"
     ]
    },
    {
     "data": {
      "application/vnd.jupyter.widget-view+json": {
       "model_id": "148a78b8c4ba4c4da88bc8779b1abde8",
       "version_major": 2,
       "version_minor": 0
      },
      "text/plain": [
       "  0%|          | 0/13 [00:00<?, ?it/s]"
      ]
     },
     "metadata": {},
     "output_type": "display_data"
    },
    {
     "name": "stdout",
     "output_type": "stream",
     "text": [
      "{'eval_loss': 0.16908065974712372, 'eval_accuracy': 0.9725, 'eval_runtime': 3.896, 'eval_samples_per_second': 205.341, 'eval_steps_per_second': 3.337, 'epoch': 2.0}\n",
      "{'loss': 0.0704, 'grad_norm': 0.22107604146003723, 'learning_rate': 4.1e-05, 'epoch': 2.05}\n",
      "{'loss': 0.0349, 'grad_norm': 0.15659089386463165, 'learning_rate': 4.2e-05, 'epoch': 2.1}\n",
      "{'loss': 0.109, 'grad_norm': 0.010776970535516739, 'learning_rate': 4.3e-05, 'epoch': 2.15}\n",
      "{'loss': 0.0469, 'grad_norm': 0.03708041086792946, 'learning_rate': 4.4000000000000006e-05, 'epoch': 2.2}\n",
      "{'loss': 0.1171, 'grad_norm': 0.07480865716934204, 'learning_rate': 4.5e-05, 'epoch': 2.25}\n",
      "{'loss': 0.0296, 'grad_norm': 3.914290189743042, 'learning_rate': 4.600000000000001e-05, 'epoch': 2.3}\n",
      "{'loss': 0.0398, 'grad_norm': 21.87028694152832, 'learning_rate': 4.7e-05, 'epoch': 2.35}\n",
      "{'loss': 0.0966, 'grad_norm': 15.432045936584473, 'learning_rate': 4.8e-05, 'epoch': 2.4}\n",
      "{'loss': 0.0205, 'grad_norm': 0.01949693076312542, 'learning_rate': 4.9e-05, 'epoch': 2.45}\n",
      "{'loss': 0.0886, 'grad_norm': 13.48133373260498, 'learning_rate': 5e-05, 'epoch': 2.5}\n",
      "{'loss': 0.0322, 'grad_norm': 11.578924179077148, 'learning_rate': 4.5e-05, 'epoch': 2.55}\n",
      "{'loss': 0.0076, 'grad_norm': 0.008663391694426537, 'learning_rate': 4e-05, 'epoch': 2.6}\n",
      "{'loss': 0.0721, 'grad_norm': 0.009180858731269836, 'learning_rate': 3.5e-05, 'epoch': 2.65}\n",
      "{'loss': 0.1332, 'grad_norm': 0.041410595178604126, 'learning_rate': 3e-05, 'epoch': 2.7}\n",
      "{'loss': 0.069, 'grad_norm': 4.8964056968688965, 'learning_rate': 2.5e-05, 'epoch': 2.75}\n",
      "{'loss': 0.0713, 'grad_norm': 0.038706224411726, 'learning_rate': 2e-05, 'epoch': 2.8}\n",
      "{'loss': 0.0392, 'grad_norm': 0.9108117818832397, 'learning_rate': 1.5e-05, 'epoch': 2.85}\n",
      "{'loss': 0.0415, 'grad_norm': 0.08990778774023056, 'learning_rate': 1e-05, 'epoch': 2.9}\n",
      "{'loss': 0.0223, 'grad_norm': 0.029344582930207253, 'learning_rate': 5e-06, 'epoch': 2.95}\n",
      "{'loss': 0.0269, 'grad_norm': 0.07093619555234909, 'learning_rate': 0.0, 'epoch': 3.0}\n"
     ]
    },
    {
     "data": {
      "application/vnd.jupyter.widget-view+json": {
       "model_id": "c915cce68d0a4f29a6a2fa42e7a8edf9",
       "version_major": 2,
       "version_minor": 0
      },
      "text/plain": [
       "  0%|          | 0/13 [00:00<?, ?it/s]"
      ]
     },
     "metadata": {},
     "output_type": "display_data"
    },
    {
     "name": "stdout",
     "output_type": "stream",
     "text": [
      "{'eval_loss': 0.21784228086471558, 'eval_accuracy': 0.95375, 'eval_runtime': 3.2295, 'eval_samples_per_second': 247.715, 'eval_steps_per_second': 4.025, 'epoch': 3.0}\n",
      "{'train_runtime': 298.5789, 'train_samples_per_second': 32.152, 'train_steps_per_second': 2.01, 'train_loss': 0.05030278525625666, 'epoch': 3.0}\n"
     ]
    },
    {
     "data": {
      "application/vnd.jupyter.widget-view+json": {
       "model_id": "997d2e72e9f34761964aca3e681b7ac0",
       "version_major": 2,
       "version_minor": 0
      },
      "text/plain": [
       "  0%|          | 0/50 [00:00<?, ?it/s]"
      ]
     },
     "metadata": {},
     "output_type": "display_data"
    },
    {
     "data": {
      "application/vnd.jupyter.widget-view+json": {
       "model_id": "198c8d02907e423bbda58b4ebe0c5237",
       "version_major": 2,
       "version_minor": 0
      },
      "text/plain": [
       "  0%|          | 0/13 [00:00<?, ?it/s]"
      ]
     },
     "metadata": {},
     "output_type": "display_data"
    },
    {
     "data": {
      "image/png": "[encoded data removed]",
      "text/plain": [
       "<Figure size 1000x600 with 1 Axes>"
      ]
     },
     "metadata": {},
     "output_type": "display_data"
    }
   ],
   "source": [
    "# Create lists to store evaluation metrics\n",
    "train_accuracies = []\n",
    "eval_accuracies = []\n",
    "\n",
    "# Training and evaluation loop\n",
    "for epoch in range(training_args.num_train_epochs):\n",
    "    # Training\n",
    "    trainer.train()\n",
    "    \n",
    "    # Evaluation on training set\n",
    "    train_metrics = trainer.evaluate(train_dataset)\n",
    "    train_accuracies.append(train_metrics['eval_accuracy'])\n",
    "    \n",
    "    # Evaluation on validation set\n",
    "    eval_metrics = trainer.evaluate(test_dataset)\n",
    "    eval_accuracies.append(eval_metrics['eval_accuracy'])\n",
    "\n",
    "# Plot the evaluation metrics\n",
    "epochs = range(1, training_args.num_train_epochs + 1)\n",
    "plt.figure(figsize=(10, 6))\n",
    "plt.plot(epochs, train_accuracies, label='Train Accuracy')\n",
    "plt.plot(epochs, eval_accuracies, label='Validation Accuracy')\n",
    "plt.xlabel('Epoch')\n",
    "plt.ylabel('Accuracy')\n",
    "plt.title('Training and Validation Accuracy')\n",
    "plt.legend()\n",
    "plt.show()"
   ]
  },
  {
   "cell_type": "code",
   "execution_count": 27,
   "metadata": {},
   "outputs": [],
   "source": [
    "# Skip plotting and just train the model\n",
    "# trainer.train()"
   ]
  },
  {
   "cell_type": "code",
   "execution_count": 28,
   "metadata": {},
   "outputs": [
    {
     "data": {
      "application/vnd.jupyter.widget-view+json": {
       "model_id": "42c6f0535217452c847a8edb54bec3fd",
       "version_major": 2,
       "version_minor": 0
      },
      "text/plain": [
       "  0%|          | 0/13 [00:00<?, ?it/s]"
      ]
     },
     "metadata": {},
     "output_type": "display_data"
    },
    {
     "name": "stdout",
     "output_type": "stream",
     "text": [
      "Test Accuracy: 0.973\n"
     ]
    }
   ],
   "source": [
    "# Evaluate on the test set\n",
    "predictions = trainer.predict(test_dataset)\n",
    "preds = predictions.predictions.argmax(-1)\n",
    "test_accuracy = accuracy_score(test_labels, preds)\n",
    "print(f\"Test Accuracy: {test_accuracy:.3f}\")"
   ]
  },
  {
   "cell_type": "code",
   "execution_count": 32,
   "metadata": {},
   "outputs": [],
   "source": [
    "device = torch.device(\"mps\" if torch.backends.mps.is_available() else \"cpu\")"
   ]
  },
  {
   "cell_type": "code",
   "execution_count": 34,
   "metadata": {},
   "outputs": [
    {
     "data": {
      "text/plain": [
       "BertForSequenceClassification(\n",
       "  (bert): BertModel(\n",
       "    (embeddings): BertEmbeddings(\n",
       "      (word_embeddings): Embedding(30522, 768, padding_idx=0)\n",
       "      (position_embeddings): Embedding(512, 768)\n",
       "      (token_type_embeddings): Embedding(2, 768)\n",
       "      (LayerNorm): LayerNorm((768,), eps=1e-12, elementwise_affine=True)\n",
       "      (dropout): Dropout(p=0.1, inplace=False)\n",
       "    )\n",
       "    (encoder): BertEncoder(\n",
       "      (layer): ModuleList(\n",
       "        (0-11): 12 x BertLayer(\n",
       "          (attention): BertAttention(\n",
       "            (self): BertSelfAttention(\n",
       "              (query): Linear(in_features=768, out_features=768, bias=True)\n",
       "              (key): Linear(in_features=768, out_features=768, bias=True)\n",
       "              (value): Linear(in_features=768, out_features=768, bias=True)\n",
       "              (dropout): Dropout(p=0.1, inplace=False)\n",
       "            )\n",
       "            (output): BertSelfOutput(\n",
       "              (dense): Linear(in_features=768, out_features=768, bias=True)\n",
       "              (LayerNorm): LayerNorm((768,), eps=1e-12, elementwise_affine=True)\n",
       "              (dropout): Dropout(p=0.1, inplace=False)\n",
       "            )\n",
       "          )\n",
       "          (intermediate): BertIntermediate(\n",
       "            (dense): Linear(in_features=768, out_features=3072, bias=True)\n",
       "            (intermediate_act_fn): GELUActivation()\n",
       "          )\n",
       "          (output): BertOutput(\n",
       "            (dense): Linear(in_features=3072, out_features=768, bias=True)\n",
       "            (LayerNorm): LayerNorm((768,), eps=1e-12, elementwise_affine=True)\n",
       "            (dropout): Dropout(p=0.1, inplace=False)\n",
       "          )\n",
       "        )\n",
       "      )\n",
       "    )\n",
       "    (pooler): BertPooler(\n",
       "      (dense): Linear(in_features=768, out_features=768, bias=True)\n",
       "      (activation): Tanh()\n",
       "    )\n",
       "  )\n",
       "  (dropout): Dropout(p=0.1, inplace=False)\n",
       "  (classifier): Linear(in_features=768, out_features=2, bias=True)\n",
       ")"
      ]
     },
     "execution_count": 34,
     "metadata": {},
     "output_type": "execute_result"
    }
   ],
   "source": [
    "model.to(device)"
   ]
  },
  {
   "cell_type": "code",
   "execution_count": 37,
   "metadata": {},
   "outputs": [
    {
     "name": "stdout",
     "output_type": "stream",
     "text": [
      "Example: The movie was an absolute masterpiece! The storytelling was captivating, the cinematography was breathtaking, and the performances were outstanding. It left me in awe and deeply moved.\n",
      "Predicted sentiment: Positive\n",
      "\n",
      "Example: I am thrilled with my new smartphone! It has exceeded all my expectations with its lightning-fast performance, stunning display, and innovative features. It has truly revolutionized my daily life.\n",
      "Predicted sentiment: Positive\n",
      "\n",
      "Example: The customer service I received was appalling. The representative was rude, dismissive, and utterly unhelpful. I felt frustrated and disrespected throughout the entire interaction.\n",
      "Predicted sentiment: Negative\n",
      "\n",
      "Example: I had high hopes for this novel, but it turned out to be a massive disappointment. The plot was convoluted, the characters were one-dimensional, and the writing style was tedious. I struggled to finish it.\n",
      "Predicted sentiment: Negative\n",
      "\n",
      "Example: The weather today is quite typical for this time of year. It's not too hot or too cold, with a mix of sunshine and clouds. It's a fairly average day overall.\n",
      "Predicted sentiment: Positive\n",
      "\n",
      "Example: I recently tried a new restaurant in town. The food was decent, but nothing extraordinary. The service was adequate, and the ambiance was pleasant enough. It was an average dining experience.\n",
      "Predicted sentiment: Positive\n",
      "\n",
      "Example: The movie had its moments of brilliance, but it also had its flaws. The acting was top-notch, but the pacing felt uneven at times. It's a film that left me with mixed feelings.\n",
      "Predicted sentiment: Negative\n",
      "\n",
      "Example: I have been using this software for a while now, and it has both strengths and weaknesses. It excels at certain tasks but falls short in others. My opinion is divided on its overall effectiveness.\n",
      "Predicted sentiment: Positive\n",
      "\n",
      "Example: The book delved into complex themes and raised thought-provoking questions, but the writing style wasn't always engaging. It challenged my perceptions but didn't fully resonate with me emotionally.\n",
      "Predicted sentiment: Positive\n",
      "\n",
      "Example: The concert had an incredible lineup of artists, but the venue's sound system was subpar. The performances were energetic, but the crowd's behavior was sometimes disruptive. It was a mix of highs and lows.\n",
      "Predicted sentiment: Negative\n",
      "\n"
     ]
    }
   ],
   "source": [
    "examples = [\n",
    "    # Positive examples\n",
    "    \"The movie was an absolute masterpiece! The storytelling was captivating, the cinematography was breathtaking, and the performances were outstanding. It left me in awe and deeply moved.\",\n",
    "    \"I am thrilled with my new smartphone! It has exceeded all my expectations with its lightning-fast performance, stunning display, and innovative features. It has truly revolutionized my daily life.\",\n",
    "    \n",
    "    # Negative examples\n",
    "    \"The customer service I received was appalling. The representative was rude, dismissive, and utterly unhelpful. I felt frustrated and disrespected throughout the entire interaction.\",\n",
    "    \"I had high hopes for this novel, but it turned out to be a massive disappointment. The plot was convoluted, the characters were one-dimensional, and the writing style was tedious. I struggled to finish it.\",\n",
    "    \n",
    "    # Neutral examples\n",
    "    \"The weather today is quite typical for this time of year. It's not too hot or too cold, with a mix of sunshine and clouds. It's a fairly average day overall.\",\n",
    "    \"I recently tried a new restaurant in town. The food was decent, but nothing extraordinary. The service was adequate, and the ambiance was pleasant enough. It was an average dining experience.\",\n",
    "    \n",
    "    # Hard to classify examples\n",
    "    \"The movie had its moments of brilliance, but it also had its flaws. The acting was top-notch, but the pacing felt uneven at times. It's a film that left me with mixed feelings.\",\n",
    "    \"I have been using this software for a while now, and it has both strengths and weaknesses. It excels at certain tasks but falls short in others. My opinion is divided on its overall effectiveness.\",\n",
    "    \"The book delved into complex themes and raised thought-provoking questions, but the writing style wasn't always engaging. It challenged my perceptions but didn't fully resonate with me emotionally.\",\n",
    "    \"The concert had an incredible lineup of artists, but the venue's sound system was subpar. The performances were energetic, but the crowd's behavior was sometimes disruptive. It was a mix of highs and lows.\",\n",
    "]\n",
    "\n",
    "def preprocess_input(text):\n",
    "    tokens = tokenizer(text, padding=True, truncation=True, return_tensors='pt')\n",
    "    return tokens['input_ids'], tokens['attention_mask']\n",
    "\n",
    "for example in examples:\n",
    "    input_ids, attention_mask = preprocess_input(example)\n",
    "    input_ids = input_ids.to(device)\n",
    "    attention_mask = attention_mask.to(device)\n",
    "    outputs = model(input_ids, attention_mask=attention_mask)\n",
    "    logits = outputs.logits\n",
    "    predicted_class = torch.argmax(logits, dim=1).item()\n",
    "\n",
    "    if predicted_class == 1:\n",
    "        sentiment = 'Positive'\n",
    "    else:\n",
    "        sentiment = 'Negative'\n",
    "\n",
    "    print(f\"Example: {example}\")\n",
    "    print(f\"Predicted sentiment: {sentiment}\")\n",
    "    print()"
   ]
  },
  {
   "cell_type": "code",
   "execution_count": 29,
   "metadata": {},
   "outputs": [],
   "source": [
    "# TODO: make a chatbot\n",
    "\n",
    "# Scenario 1: don't use api\n",
    "# 1. Import chat model from huggingface (llama chat variant)\n",
    "# 2. Prompt engineering (tell this model given this input, this is my output) or use default\n",
    "# 3. Decide to fine-tune on specific conversations data (company you work for) ******\n",
    "# 3.1. Fine-tune --> expensive and takes a bit of time\n",
    "# 3.2. Use Retrieval Augmented Generation (RAG) --> faster and cheaper with similar performance\n",
    "# 3.3. Use Agents with RAG --> many different agents do different tasks depending on what is asked\n",
    "# 4. Start chatting :)\n",
    "\n",
    "# Great resource to learn all this: Deeplearning.AI (and we'll touch on it in revision weeks)"
   ]
  }
 ],
 "metadata": {
  "kernelspec": {
   "display_name": "Python 3",
   "language": "python",
   "name": "python3"
  },
  "language_info": {
   "codemirror_mode": {
    "name": "ipython",
    "version": 3
   },
   "file_extension": ".py",
   "mimetype": "text/x-python",
   "name": "python",
   "nbconvert_exporter": "python",
   "pygments_lexer": "ipython3",
   "version": "3.11.6"
  }
 },
 "nbformat": 4,
 "nbformat_minor": 2
}
