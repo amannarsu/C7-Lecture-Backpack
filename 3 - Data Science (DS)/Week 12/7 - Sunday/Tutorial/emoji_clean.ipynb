{
 "cells": [
  {
   "cell_type": "markdown",
   "metadata": {},
   "source": [
    "# Tutorial notebook"
   ]
  },
  {
   "cell_type": "markdown",
   "metadata": {},
   "source": [
    "**Text cleaning:** We will show how removing emojis, symbols, and other pictographs is possible using RegEx."
   ]
  },
  {
   "cell_type": "code",
   "execution_count": 1,
   "metadata": {},
   "outputs": [],
   "source": [
    "import re"
   ]
  },
  {
   "cell_type": "code",
   "execution_count": 2,
   "metadata": {},
   "outputs": [],
   "source": [
    "def remove_emoji(string):\n",
    "    emoji_pattern = re.compile(\"[\"\n",
    "                           u\"\\U0001F600-\\U0001F64F\"  # emoticons\n",
    "                           u\"\\U0001F300-\\U0001F5FF\"  # symbols & pictographs\n",
    "                           u\"\\U0001F680-\\U0001F6FF\"  # transport & map symbols\n",
    "                           u\"\\U0001F1E0-\\U0001F1FF\"  # flags (iOS)\n",
    "                           u\"\\U00002702-\\U000027B0\"\n",
    "                           u\"\\U000024C2-\\U0001F251\"\n",
    "                           \"]+\", flags=re.UNICODE)\n",
    "    return emoji_pattern.sub(r' ', string)"
   ]
  },
  {
   "cell_type": "markdown",
   "metadata": {},
   "source": [
    "Removing unwanted characters, urls, hashtags, punctuations, double spaces"
   ]
  },
  {
   "cell_type": "code",
   "execution_count": 3,
   "metadata": {},
   "outputs": [],
   "source": [
    "def remove_unwanted(document):\n",
    "\n",
    "    # remove user mentions\n",
    "    document = re.sub(\"@[A-Za-z0-9_]+\",\" \", document)\n",
    "    # remove URLS\n",
    "    document = re.sub(r'http\\S+', ' ', document)\n",
    "    # remove hashtags\n",
    "    document = re.sub(\"#[A-Za-z0-9_]+\",\"\", document)\n",
    "    # remove emoji's\n",
    "    document = remove_emoji(document)\n",
    "    # remove punctuation\n",
    "    document = re.sub(\"[^0-9A-Za-z ]\", \"\" , document)\n",
    "    # remove double spaces\n",
    "    document = document.replace('  ',\"\")\n",
    "    \n",
    "    return document.strip()"
   ]
  },
  {
   "cell_type": "code",
   "execution_count": 4,
   "metadata": {},
   "outputs": [],
   "source": [
    "sample = (\"Hello @billieeilish 👋🏾, still want us to \\\n",
    "        hit that new sushi spot 🙃🙃🙃🙃🙃🙃🙃🙃🙃🙃🙃🙃 ???  \\\n",
    "        LMK when you're free cuz I can't go this or next weekend \\\n",
    "        since I'll be swimming 🏊‍♂️!!! #cheerssushi 🍣 🐠\")\n",
    "\n",
    "# lower-case\n",
    "sample = sample.lower()"
   ]
  },
  {
   "cell_type": "code",
   "execution_count": 5,
   "metadata": {},
   "outputs": [
    {
     "data": {
      "text/plain": [
       "'hello still want us to hit that new sushi spot lmk when youre free cuz i cant go this or next weekend since ill be swimming'"
      ]
     },
     "execution_count": 5,
     "metadata": {},
     "output_type": "execute_result"
    }
   ],
   "source": [
    "remove_unwanted(sample)"
   ]
  },
  {
   "cell_type": "code",
   "execution_count": null,
   "metadata": {},
   "outputs": [],
   "source": []
  }
 ],
 "metadata": {
  "kernelspec": {
   "display_name": "Python 3",
   "language": "python",
   "name": "python3"
  },
  "language_info": {
   "codemirror_mode": {
    "name": "ipython",
    "version": 3
   },
   "file_extension": ".py",
   "mimetype": "text/x-python",
   "name": "python",
   "nbconvert_exporter": "python",
   "pygments_lexer": "ipython3",
   "version": "3.11.6"
  }
 },
 "nbformat": 4,
 "nbformat_minor": 2
}
