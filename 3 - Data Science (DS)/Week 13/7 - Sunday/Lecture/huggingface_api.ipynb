{
 "cells": [
  {
   "cell_type": "markdown",
   "metadata": {},
   "source": [
    "This example is quite simple and does not have incredible results, but as you use more compute and use larger models, you can get better results.\n",
    "\n",
    "Also, if you're willing to spend some money you could use the OpenAI api to use their advanced models."
   ]
  },
  {
   "cell_type": "code",
   "execution_count": 2,
   "metadata": {},
   "outputs": [
    {
     "name": "stdout",
     "output_type": "stream",
     "text": [
      "Requirement already satisfied: transformers in /Library/Frameworks/Python.framework/Versions/3.11/lib/python3.11/site-packages (4.40.2)\n",
      "Requirement already satisfied: filelock in /Library/Frameworks/Python.framework/Versions/3.11/lib/python3.11/site-packages (from transformers) (3.13.1)\n",
      "Requirement already satisfied: huggingface-hub<1.0,>=0.19.3 in /Library/Frameworks/Python.framework/Versions/3.11/lib/python3.11/site-packages (from transformers) (0.23.0)\n",
      "Requirement already satisfied: numpy>=1.17 in /Library/Frameworks/Python.framework/Versions/3.11/lib/python3.11/site-packages (from transformers) (1.26.4)\n",
      "Requirement already satisfied: packaging>=20.0 in /Library/Frameworks/Python.framework/Versions/3.11/lib/python3.11/site-packages (from transformers) (23.2)\n",
      "Requirement already satisfied: pyyaml>=5.1 in /Library/Frameworks/Python.framework/Versions/3.11/lib/python3.11/site-packages (from transformers) (6.0.1)\n",
      "Requirement already satisfied: regex!=2019.12.17 in /Library/Frameworks/Python.framework/Versions/3.11/lib/python3.11/site-packages (from transformers) (2023.12.25)\n",
      "Requirement already satisfied: requests in /Library/Frameworks/Python.framework/Versions/3.11/lib/python3.11/site-packages (from transformers) (2.31.0)\n",
      "Requirement already satisfied: tokenizers<0.20,>=0.19 in /Library/Frameworks/Python.framework/Versions/3.11/lib/python3.11/site-packages (from transformers) (0.19.1)\n",
      "Requirement already satisfied: safetensors>=0.4.1 in /Library/Frameworks/Python.framework/Versions/3.11/lib/python3.11/site-packages (from transformers) (0.4.2)\n",
      "Requirement already satisfied: tqdm>=4.27 in /Library/Frameworks/Python.framework/Versions/3.11/lib/python3.11/site-packages (from transformers) (4.66.1)\n",
      "Requirement already satisfied: fsspec>=2023.5.0 in /Library/Frameworks/Python.framework/Versions/3.11/lib/python3.11/site-packages (from huggingface-hub<1.0,>=0.19.3->transformers) (2024.2.0)\n",
      "Requirement already satisfied: typing-extensions>=3.7.4.3 in /Library/Frameworks/Python.framework/Versions/3.11/lib/python3.11/site-packages (from huggingface-hub<1.0,>=0.19.3->transformers) (4.11.0)\n",
      "Requirement already satisfied: charset-normalizer<4,>=2 in /Library/Frameworks/Python.framework/Versions/3.11/lib/python3.11/site-packages (from requests->transformers) (3.3.2)\n",
      "Requirement already satisfied: idna<4,>=2.5 in /Library/Frameworks/Python.framework/Versions/3.11/lib/python3.11/site-packages (from requests->transformers) (3.6)\n",
      "Requirement already satisfied: urllib3<3,>=1.21.1 in /Library/Frameworks/Python.framework/Versions/3.11/lib/python3.11/site-packages (from requests->transformers) (1.26.18)\n",
      "Requirement already satisfied: certifi>=2017.4.17 in /Library/Frameworks/Python.framework/Versions/3.11/lib/python3.11/site-packages (from requests->transformers) (2024.2.2)\n"
     ]
    }
   ],
   "source": [
    "!pip install transformers"
   ]
  },
  {
   "cell_type": "code",
   "execution_count": 1,
   "metadata": {},
   "outputs": [],
   "source": [
    "from transformers import pipeline\n",
    "import random"
   ]
  },
  {
   "cell_type": "code",
   "execution_count": 2,
   "metadata": {},
   "outputs": [],
   "source": [
    "class Character:\n",
    "\n",
    "    def __init__(self, name, health, power, backstory=\"\"):\n",
    "        self.name = name\n",
    "        self.health = health\n",
    "        self.power = power\n",
    "        self.backstory = backstory\n",
    "\n",
    "    def is_alive(self):\n",
    "        return self.health > 0\n",
    "\n",
    "    def attack(self, other):\n",
    "        # Generate random damage between 70% and 130% of base power\n",
    "        damage = int(self.power * random.uniform(0.7, 1.3))\n",
    "        other.health -= damage\n",
    "        print(f\"\\n{self.name} attacks {other.name} for {damage} damage!\")\n",
    "\n",
    "    def heal(self, amount):\n",
    "        self.health += amount\n",
    "        print(f\"\\n{self.name} heals for {amount} health!\")"
   ]
  },
  {
   "cell_type": "code",
   "execution_count": 3,
   "metadata": {},
   "outputs": [],
   "source": [
    "class Player(Character):\n",
    "\n",
    "    def __init__(self, name, health, power, backstory=\"\"):\n",
    "        super().__init__(name, health, power, backstory)\n",
    "\n",
    "    def input_action(self):\n",
    "        action = input(\"Enter an action (attack/heal/talk/quit): \")\n",
    "        return action"
   ]
  },
  {
   "cell_type": "code",
   "execution_count": 4,
   "metadata": {},
   "outputs": [],
   "source": [
    "class Enemy(Character):\n",
    "\n",
    "    def __init__(self, name, health, power, backstory=\"\"):\n",
    "        super().__init__(name, health, power, backstory)"
   ]
  },
  {
   "cell_type": "code",
   "execution_count": 5,
   "metadata": {},
   "outputs": [
    {
     "name": "stderr",
     "output_type": "stream",
     "text": [
      "/Library/Frameworks/Python.framework/Versions/3.11/lib/python3.11/site-packages/huggingface_hub/file_download.py:1132: FutureWarning: `resume_download` is deprecated and will be removed in version 1.0.0. Downloads always resume when possible. If you want to force a new download, use `force_download=True`.\n",
      "  warnings.warn(\n"
     ]
    }
   ],
   "source": [
    "# We can use much larger models that are better, but that would take some time\n",
    "# Check out llama here: https://huggingface.co/meta-llama\n",
    "# text_generator = pipeline(\"text-generation\", model=\"gpt2\")\n",
    "text_generator = pipeline(\"text-generation\", model=\"bigscience/bloom-560m\")"
   ]
  },
  {
   "cell_type": "code",
   "execution_count": 7,
   "metadata": {},
   "outputs": [],
   "source": [
    "# question_answerer = pipeline(\"question-answering\", model=\"distilbert-base-cased-distilled-squad\")\n",
    "question_answerer = pipeline(\"question-answering\", model=\"deepset/roberta-base-squad2\")"
   ]
  },
  {
   "cell_type": "code",
   "execution_count": 12,
   "metadata": {},
   "outputs": [
    {
     "data": {
      "text/plain": [
       "\"A powerful English enemy name:  The Devil's Eye. The Devil's Eye is a powerful English enemy\""
      ]
     },
     "execution_count": 12,
     "metadata": {},
     "output_type": "execute_result"
    }
   ],
   "source": [
    "# Generate a dynamic enemy name using the text generation model\n",
    "enemy_name = text_generator(\"A powerful English enemy name: \", max_length=20, num_return_sequences=1)[0]['generated_text']\n",
    "enemy_name"
   ]
  },
  {
   "cell_type": "code",
   "execution_count": 13,
   "metadata": {},
   "outputs": [],
   "source": [
    "# Add backstory and environmental context\n",
    "player_backstory = \"A wandering martial artist seeking to restore peace to the land after his village was destroyed by dark forces.\"\n",
    "enemy_backstory = \"Once a noble knight, now cursed and twisted by dark magic, driven to madness by an insatiable hunger for power.\"\n",
    "environment = \"The battle takes place in the ruins of an ancient temple, its walls covered in mysterious runes and overgrown with vines. The air is thick with tension and the distant sound of thunder.\""
   ]
  },
  {
   "cell_type": "code",
   "execution_count": 14,
   "metadata": {},
   "outputs": [],
   "source": [
    "# Create instances of the player and enemy\n",
    "player = Player(\"Kung Fu Panda\", 100, 10, player_backstory)\n",
    "enemy = Enemy(\"The Devil's Eye\", 50, 5, enemy_backstory)"
   ]
  },
  {
   "cell_type": "code",
   "execution_count": 15,
   "metadata": {},
   "outputs": [
    {
     "name": "stdout",
     "output_type": "stream",
     "text": [
      "\n",
      "Kung Fu Panda's Health: 100\n",
      "The Devil's Eye's Health: 50\n",
      "\n",
      "Kung Fu Panda attacks The Devil's Eye for 10 damage!\n",
      "\n",
      "The Devil's Eye attacks Kung Fu Panda for 3 damage!\n",
      "\n",
      "Kung Fu Panda's Health: 97\n",
      "The Devil's Eye's Health: 40\n",
      "\n",
      "The Devil's Eye says: A wandering martial artist\n",
      "\n",
      "Kung Fu Panda's Health: 97\n",
      "The Devil's Eye's Health: 40\n",
      "\n",
      "The Devil's Eye says: seeking to restore peace to the land\n",
      "\n",
      "Kung Fu Panda's Health: 97\n",
      "The Devil's Eye's Health: 40\n",
      "\n",
      "The Devil's Eye says: the ruins of an ancient temple\n",
      "\n",
      "Kung Fu Panda's Health: 97\n",
      "The Devil's Eye's Health: 40\n",
      "\n",
      "Kung Fu Panda has quit the game.\n"
     ]
    }
   ],
   "source": [
    "# Game loop\n",
    "while True:\n",
    "    # Display the current status\n",
    "    print(f\"\\n{player.name}'s Health: {player.health}\")\n",
    "    print(f\"{enemy.name}'s Health: {enemy.health}\")\n",
    "\n",
    "    # Get the player's action\n",
    "    action = player.input_action()\n",
    "\n",
    "    if action == \"attack\":\n",
    "        # Player attacks the enemy\n",
    "        player.attack(enemy)\n",
    "\n",
    "        # Check if the enemy is defeated\n",
    "        if not enemy.is_alive():\n",
    "            print(f\"\\n{player.name} has defeated {enemy.name}!\")\n",
    "            break\n",
    "\n",
    "        # Enemy attacks the player\n",
    "        enemy.attack(player)\n",
    "\n",
    "        # Check if the player is defeated\n",
    "        if not player.is_alive():\n",
    "            print(f\"\\n{player.name} has been defeated by {enemy.name}!\")\n",
    "            break\n",
    "\n",
    "    elif action == \"heal\":\n",
    "        # Player heals themselves\n",
    "        player.heal(10)\n",
    "\n",
    "    elif action == \"talk\":\n",
    "        # Player talks to the enemy\n",
    "        question = input(\"What do you want to ask the enemy? \")\n",
    "\n",
    "        # Use the question-answering model to generate a response\n",
    "        context = (f\"Player {player.name} is fighting against enemy {enemy.name}.\\n\"\n",
    "                   f\"Player backstory: {player.backstory}\\n\"\n",
    "                   f\"Enemy backstory: {enemy.backstory}\\n\"\n",
    "                   f\"Environment: {environment}\")\n",
    "        result = question_answerer(question=question, context=context)\n",
    "\n",
    "        print(f\"\\n{enemy.name} says: {result['answer']}\")\n",
    "\n",
    "    elif action == \"quit\":\n",
    "        # Quit the game\n",
    "        print(f\"\\n{player.name} has quit the game.\")\n",
    "        break\n",
    "\n",
    "    else:\n",
    "        print(\"\\nInvalid action. Please choose attack, heal, talk, or quit.\")"
   ]
  },
  {
   "cell_type": "code",
   "execution_count": null,
   "metadata": {},
   "outputs": [],
   "source": []
  }
 ],
 "metadata": {
  "kernelspec": {
   "display_name": "Python 3",
   "language": "python",
   "name": "python3"
  },
  "language_info": {
   "codemirror_mode": {
    "name": "ipython",
    "version": 3
   },
   "file_extension": ".py",
   "mimetype": "text/x-python",
   "name": "python",
   "nbconvert_exporter": "python",
   "pygments_lexer": "ipython3",
   "version": "3.11.6"
  }
 },
 "nbformat": 4,
 "nbformat_minor": 2
}
