{
 "cells": [
  {
   "cell_type": "code",
   "execution_count": 1,
   "metadata": {},
   "outputs": [],
   "source": [
    "import torch\n",
    "import torch.nn as nn\n",
    "import matplotlib.pyplot as plt\n",
    "import seaborn as sns"
   ]
  },
  {
   "cell_type": "code",
   "execution_count": 2,
   "metadata": {},
   "outputs": [],
   "source": [
    "# Defining a simple neural network\n",
    "class SimpleNet(nn.Module):\n",
    "    def __init__(self, input_size, hidden_size, output_size):\n",
    "        super(SimpleNet, self).__init__()\n",
    "        # Input layer\n",
    "        self.input = nn.Linear(input_size, hidden_size)\n",
    "        # Hidden layer\n",
    "        self.hidden = nn.Linear(hidden_size, hidden_size)\n",
    "        # Output layer\n",
    "        self.output = nn.Linear(hidden_size, output_size)\n",
    "\n",
    "    def forward(self, x):\n",
    "        # Forward pass through the input layer\n",
    "        x = self.input(x)\n",
    "        # Apply ReLU activation function\n",
    "        x = torch.relu(x)\n",
    "        # Forward pass through the hidden layer\n",
    "        x = self.hidden(x)\n",
    "        # Apply ReLU activation function\n",
    "        x = torch.relu(x)\n",
    "        # Forward pass through the output layer\n",
    "        x = self.output(x)\n",
    "        return x"
   ]
  },
  {
   "cell_type": "code",
   "execution_count": 3,
   "metadata": {},
   "outputs": [
    {
     "data": {
      "text/plain": [
       "<torch._C.Generator at 0x111705470>"
      ]
     },
     "execution_count": 3,
     "metadata": {},
     "output_type": "execute_result"
    }
   ],
   "source": [
    "# Set random seed for reproducibility\n",
    "torch.manual_seed(42)"
   ]
  },
  {
   "cell_type": "code",
   "execution_count": 4,
   "metadata": {},
   "outputs": [],
   "source": [
    "# Generate random input data\n",
    "input_size = 10\n",
    "hidden_size = 5\n",
    "output_size = 2\n",
    "batch_size = 100\n",
    "input_data = torch.randn(batch_size, input_size)"
   ]
  },
  {
   "cell_type": "code",
   "execution_count": 5,
   "metadata": {},
   "outputs": [],
   "source": [
    "# Generate random target data\n",
    "target_data = torch.randn(batch_size, output_size)"
   ]
  },
  {
   "cell_type": "code",
   "execution_count": 6,
   "metadata": {},
   "outputs": [],
   "source": [
    "# Create an instance of the neural network\n",
    "model = SimpleNet(input_size, hidden_size, output_size)"
   ]
  },
  {
   "cell_type": "code",
   "execution_count": 7,
   "metadata": {},
   "outputs": [],
   "source": [
    "# Define loss function\n",
    "criterion = nn.MSELoss()"
   ]
  },
  {
   "cell_type": "code",
   "execution_count": 8,
   "metadata": {},
   "outputs": [],
   "source": [
    "# Define optimizer\n",
    "learning_rate = 0.01\n",
    "optimizer = torch.optim.SGD(model.parameters(), lr=learning_rate)"
   ]
  },
  {
   "cell_type": "code",
   "execution_count": 9,
   "metadata": {},
   "outputs": [
    {
     "name": "stdout",
     "output_type": "stream",
     "text": [
      "Epoch [10000/100000], Loss: 0.6388\n",
      "Epoch [20000/100000], Loss: 0.5598\n",
      "Epoch [30000/100000], Loss: 0.5343\n",
      "Epoch [40000/100000], Loss: 0.5272\n",
      "Epoch [50000/100000], Loss: 0.5104\n",
      "Epoch [60000/100000], Loss: 0.5065\n",
      "Epoch [70000/100000], Loss: 0.5029\n",
      "Epoch [80000/100000], Loss: 0.4955\n",
      "Epoch [90000/100000], Loss: 0.4927\n",
      "Epoch [100000/100000], Loss: 0.4979\n"
     ]
    }
   ],
   "source": [
    "# Training loop\n",
    "num_epochs = 100000\n",
    "loss_values = []\n",
    "\n",
    "for epoch in range(num_epochs):\n",
    "    # Forward pass\n",
    "    output = model(input_data)\n",
    "    \n",
    "    # Calculate loss\n",
    "    loss = criterion(output, target_data)\n",
    "    \n",
    "    # Backward pass and optimization\n",
    "    optimizer.zero_grad()\n",
    "    loss.backward()\n",
    "    optimizer.step()\n",
    "    \n",
    "    # Store loss value\n",
    "    loss_values.append(loss.item())\n",
    "    \n",
    "    # Print loss for every 10000 epochs\n",
    "    if (epoch + 1) % 10000 == 0:\n",
    "        print(f\"Epoch [{epoch+1}/{num_epochs}], Loss: {loss.item():.4f}\")"
   ]
  },
  {
   "cell_type": "code",
   "execution_count": 10,
   "metadata": {},
   "outputs": [
    {
     "name": "stdout",
     "output_type": "stream",
     "text": [
      "Predicted:\n",
      "[[-1.2888443  -0.85159236]\n",
      " [-0.06161863 -0.36897343]\n",
      " [-0.7043744   0.07772279]\n",
      " [ 0.27064234  0.63217974]\n",
      " [-1.2744744   0.560354  ]]\n",
      "Target:\n",
      "[[ 1.01067446e-01 -1.30949163e+00]\n",
      " [-4.10357714e-01  4.68094230e-01]\n",
      " [-2.34627649e-01  2.78244108e-01]\n",
      " [-1.29547261e-04 -1.24497563e-01]\n",
      " [-5.58524907e-01  6.63694561e-01]]\n"
     ]
    }
   ],
   "source": [
    "# Evaluation\n",
    "with torch.no_grad():\n",
    "    output = model(input_data)\n",
    "    predicted = output.numpy()\n",
    "    target = target_data.numpy()\n",
    "    \n",
    "    print(\"Predicted:\")\n",
    "    print(predicted[:5])  # Print the first 5 predicted samples\n",
    "    print(\"Target:\")\n",
    "    print(target[:5])  # Print the first 5 target samples"
   ]
  },
  {
   "cell_type": "code",
   "execution_count": 11,
   "metadata": {},
   "outputs": [
    {
     "data": {
      "image/png": "[encoded data removed]",
      "text/plain": [
       "<Figure size 1000x600 with 1 Axes>"
      ]
     },
     "metadata": {},
     "output_type": "display_data"
    }
   ],
   "source": [
    "# Visualize loss curve\n",
    "plt.figure(figsize=(10, 6))\n",
    "sns.lineplot(x=range(len(loss_values)), y=loss_values)\n",
    "plt.xlabel(\"Epochs\")\n",
    "plt.ylabel(\"Loss\")\n",
    "plt.title(\"Training Loss\")\n",
    "plt.show()"
   ]
  }
 ],
 "metadata": {
  "kernelspec": {
   "display_name": "Python 3",
   "language": "python",
   "name": "python3"
  },
  "language_info": {
   "codemirror_mode": {
    "name": "ipython",
    "version": 3
   },
   "file_extension": ".py",
   "mimetype": "text/x-python",
   "name": "python",
   "nbconvert_exporter": "python",
   "pygments_lexer": "ipython3",
   "version": "3.11.6"
  }
 },
 "nbformat": 4,
 "nbformat_minor": 2
}
