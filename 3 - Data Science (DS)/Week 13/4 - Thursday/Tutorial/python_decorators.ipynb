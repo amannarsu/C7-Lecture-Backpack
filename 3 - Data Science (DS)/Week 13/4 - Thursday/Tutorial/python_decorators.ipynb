{
 "cells": [
  {
   "cell_type": "markdown",
   "metadata": {},
   "source": [
    "# Python Decorators"
   ]
  },
  {
   "cell_type": "markdown",
   "metadata": {},
   "source": [
    "Decorators allow programmers to modify the behaviour of a function or class. They wrap another function in order to extend the behaviour of the wrapped function, without permanently modifying it."
   ]
  },
  {
   "cell_type": "code",
   "execution_count": 1,
   "metadata": {},
   "outputs": [],
   "source": [
    "def make_deco(func):\n",
    "    # We can include one function inside another, known as a nested function\n",
    "    # The outer function is make_deco\n",
    "    # Define the inner function\n",
    "    def inner():\n",
    "        # add some additional behavior to decorated function\n",
    "        print(\"I got decorated\")\n",
    "\n",
    "        # call original function\n",
    "        func()\n",
    "    # return the inner function\n",
    "    return inner"
   ]
  },
  {
   "cell_type": "markdown",
   "metadata": {},
   "source": [
    "So `make_deco()` takes a function as its argument and has a nested function named `inner()`, and returns the inner function."
   ]
  },
  {
   "cell_type": "code",
   "execution_count": 2,
   "metadata": {},
   "outputs": [
    {
     "name": "stdout",
     "output_type": "stream",
     "text": [
      "I am ordinary\n"
     ]
    }
   ],
   "source": [
    "# define ordinary function, which prints \"I am ordinary\"\n",
    "def ordinary():\n",
    "    print(\"I am ordinary\")\n",
    "    \n",
    "ordinary()"
   ]
  },
  {
   "cell_type": "markdown",
   "metadata": {},
   "source": [
    "We are calling the ordinary() function normally, so we get the output \"I am ordinary\". Now, let's call it using the decorator function."
   ]
  },
  {
   "cell_type": "code",
   "execution_count": 3,
   "metadata": {},
   "outputs": [
    {
     "name": "stdout",
     "output_type": "stream",
     "text": [
      "I got decorated\n",
      "I am ordinary\n"
     ]
    }
   ],
   "source": [
    "# Decorate the ordinary function\n",
    "# We are now passing the ordinary() function as the argument to the make_deco().\n",
    "# The make_deco() function returns the inner function, and it is now assigned to the decorated_func variable.\n",
    "decorated_func = make_deco(ordinary)\n",
    "\n",
    "# call the decorated function\n",
    "decorated_func()"
   ]
  },
  {
   "cell_type": "markdown",
   "metadata": {},
   "source": [
    "In the example shown above, make_deco() is a decorator."
   ]
  },
  {
   "cell_type": "markdown",
   "metadata": {},
   "source": [
    "### Using @ symbol with decorators \n",
    "\n",
    "Instead of assigning the function call to a variable, Python provides a much more elegant way to achieve this functionality using the @ symbol."
   ]
  },
  {
   "cell_type": "code",
   "execution_count": 4,
   "metadata": {},
   "outputs": [
    {
     "name": "stdout",
     "output_type": "stream",
     "text": [
      "I got decorated\n",
      "I am ordinary\n"
     ]
    }
   ],
   "source": [
    "@make_deco\n",
    "def ordinary():\n",
    "    print(\"I am ordinary\")\n",
    "\n",
    "ordinary()"
   ]
  },
  {
   "cell_type": "markdown",
   "metadata": {},
   "source": [
    "In the above code, the ordinary() function is decorated with the make_deco() decorator using the `@make_deco` syntax, which is equivalent to calling \n",
    "\n",
    "`ordinary = make_deco(ordinary)`"
   ]
  },
  {
   "cell_type": "markdown",
   "metadata": {},
   "source": [
    "### Chaining decorators\n",
    "\n",
    "Multiple decorators can be chained in Python. To chain decorators in Python, we can apply multiple decorators to a single function by placing them one after the other, with the most inner decorator being applied first."
   ]
  },
  {
   "cell_type": "code",
   "execution_count": 5,
   "metadata": {},
   "outputs": [
    {
     "name": "stdout",
     "output_type": "stream",
     "text": [
      "####################\n",
      "********************\n",
      "Chaining decorators\n",
      "********************\n",
      "####################\n"
     ]
    }
   ],
   "source": [
    "def star(func):\n",
    "    def inner(*args, **kwargs):\n",
    "        print(\"*\" * 20)\n",
    "        func(*args, **kwargs)\n",
    "        print(\"*\" * 20)\n",
    "    return inner\n",
    "\n",
    "\n",
    "def hash(func):\n",
    "    def inner(*args, **kwargs):\n",
    "        print(\"#\" * 20)\n",
    "        func(*args, **kwargs)\n",
    "        print(\"#\" * 20)\n",
    "    return inner\n",
    "\n",
    "@hash\n",
    "@star\n",
    "def printer(msg):\n",
    "    print(msg)\n",
    "\n",
    "printer(\"Chaining decorators\")"
   ]
  },
  {
   "cell_type": "markdown",
   "metadata": {},
   "source": [
    "The above code with decorators is equivalent to the code below"
   ]
  },
  {
   "cell_type": "code",
   "execution_count": 6,
   "metadata": {},
   "outputs": [
    {
     "name": "stdout",
     "output_type": "stream",
     "text": [
      "####################\n",
      "********************\n",
      "Chaining decorators\n",
      "********************\n",
      "####################\n"
     ]
    }
   ],
   "source": [
    "def printer(msg):\n",
    "    print(msg)\n",
    "printer = hash(star(printer))\n",
    "\n",
    "printer(\"Chaining decorators\")"
   ]
  }
 ],
 "metadata": {
  "kernelspec": {
   "display_name": "Python 3",
   "language": "python",
   "name": "python3"
  },
  "language_info": {
   "codemirror_mode": {
    "name": "ipython",
    "version": 3
   },
   "file_extension": ".py",
   "mimetype": "text/x-python",
   "name": "python",
   "nbconvert_exporter": "python",
   "pygments_lexer": "ipython3",
   "version": "3.12.2"
  }
 },
 "nbformat": 4,
 "nbformat_minor": 2
}
