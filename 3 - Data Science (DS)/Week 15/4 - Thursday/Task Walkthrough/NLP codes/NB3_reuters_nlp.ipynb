{
 "cells": [
  {
   "cell_type": "markdown",
   "metadata": {},
   "source": [
    "# Obtaining text for Natural Language Processing (NLP) Tasks\n",
    "\n",
    "In this notebook, we will first get data using \n",
    "1. Web scraping\n",
    "2. Store them in a dataframe\n",
    "3. Perform NLP tasks with the text in the dataframe."
   ]
  },
  {
   "cell_type": "markdown",
   "metadata": {},
   "source": [
    "### 1. Web scraping using Beautiful Soup\n",
    "\n",
    "\n",
    "Beautiful Soup is a Python library designed to help you easily extract information from web pages by parsing HTML and XML documents. Here we provide a step-by-step tutorial on how to use Beautiful Soup for web scraping\n",
    "\n",
    "https://beautiful-soup-4.readthedocs.io/en/latest/"
   ]
  },
  {
   "cell_type": "markdown",
   "metadata": {},
   "source": [
    "Import Libraries"
   ]
  },
  {
   "cell_type": "code",
   "execution_count": 1,
   "metadata": {},
   "outputs": [],
   "source": [
    "import requests\n",
    "from bs4 import BeautifulSoup\n",
    "import pandas as pd"
   ]
  },
  {
   "cell_type": "markdown",
   "metadata": {},
   "source": [
    "We will use the **Reuters** dataset for this notebook. The dataset contains about 22,000 business news articles that appeared on the Reuters newswire in 1987. The articles were provided as a number of SGM files, which is a type of markdown format.\n",
    "\n",
    "Here is the Readme file for the datset - https://www.daviddlewis.com/resources/testcollections/reuters21578/readme.txt\n",
    "\n",
    "The dataset can be downloaded from here - https://www.daviddlewis.com/resources/testcollections/reuters21578/ or \n",
    "https://kdd.ics.uci.edu/databases/reuters21578/reuters21578.html"
   ]
  },
  {
   "cell_type": "code",
   "execution_count": 2,
   "metadata": {},
   "outputs": [
    {
     "data": {
      "text/plain": [
       "'<!DOCTYPE lewis SYSTEM \"lewis.dtd\">\\n<REUTERS TOPICS=\"NO\" LEWISSPLIT=\"TEST\" CGISPLIT=\"TRAINING-SET\" OLDID=\"20436\" NEWID=\"21001\">\\n<DATE>19-OCT-1987 15:37:46.03</DATE>\\n<TOPICS></TOPICS>\\n<PLACES></PLACES>\\n<PEOPLE></PEOPLE>\\n<ORGS></ORGS>\\n<EXCHANGES></EXCHANGES>\\n<COMPANIES></COMPANIES>\\n<UNKNOWN> \\n&#5;&#5;&#5;F \\n&#22;&#22;&#1;f2882&#31;reute\\nf f BC-CITYFED-FINANCI   10-19 0013</UNKNOWN>\\n<TEXT TYPE=\"BRIEF\">&#2;\\n******<TITLE>CITYFED FINANCIAL CORP SAYS IT CUT QTRLY DIVIDEND TO ONE CENT FROM 10 CTS/SHR\\n</TITLE>Blah blah blah.\\n&#3;\\n\\n</TEXT>\\n</REUTERS>\\n<REUTERS TOPICS=\"YES\" LEWISSPLIT=\"TEST\" CGISPLIT=\"TRAINING-SET\" OLDID=\"20435\" NEWID=\"21002\">\\n<DATE>19-OCT-1987 15:35:53.55</DATE>\\n<TOPICS><D>crude</D><D>ship</D></TOPICS>\\n<PLACES><D>bahrain</D><D>iran</D><D>usa</D></PLACES>\\n<PEOPLE></PEOPLE>\\n<ORGS></ORGS>\\n<EXCHANGES></EXCHANGES>\\n<COMPANIES></COMPANIES>\\n<UNKNOWN> \\n&#5;&#5;&#5;Y \\n&#22;&#22;&#1;f2873&#31;reute\\nr f AM-GULF-PLATFORM   10-19 0101</UNKNOWN>\\n<TEXT>&#2;\\n<TITLE>HUGE OIL PLATFORMS DOT GULF LIK'"
      ]
     },
     "execution_count": 2,
     "metadata": {},
     "output_type": "execute_result"
    }
   ],
   "source": [
    "f = open('reut2-021.sgm', encoding='utf-8', errors='ignore')\n",
    "dataframe = f.read()\n",
    "dataframe[0:1000]"
   ]
  },
  {
   "cell_type": "code",
   "execution_count": 3,
   "metadata": {},
   "outputs": [
    {
     "name": "stdout",
     "output_type": "stream",
     "text": [
      "<!DOCTYPE lewis SYSTEM \"lewis.dtd\">\n",
      "<html>\n",
      " <body>\n",
      "  <reuters cgisplit=\"TRAINING-SET\" lewissplit=\"TEST\" newid=\"21001\" oldid=\"20436\" topics=\"NO\">\n",
      "   <date>\n",
      "    19-OCT-1987 15:37:46.03\n",
      "   </date>\n",
      "   <topics>\n",
      "   </topics>\n",
      "   <places>\n",
      "   </places>\n",
      "   <people>\n",
      "   </people>\n",
      "   <orgs>\n",
      "   </orgs>\n",
      "   <exchan\n"
     ]
    }
   ],
   "source": [
    "soup = BeautifulSoup(dataframe, 'lxml')\n",
    "content = soup.prettify()\n",
    "print(content[0:300])"
   ]
  },
  {
   "cell_type": "code",
   "execution_count": 4,
   "metadata": {},
   "outputs": [
    {
     "data": {
      "text/plain": [
       "[<topics></topics>,\n",
       " <topics><d>crude</d><d>ship</d></topics>,\n",
       " <topics><d>acq</d></topics>,\n",
       " <topics></topics>,\n",
       " <topics></topics>,\n",
       " <topics><d>crude</d><d>ship</d></topics>,\n",
       " <topics><d>acq</d></topics>,\n",
       " <topics></topics>,\n",
       " <topics></topics>,\n",
       " <topics></topics>]"
      ]
     },
     "execution_count": 4,
     "metadata": {},
     "output_type": "execute_result"
    }
   ],
   "source": [
    "topics = soup.find_all('topics')\n",
    "topics[0:10]"
   ]
  },
  {
   "cell_type": "code",
   "execution_count": 5,
   "metadata": {},
   "outputs": [
    {
     "data": {
      "text/plain": [
       "[[],\n",
       " ['crude', 'ship'],\n",
       " ['acq'],\n",
       " [],\n",
       " [],\n",
       " ['crude', 'ship'],\n",
       " ['acq'],\n",
       " [],\n",
       " [],\n",
       " []]"
      ]
     },
     "execution_count": 5,
     "metadata": {},
     "output_type": "execute_result"
    }
   ],
   "source": [
    "# instantiate an empty list\n",
    "topic_list = list()\n",
    "\n",
    "for x in topics:\n",
    "    # turn bs4.tag into text and create a list of each article's topics\n",
    "    words = [i.text for i in x]\n",
    "    #append this list to the larger list\n",
    "    topic_list.append(words)\n",
    "\n",
    "topic_list[0:10]"
   ]
  },
  {
   "cell_type": "code",
   "execution_count": 6,
   "metadata": {},
   "outputs": [],
   "source": [
    "def pull_out_earn_topic(topic_list):\n",
    "    for i, topic in enumerate(topic_list):\n",
    "        \n",
    "        # format is a list of strings, so this loop removes topics from nested list\n",
    "        article_topics = ''\n",
    "        for word in topic:\n",
    "            article_topics += (word + ' ')\n",
    "            \n",
    "        # assign desired topic \n",
    "        if not article_topics:\n",
    "            topic_list[i] = 'blank'\n",
    "        elif 'earn' in article_topics:\n",
    "            topic_list[i] = 'earn'\n",
    "        else:\n",
    "            topic_list[i] = 'other'\n",
    "    \n",
    "    return topic_list"
   ]
  },
  {
   "cell_type": "markdown",
   "metadata": {},
   "source": [
    "### 2. Make a Dataframe"
   ]
  },
  {
   "cell_type": "code",
   "execution_count": 7,
   "metadata": {},
   "outputs": [
    {
     "data": {
      "text/html": [
       "<div>\n",
       "<style scoped>\n",
       "    .dataframe tbody tr th:only-of-type {\n",
       "        vertical-align: middle;\n",
       "    }\n",
       "\n",
       "    .dataframe tbody tr th {\n",
       "        vertical-align: top;\n",
       "    }\n",
       "\n",
       "    .dataframe thead th {\n",
       "        text-align: right;\n",
       "    }\n",
       "</style>\n",
       "<table border=\"1\" class=\"dataframe\">\n",
       "  <thead>\n",
       "    <tr style=\"text-align: right;\">\n",
       "      <th></th>\n",
       "      <th>topic</th>\n",
       "    </tr>\n",
       "  </thead>\n",
       "  <tbody>\n",
       "    <tr>\n",
       "      <th>0</th>\n",
       "      <td>blank</td>\n",
       "    </tr>\n",
       "    <tr>\n",
       "      <th>1</th>\n",
       "      <td>other</td>\n",
       "    </tr>\n",
       "    <tr>\n",
       "      <th>2</th>\n",
       "      <td>other</td>\n",
       "    </tr>\n",
       "    <tr>\n",
       "      <th>3</th>\n",
       "      <td>blank</td>\n",
       "    </tr>\n",
       "    <tr>\n",
       "      <th>4</th>\n",
       "      <td>blank</td>\n",
       "    </tr>\n",
       "    <tr>\n",
       "      <th>...</th>\n",
       "      <td>...</td>\n",
       "    </tr>\n",
       "    <tr>\n",
       "      <th>573</th>\n",
       "      <td>other</td>\n",
       "    </tr>\n",
       "    <tr>\n",
       "      <th>574</th>\n",
       "      <td>other</td>\n",
       "    </tr>\n",
       "    <tr>\n",
       "      <th>575</th>\n",
       "      <td>other</td>\n",
       "    </tr>\n",
       "    <tr>\n",
       "      <th>576</th>\n",
       "      <td>blank</td>\n",
       "    </tr>\n",
       "    <tr>\n",
       "      <th>577</th>\n",
       "      <td>blank</td>\n",
       "    </tr>\n",
       "  </tbody>\n",
       "</table>\n",
       "<p>578 rows × 1 columns</p>\n",
       "</div>"
      ],
      "text/plain": [
       "     topic\n",
       "0    blank\n",
       "1    other\n",
       "2    other\n",
       "3    blank\n",
       "4    blank\n",
       "..     ...\n",
       "573  other\n",
       "574  other\n",
       "575  other\n",
       "576  blank\n",
       "577  blank\n",
       "\n",
       "[578 rows x 1 columns]"
      ]
     },
     "execution_count": 7,
     "metadata": {},
     "output_type": "execute_result"
    }
   ],
   "source": [
    "topics_for_df = pull_out_earn_topic(topic_list)\n",
    "df = pd.DataFrame(topics_for_df, columns=['topic'])\n",
    "\n",
    "df"
   ]
  },
  {
   "cell_type": "code",
   "execution_count": 8,
   "metadata": {},
   "outputs": [],
   "source": [
    "# pull out everything with the \"text\" tag from the bs4 object\n",
    "all_text = soup.find_all(\"text\")\n",
    "\n",
    "# instatiate empty list \n",
    "list_all_text = list()\n",
    "\n",
    "# loop through the bs4 element\n",
    "for text in all_text:\n",
    "    \n",
    "    # getting just the text from the element\n",
    "    # stripping out the newline indicator\n",
    "    working_text = text.get_text().replace(\"\\n\", \" \")\n",
    "    \n",
    "    # removing extra spaces\n",
    "    working_text = ' '.join(working_text.split())\n",
    "    \n",
    "    # appending to list\n",
    "    list_all_text.append(working_text)"
   ]
  },
  {
   "cell_type": "code",
   "execution_count": 9,
   "metadata": {},
   "outputs": [
    {
     "data": {
      "text/html": [
       "<div>\n",
       "<style scoped>\n",
       "    .dataframe tbody tr th:only-of-type {\n",
       "        vertical-align: middle;\n",
       "    }\n",
       "\n",
       "    .dataframe tbody tr th {\n",
       "        vertical-align: top;\n",
       "    }\n",
       "\n",
       "    .dataframe thead th {\n",
       "        text-align: right;\n",
       "    }\n",
       "</style>\n",
       "<table border=\"1\" class=\"dataframe\">\n",
       "  <thead>\n",
       "    <tr style=\"text-align: right;\">\n",
       "      <th></th>\n",
       "      <th>topic</th>\n",
       "      <th>text</th>\n",
       "    </tr>\n",
       "  </thead>\n",
       "  <tbody>\n",
       "    <tr>\n",
       "      <th>0</th>\n",
       "      <td>blank</td>\n",
       "      <td>******CITYFED FINANCIAL CORP SAYS IT CUT QTRLY...</td>\n",
       "    </tr>\n",
       "    <tr>\n",
       "      <th>1</th>\n",
       "      <td>other</td>\n",
       "      <td>HUGE OIL PLATFORMS DOT GULF LIKE BEACONS By AS...</td>\n",
       "    </tr>\n",
       "    <tr>\n",
       "      <th>2</th>\n",
       "      <td>other</td>\n",
       "      <td>******CCR VIDEO SAYST RECEIVED OFFER TO NEGOTI...</td>\n",
       "    </tr>\n",
       "    <tr>\n",
       "      <th>3</th>\n",
       "      <td>blank</td>\n",
       "      <td>GM &lt;GM&gt; CANADA UNIT MAJOR OFFER ACCEPTED BY UN...</td>\n",
       "    </tr>\n",
       "    <tr>\n",
       "      <th>4</th>\n",
       "      <td>blank</td>\n",
       "      <td>CANADA DEVELOPMENT UNIT &lt;CDC.TO&gt; REFINANCES SA...</td>\n",
       "    </tr>\n",
       "  </tbody>\n",
       "</table>\n",
       "</div>"
      ],
      "text/plain": [
       "   topic                                               text\n",
       "0  blank  ******CITYFED FINANCIAL CORP SAYS IT CUT QTRLY...\n",
       "1  other  HUGE OIL PLATFORMS DOT GULF LIKE BEACONS By AS...\n",
       "2  other  ******CCR VIDEO SAYST RECEIVED OFFER TO NEGOTI...\n",
       "3  blank  GM <GM> CANADA UNIT MAJOR OFFER ACCEPTED BY UN...\n",
       "4  blank  CANADA DEVELOPMENT UNIT <CDC.TO> REFINANCES SA..."
      ]
     },
     "execution_count": 9,
     "metadata": {},
     "output_type": "execute_result"
    }
   ],
   "source": [
    "df['text'] = list_all_text\n",
    "df.head()"
   ]
  },
  {
   "cell_type": "markdown",
   "metadata": {},
   "source": [
    "### 3. NLP Task"
   ]
  },
  {
   "cell_type": "markdown",
   "metadata": {},
   "source": [
    "Now that we have a text dataframe, we can use NLTK for NLP tasks. \n",
    "\n",
    "We will show Sentiment Analysis using NLTK; however, any other NLP task should also be possible using the above dataframe."
   ]
  },
  {
   "cell_type": "markdown",
   "metadata": {},
   "source": [
    "Load NLTK libraries"
   ]
  },
  {
   "cell_type": "code",
   "execution_count": 10,
   "metadata": {},
   "outputs": [],
   "source": [
    "import string\n",
    "from collections import Counter\n",
    "\n",
    "import nltk\n",
    "import pandas as pd\n",
    "from nltk.corpus import stopwords\n",
    "from nltk.corpus import wordnet\n",
    "from nltk.sentiment import SentimentIntensityAnalyzer\n",
    "from nltk.stem import WordNetLemmatizer\n",
    "from nltk.tokenize import word_tokenize"
   ]
  },
  {
   "cell_type": "markdown",
   "metadata": {},
   "source": [
    "*Note: The Reuters dataset is in-built in NLTK and can be read in as `from nltk.corpus import reuters`*\n"
   ]
  },
  {
   "cell_type": "code",
   "execution_count": 11,
   "metadata": {},
   "outputs": [],
   "source": [
    "# nltk.download('reuters')\n",
    "# nltk.download('punkt')\n",
    "# from nltk.corpus import reuters"
   ]
  },
  {
   "cell_type": "markdown",
   "metadata": {},
   "source": [
    "Initialize the text processing tools"
   ]
  },
  {
   "cell_type": "code",
   "execution_count": 12,
   "metadata": {},
   "outputs": [],
   "source": [
    "lemmatizer = WordNetLemmatizer()\n",
    "stop_words = set(stopwords.words('english'))"
   ]
  },
  {
   "cell_type": "markdown",
   "metadata": {},
   "source": [
    "Handling Missing Values"
   ]
  },
  {
   "cell_type": "code",
   "execution_count": 13,
   "metadata": {},
   "outputs": [
    {
     "data": {
      "text/html": [
       "<div>\n",
       "<style scoped>\n",
       "    .dataframe tbody tr th:only-of-type {\n",
       "        vertical-align: middle;\n",
       "    }\n",
       "\n",
       "    .dataframe tbody tr th {\n",
       "        vertical-align: top;\n",
       "    }\n",
       "\n",
       "    .dataframe thead th {\n",
       "        text-align: right;\n",
       "    }\n",
       "</style>\n",
       "<table border=\"1\" class=\"dataframe\">\n",
       "  <thead>\n",
       "    <tr style=\"text-align: right;\">\n",
       "      <th></th>\n",
       "      <th>topic</th>\n",
       "      <th>text</th>\n",
       "      <th>clean_text</th>\n",
       "    </tr>\n",
       "  </thead>\n",
       "  <tbody>\n",
       "    <tr>\n",
       "      <th>0</th>\n",
       "      <td>blank</td>\n",
       "      <td>******CITYFED FINANCIAL CORP SAYS IT CUT QTRLY...</td>\n",
       "      <td>******CITYFED FINANCIAL CORP SAYS IT CUT QTRLY...</td>\n",
       "    </tr>\n",
       "    <tr>\n",
       "      <th>1</th>\n",
       "      <td>other</td>\n",
       "      <td>HUGE OIL PLATFORMS DOT GULF LIKE BEACONS By AS...</td>\n",
       "      <td>HUGE OIL PLATFORMS DOT GULF LIKE BEACONS By AS...</td>\n",
       "    </tr>\n",
       "    <tr>\n",
       "      <th>2</th>\n",
       "      <td>other</td>\n",
       "      <td>******CCR VIDEO SAYST RECEIVED OFFER TO NEGOTI...</td>\n",
       "      <td>******CCR VIDEO SAYST RECEIVED OFFER TO NEGOTI...</td>\n",
       "    </tr>\n",
       "    <tr>\n",
       "      <th>3</th>\n",
       "      <td>blank</td>\n",
       "      <td>GM &lt;GM&gt; CANADA UNIT MAJOR OFFER ACCEPTED BY UN...</td>\n",
       "      <td>GM &lt;GM&gt; CANADA UNIT MAJOR OFFER ACCEPTED BY UN...</td>\n",
       "    </tr>\n",
       "    <tr>\n",
       "      <th>4</th>\n",
       "      <td>blank</td>\n",
       "      <td>CANADA DEVELOPMENT UNIT &lt;CDC.TO&gt; REFINANCES SA...</td>\n",
       "      <td>CANADA DEVELOPMENT UNIT &lt;CDC.TO&gt; REFINANCES SA...</td>\n",
       "    </tr>\n",
       "    <tr>\n",
       "      <th>5</th>\n",
       "      <td>other</td>\n",
       "      <td>DIPLOMATS CALL U.S. ATTACK ON OIL RIG RESTRAIN...</td>\n",
       "      <td>DIPLOMATS CALL U.S. ATTACK ON OIL RIG RESTRAIN...</td>\n",
       "    </tr>\n",
       "    <tr>\n",
       "      <th>6</th>\n",
       "      <td>other</td>\n",
       "      <td>BROWN DISC TO BUY RHONE-POULENC &lt;RHON.PA&gt; UNIT...</td>\n",
       "      <td>BROWN DISC TO BUY RHONE-POULENC &lt;RHON.PA&gt; UNIT...</td>\n",
       "    </tr>\n",
       "    <tr>\n",
       "      <th>7</th>\n",
       "      <td>blank</td>\n",
       "      <td>******DOW SINKS TO LOWEST LEVEL OF THE YEAR, D...</td>\n",
       "      <td>******DOW SINKS TO LOWEST LEVEL OF THE YEAR, D...</td>\n",
       "    </tr>\n",
       "    <tr>\n",
       "      <th>8</th>\n",
       "      <td>blank</td>\n",
       "      <td>LANE TELECOMMUNICATIONS PRESIDENT RESIGNS HOUS...</td>\n",
       "      <td>LANE TELECOMMUNICATIONS PRESIDENT RESIGNS HOUS...</td>\n",
       "    </tr>\n",
       "    <tr>\n",
       "      <th>9</th>\n",
       "      <td>blank</td>\n",
       "      <td>PERKIN-ELMER &lt;PKN&gt; WINS EPA CONTRACT NORWALK, ...</td>\n",
       "      <td>PERKIN-ELMER &lt;PKN&gt; WINS EPA CONTRACT NORWALK, ...</td>\n",
       "    </tr>\n",
       "    <tr>\n",
       "      <th>10</th>\n",
       "      <td>blank</td>\n",
       "      <td>WHIRLPOOL CORP &lt;WHR&gt; REG QTLY DIV BENTON HARBO...</td>\n",
       "      <td>WHIRLPOOL CORP &lt;WHR&gt; REG QTLY DIV BENTON HARBO...</td>\n",
       "    </tr>\n",
       "    <tr>\n",
       "      <th>11</th>\n",
       "      <td>earn</td>\n",
       "      <td>CONSOLIDATED FREIGHTWAYS INC &lt;CNF&gt; 3RD QTR NET...</td>\n",
       "      <td>CONSOLIDATED FREIGHTWAYS INC &lt;CNF&gt; 3RD QTR NET...</td>\n",
       "    </tr>\n",
       "    <tr>\n",
       "      <th>12</th>\n",
       "      <td>other</td>\n",
       "      <td>LATEST ATTACK SEEN POINTING UP DILEMMAS FOR US...</td>\n",
       "      <td>LATEST ATTACK SEEN POINTING UP DILEMMAS FOR US...</td>\n",
       "    </tr>\n",
       "    <tr>\n",
       "      <th>13</th>\n",
       "      <td>earn</td>\n",
       "      <td>ROCHESTER TELEPHONE CORP &lt;RTC&gt; 3RD QTR NET ROC...</td>\n",
       "      <td>ROCHESTER TELEPHONE CORP &lt;RTC&gt; 3RD QTR NET ROC...</td>\n",
       "    </tr>\n",
       "    <tr>\n",
       "      <th>14</th>\n",
       "      <td>blank</td>\n",
       "      <td>NATIONAL CITY &lt;NCTY.O&gt; UNIT BEGINS NEW SERVICE...</td>\n",
       "      <td>NATIONAL CITY &lt;NCTY.O&gt; UNIT BEGINS NEW SERVICE...</td>\n",
       "    </tr>\n",
       "    <tr>\n",
       "      <th>15</th>\n",
       "      <td>earn</td>\n",
       "      <td>SOUTH CAROLINA NATIONAL CORP &lt;SCNC.O&gt; 3RD QTR ...</td>\n",
       "      <td>SOUTH CAROLINA NATIONAL CORP &lt;SCNC.O&gt; 3RD QTR ...</td>\n",
       "    </tr>\n",
       "    <tr>\n",
       "      <th>16</th>\n",
       "      <td>earn</td>\n",
       "      <td>MARINE CORP &lt;MCOR.O&gt; 3RD QTR NET SPRINGFIELD, ...</td>\n",
       "      <td>MARINE CORP &lt;MCOR.O&gt; 3RD QTR NET SPRINGFIELD, ...</td>\n",
       "    </tr>\n",
       "    <tr>\n",
       "      <th>17</th>\n",
       "      <td>other</td>\n",
       "      <td>STATOIL AWARDS VESLEFRIKK OIL FIELD CONTRACTS ...</td>\n",
       "      <td>STATOIL AWARDS VESLEFRIKK OIL FIELD CONTRACTS ...</td>\n",
       "    </tr>\n",
       "    <tr>\n",
       "      <th>18</th>\n",
       "      <td>other</td>\n",
       "      <td>U.K. TREASURY CONFIRMS BP SALE TO GO AHEAD LON...</td>\n",
       "      <td>U.K. TREASURY CONFIRMS BP SALE TO GO AHEAD LON...</td>\n",
       "    </tr>\n",
       "    <tr>\n",
       "      <th>19</th>\n",
       "      <td>blank</td>\n",
       "      <td>EGYPT TO BUILD HOUSING ESTATES AND ROADS FOR U...</td>\n",
       "      <td>EGYPT TO BUILD HOUSING ESTATES AND ROADS FOR U...</td>\n",
       "    </tr>\n",
       "  </tbody>\n",
       "</table>\n",
       "</div>"
      ],
      "text/plain": [
       "    topic                                               text  \\\n",
       "0   blank  ******CITYFED FINANCIAL CORP SAYS IT CUT QTRLY...   \n",
       "1   other  HUGE OIL PLATFORMS DOT GULF LIKE BEACONS By AS...   \n",
       "2   other  ******CCR VIDEO SAYST RECEIVED OFFER TO NEGOTI...   \n",
       "3   blank  GM <GM> CANADA UNIT MAJOR OFFER ACCEPTED BY UN...   \n",
       "4   blank  CANADA DEVELOPMENT UNIT <CDC.TO> REFINANCES SA...   \n",
       "5   other  DIPLOMATS CALL U.S. ATTACK ON OIL RIG RESTRAIN...   \n",
       "6   other  BROWN DISC TO BUY RHONE-POULENC <RHON.PA> UNIT...   \n",
       "7   blank  ******DOW SINKS TO LOWEST LEVEL OF THE YEAR, D...   \n",
       "8   blank  LANE TELECOMMUNICATIONS PRESIDENT RESIGNS HOUS...   \n",
       "9   blank  PERKIN-ELMER <PKN> WINS EPA CONTRACT NORWALK, ...   \n",
       "10  blank  WHIRLPOOL CORP <WHR> REG QTLY DIV BENTON HARBO...   \n",
       "11   earn  CONSOLIDATED FREIGHTWAYS INC <CNF> 3RD QTR NET...   \n",
       "12  other  LATEST ATTACK SEEN POINTING UP DILEMMAS FOR US...   \n",
       "13   earn  ROCHESTER TELEPHONE CORP <RTC> 3RD QTR NET ROC...   \n",
       "14  blank  NATIONAL CITY <NCTY.O> UNIT BEGINS NEW SERVICE...   \n",
       "15   earn  SOUTH CAROLINA NATIONAL CORP <SCNC.O> 3RD QTR ...   \n",
       "16   earn  MARINE CORP <MCOR.O> 3RD QTR NET SPRINGFIELD, ...   \n",
       "17  other  STATOIL AWARDS VESLEFRIKK OIL FIELD CONTRACTS ...   \n",
       "18  other  U.K. TREASURY CONFIRMS BP SALE TO GO AHEAD LON...   \n",
       "19  blank  EGYPT TO BUILD HOUSING ESTATES AND ROADS FOR U...   \n",
       "\n",
       "                                           clean_text  \n",
       "0   ******CITYFED FINANCIAL CORP SAYS IT CUT QTRLY...  \n",
       "1   HUGE OIL PLATFORMS DOT GULF LIKE BEACONS By AS...  \n",
       "2   ******CCR VIDEO SAYST RECEIVED OFFER TO NEGOTI...  \n",
       "3   GM <GM> CANADA UNIT MAJOR OFFER ACCEPTED BY UN...  \n",
       "4   CANADA DEVELOPMENT UNIT <CDC.TO> REFINANCES SA...  \n",
       "5   DIPLOMATS CALL U.S. ATTACK ON OIL RIG RESTRAIN...  \n",
       "6   BROWN DISC TO BUY RHONE-POULENC <RHON.PA> UNIT...  \n",
       "7   ******DOW SINKS TO LOWEST LEVEL OF THE YEAR, D...  \n",
       "8   LANE TELECOMMUNICATIONS PRESIDENT RESIGNS HOUS...  \n",
       "9   PERKIN-ELMER <PKN> WINS EPA CONTRACT NORWALK, ...  \n",
       "10  WHIRLPOOL CORP <WHR> REG QTLY DIV BENTON HARBO...  \n",
       "11  CONSOLIDATED FREIGHTWAYS INC <CNF> 3RD QTR NET...  \n",
       "12  LATEST ATTACK SEEN POINTING UP DILEMMAS FOR US...  \n",
       "13  ROCHESTER TELEPHONE CORP <RTC> 3RD QTR NET ROC...  \n",
       "14  NATIONAL CITY <NCTY.O> UNIT BEGINS NEW SERVICE...  \n",
       "15  SOUTH CAROLINA NATIONAL CORP <SCNC.O> 3RD QTR ...  \n",
       "16  MARINE CORP <MCOR.O> 3RD QTR NET SPRINGFIELD, ...  \n",
       "17  STATOIL AWARDS VESLEFRIKK OIL FIELD CONTRACTS ...  \n",
       "18  U.K. TREASURY CONFIRMS BP SALE TO GO AHEAD LON...  \n",
       "19  EGYPT TO BUILD HOUSING ESTATES AND ROADS FOR U...  "
      ]
     },
     "execution_count": 13,
     "metadata": {},
     "output_type": "execute_result"
    }
   ],
   "source": [
    "df['clean_text'] = df['text'].fillna('')\n",
    "df.head(20)"
   ]
  },
  {
   "cell_type": "markdown",
   "metadata": {},
   "source": [
    "### Text Preprocessing\n",
    "To ensure that our sentiment analysis is accurate, it’s essential to preprocess the comments. This includes tokenization, lemmatization, and removing stop words:"
   ]
  },
  {
   "cell_type": "code",
   "execution_count": 14,
   "metadata": {},
   "outputs": [
    {
     "data": {
      "text/html": [
       "<div>\n",
       "<style scoped>\n",
       "    .dataframe tbody tr th:only-of-type {\n",
       "        vertical-align: middle;\n",
       "    }\n",
       "\n",
       "    .dataframe tbody tr th {\n",
       "        vertical-align: top;\n",
       "    }\n",
       "\n",
       "    .dataframe thead th {\n",
       "        text-align: right;\n",
       "    }\n",
       "</style>\n",
       "<table border=\"1\" class=\"dataframe\">\n",
       "  <thead>\n",
       "    <tr style=\"text-align: right;\">\n",
       "      <th></th>\n",
       "      <th>topic</th>\n",
       "      <th>text</th>\n",
       "      <th>clean_text</th>\n",
       "      <th>processed_text</th>\n",
       "    </tr>\n",
       "  </thead>\n",
       "  <tbody>\n",
       "    <tr>\n",
       "      <th>0</th>\n",
       "      <td>blank</td>\n",
       "      <td>******CITYFED FINANCIAL CORP SAYS IT CUT QTRLY...</td>\n",
       "      <td>******CITYFED FINANCIAL CORP SAYS IT CUT QTRLY...</td>\n",
       "      <td>* * * * * * cityfed financial corp say cut qtr...</td>\n",
       "    </tr>\n",
       "    <tr>\n",
       "      <th>1</th>\n",
       "      <td>other</td>\n",
       "      <td>HUGE OIL PLATFORMS DOT GULF LIKE BEACONS By AS...</td>\n",
       "      <td>HUGE OIL PLATFORMS DOT GULF LIKE BEACONS By AS...</td>\n",
       "      <td>huge oil platform dot gulf like beacon ashraf ...</td>\n",
       "    </tr>\n",
       "    <tr>\n",
       "      <th>2</th>\n",
       "      <td>other</td>\n",
       "      <td>******CCR VIDEO SAYST RECEIVED OFFER TO NEGOTI...</td>\n",
       "      <td>******CCR VIDEO SAYST RECEIVED OFFER TO NEGOTI...</td>\n",
       "      <td>* * * * * * ccr video sayst receive offer nego...</td>\n",
       "    </tr>\n",
       "    <tr>\n",
       "      <th>3</th>\n",
       "      <td>blank</td>\n",
       "      <td>GM &lt;GM&gt; CANADA UNIT MAJOR OFFER ACCEPTED BY UN...</td>\n",
       "      <td>GM &lt;GM&gt; CANADA UNIT MAJOR OFFER ACCEPTED BY UN...</td>\n",
       "      <td>gm &lt; gm &gt; canada unit major offer accept union...</td>\n",
       "    </tr>\n",
       "    <tr>\n",
       "      <th>4</th>\n",
       "      <td>blank</td>\n",
       "      <td>CANADA DEVELOPMENT UNIT &lt;CDC.TO&gt; REFINANCES SA...</td>\n",
       "      <td>CANADA DEVELOPMENT UNIT &lt;CDC.TO&gt; REFINANCES SA...</td>\n",
       "      <td>canada development unit &lt; &gt; refinance sarnia ,...</td>\n",
       "    </tr>\n",
       "  </tbody>\n",
       "</table>\n",
       "</div>"
      ],
      "text/plain": [
       "   topic                                               text  \\\n",
       "0  blank  ******CITYFED FINANCIAL CORP SAYS IT CUT QTRLY...   \n",
       "1  other  HUGE OIL PLATFORMS DOT GULF LIKE BEACONS By AS...   \n",
       "2  other  ******CCR VIDEO SAYST RECEIVED OFFER TO NEGOTI...   \n",
       "3  blank  GM <GM> CANADA UNIT MAJOR OFFER ACCEPTED BY UN...   \n",
       "4  blank  CANADA DEVELOPMENT UNIT <CDC.TO> REFINANCES SA...   \n",
       "\n",
       "                                          clean_text  \\\n",
       "0  ******CITYFED FINANCIAL CORP SAYS IT CUT QTRLY...   \n",
       "1  HUGE OIL PLATFORMS DOT GULF LIKE BEACONS By AS...   \n",
       "2  ******CCR VIDEO SAYST RECEIVED OFFER TO NEGOTI...   \n",
       "3  GM <GM> CANADA UNIT MAJOR OFFER ACCEPTED BY UN...   \n",
       "4  CANADA DEVELOPMENT UNIT <CDC.TO> REFINANCES SA...   \n",
       "\n",
       "                                      processed_text  \n",
       "0  * * * * * * cityfed financial corp say cut qtr...  \n",
       "1  huge oil platform dot gulf like beacon ashraf ...  \n",
       "2  * * * * * * ccr video sayst receive offer nego...  \n",
       "3  gm < gm > canada unit major offer accept union...  \n",
       "4  canada development unit < > refinance sarnia ,...  "
      ]
     },
     "execution_count": 14,
     "metadata": {},
     "output_type": "execute_result"
    }
   ],
   "source": [
    "def get_wordnet_pos(treebank_tag):\n",
    "    \"\"\"Map POS tag to first character used by WordNetLemmatizer\"\"\"\n",
    "    if treebank_tag.startswith('J'):\n",
    "        return wordnet.ADJ\n",
    "    elif treebank_tag.startswith('V'):\n",
    "        return wordnet.VERB\n",
    "    elif treebank_tag.startswith('N'):\n",
    "        return wordnet.NOUN\n",
    "    elif treebank_tag.startswith('R'):\n",
    "        return wordnet.ADV\n",
    "    else:\n",
    "        return wordnet.NOUN  # by default, treat as noun\n",
    "\n",
    "def preprocess_text(text):\n",
    "    tokens = word_tokenize(text)\n",
    "    tokens = [word.lower() for word in tokens]\n",
    "    tokens = [word for word in tokens if word.isalpha() or word in string.punctuation]\n",
    "    pos_tags = nltk.pos_tag(tokens)\n",
    "    tokens = [lemmatizer.lemmatize(word, get_wordnet_pos(pos)) for word, pos in pos_tags]\n",
    "    tokens = [word for word in tokens if word not in stop_words]\n",
    "\n",
    "    return \" \".join(tokens)\n",
    "\n",
    "df['processed_text'] = df['clean_text'].apply(preprocess_text)\n",
    "df.head()"
   ]
  },
  {
   "cell_type": "markdown",
   "metadata": {},
   "source": [
    "### Sentiments analysis\n",
    "To get insights from the comments, we’ll first categorize them based on sentiment using the SentimentIntensityAnalyzer:"
   ]
  },
  {
   "cell_type": "code",
   "execution_count": 15,
   "metadata": {},
   "outputs": [],
   "source": [
    "sia = SentimentIntensityAnalyzer()\n",
    "\n",
    "def get_sentiment(text):\n",
    "    sentiment_score = sia.polarity_scores(text)['compound']\n",
    "    if sentiment_score >= 0.05:\n",
    "        return \"positive\"\n",
    "    elif sentiment_score <= -0.05:\n",
    "        return \"negative\"\n",
    "    else:\n",
    "        return \"neutral\"\n",
    "        \n",
    "df['sentiment_text'] = df['processed_text'].apply(get_sentiment)"
   ]
  },
  {
   "cell_type": "markdown",
   "metadata": {},
   "source": [
    "Inspect the dataset with the newly added sentiment column:"
   ]
  },
  {
   "cell_type": "code",
   "execution_count": 16,
   "metadata": {},
   "outputs": [
    {
     "data": {
      "text/html": [
       "<div>\n",
       "<style scoped>\n",
       "    .dataframe tbody tr th:only-of-type {\n",
       "        vertical-align: middle;\n",
       "    }\n",
       "\n",
       "    .dataframe tbody tr th {\n",
       "        vertical-align: top;\n",
       "    }\n",
       "\n",
       "    .dataframe thead th {\n",
       "        text-align: right;\n",
       "    }\n",
       "</style>\n",
       "<table border=\"1\" class=\"dataframe\">\n",
       "  <thead>\n",
       "    <tr style=\"text-align: right;\">\n",
       "      <th></th>\n",
       "      <th>text</th>\n",
       "      <th>clean_text</th>\n",
       "      <th>processed_text</th>\n",
       "      <th>sentiment_text</th>\n",
       "    </tr>\n",
       "  </thead>\n",
       "  <tbody>\n",
       "    <tr>\n",
       "      <th>0</th>\n",
       "      <td>******CITYFED FINANCIAL CORP SAYS IT CUT QTRLY...</td>\n",
       "      <td>******CITYFED FINANCIAL CORP SAYS IT CUT QTRLY...</td>\n",
       "      <td>* * * * * * cityfed financial corp say cut qtr...</td>\n",
       "      <td>negative</td>\n",
       "    </tr>\n",
       "    <tr>\n",
       "      <th>1</th>\n",
       "      <td>HUGE OIL PLATFORMS DOT GULF LIKE BEACONS By AS...</td>\n",
       "      <td>HUGE OIL PLATFORMS DOT GULF LIKE BEACONS By AS...</td>\n",
       "      <td>huge oil platform dot gulf like beacon ashraf ...</td>\n",
       "      <td>negative</td>\n",
       "    </tr>\n",
       "    <tr>\n",
       "      <th>2</th>\n",
       "      <td>******CCR VIDEO SAYST RECEIVED OFFER TO NEGOTI...</td>\n",
       "      <td>******CCR VIDEO SAYST RECEIVED OFFER TO NEGOTI...</td>\n",
       "      <td>* * * * * * ccr video sayst receive offer nego...</td>\n",
       "      <td>negative</td>\n",
       "    </tr>\n",
       "    <tr>\n",
       "      <th>3</th>\n",
       "      <td>GM &lt;GM&gt; CANADA UNIT MAJOR OFFER ACCEPTED BY UN...</td>\n",
       "      <td>GM &lt;GM&gt; CANADA UNIT MAJOR OFFER ACCEPTED BY UN...</td>\n",
       "      <td>gm &lt; gm &gt; canada unit major offer accept union...</td>\n",
       "      <td>positive</td>\n",
       "    </tr>\n",
       "    <tr>\n",
       "      <th>4</th>\n",
       "      <td>CANADA DEVELOPMENT UNIT &lt;CDC.TO&gt; REFINANCES SA...</td>\n",
       "      <td>CANADA DEVELOPMENT UNIT &lt;CDC.TO&gt; REFINANCES SA...</td>\n",
       "      <td>canada development unit &lt; &gt; refinance sarnia ,...</td>\n",
       "      <td>positive</td>\n",
       "    </tr>\n",
       "  </tbody>\n",
       "</table>\n",
       "</div>"
      ],
      "text/plain": [
       "                                                text  \\\n",
       "0  ******CITYFED FINANCIAL CORP SAYS IT CUT QTRLY...   \n",
       "1  HUGE OIL PLATFORMS DOT GULF LIKE BEACONS By AS...   \n",
       "2  ******CCR VIDEO SAYST RECEIVED OFFER TO NEGOTI...   \n",
       "3  GM <GM> CANADA UNIT MAJOR OFFER ACCEPTED BY UN...   \n",
       "4  CANADA DEVELOPMENT UNIT <CDC.TO> REFINANCES SA...   \n",
       "\n",
       "                                          clean_text  \\\n",
       "0  ******CITYFED FINANCIAL CORP SAYS IT CUT QTRLY...   \n",
       "1  HUGE OIL PLATFORMS DOT GULF LIKE BEACONS By AS...   \n",
       "2  ******CCR VIDEO SAYST RECEIVED OFFER TO NEGOTI...   \n",
       "3  GM <GM> CANADA UNIT MAJOR OFFER ACCEPTED BY UN...   \n",
       "4  CANADA DEVELOPMENT UNIT <CDC.TO> REFINANCES SA...   \n",
       "\n",
       "                                      processed_text sentiment_text  \n",
       "0  * * * * * * cityfed financial corp say cut qtr...       negative  \n",
       "1  huge oil platform dot gulf like beacon ashraf ...       negative  \n",
       "2  * * * * * * ccr video sayst receive offer nego...       negative  \n",
       "3  gm < gm > canada unit major offer accept union...       positive  \n",
       "4  canada development unit < > refinance sarnia ,...       positive  "
      ]
     },
     "execution_count": 16,
     "metadata": {},
     "output_type": "execute_result"
    }
   ],
   "source": [
    "cols = ['text', 'clean_text', 'processed_text', 'sentiment_text']\n",
    "df[cols].head()"
   ]
  },
  {
   "cell_type": "markdown",
   "metadata": {},
   "source": [
    "To further analsze, we’ll segregate the comments based on their sentiment."
   ]
  },
  {
   "cell_type": "code",
   "execution_count": 17,
   "metadata": {},
   "outputs": [],
   "source": [
    "df_sentiment = df[cols]\n",
    "\n",
    "negatives_df = df_sentiment[df_sentiment['sentiment_text'] == 'negative'][['text', 'processed_text']]\n",
    "negatives = negatives_df['text'].tolist()\n",
    "\n",
    "positives_df = df_sentiment[df_sentiment['sentiment_text'] == 'positive'][['text', 'processed_text']]\n",
    "positives = positives_df['text'].tolist()"
   ]
  },
  {
   "cell_type": "markdown",
   "metadata": {},
   "source": [
    "Let us preview some of the comments to better understand the sentiments:\n",
    "\n",
    "Negative Comments Sample"
   ]
  },
  {
   "cell_type": "code",
   "execution_count": 18,
   "metadata": {},
   "outputs": [
    {
     "name": "stdout",
     "output_type": "stream",
     "text": [
      "******CITYFED FINANCIAL CORP SAYS IT CUT QTRLY DIVIDEND TO ONE CENT FROM 10 CTS/SHR Blah blah blah.\n",
      "\n",
      "HUGE OIL PLATFORMS DOT GULF LIKE BEACONS By ASHRAF FOUAD BAHRAIN, Oct 19 - Huge oil platforms dot the Gulf like beacons -- usually lit up like Christmas trees at night. One of them, sitting astride the Rostam offshore oilfield, was all but blown out of the water by U.S. Warships on Monday. The Iranian platform, an unsightly mass of steel and concrete, was a three-tier structure rising 200 feet (60 metres) above the warm waters of the Gulf until four U.S. Destroyers pumped some 1,000 shells into it. The U.S. Defense Department said just 10 pct of one section of the structure remained. U.S. helicopters destroyed three Iranian gunboats after an American helicopter came under fire earlier this month and U.S. forces attacked, seized, and sank an Iranian ship they said had been caught laying mines. But Iran was not deterred, according to U.S. defense officials, who said Iranian forces used Chinese-made Silkworm missiles to hit a U.S.-owned Liberian-flagged ship on Thursday and the Sea Isle City on Friday. Both ships were hit in the territorial waters of Kuwait, a key backer of Iraq in its war with Iran. Henry Schuler, a former U.S. diplomat in the Middle East now with CSIS said Washington had agreed to escort Kuwaiti tankers in order to deter Iranian attacks on shipping. But he said the deterrence policy had failed and the level of violence and threats to shipping had increased as a result of U.S. intervention and Iran's response. The attack on the oil platform was the latest example of a U.S. \"tit-for-tat\" policy that gave Iran the initiative, said Harlan Ullman, an ex-career naval officer now with CSIS. He said with this appraoch America would suffer \"the death of one thousand cuts.\" But for the United States to grab the initiative militarily, it must take warlike steps such as mining Iran's harbors or blockading the mouth of the Gulf through which its shipping must pass, Schuler said. He was among those advocating mining as a means of bringing Iran to the neogtiating table. If vital supplies were cut off, Tehran could not continue the war with Iraq. Ullman said Washington should join Moscow in a diplomatic initiative to end the war and the superpowers should impose an arms embargo against Tehran if it refused to negotiate. He said the United States should also threaten to mine and blockade Iran if it continued fighting and must press Iraq to acknowledge responsibility for starting the war as part of a settlement. Iranian and Western diplomats say Iraq started the war by invading Iran's territory in 1980. Iraq blames Iran for the outbreak of hostilities, which have entailed World War I-style infantry attacks resulting in horrific casualties. Each side has attacked the others' shipping. Reuter\n",
      "\n",
      "******CCR VIDEO SAYST RECEIVED OFFER TO NEGOTIATE A TAKEOVER BY INTERCEP INVESTMENT CORP Blah blah blah.\n",
      "\n"
     ]
    }
   ],
   "source": [
    "for i in range(3):\n",
    "    print(\"{}\\n\".format(negatives[i]))"
   ]
  },
  {
   "cell_type": "markdown",
   "metadata": {},
   "source": [
    "Positive Comments Sample"
   ]
  },
  {
   "cell_type": "code",
   "execution_count": 19,
   "metadata": {},
   "outputs": [
    {
     "name": "stdout",
     "output_type": "stream",
     "text": [
      "GM <GM> CANADA UNIT MAJOR OFFER ACCEPTED BY UNION TORONTO, Oct 19 - The Canadian Auto Workers' Union said it accepted an economic offer from the Canadian division of General Motors Corp <GM> in contract negotiations. But union president Bob White said many local issues at the 11 plants in Ontario and Quebec still remained unresolved ahead of Thursday's deadline for a strike by 40,000 workers. \"It minimizes the possibility of a strike,\" White told reporters. However, \"if we don't have local agreements settled by Thursday, there will be a strike,\" he said. The local issues still unresolved involved health care, skilled trades and job classifications, White said. GM Canada negotiator Rick Curd said he believed a strike would be avoided. \"Even though there are some tough issues to be resolved we're on the right schedule to meet the target,\" Curd said. \"I'm very pleased with the state of the negotiations,\" he said. Union membership meetings have been scheduled for the weekend in case a tentative settlement, said White. White said the union has also received assurances that a job protection pact negotiated with GM workers in the U.S. does not threaten Canadian jobs. The economic offer for a three-year pact largely matches agreements at Ford <F> and Chrysler <C> in Canada, which include inflation-indexed payments for future retirees and fixed annual payments for current retirees. It also gives workers wage increases of three pct immediately and 1.5 pct in each of the second and third years. Reuter\n",
      "\n",
      "CANADA DEVELOPMENT UNIT <CDC.TO> REFINANCES SARNIA, Ontario, Oct 19 - Canada Development Corp said its <Polysar Ltd> unit completed a refinancing package worth about 830 mln Canadian dlrs. The company said the financing, which involves 24 banks and four syndicated loans, consists of a 380 mln Canadian dlr revolver, a 200 mln Canadian dlr European medium term loan, a 149 mln Canadian dlr revolver and a 100 mln Canadian dlr operating loan. The company said the refinancing will reduce borrowing costs, in addition to having other benefits. Reuter\n",
      "\n",
      "BROWN DISC TO BUY RHONE-POULENC <RHON.PA> UNIT COLORADO SPRINGS, Colo., Oct 19 - Brown Disc Products Co Inc, a unit fo Genevar Enterprises Inc, said it has purchased the ongoing business, trademarks and certain assets of Rhone-Poulenc's Brown Disc Manufacturing unit, for undisclosed terms. Rhone-Poulenc is a French-based chemical company. Under the agreement, Rhone-Poulenc will supply magnetic tape and media products to Brown Disc Products. Reuter\n",
      "\n"
     ]
    }
   ],
   "source": [
    "for i in range(3):\n",
    "    print(\"{}\\n\".format(positives[i]))"
   ]
  }
 ],
 "metadata": {
  "kernelspec": {
   "display_name": "Python 3",
   "language": "python",
   "name": "python3"
  },
  "language_info": {
   "codemirror_mode": {
    "name": "ipython",
    "version": 3
   },
   "file_extension": ".py",
   "mimetype": "text/x-python",
   "name": "python",
   "nbconvert_exporter": "python",
   "pygments_lexer": "ipython3",
   "version": "3.12.2"
  }
 },
 "nbformat": 4,
 "nbformat_minor": 2
}
