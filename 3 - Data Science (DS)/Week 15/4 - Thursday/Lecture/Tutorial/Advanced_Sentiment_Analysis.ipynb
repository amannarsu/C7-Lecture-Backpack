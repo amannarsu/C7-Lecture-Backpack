{
 "cells": [
  {
   "cell_type": "markdown",
   "metadata": {},
   "source": [
    "# Sentiment Analysis with spaCy and Advanced Models\n",
    "\n",
    "## Introduction\n",
    "\n",
    "This notebook demonstrates an improved approach to sentiment analysis using natural language processing (NLP) with the spaCy library and more advanced machine learning models. The goal is to accurately classify text as expressing positive or negative sentiment.\n"
   ]
  },
  {
   "cell_type": "code",
   "execution_count": 167,
   "metadata": {},
   "outputs": [],
   "source": [
    "import os"
   ]
  },
  {
   "cell_type": "code",
   "execution_count": 168,
   "metadata": {},
   "outputs": [
    {
     "name": "stderr",
     "output_type": "stream",
     "text": [
      "/Library/Frameworks/Python.framework/Versions/3.11/lib/python3.11/pty.py:89: RuntimeWarning: os.fork() was called. os.fork() is incompatible with multithreaded code, and JAX is multithreaded, so this will likely lead to a deadlock.\n",
      "  pid, fd = os.forkpty()\n"
     ]
    },
    {
     "name": "stdout",
     "output_type": "stream",
     "text": [
      "Requirement already satisfied: torch in /Library/Frameworks/Python.framework/Versions/3.11/lib/python3.11/site-packages (2.2.0)\n",
      "Requirement already satisfied: transformers in /Library/Frameworks/Python.framework/Versions/3.11/lib/python3.11/site-packages (4.40.2)\n",
      "Requirement already satisfied: filelock in /Library/Frameworks/Python.framework/Versions/3.11/lib/python3.11/site-packages (from torch) (3.13.1)\n",
      "Requirement already satisfied: typing-extensions>=4.8.0 in /Library/Frameworks/Python.framework/Versions/3.11/lib/python3.11/site-packages (from torch) (4.11.0)\n",
      "Requirement already satisfied: sympy in /Library/Frameworks/Python.framework/Versions/3.11/lib/python3.11/site-packages (from torch) (1.12)\n",
      "Requirement already satisfied: networkx in /Library/Frameworks/Python.framework/Versions/3.11/lib/python3.11/site-packages (from torch) (3.2.1)\n",
      "Requirement already satisfied: jinja2 in /Library/Frameworks/Python.framework/Versions/3.11/lib/python3.11/site-packages (from torch) (3.1.3)\n",
      "Requirement already satisfied: fsspec in /Library/Frameworks/Python.framework/Versions/3.11/lib/python3.11/site-packages (from torch) (2024.2.0)\n",
      "Requirement already satisfied: huggingface-hub<1.0,>=0.19.3 in /Library/Frameworks/Python.framework/Versions/3.11/lib/python3.11/site-packages (from transformers) (0.23.0)\n",
      "Requirement already satisfied: numpy>=1.17 in /Library/Frameworks/Python.framework/Versions/3.11/lib/python3.11/site-packages (from transformers) (1.26.4)\n",
      "Requirement already satisfied: packaging>=20.0 in /Library/Frameworks/Python.framework/Versions/3.11/lib/python3.11/site-packages (from transformers) (23.2)\n",
      "Requirement already satisfied: pyyaml>=5.1 in /Library/Frameworks/Python.framework/Versions/3.11/lib/python3.11/site-packages (from transformers) (6.0.1)\n",
      "Requirement already satisfied: regex!=2019.12.17 in /Library/Frameworks/Python.framework/Versions/3.11/lib/python3.11/site-packages (from transformers) (2023.12.25)\n",
      "Requirement already satisfied: requests in /Library/Frameworks/Python.framework/Versions/3.11/lib/python3.11/site-packages (from transformers) (2.31.0)\n",
      "Requirement already satisfied: tokenizers<0.20,>=0.19 in /Library/Frameworks/Python.framework/Versions/3.11/lib/python3.11/site-packages (from transformers) (0.19.1)\n",
      "Requirement already satisfied: safetensors>=0.4.1 in /Library/Frameworks/Python.framework/Versions/3.11/lib/python3.11/site-packages (from transformers) (0.4.2)\n",
      "Requirement already satisfied: tqdm>=4.27 in /Library/Frameworks/Python.framework/Versions/3.11/lib/python3.11/site-packages (from transformers) (4.66.1)\n",
      "Requirement already satisfied: MarkupSafe>=2.0 in /Library/Frameworks/Python.framework/Versions/3.11/lib/python3.11/site-packages (from jinja2->torch) (2.1.5)\n",
      "Requirement already satisfied: charset-normalizer<4,>=2 in /Library/Frameworks/Python.framework/Versions/3.11/lib/python3.11/site-packages (from requests->transformers) (3.3.2)\n",
      "Requirement already satisfied: idna<4,>=2.5 in /Library/Frameworks/Python.framework/Versions/3.11/lib/python3.11/site-packages (from requests->transformers) (3.6)\n",
      "Requirement already satisfied: urllib3<3,>=1.21.1 in /Library/Frameworks/Python.framework/Versions/3.11/lib/python3.11/site-packages (from requests->transformers) (1.26.18)\n",
      "Requirement already satisfied: certifi>=2017.4.17 in /Library/Frameworks/Python.framework/Versions/3.11/lib/python3.11/site-packages (from requests->transformers) (2024.2.2)\n",
      "Requirement already satisfied: mpmath>=0.19 in /Library/Frameworks/Python.framework/Versions/3.11/lib/python3.11/site-packages (from sympy->torch) (1.3.0)\n"
     ]
    }
   ],
   "source": [
    "!pip install torch transformers"
   ]
  },
  {
   "cell_type": "code",
   "execution_count": 169,
   "metadata": {},
   "outputs": [],
   "source": [
    "import spacy\n",
    "import pandas as pd\n",
    "from sklearn.model_selection import train_test_split\n",
    "from sklearn.feature_extraction.text import TfidfVectorizer\n",
    "from sklearn.linear_model import LogisticRegression\n",
    "from sklearn.ensemble import RandomForestClassifier \n",
    "from sklearn.svm import LinearSVC\n",
    "from sklearn.metrics import accuracy_score, classification_report\n",
    "import tensorflow as tf\n",
    "from transformers import AutoTokenizer, AutoModelForSequenceClassification, Trainer, TrainingArguments\n",
    "import torch"
   ]
  },
  {
   "cell_type": "code",
   "execution_count": 170,
   "metadata": {},
   "outputs": [],
   "source": [
    "df_train = pd.read_csv(\"emotions_train_data.txt\", sep=\";\", names=[\"text\", \"emotion\"])\n",
    "df_test = pd.read_csv(\"emotions_test_data.txt\", sep=\";\", names=[\"text\", \"emotion\"])"
   ]
  },
  {
   "cell_type": "code",
   "execution_count": 171,
   "metadata": {},
   "outputs": [],
   "source": [
    "# Preprocess text with spaCy\n",
    "nlp = spacy.load(\"en_core_web_lg\")"
   ]
  },
  {
   "cell_type": "code",
   "execution_count": 172,
   "metadata": {},
   "outputs": [
    {
     "data": {
      "text/html": [
       "<div>\n",
       "<style scoped>\n",
       "    .dataframe tbody tr th:only-of-type {\n",
       "        vertical-align: middle;\n",
       "    }\n",
       "\n",
       "    .dataframe tbody tr th {\n",
       "        vertical-align: top;\n",
       "    }\n",
       "\n",
       "    .dataframe thead th {\n",
       "        text-align: right;\n",
       "    }\n",
       "</style>\n",
       "<table border=\"1\" class=\"dataframe\">\n",
       "  <thead>\n",
       "    <tr style=\"text-align: right;\">\n",
       "      <th></th>\n",
       "      <th>text</th>\n",
       "      <th>emotion</th>\n",
       "    </tr>\n",
       "  </thead>\n",
       "  <tbody>\n",
       "    <tr>\n",
       "      <th>0</th>\n",
       "      <td>im feeling quite sad and sorry for myself but ...</td>\n",
       "      <td>sadness</td>\n",
       "    </tr>\n",
       "    <tr>\n",
       "      <th>1</th>\n",
       "      <td>i feel like i am still looking at a blank canv...</td>\n",
       "      <td>sadness</td>\n",
       "    </tr>\n",
       "    <tr>\n",
       "      <th>2</th>\n",
       "      <td>i feel like a faithful servant</td>\n",
       "      <td>love</td>\n",
       "    </tr>\n",
       "    <tr>\n",
       "      <th>3</th>\n",
       "      <td>i am just feeling cranky and blue</td>\n",
       "      <td>anger</td>\n",
       "    </tr>\n",
       "    <tr>\n",
       "      <th>4</th>\n",
       "      <td>i can have for a treat or if i am feeling festive</td>\n",
       "      <td>joy</td>\n",
       "    </tr>\n",
       "  </tbody>\n",
       "</table>\n",
       "</div>"
      ],
      "text/plain": [
       "                                                text  emotion\n",
       "0  im feeling quite sad and sorry for myself but ...  sadness\n",
       "1  i feel like i am still looking at a blank canv...  sadness\n",
       "2                     i feel like a faithful servant     love\n",
       "3                  i am just feeling cranky and blue    anger\n",
       "4  i can have for a treat or if i am feeling festive      joy"
      ]
     },
     "execution_count": 172,
     "metadata": {},
     "output_type": "execute_result"
    }
   ],
   "source": [
    "df_train.head()"
   ]
  },
  {
   "cell_type": "code",
   "execution_count": 173,
   "metadata": {},
   "outputs": [],
   "source": [
    "def preprocess(text):\n",
    "    doc = nlp(text)\n",
    "    \n",
    "    tokens = [] \n",
    "    for token in doc:\n",
    "        if not token.is_punct and not token.is_space and not token.like_num:\n",
    "            tokens.append(token.lemma_.lower())\n",
    "\n",
    "    return \" \".join(tokens)"
   ]
  },
  {
   "cell_type": "code",
   "execution_count": 174,
   "metadata": {},
   "outputs": [],
   "source": [
    "df_train['preprocessed_text'] = df_train['text'].apply(preprocess) "
   ]
  },
  {
   "cell_type": "code",
   "execution_count": 175,
   "metadata": {},
   "outputs": [],
   "source": [
    "# Split train data into train and validation\n",
    "X_train, X_val, y_train, y_val = train_test_split(df_train['preprocessed_text'], df_train['emotion'], test_size=0.2, random_state=42)"
   ]
  },
  {
   "cell_type": "code",
   "execution_count": 176,
   "metadata": {},
   "outputs": [],
   "source": [
    "vectorizer = TfidfVectorizer()\n",
    "X_train_vect = vectorizer.fit_transform(X_train) \n",
    "X_val_vect = vectorizer.transform(X_val)"
   ]
  },
  {
   "cell_type": "code",
   "execution_count": 177,
   "metadata": {},
   "outputs": [
    {
     "name": "stdout",
     "output_type": "stream",
     "text": [
      "LogisticRegression Accuracy: 0.537\n",
      "              precision    recall  f1-score   support\n",
      "\n",
      "       anger       0.78      0.27      0.41        51\n",
      "        fear       0.73      0.17      0.28        46\n",
      "         joy       0.48      0.91      0.63       127\n",
      "        love       1.00      0.02      0.04        46\n",
      "     sadness       0.60      0.64      0.62       118\n",
      "    surprise       0.00      0.00      0.00        12\n",
      "\n",
      "    accuracy                           0.54       400\n",
      "   macro avg       0.60      0.34      0.33       400\n",
      "weighted avg       0.63      0.54      0.47       400\n",
      "\n"
     ]
    },
    {
     "name": "stderr",
     "output_type": "stream",
     "text": [
      "/Library/Frameworks/Python.framework/Versions/3.11/lib/python3.11/site-packages/sklearn/metrics/_classification.py:1509: UndefinedMetricWarning: Precision is ill-defined and being set to 0.0 in labels with no predicted samples. Use `zero_division` parameter to control this behavior.\n",
      "  _warn_prf(average, modifier, f\"{metric.capitalize()} is\", len(result))\n",
      "/Library/Frameworks/Python.framework/Versions/3.11/lib/python3.11/site-packages/sklearn/metrics/_classification.py:1509: UndefinedMetricWarning: Precision is ill-defined and being set to 0.0 in labels with no predicted samples. Use `zero_division` parameter to control this behavior.\n",
      "  _warn_prf(average, modifier, f\"{metric.capitalize()} is\", len(result))\n",
      "/Library/Frameworks/Python.framework/Versions/3.11/lib/python3.11/site-packages/sklearn/metrics/_classification.py:1509: UndefinedMetricWarning: Precision is ill-defined and being set to 0.0 in labels with no predicted samples. Use `zero_division` parameter to control this behavior.\n",
      "  _warn_prf(average, modifier, f\"{metric.capitalize()} is\", len(result))\n"
     ]
    },
    {
     "name": "stdout",
     "output_type": "stream",
     "text": [
      "RandomForestClassifier Accuracy: 0.517\n",
      "              precision    recall  f1-score   support\n",
      "\n",
      "       anger       0.86      0.35      0.50        51\n",
      "        fear       0.74      0.30      0.43        46\n",
      "         joy       0.43      0.91      0.58       127\n",
      "        love       0.89      0.17      0.29        46\n",
      "     sadness       0.61      0.39      0.47       118\n",
      "    surprise       1.00      0.50      0.67        12\n",
      "\n",
      "    accuracy                           0.52       400\n",
      "   macro avg       0.75      0.44      0.49       400\n",
      "weighted avg       0.64      0.52      0.49       400\n",
      "\n",
      "LinearSVC Accuracy: 0.720\n",
      "              precision    recall  f1-score   support\n",
      "\n",
      "       anger       0.80      0.73      0.76        51\n",
      "        fear       0.77      0.59      0.67        46\n",
      "         joy       0.65      0.86      0.74       127\n",
      "        love       0.88      0.46      0.60        46\n",
      "     sadness       0.74      0.73      0.73       118\n",
      "    surprise       0.73      0.67      0.70        12\n",
      "\n",
      "    accuracy                           0.72       400\n",
      "   macro avg       0.76      0.67      0.70       400\n",
      "weighted avg       0.74      0.72      0.72       400\n",
      "\n"
     ]
    },
    {
     "name": "stderr",
     "output_type": "stream",
     "text": [
      "/Library/Frameworks/Python.framework/Versions/3.11/lib/python3.11/site-packages/sklearn/svm/_classes.py:31: FutureWarning: The default value of `dual` will change from `True` to `'auto'` in 1.5. Set the value of `dual` explicitly to suppress the warning.\n",
      "  warnings.warn(\n"
     ]
    }
   ],
   "source": [
    "# Train and evaluate models\n",
    "def evaluate_model(model):\n",
    "    model.fit(X_train_vect, y_train)\n",
    "    preds = model.predict(X_val_vect)\n",
    "    print(f\"{type(model).__name__} Accuracy: {accuracy_score(y_val, preds):.3f}\")\n",
    "    print(classification_report(y_val, preds))\n",
    "\n",
    "models = [\n",
    "    LogisticRegression(max_iter=1000),\n",
    "    RandomForestClassifier(),\n",
    "    LinearSVC()\n",
    "]\n",
    "\n",
    "for model in models:\n",
    "    evaluate_model(model)"
   ]
  },
  {
   "cell_type": "markdown",
   "metadata": {},
   "source": [
    "# Deep Learning with BERT"
   ]
  },
  {
   "cell_type": "code",
   "execution_count": 178,
   "metadata": {},
   "outputs": [],
   "source": [
    "# df with train and test sets\n",
    "df = pd.concat([df_train, df_test])"
   ]
  },
  {
   "cell_type": "code",
   "execution_count": 179,
   "metadata": {},
   "outputs": [
    {
     "data": {
      "text/plain": [
       "array(['sadness', 'love', 'anger', 'joy', 'fear', 'surprise'],\n",
       "      dtype=object)"
      ]
     },
     "execution_count": 179,
     "metadata": {},
     "output_type": "execute_result"
    }
   ],
   "source": [
    "df['emotion'].unique()"
   ]
  },
  {
   "cell_type": "code",
   "execution_count": 180,
   "metadata": {},
   "outputs": [
    {
     "name": "stderr",
     "output_type": "stream",
     "text": [
      "/Library/Frameworks/Python.framework/Versions/3.11/lib/python3.11/site-packages/huggingface_hub/file_download.py:1132: FutureWarning: `resume_download` is deprecated and will be removed in version 1.0.0. Downloads always resume when possible. If you want to force a new download, use `force_download=True`.\n",
      "  warnings.warn(\n",
      "Some weights of BertForSequenceClassification were not initialized from the model checkpoint at bert-base-uncased and are newly initialized: ['classifier.bias', 'classifier.weight']\n",
      "You should probably TRAIN this model on a down-stream task to be able to use it for predictions and inference.\n"
     ]
    }
   ],
   "source": [
    "# Load BERT model and tokenizer \n",
    "model_name = \"bert-base-uncased\"\n",
    "tokenizer = AutoTokenizer.from_pretrained(model_name)\n",
    "model = AutoModelForSequenceClassification.from_pretrained(model_name, num_labels=2)"
   ]
  },
  {
   "cell_type": "code",
   "execution_count": 181,
   "metadata": {},
   "outputs": [],
   "source": [
    "def emotion_encoder(df):\n",
    "    df.replace(\"surprise\", 1, inplace=True)\n",
    "    df.replace(\"love\", 1, inplace=True)\n",
    "    df.replace(\"joy\", 1, inplace=True)\n",
    "    df.replace(\"fear\", 0, inplace=True)\n",
    "    df.replace(\"anger\", 0, inplace=True)\n",
    "    df.replace(\"sadness\", 0, inplace=True)"
   ]
  },
  {
   "cell_type": "code",
   "execution_count": 182,
   "metadata": {},
   "outputs": [
    {
     "name": "stderr",
     "output_type": "stream",
     "text": [
      "/var/folders/3q/r2zc74911hn2f967w656zszm0000gn/T/ipykernel_34363/2398407963.py:7: FutureWarning: Downcasting behavior in `replace` is deprecated and will be removed in a future version. To retain the old behavior, explicitly call `result.infer_objects(copy=False)`. To opt-in to the future behavior, set `pd.set_option('future.no_silent_downcasting', True)`\n",
      "  df.replace(\"sadness\", 0, inplace=True)\n"
     ]
    }
   ],
   "source": [
    "X = df['text']\n",
    "y = df['emotion']\n",
    "emotion_encoder(y)\n",
    "X_train, X_test, y_train, y_test = train_test_split(X, y, test_size=0.2, random_state=42)"
   ]
  },
  {
   "cell_type": "code",
   "execution_count": 183,
   "metadata": {},
   "outputs": [
    {
     "data": {
      "text/plain": [
       "1994                             i can feel its suffering\n",
       "423     i enjoyed it for the most part for an entertai...\n",
       "991     ive had a few rough days since then and in the...\n",
       "1221    i can say is that despite my occasional jokes ...\n",
       "506     i dont come from a perfect past i come from a ...\n",
       "Name: text, dtype: object"
      ]
     },
     "execution_count": 183,
     "metadata": {},
     "output_type": "execute_result"
    }
   ],
   "source": [
    "X_train.head()"
   ]
  },
  {
   "cell_type": "code",
   "execution_count": 184,
   "metadata": {},
   "outputs": [],
   "source": [
    "def tokenize(text):\n",
    "    return tokenizer(text, padding=True, truncation=True, return_tensors='pt')"
   ]
  },
  {
   "cell_type": "code",
   "execution_count": 185,
   "metadata": {},
   "outputs": [],
   "source": [
    "import torch\n",
    "from torch.utils.data import DataLoader, TensorDataset\n",
    "from sklearn.metrics import accuracy_score\n",
    "from transformers import TrainingArguments"
   ]
  },
  {
   "cell_type": "code",
   "execution_count": 186,
   "metadata": {},
   "outputs": [],
   "source": [
    "train_encodings = tokenize(X_train.tolist())\n",
    "train_labels = torch.tensor(y_train.tolist())\n",
    "train_dataset = TensorDataset(train_encodings['input_ids'].squeeze(), \n",
    "                              train_encodings['attention_mask'].squeeze(), \n",
    "                              train_labels)"
   ]
  },
  {
   "cell_type": "code",
   "execution_count": 187,
   "metadata": {},
   "outputs": [],
   "source": [
    "test_encodings = tokenize(X_test.tolist())\n",
    "test_labels = torch.tensor(y_test.tolist())\n",
    "test_dataset = TensorDataset(test_encodings['input_ids'].squeeze(), \n",
    "                             test_encodings['attention_mask'].squeeze(), \n",
    "                             test_labels)"
   ]
  },
  {
   "cell_type": "code",
   "execution_count": 188,
   "metadata": {},
   "outputs": [],
   "source": [
    "def compute_metrics(pred):\n",
    "    labels = pred.label_ids\n",
    "    preds = pred.predictions.argmax(-1)\n",
    "    acc = accuracy_score(labels, preds)\n",
    "    return {'accuracy': acc}"
   ]
  },
  {
   "cell_type": "code",
   "execution_count": 189,
   "metadata": {},
   "outputs": [],
   "source": [
    "training_args = TrainingArguments(\n",
    "    output_dir='./results',\n",
    "    num_train_epochs=3,\n",
    "    per_device_train_batch_size=16,\n",
    "    per_device_eval_batch_size=64,\n",
    "    warmup_steps=500,\n",
    "    weight_decay=0.01,\n",
    "    logging_dir='./logs',\n",
    "    logging_steps=10,\n",
    "    evaluation_strategy='epoch',\n",
    "    save_strategy='epoch',\n",
    "    load_best_model_at_end=True,\n",
    "    metric_for_best_model='accuracy'\n",
    ")"
   ]
  },
  {
   "cell_type": "code",
   "execution_count": 190,
   "metadata": {},
   "outputs": [],
   "source": [
    "trainer = Trainer(\n",
    "    model=model,\n",
    "    args=training_args,\n",
    "    train_dataset=train_dataset,\n",
    "    eval_dataset=test_dataset,\n",
    "    data_collator=lambda data: {\n",
    "        'input_ids': torch.stack([f[0] for f in data]),\n",
    "        'attention_mask': torch.stack([f[1] for f in data]),\n",
    "        'labels': torch.stack([f[2] for f in data])\n",
    "    },\n",
    "    compute_metrics=compute_metrics\n",
    ")"
   ]
  },
  {
   "cell_type": "code",
   "execution_count": 191,
   "metadata": {},
   "outputs": [],
   "source": [
    "import matplotlib.pyplot as plt"
   ]
  },
  {
   "cell_type": "code",
   "execution_count": 192,
   "metadata": {},
   "outputs": [
    {
     "data": {
      "application/vnd.jupyter.widget-view+json": {
       "model_id": "781a2c82620b423abb3132ddd1b91602",
       "version_major": 2,
       "version_minor": 0
      },
      "text/plain": [
       "  0%|          | 0/600 [00:00<?, ?it/s]"
      ]
     },
     "metadata": {},
     "output_type": "display_data"
    },
    {
     "name": "stdout",
     "output_type": "stream",
     "text": [
      "{'loss': 0.6852, 'grad_norm': 2.6639270782470703, 'learning_rate': 1.0000000000000002e-06, 'epoch': 0.05}\n",
      "{'loss': 0.6766, 'grad_norm': 3.354004383087158, 'learning_rate': 2.0000000000000003e-06, 'epoch': 0.1}\n",
      "{'loss': 0.6764, 'grad_norm': 6.876368522644043, 'learning_rate': 3e-06, 'epoch': 0.15}\n",
      "{'loss': 0.676, 'grad_norm': 4.261921405792236, 'learning_rate': 4.000000000000001e-06, 'epoch': 0.2}\n",
      "{'loss': 0.6633, 'grad_norm': 3.2776224613189697, 'learning_rate': 5e-06, 'epoch': 0.25}\n",
      "{'loss': 0.6803, 'grad_norm': 3.8334760665893555, 'learning_rate': 6e-06, 'epoch': 0.3}\n",
      "{'loss': 0.6475, 'grad_norm': 4.2269792556762695, 'learning_rate': 7.000000000000001e-06, 'epoch': 0.35}\n",
      "{'loss': 0.596, 'grad_norm': 4.403768539428711, 'learning_rate': 8.000000000000001e-06, 'epoch': 0.4}\n",
      "{'loss': 0.6157, 'grad_norm': 5.645909786224365, 'learning_rate': 9e-06, 'epoch': 0.45}\n",
      "{'loss': 0.5282, 'grad_norm': 7.8805694580078125, 'learning_rate': 1e-05, 'epoch': 0.5}\n",
      "{'loss': 0.4813, 'grad_norm': 7.894132614135742, 'learning_rate': 1.1000000000000001e-05, 'epoch': 0.55}\n",
      "{'loss': 0.4326, 'grad_norm': 7.958807468414307, 'learning_rate': 1.2e-05, 'epoch': 0.6}\n",
      "{'loss': 0.3497, 'grad_norm': 10.638071060180664, 'learning_rate': 1.3000000000000001e-05, 'epoch': 0.65}\n",
      "{'loss': 0.3461, 'grad_norm': 10.625609397888184, 'learning_rate': 1.4000000000000001e-05, 'epoch': 0.7}\n",
      "{'loss': 0.3977, 'grad_norm': 11.352241516113281, 'learning_rate': 1.5e-05, 'epoch': 0.75}\n",
      "{'loss': 0.2859, 'grad_norm': 8.795389175415039, 'learning_rate': 1.6000000000000003e-05, 'epoch': 0.8}\n",
      "{'loss': 0.2411, 'grad_norm': 1.830962896347046, 'learning_rate': 1.7000000000000003e-05, 'epoch': 0.85}\n",
      "{'loss': 0.2993, 'grad_norm': 6.612433910369873, 'learning_rate': 1.8e-05, 'epoch': 0.9}\n",
      "{'loss': 0.2675, 'grad_norm': 6.210135459899902, 'learning_rate': 1.9e-05, 'epoch': 0.95}\n",
      "{'loss': 0.1986, 'grad_norm': 5.465551853179932, 'learning_rate': 2e-05, 'epoch': 1.0}\n"
     ]
    },
    {
     "data": {
      "application/vnd.jupyter.widget-view+json": {
       "model_id": "5679b80ebee842eb9bd7287cf2cd0a4f",
       "version_major": 2,
       "version_minor": 0
      },
      "text/plain": [
       "  0%|          | 0/13 [00:00<?, ?it/s]"
      ]
     },
     "metadata": {},
     "output_type": "display_data"
    },
    {
     "name": "stdout",
     "output_type": "stream",
     "text": [
      "{'eval_loss': 0.23190684616565704, 'eval_accuracy': 0.9125, 'eval_runtime': 3.3337, 'eval_samples_per_second': 239.975, 'eval_steps_per_second': 3.9, 'epoch': 1.0}\n",
      "{'loss': 0.211, 'grad_norm': 27.060714721679688, 'learning_rate': 2.1e-05, 'epoch': 1.05}\n",
      "{'loss': 0.2381, 'grad_norm': 0.6855459213256836, 'learning_rate': 2.2000000000000003e-05, 'epoch': 1.1}\n",
      "{'loss': 0.1684, 'grad_norm': 15.897706031799316, 'learning_rate': 2.3000000000000003e-05, 'epoch': 1.15}\n",
      "{'loss': 0.2515, 'grad_norm': 17.633901596069336, 'learning_rate': 2.4e-05, 'epoch': 1.2}\n",
      "{'loss': 0.1578, 'grad_norm': 3.5272114276885986, 'learning_rate': 2.5e-05, 'epoch': 1.25}\n",
      "{'loss': 0.2067, 'grad_norm': 2.7488150596618652, 'learning_rate': 2.6000000000000002e-05, 'epoch': 1.3}\n",
      "{'loss': 0.2378, 'grad_norm': 6.536069869995117, 'learning_rate': 2.7000000000000002e-05, 'epoch': 1.35}\n",
      "{'loss': 0.3257, 'grad_norm': 23.541215896606445, 'learning_rate': 2.8000000000000003e-05, 'epoch': 1.4}\n",
      "{'loss': 0.1766, 'grad_norm': 16.404216766357422, 'learning_rate': 2.9e-05, 'epoch': 1.45}\n",
      "{'loss': 0.2001, 'grad_norm': 0.8578628897666931, 'learning_rate': 3e-05, 'epoch': 1.5}\n",
      "{'loss': 0.1513, 'grad_norm': 0.6344371438026428, 'learning_rate': 3.1e-05, 'epoch': 1.55}\n",
      "{'loss': 0.0628, 'grad_norm': 0.29157036542892456, 'learning_rate': 3.2000000000000005e-05, 'epoch': 1.6}\n",
      "{'loss': 0.2381, 'grad_norm': 0.18458569049835205, 'learning_rate': 3.3e-05, 'epoch': 1.65}\n",
      "{'loss': 0.2205, 'grad_norm': 16.719810485839844, 'learning_rate': 3.4000000000000007e-05, 'epoch': 1.7}\n",
      "{'loss': 0.3057, 'grad_norm': 8.682601928710938, 'learning_rate': 3.5e-05, 'epoch': 1.75}\n",
      "{'loss': 0.2188, 'grad_norm': 10.327215194702148, 'learning_rate': 3.6e-05, 'epoch': 1.8}\n",
      "{'loss': 0.1463, 'grad_norm': 2.050779104232788, 'learning_rate': 3.7e-05, 'epoch': 1.85}\n",
      "{'loss': 0.1371, 'grad_norm': 4.146822452545166, 'learning_rate': 3.8e-05, 'epoch': 1.9}\n",
      "{'loss': 0.153, 'grad_norm': 2.778669595718384, 'learning_rate': 3.9000000000000006e-05, 'epoch': 1.95}\n",
      "{'loss': 0.1322, 'grad_norm': 79.33501434326172, 'learning_rate': 4e-05, 'epoch': 2.0}\n"
     ]
    },
    {
     "data": {
      "application/vnd.jupyter.widget-view+json": {
       "model_id": "24489d916e2749ceb6055fc4074e4edd",
       "version_major": 2,
       "version_minor": 0
      },
      "text/plain": [
       "  0%|          | 0/13 [00:00<?, ?it/s]"
      ]
     },
     "metadata": {},
     "output_type": "display_data"
    },
    {
     "name": "stdout",
     "output_type": "stream",
     "text": [
      "{'eval_loss': 0.4603135585784912, 'eval_accuracy': 0.9125, 'eval_runtime': 5.0997, 'eval_samples_per_second': 156.873, 'eval_steps_per_second': 2.549, 'epoch': 2.0}\n",
      "{'loss': 0.1355, 'grad_norm': 0.03964046761393547, 'learning_rate': 4.1e-05, 'epoch': 2.05}\n",
      "{'loss': 0.0508, 'grad_norm': 23.591371536254883, 'learning_rate': 4.2e-05, 'epoch': 2.1}\n",
      "{'loss': 0.0337, 'grad_norm': 0.020821575075387955, 'learning_rate': 4.3e-05, 'epoch': 2.15}\n",
      "{'loss': 0.1198, 'grad_norm': 0.03880215436220169, 'learning_rate': 4.4000000000000006e-05, 'epoch': 2.2}\n",
      "{'loss': 0.1466, 'grad_norm': 0.031237458810210228, 'learning_rate': 4.5e-05, 'epoch': 2.25}\n",
      "{'loss': 0.1617, 'grad_norm': 16.071334838867188, 'learning_rate': 4.600000000000001e-05, 'epoch': 2.3}\n",
      "{'loss': 0.0366, 'grad_norm': 0.0850086435675621, 'learning_rate': 4.7e-05, 'epoch': 2.35}\n",
      "{'loss': 0.1512, 'grad_norm': 3.239072561264038, 'learning_rate': 4.8e-05, 'epoch': 2.4}\n",
      "{'loss': 0.1238, 'grad_norm': 0.09656182676553726, 'learning_rate': 4.9e-05, 'epoch': 2.45}\n",
      "{'loss': 0.1054, 'grad_norm': 13.764782905578613, 'learning_rate': 5e-05, 'epoch': 2.5}\n",
      "{'loss': 0.0688, 'grad_norm': 0.8237415552139282, 'learning_rate': 4.5e-05, 'epoch': 2.55}\n",
      "{'loss': 0.0729, 'grad_norm': 0.8251936435699463, 'learning_rate': 4e-05, 'epoch': 2.6}\n",
      "{'loss': 0.0914, 'grad_norm': 0.5457863211631775, 'learning_rate': 3.5e-05, 'epoch': 2.65}\n",
      "{'loss': 0.0556, 'grad_norm': 13.096003532409668, 'learning_rate': 3e-05, 'epoch': 2.7}\n",
      "{'loss': 0.2708, 'grad_norm': 13.364163398742676, 'learning_rate': 2.5e-05, 'epoch': 2.75}\n",
      "{'loss': 0.0614, 'grad_norm': 0.17295442521572113, 'learning_rate': 2e-05, 'epoch': 2.8}\n",
      "{'loss': 0.0737, 'grad_norm': 18.720205307006836, 'learning_rate': 1.5e-05, 'epoch': 2.85}\n",
      "{'loss': 0.0159, 'grad_norm': 1.044136881828308, 'learning_rate': 1e-05, 'epoch': 2.9}\n",
      "{'loss': 0.1007, 'grad_norm': 0.3147313892841339, 'learning_rate': 5e-06, 'epoch': 2.95}\n",
      "{'loss': 0.0032, 'grad_norm': 0.06493548303842545, 'learning_rate': 0.0, 'epoch': 3.0}\n"
     ]
    },
    {
     "data": {
      "application/vnd.jupyter.widget-view+json": {
       "model_id": "f728bde6108b49ddbdc4b18fb6d995a7",
       "version_major": 2,
       "version_minor": 0
      },
      "text/plain": [
       "  0%|          | 0/13 [00:00<?, ?it/s]"
      ]
     },
     "metadata": {},
     "output_type": "display_data"
    },
    {
     "name": "stdout",
     "output_type": "stream",
     "text": [
      "{'eval_loss': 0.1672716587781906, 'eval_accuracy': 0.96375, 'eval_runtime': 5.1745, 'eval_samples_per_second': 154.604, 'eval_steps_per_second': 2.512, 'epoch': 3.0}\n",
      "{'train_runtime': 295.1663, 'train_samples_per_second': 32.524, 'train_steps_per_second': 2.033, 'train_loss': 0.25939955286681654, 'epoch': 3.0}\n"
     ]
    },
    {
     "data": {
      "application/vnd.jupyter.widget-view+json": {
       "model_id": "701b2aa0c0e1442bb70b8489592b2f34",
       "version_major": 2,
       "version_minor": 0
      },
      "text/plain": [
       "  0%|          | 0/50 [00:00<?, ?it/s]"
      ]
     },
     "metadata": {},
     "output_type": "display_data"
    },
    {
     "data": {
      "application/vnd.jupyter.widget-view+json": {
       "model_id": "377f67b96cf747a6ab0ae0fb341fc891",
       "version_major": 2,
       "version_minor": 0
      },
      "text/plain": [
       "  0%|          | 0/13 [00:00<?, ?it/s]"
      ]
     },
     "metadata": {},
     "output_type": "display_data"
    },
    {
     "data": {
      "application/vnd.jupyter.widget-view+json": {
       "model_id": "dbbec08101484c3c8b51dc009277625f",
       "version_major": 2,
       "version_minor": 0
      },
      "text/plain": [
       "  0%|          | 0/600 [00:00<?, ?it/s]"
      ]
     },
     "metadata": {},
     "output_type": "display_data"
    },
    {
     "name": "stdout",
     "output_type": "stream",
     "text": [
      "{'loss': 0.0037, 'grad_norm': 0.23024585843086243, 'learning_rate': 1.0000000000000002e-06, 'epoch': 0.05}\n",
      "{'loss': 0.1698, 'grad_norm': 0.10144111514091492, 'learning_rate': 2.0000000000000003e-06, 'epoch': 0.1}\n",
      "{'loss': 0.0173, 'grad_norm': 0.1675126701593399, 'learning_rate': 3e-06, 'epoch': 0.15}\n",
      "{'loss': 0.0945, 'grad_norm': 0.08269160985946655, 'learning_rate': 4.000000000000001e-06, 'epoch': 0.2}\n",
      "{'loss': 0.0472, 'grad_norm': 0.12772656977176666, 'learning_rate': 5e-06, 'epoch': 0.25}\n",
      "{'loss': 0.0288, 'grad_norm': 0.08249914646148682, 'learning_rate': 6e-06, 'epoch': 0.3}\n",
      "{'loss': 0.058, 'grad_norm': 0.12176298350095749, 'learning_rate': 7.000000000000001e-06, 'epoch': 0.35}\n",
      "{'loss': 0.0431, 'grad_norm': 0.09820094704627991, 'learning_rate': 8.000000000000001e-06, 'epoch': 0.4}\n",
      "{'loss': 0.0362, 'grad_norm': 0.11015710234642029, 'learning_rate': 9e-06, 'epoch': 0.45}\n",
      "{'loss': 0.0333, 'grad_norm': 0.2813843786716461, 'learning_rate': 1e-05, 'epoch': 0.5}\n",
      "{'loss': 0.0245, 'grad_norm': 0.035140346735715866, 'learning_rate': 1.1000000000000001e-05, 'epoch': 0.55}\n",
      "{'loss': 0.0337, 'grad_norm': 0.09100378304719925, 'learning_rate': 1.2e-05, 'epoch': 0.6}\n",
      "{'loss': 0.0455, 'grad_norm': 0.06023105978965759, 'learning_rate': 1.3000000000000001e-05, 'epoch': 0.65}\n",
      "{'loss': 0.0216, 'grad_norm': 0.04199984297156334, 'learning_rate': 1.4000000000000001e-05, 'epoch': 0.7}\n",
      "{'loss': 0.0479, 'grad_norm': 6.002177715301514, 'learning_rate': 1.5e-05, 'epoch': 0.75}\n",
      "{'loss': 0.0078, 'grad_norm': 0.04291197285056114, 'learning_rate': 1.6000000000000003e-05, 'epoch': 0.8}\n",
      "{'loss': 0.0368, 'grad_norm': 0.030639270320534706, 'learning_rate': 1.7000000000000003e-05, 'epoch': 0.85}\n",
      "{'loss': 0.04, 'grad_norm': 0.03514343872666359, 'learning_rate': 1.8e-05, 'epoch': 0.9}\n",
      "{'loss': 0.0317, 'grad_norm': 0.029171640053391457, 'learning_rate': 1.9e-05, 'epoch': 0.95}\n",
      "{'loss': 0.0015, 'grad_norm': 0.042591556906700134, 'learning_rate': 2e-05, 'epoch': 1.0}\n"
     ]
    },
    {
     "data": {
      "application/vnd.jupyter.widget-view+json": {
       "model_id": "abce99bed4df4b2597f551c29aa79019",
       "version_major": 2,
       "version_minor": 0
      },
      "text/plain": [
       "  0%|          | 0/13 [00:00<?, ?it/s]"
      ]
     },
     "metadata": {},
     "output_type": "display_data"
    },
    {
     "name": "stdout",
     "output_type": "stream",
     "text": [
      "{'eval_loss': 0.13554435968399048, 'eval_accuracy': 0.96875, 'eval_runtime': 5.9563, 'eval_samples_per_second': 134.311, 'eval_steps_per_second': 2.183, 'epoch': 1.0}\n",
      "{'loss': 0.0128, 'grad_norm': 0.03640688210725784, 'learning_rate': 2.1e-05, 'epoch': 1.05}\n",
      "{'loss': 0.0765, 'grad_norm': 0.028199410066008568, 'learning_rate': 2.2000000000000003e-05, 'epoch': 1.1}\n",
      "{'loss': 0.0592, 'grad_norm': 9.166186332702637, 'learning_rate': 2.3000000000000003e-05, 'epoch': 1.15}\n",
      "{'loss': 0.0472, 'grad_norm': 0.030496567487716675, 'learning_rate': 2.4e-05, 'epoch': 1.2}\n",
      "{'loss': 0.0013, 'grad_norm': 0.029266804456710815, 'learning_rate': 2.5e-05, 'epoch': 1.25}\n",
      "{'loss': 0.0017, 'grad_norm': 0.5653159022331238, 'learning_rate': 2.6000000000000002e-05, 'epoch': 1.3}\n",
      "{'loss': 0.0613, 'grad_norm': 0.029508575797080994, 'learning_rate': 2.7000000000000002e-05, 'epoch': 1.35}\n",
      "{'loss': 0.0402, 'grad_norm': 6.839600563049316, 'learning_rate': 2.8000000000000003e-05, 'epoch': 1.4}\n",
      "{'loss': 0.0375, 'grad_norm': 0.015888504683971405, 'learning_rate': 2.9e-05, 'epoch': 1.45}\n",
      "{'loss': 0.112, 'grad_norm': 0.026246000081300735, 'learning_rate': 3e-05, 'epoch': 1.5}\n",
      "{'loss': 0.02, 'grad_norm': 0.03708137199282646, 'learning_rate': 3.1e-05, 'epoch': 1.55}\n",
      "{'loss': 0.0012, 'grad_norm': 0.01931643858551979, 'learning_rate': 3.2000000000000005e-05, 'epoch': 1.6}\n",
      "{'loss': 0.0012, 'grad_norm': 0.02443835139274597, 'learning_rate': 3.3e-05, 'epoch': 1.65}\n",
      "{'loss': 0.128, 'grad_norm': 0.025931883603334427, 'learning_rate': 3.4000000000000007e-05, 'epoch': 1.7}\n",
      "{'loss': 0.0106, 'grad_norm': 0.060957785695791245, 'learning_rate': 3.5e-05, 'epoch': 1.75}\n",
      "{'loss': 0.0091, 'grad_norm': 0.031075485050678253, 'learning_rate': 3.6e-05, 'epoch': 1.8}\n",
      "{'loss': 0.0623, 'grad_norm': 7.654850959777832, 'learning_rate': 3.7e-05, 'epoch': 1.85}\n",
      "{'loss': 0.0018, 'grad_norm': 0.3010477125644684, 'learning_rate': 3.8e-05, 'epoch': 1.9}\n",
      "{'loss': 0.0467, 'grad_norm': 0.01551561988890171, 'learning_rate': 3.9000000000000006e-05, 'epoch': 1.95}\n",
      "{'loss': 0.0005, 'grad_norm': 0.02001611702144146, 'learning_rate': 4e-05, 'epoch': 2.0}\n"
     ]
    },
    {
     "data": {
      "application/vnd.jupyter.widget-view+json": {
       "model_id": "5d508c5e0cc645e69ecca2cbc33e3f69",
       "version_major": 2,
       "version_minor": 0
      },
      "text/plain": [
       "  0%|          | 0/13 [00:00<?, ?it/s]"
      ]
     },
     "metadata": {},
     "output_type": "display_data"
    },
    {
     "name": "stdout",
     "output_type": "stream",
     "text": [
      "{'eval_loss': 0.158932164311409, 'eval_accuracy': 0.96875, 'eval_runtime': 5.0744, 'eval_samples_per_second': 157.655, 'eval_steps_per_second': 2.562, 'epoch': 2.0}\n",
      "{'loss': 0.0168, 'grad_norm': 0.013079273514449596, 'learning_rate': 4.1e-05, 'epoch': 2.05}\n",
      "{'loss': 0.0005, 'grad_norm': 0.010739767923951149, 'learning_rate': 4.2e-05, 'epoch': 2.1}\n",
      "{'loss': 0.0004, 'grad_norm': 0.00867974292486906, 'learning_rate': 4.3e-05, 'epoch': 2.15}\n",
      "{'loss': 0.0003, 'grad_norm': 0.006657504942268133, 'learning_rate': 4.4000000000000006e-05, 'epoch': 2.2}\n",
      "{'loss': 0.0332, 'grad_norm': 3.528726100921631, 'learning_rate': 4.5e-05, 'epoch': 2.25}\n",
      "{'loss': 0.0003, 'grad_norm': 0.008204374462366104, 'learning_rate': 4.600000000000001e-05, 'epoch': 2.3}\n",
      "{'loss': 0.0002, 'grad_norm': 0.006587863899767399, 'learning_rate': 4.7e-05, 'epoch': 2.35}\n",
      "{'loss': 0.0316, 'grad_norm': 8.61656665802002, 'learning_rate': 4.8e-05, 'epoch': 2.4}\n",
      "{'loss': 0.0002, 'grad_norm': 0.0067026447504758835, 'learning_rate': 4.9e-05, 'epoch': 2.45}\n",
      "{'loss': 0.0022, 'grad_norm': 0.016771113499999046, 'learning_rate': 5e-05, 'epoch': 2.5}\n",
      "{'loss': 0.0152, 'grad_norm': 0.005219039041548967, 'learning_rate': 4.5e-05, 'epoch': 2.55}\n",
      "{'loss': 0.0002, 'grad_norm': 0.003978072665631771, 'learning_rate': 4e-05, 'epoch': 2.6}\n",
      "{'loss': 0.0476, 'grad_norm': 0.004578268621116877, 'learning_rate': 3.5e-05, 'epoch': 2.65}\n",
      "{'loss': 0.0541, 'grad_norm': 0.03553584963083267, 'learning_rate': 3e-05, 'epoch': 2.7}\n",
      "{'loss': 0.033, 'grad_norm': 0.08048809319734573, 'learning_rate': 2.5e-05, 'epoch': 2.75}\n",
      "{'loss': 0.0199, 'grad_norm': 0.007560086902230978, 'learning_rate': 2e-05, 'epoch': 2.8}\n",
      "{'loss': 0.0274, 'grad_norm': 0.11491036415100098, 'learning_rate': 1.5e-05, 'epoch': 2.85}\n",
      "{'loss': 0.0216, 'grad_norm': 0.017930055037140846, 'learning_rate': 1e-05, 'epoch': 2.9}\n",
      "{'loss': 0.0013, 'grad_norm': 0.0764385536313057, 'learning_rate': 5e-06, 'epoch': 2.95}\n",
      "{'loss': 0.0003, 'grad_norm': 0.0068594710901379585, 'learning_rate': 0.0, 'epoch': 3.0}\n"
     ]
    },
    {
     "data": {
      "application/vnd.jupyter.widget-view+json": {
       "model_id": "01dc72ceb8de46c6be1260e02cb4c8d3",
       "version_major": 2,
       "version_minor": 0
      },
      "text/plain": [
       "  0%|          | 0/13 [00:00<?, ?it/s]"
      ]
     },
     "metadata": {},
     "output_type": "display_data"
    },
    {
     "name": "stdout",
     "output_type": "stream",
     "text": [
      "{'eval_loss': 0.17846256494522095, 'eval_accuracy': 0.96875, 'eval_runtime': 5.0314, 'eval_samples_per_second': 159.0, 'eval_steps_per_second': 2.584, 'epoch': 3.0}\n",
      "{'train_runtime': 339.3522, 'train_samples_per_second': 28.289, 'train_steps_per_second': 1.768, 'train_loss': 0.031003614173969254, 'epoch': 3.0}\n"
     ]
    },
    {
     "data": {
      "application/vnd.jupyter.widget-view+json": {
       "model_id": "5ccfc4eff22f4573a476024abf75d1bd",
       "version_major": 2,
       "version_minor": 0
      },
      "text/plain": [
       "  0%|          | 0/50 [00:00<?, ?it/s]"
      ]
     },
     "metadata": {},
     "output_type": "display_data"
    },
    {
     "data": {
      "application/vnd.jupyter.widget-view+json": {
       "model_id": "f7204a83de2b4d5fbb312a4be13e299c",
       "version_major": 2,
       "version_minor": 0
      },
      "text/plain": [
       "  0%|          | 0/13 [00:00<?, ?it/s]"
      ]
     },
     "metadata": {},
     "output_type": "display_data"
    },
    {
     "data": {
      "application/vnd.jupyter.widget-view+json": {
       "model_id": "5fe2b418916746d6be7839977776af6d",
       "version_major": 2,
       "version_minor": 0
      },
      "text/plain": [
       "  0%|          | 0/600 [00:00<?, ?it/s]"
      ]
     },
     "metadata": {},
     "output_type": "display_data"
    },
    {
     "name": "stdout",
     "output_type": "stream",
     "text": [
      "{'loss': 0.026, 'grad_norm': 0.5774436593055725, 'learning_rate': 1.0000000000000002e-06, 'epoch': 0.05}\n",
      "{'loss': 0.1145, 'grad_norm': 0.04570242390036583, 'learning_rate': 2.0000000000000003e-06, 'epoch': 0.1}\n",
      "{'loss': 0.0678, 'grad_norm': 0.07036253809928894, 'learning_rate': 3e-06, 'epoch': 0.15}\n",
      "{'loss': 0.0697, 'grad_norm': 0.053684890270233154, 'learning_rate': 4.000000000000001e-06, 'epoch': 0.2}\n",
      "{'loss': 0.1133, 'grad_norm': 0.0863034650683403, 'learning_rate': 5e-06, 'epoch': 0.25}\n",
      "{'loss': 0.0383, 'grad_norm': 0.06877370178699493, 'learning_rate': 6e-06, 'epoch': 0.3}\n",
      "{'loss': 0.0057, 'grad_norm': 0.054740145802497864, 'learning_rate': 7.000000000000001e-06, 'epoch': 0.35}\n",
      "{'loss': 0.0404, 'grad_norm': 0.041892047971487045, 'learning_rate': 8.000000000000001e-06, 'epoch': 0.4}\n",
      "{'loss': 0.0015, 'grad_norm': 0.03795348107814789, 'learning_rate': 9e-06, 'epoch': 0.45}\n",
      "{'loss': 0.0395, 'grad_norm': 0.033224206417798996, 'learning_rate': 1e-05, 'epoch': 0.5}\n",
      "{'loss': 0.0361, 'grad_norm': 0.02720237895846367, 'learning_rate': 1.1000000000000001e-05, 'epoch': 0.55}\n",
      "{'loss': 0.0379, 'grad_norm': 0.033532753586769104, 'learning_rate': 1.2e-05, 'epoch': 0.6}\n",
      "{'loss': 0.0191, 'grad_norm': 0.027354618534445763, 'learning_rate': 1.3000000000000001e-05, 'epoch': 0.65}\n",
      "{'loss': 0.001, 'grad_norm': 0.023336760699748993, 'learning_rate': 1.4000000000000001e-05, 'epoch': 0.7}\n",
      "{'loss': 0.0025, 'grad_norm': 0.9670850038528442, 'learning_rate': 1.5e-05, 'epoch': 0.75}\n",
      "{'loss': 0.0013, 'grad_norm': 0.029356347396969795, 'learning_rate': 1.6000000000000003e-05, 'epoch': 0.8}\n",
      "{'loss': 0.0277, 'grad_norm': 0.017272649332880974, 'learning_rate': 1.7000000000000003e-05, 'epoch': 0.85}\n",
      "{'loss': 0.036, 'grad_norm': 0.015256424434483051, 'learning_rate': 1.8e-05, 'epoch': 0.9}\n",
      "{'loss': 0.0346, 'grad_norm': 0.013631798326969147, 'learning_rate': 1.9e-05, 'epoch': 0.95}\n",
      "{'loss': 0.0285, 'grad_norm': 0.07481727749109268, 'learning_rate': 2e-05, 'epoch': 1.0}\n"
     ]
    },
    {
     "data": {
      "application/vnd.jupyter.widget-view+json": {
       "model_id": "9c75208ee4f548f081712552dc370c09",
       "version_major": 2,
       "version_minor": 0
      },
      "text/plain": [
       "  0%|          | 0/13 [00:00<?, ?it/s]"
      ]
     },
     "metadata": {},
     "output_type": "display_data"
    },
    {
     "name": "stdout",
     "output_type": "stream",
     "text": [
      "{'eval_loss': 0.24112072587013245, 'eval_accuracy': 0.95875, 'eval_runtime': 5.9711, 'eval_samples_per_second': 133.979, 'eval_steps_per_second': 2.177, 'epoch': 1.0}\n",
      "{'loss': 0.0319, 'grad_norm': 0.012086314149200916, 'learning_rate': 2.1e-05, 'epoch': 1.05}\n",
      "{'loss': 0.1088, 'grad_norm': 0.042746346443891525, 'learning_rate': 2.2000000000000003e-05, 'epoch': 1.1}\n",
      "{'loss': 0.0793, 'grad_norm': 23.670551300048828, 'learning_rate': 2.3000000000000003e-05, 'epoch': 1.15}\n",
      "{'loss': 0.0726, 'grad_norm': 0.2906286418437958, 'learning_rate': 2.4e-05, 'epoch': 1.2}\n",
      "{'loss': 0.0017, 'grad_norm': 0.06614870578050613, 'learning_rate': 2.5e-05, 'epoch': 1.25}\n",
      "{'loss': 0.0011, 'grad_norm': 0.6414182782173157, 'learning_rate': 2.6000000000000002e-05, 'epoch': 1.3}\n",
      "{'loss': 0.0264, 'grad_norm': 0.016677910462021828, 'learning_rate': 2.7000000000000002e-05, 'epoch': 1.35}\n",
      "{'loss': 0.0503, 'grad_norm': 0.016554534435272217, 'learning_rate': 2.8000000000000003e-05, 'epoch': 1.4}\n",
      "{'loss': 0.0439, 'grad_norm': 5.338611125946045, 'learning_rate': 2.9e-05, 'epoch': 1.45}\n",
      "{'loss': 0.1025, 'grad_norm': 0.021007703617215157, 'learning_rate': 3e-05, 'epoch': 1.5}\n",
      "{'loss': 0.0933, 'grad_norm': 0.04100308567285538, 'learning_rate': 3.1e-05, 'epoch': 1.55}\n",
      "{'loss': 0.0376, 'grad_norm': 15.30960750579834, 'learning_rate': 3.2000000000000005e-05, 'epoch': 1.6}\n",
      "{'loss': 0.0605, 'grad_norm': 0.024930661544203758, 'learning_rate': 3.3e-05, 'epoch': 1.65}\n",
      "{'loss': 0.0074, 'grad_norm': 0.021679800003767014, 'learning_rate': 3.4000000000000007e-05, 'epoch': 1.7}\n",
      "{'loss': 0.0837, 'grad_norm': 0.03683276101946831, 'learning_rate': 3.5e-05, 'epoch': 1.75}\n",
      "{'loss': 0.0583, 'grad_norm': 0.02439391426742077, 'learning_rate': 3.6e-05, 'epoch': 1.8}\n",
      "{'loss': 0.0833, 'grad_norm': 0.35126829147338867, 'learning_rate': 3.7e-05, 'epoch': 1.85}\n",
      "{'loss': 0.0064, 'grad_norm': 0.1297931969165802, 'learning_rate': 3.8e-05, 'epoch': 1.9}\n",
      "{'loss': 0.0736, 'grad_norm': 0.03661150485277176, 'learning_rate': 3.9000000000000006e-05, 'epoch': 1.95}\n",
      "{'loss': 0.0228, 'grad_norm': 0.01416812464594841, 'learning_rate': 4e-05, 'epoch': 2.0}\n"
     ]
    },
    {
     "data": {
      "application/vnd.jupyter.widget-view+json": {
       "model_id": "24a8ae9b4c4d4981a0ef38570acbf320",
       "version_major": 2,
       "version_minor": 0
      },
      "text/plain": [
       "  0%|          | 0/13 [00:00<?, ?it/s]"
      ]
     },
     "metadata": {},
     "output_type": "display_data"
    },
    {
     "name": "stdout",
     "output_type": "stream",
     "text": [
      "{'eval_loss': 0.25900575518608093, 'eval_accuracy': 0.955, 'eval_runtime': 5.0234, 'eval_samples_per_second': 159.254, 'eval_steps_per_second': 2.588, 'epoch': 2.0}\n",
      "{'loss': 0.0441, 'grad_norm': 24.507448196411133, 'learning_rate': 4.1e-05, 'epoch': 2.05}\n",
      "{'loss': 0.0004, 'grad_norm': 0.017345616593956947, 'learning_rate': 4.2e-05, 'epoch': 2.1}\n",
      "{'loss': 0.0009, 'grad_norm': 0.007271811831742525, 'learning_rate': 4.3e-05, 'epoch': 2.15}\n",
      "{'loss': 0.0341, 'grad_norm': 0.9905096888542175, 'learning_rate': 4.4000000000000006e-05, 'epoch': 2.2}\n",
      "{'loss': 0.1228, 'grad_norm': 0.032532911747694016, 'learning_rate': 4.5e-05, 'epoch': 2.25}\n",
      "{'loss': 0.0148, 'grad_norm': 0.017628174275159836, 'learning_rate': 4.600000000000001e-05, 'epoch': 2.3}\n",
      "{'loss': 0.0048, 'grad_norm': 0.9442416429519653, 'learning_rate': 4.7e-05, 'epoch': 2.35}\n",
      "{'loss': 0.063, 'grad_norm': 0.2039027065038681, 'learning_rate': 4.8e-05, 'epoch': 2.4}\n",
      "{'loss': 0.023, 'grad_norm': 0.07297562062740326, 'learning_rate': 4.9e-05, 'epoch': 2.45}\n",
      "{'loss': 0.0432, 'grad_norm': 57.261993408203125, 'learning_rate': 5e-05, 'epoch': 2.5}\n",
      "{'loss': 0.0271, 'grad_norm': 0.6824389100074768, 'learning_rate': 4.5e-05, 'epoch': 2.55}\n",
      "{'loss': 0.1329, 'grad_norm': 15.320231437683105, 'learning_rate': 4e-05, 'epoch': 2.6}\n",
      "{'loss': 0.0009, 'grad_norm': 0.023086056113243103, 'learning_rate': 3.5e-05, 'epoch': 2.65}\n",
      "{'loss': 0.0179, 'grad_norm': 0.02743011713027954, 'learning_rate': 3e-05, 'epoch': 2.7}\n",
      "{'loss': 0.0958, 'grad_norm': 10.196366310119629, 'learning_rate': 2.5e-05, 'epoch': 2.75}\n",
      "{'loss': 0.0391, 'grad_norm': 0.00631185807287693, 'learning_rate': 2e-05, 'epoch': 2.8}\n",
      "{'loss': 0.0807, 'grad_norm': 5.994630813598633, 'learning_rate': 1.5e-05, 'epoch': 2.85}\n",
      "{'loss': 0.006, 'grad_norm': 0.008414086885750294, 'learning_rate': 1e-05, 'epoch': 2.9}\n",
      "{'loss': 0.0004, 'grad_norm': 0.006576305255293846, 'learning_rate': 5e-06, 'epoch': 2.95}\n",
      "{'loss': 0.0003, 'grad_norm': 0.20010097324848175, 'learning_rate': 0.0, 'epoch': 3.0}\n"
     ]
    },
    {
     "data": {
      "application/vnd.jupyter.widget-view+json": {
       "model_id": "2d5cd80dadba4c85aa124aa196fd523a",
       "version_major": 2,
       "version_minor": 0
      },
      "text/plain": [
       "  0%|          | 0/13 [00:00<?, ?it/s]"
      ]
     },
     "metadata": {},
     "output_type": "display_data"
    },
    {
     "name": "stdout",
     "output_type": "stream",
     "text": [
      "{'eval_loss': 0.23343120515346527, 'eval_accuracy': 0.9625, 'eval_runtime': 5.0471, 'eval_samples_per_second': 158.507, 'eval_steps_per_second': 2.576, 'epoch': 3.0}\n",
      "{'train_runtime': 335.9228, 'train_samples_per_second': 28.578, 'train_steps_per_second': 1.786, 'train_loss': 0.04231645486395185, 'epoch': 3.0}\n"
     ]
    },
    {
     "data": {
      "application/vnd.jupyter.widget-view+json": {
       "model_id": "32aca461c86b46328ed043c8492edbf3",
       "version_major": 2,
       "version_minor": 0
      },
      "text/plain": [
       "  0%|          | 0/50 [00:00<?, ?it/s]"
      ]
     },
     "metadata": {},
     "output_type": "display_data"
    },
    {
     "data": {
      "application/vnd.jupyter.widget-view+json": {
       "model_id": "4ea8ae5b1eb04b5baf67f748e0646e91",
       "version_major": 2,
       "version_minor": 0
      },
      "text/plain": [
       "  0%|          | 0/13 [00:00<?, ?it/s]"
      ]
     },
     "metadata": {},
     "output_type": "display_data"
    },
    {
     "data": {
      "image/png": "[encoded data removed]",
      "text/plain": [
       "<Figure size 1000x600 with 1 Axes>"
      ]
     },
     "metadata": {},
     "output_type": "display_data"
    }
   ],
   "source": [
    "# Create lists to store evaluation metrics\n",
    "train_accuracies = []\n",
    "eval_accuracies = []\n",
    "\n",
    "# Training and evaluation loop\n",
    "for epoch in range(training_args.num_train_epochs):\n",
    "    # Training\n",
    "    trainer.train()\n",
    "    \n",
    "    # Evaluation on training set\n",
    "    train_metrics = trainer.evaluate(train_dataset)\n",
    "    train_accuracies.append(train_metrics['eval_accuracy'])\n",
    "    \n",
    "    # Evaluation on validation set\n",
    "    eval_metrics = trainer.evaluate(test_dataset)\n",
    "    eval_accuracies.append(eval_metrics['eval_accuracy'])\n",
    "\n",
    "# Plot the evaluation metrics\n",
    "epochs = range(1, training_args.num_train_epochs + 1)\n",
    "plt.figure(figsize=(10, 6))\n",
    "plt.plot(epochs, train_accuracies, label='Train Accuracy')\n",
    "plt.plot(epochs, eval_accuracies, label='Validation Accuracy')\n",
    "plt.xlabel('Epoch')\n",
    "plt.ylabel('Accuracy')\n",
    "plt.title('Training and Validation Accuracy')\n",
    "plt.legend()\n",
    "plt.show()"
   ]
  },
  {
   "cell_type": "code",
   "execution_count": null,
   "metadata": {},
   "outputs": [],
   "source": [
    "# Skip plotting and just train the model\n",
    "# trainer.train()"
   ]
  },
  {
   "cell_type": "code",
   "execution_count": null,
   "metadata": {},
   "outputs": [
    {
     "data": {
      "application/vnd.jupyter.widget-view+json": {
       "model_id": "b2343a6e88714e89be0fb58db359473d",
       "version_major": 2,
       "version_minor": 0
      },
      "text/plain": [
       "  0%|          | 0/13 [00:00<?, ?it/s]"
      ]
     },
     "metadata": {},
     "output_type": "display_data"
    }
   ],
   "source": [
    "# Evaluate on the test set\n",
    "predictions = trainer.predict(test_dataset)\n",
    "preds = predictions.predictions.argmax(-1)\n",
    "test_accuracy = accuracy_score(test_labels, preds)\n",
    "print(f\"Test Accuracy: {test_accuracy:.3f}\")"
   ]
  },
  {
   "cell_type": "code",
   "execution_count": null,
   "metadata": {},
   "outputs": [],
   "source": [
    "# TODO: make a chatbot\n",
    "\n",
    "# Scenario 1: don't use api\n",
    "# 1. Import chat model from huggingface (llama chat variant)\n",
    "# 2. Prompt engineering (tell this model given this input, this is my output) or use default\n",
    "# 3. Decide to fine-tune on specific conversations data (company you work for) ******\n",
    "# 3.1. Fine-tune --> expensive and takes a bit of time\n",
    "# 3.2. Use Retrieval Augmented Generation (RAG) --> faster and cheaper with similar performance\n",
    "# 3.3. Use Agents with RAG --> many different agents do different tasks depending on what is asked\n",
    "# 4. Start chatting :)\n",
    "\n",
    "# Great resource to learn all this: Deeplearning.AI (and we'll touch on it in revision weeks)"
   ]
  }
 ],
 "metadata": {
  "kernelspec": {
   "display_name": "Python 3",
   "language": "python",
   "name": "python3"
  },
  "language_info": {
   "codemirror_mode": {
    "name": "ipython",
    "version": 3
   },
   "file_extension": ".py",
   "mimetype": "text/x-python",
   "name": "python",
   "nbconvert_exporter": "python",
   "pygments_lexer": "ipython3",
   "version": "3.11.6"
  }
 },
 "nbformat": 4,
 "nbformat_minor": 2
}
