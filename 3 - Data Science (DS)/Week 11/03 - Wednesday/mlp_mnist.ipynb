{
  "cells": [
    {
      "cell_type": "markdown",
      "metadata": {
        "id": "iROzp9Z-pPLM"
      },
      "source": [
        "# Multi-layer Perceptron classifier\n",
        "\n",
        "In this notebook, we will use MLPClassifier from `scikit-learn` on the MNIST datset for handwritten digits.\n",
        "\n",
        "https://scikit-learn.org/stable/auto_examples/neural_networks/plot_mnist_filters.html#sphx-glr-auto-examples-neural-networks-plot-mnist-filters-py"
      ]
    },
    {
      "cell_type": "code",
      "execution_count": null,
      "metadata": {
        "id": "3dRo1tKlpPLO",
        "outputId": "4230b57d-3d34-4209-c61c-b26c5f938eac"
      },
      "outputs": [
        {
          "name": "stderr",
          "output_type": "stream",
          "text": [
            "C:\\Users\\moumi\\AppData\\Roaming\\Python\\Python312\\site-packages\\matplotlib\\projections\\__init__.py:63: UserWarning: Unable to import Axes3D. This may be due to multiple versions of Matplotlib being installed (e.g. as a system package and as a pip package). As a result, the 3D projection is not available.\n",
            "  warnings.warn(\"Unable to import Axes3D. This may be due to multiple versions of \"\n"
          ]
        }
      ],
      "source": [
        "import numpy as np\n",
        "import matplotlib.pyplot as plt\n",
        "import matplotlib.cm as cm\n",
        "import random\n",
        "import seaborn\n",
        "seaborn.set(style='whitegrid'); seaborn.set_context('talk')\n",
        "\n",
        "# Import necessary libraries\n",
        "from sklearn.neural_network import MLPClassifier\n",
        "from sklearn.datasets import fetch_openml\n",
        "from sklearn.model_selection import train_test_split\n",
        "from sklearn.preprocessing import StandardScaler\n",
        "from sklearn.metrics import accuracy_score, classification_report, confusion_matrix"
      ]
    },
    {
      "cell_type": "code",
      "execution_count": null,
      "metadata": {
        "id": "aqDdX0ygpPLP"
      },
      "outputs": [],
      "source": [
        "# Load data from https://www.openml.org/d/554\n",
        "X, y = fetch_openml(\"mnist_784\", version=1, return_X_y=True, as_frame=False, parser='auto')\n",
        "X = X / 255.0"
      ]
    },
    {
      "cell_type": "code",
      "execution_count": null,
      "metadata": {
        "id": "PC9C2WuopPLQ"
      },
      "outputs": [],
      "source": [
        "# Split the dataset into training and testing sets\n",
        "X_train, X_test, y_train, y_test = train_test_split(\n",
        "    X, y, test_size=0.2, random_state=42)"
      ]
    },
    {
      "cell_type": "markdown",
      "metadata": {
        "id": "NDxzkljApPLQ"
      },
      "source": [
        "### Creating a Multi-layer Perceptron classifier model\n",
        "\n",
        "`hidden_layer_sizes:` Hidden layer size, default=(100,) the ith element represents the number of neurons in the ith hidden layer.\n",
        "\n",
        "`max_iter:` default=200\n",
        "\n",
        "`activation:` Activation function for the hidden layer, default='relu'\n",
        "\n",
        "`alpha:` Strength of the L2 regularization term, default=0.0001\n",
        "\n",
        "`solver:` Weight optimisation, default='adam', here we will use 'sgd'\n",
        "\n",
        "`verbose:` To print progress messages. default=False\n",
        "\n",
        "`learning_rate_init:` initial learning rate, default=0.001"
      ]
    },
    {
      "cell_type": "code",
      "execution_count": null,
      "metadata": {
        "id": "V8ys9VK_pPLQ"
      },
      "outputs": [],
      "source": [
        "# Create an MLPClassifier model\n",
        "\n",
        "mlp = MLPClassifier(\n",
        "    hidden_layer_sizes=(40,),\n",
        "    max_iter=50,\n",
        "    alpha=1e-4,\n",
        "    solver=\"sgd\",\n",
        "    verbose=10,\n",
        "    random_state=42,\n",
        "    learning_rate_init=0.2,\n",
        ")"
      ]
    },
    {
      "cell_type": "markdown",
      "metadata": {
        "id": "TLH_LG-QpPLQ"
      },
      "source": [
        "Train the model on the training data\n"
      ]
    },
    {
      "cell_type": "code",
      "execution_count": null,
      "metadata": {
        "id": "dnmbYXpNpPLQ",
        "outputId": "dd3e91cb-3922-4b35-e989-9933fed116f1"
      },
      "outputs": [
        {
          "name": "stdout",
          "output_type": "stream",
          "text": [
            "Iteration 1, loss = 0.28679173\n",
            "Iteration 2, loss = 0.13898414\n",
            "Iteration 3, loss = 0.11234183\n",
            "Iteration 4, loss = 0.09240505\n",
            "Iteration 5, loss = 0.08218895\n",
            "Iteration 6, loss = 0.07512368\n",
            "Iteration 7, loss = 0.06824016\n",
            "Iteration 8, loss = 0.06323142\n",
            "Iteration 9, loss = 0.05593160\n",
            "Iteration 10, loss = 0.05292344\n",
            "Iteration 11, loss = 0.04932607\n",
            "Iteration 12, loss = 0.04832868\n",
            "Iteration 13, loss = 0.04161856\n",
            "Iteration 14, loss = 0.03879617\n",
            "Iteration 15, loss = 0.03889259\n",
            "Iteration 16, loss = 0.03470096\n",
            "Iteration 17, loss = 0.03510782\n",
            "Iteration 18, loss = 0.03438813\n",
            "Iteration 19, loss = 0.03140666\n",
            "Iteration 20, loss = 0.02943279\n",
            "Iteration 21, loss = 0.02719182\n",
            "Iteration 22, loss = 0.03072773\n",
            "Iteration 23, loss = 0.02634794\n",
            "Iteration 24, loss = 0.02583843\n",
            "Iteration 25, loss = 0.02614071\n",
            "Iteration 26, loss = 0.02237447\n",
            "Iteration 27, loss = 0.02066707\n",
            "Iteration 28, loss = 0.01924857\n",
            "Iteration 29, loss = 0.01762789\n",
            "Iteration 30, loss = 0.02013231\n",
            "Iteration 31, loss = 0.01791572\n",
            "Iteration 32, loss = 0.02034316\n",
            "Iteration 33, loss = 0.01589561\n",
            "Iteration 34, loss = 0.01306803\n",
            "Iteration 35, loss = 0.01449755\n",
            "Iteration 36, loss = 0.01358511\n",
            "Iteration 37, loss = 0.01665773\n",
            "Iteration 38, loss = 0.01777989\n",
            "Iteration 39, loss = 0.01533732\n",
            "Iteration 40, loss = 0.00996458\n",
            "Iteration 41, loss = 0.01077466\n",
            "Iteration 42, loss = 0.00997558\n",
            "Iteration 43, loss = 0.00884301\n",
            "Iteration 44, loss = 0.01038923\n",
            "Iteration 45, loss = 0.00739959\n",
            "Iteration 46, loss = 0.00399560\n",
            "Iteration 47, loss = 0.00452938\n",
            "Iteration 48, loss = 0.00386475\n",
            "Iteration 49, loss = 0.00337283\n",
            "Iteration 50, loss = 0.00149593\n"
          ]
        }
      ],
      "source": [
        "# Train the model on the training data\n",
        "\n",
        "import warnings\n",
        "from sklearn.exceptions import ConvergenceWarning\n",
        "\n",
        "# this example won't converge because of resource usage constraints on\n",
        "# our Continuous Integration infrastructure, so we catch the warning and\n",
        "# ignore it here\n",
        "with warnings.catch_warnings():\n",
        "    warnings.filterwarnings(\"ignore\", category=ConvergenceWarning, module=\"sklearn\")\n",
        "    mlp.fit(X_train, y_train)"
      ]
    },
    {
      "cell_type": "code",
      "execution_count": null,
      "metadata": {
        "id": "sRM_eqZopPLR",
        "outputId": "0b35157b-9e7a-4980-a3de-aa460a1c25d0"
      },
      "outputs": [
        {
          "name": "stdout",
          "output_type": "stream",
          "text": [
            "Training set score: 0.999982\n",
            "Test set score: 0.969786\n",
            "Accuracy: 0.97\n"
          ]
        }
      ],
      "source": [
        "print(\"Training set score: %f\" % mlp.score(X_train, y_train))\n",
        "print(\"Test set score: %f\" % mlp.score(X_test, y_test))\n",
        "\n",
        "# Make predictions on the test data\n",
        "y_pred = mlp.predict(X_test)\n",
        "\n",
        "# Calculate the accuracy of the model\n",
        "accuracy = accuracy_score(y_test, y_pred)\n",
        "print(f\"Accuracy: {accuracy:.2f}\")"
      ]
    },
    {
      "cell_type": "code",
      "execution_count": null,
      "metadata": {
        "id": "zwYB0jrrpPLR",
        "outputId": "62f93c97-9021-49b1-97da-1b914fc93f02"
      },
      "outputs": [
        {
          "name": "stdout",
          "output_type": "stream",
          "text": [
            "Classification Report:\n",
            "               precision    recall  f1-score   support\n",
            "\n",
            "           0       0.98      0.98      0.98      1343\n",
            "           1       0.98      0.99      0.98      1600\n",
            "           2       0.96      0.97      0.96      1380\n",
            "           3       0.97      0.97      0.97      1433\n",
            "           4       0.97      0.97      0.97      1295\n",
            "           5       0.96      0.97      0.96      1273\n",
            "           6       0.98      0.99      0.98      1396\n",
            "           7       0.98      0.96      0.97      1503\n",
            "           8       0.96      0.95      0.95      1357\n",
            "           9       0.96      0.96      0.96      1420\n",
            "\n",
            "    accuracy                           0.97     14000\n",
            "   macro avg       0.97      0.97      0.97     14000\n",
            "weighted avg       0.97      0.97      0.97     14000\n",
            "\n"
          ]
        }
      ],
      "source": [
        "# Generate a classification report\n",
        "class_report = classification_report(y_test, y_pred)\n",
        "print(\"Classification Report:\\n\", class_report)"
      ]
    },
    {
      "cell_type": "code",
      "execution_count": null,
      "metadata": {
        "id": "eZwsqAdApPLR",
        "outputId": "18915111-261c-4338-d740-160b9beb944b"
      },
      "outputs": [
        {
          "name": "stdout",
          "output_type": "stream",
          "text": [
            "[[1315    1    3    1    2    3    5    5    7    1]\n",
            " [   0 1581    5    3    2    0    1    5    2    1]\n",
            " [   2    7 1335    2    5    4    5    5   12    3]\n",
            " [   1    2   15 1383    1   16    0    3    6    6]\n",
            " [   2    0    1    1 1260    1    5    4    2   19]\n",
            " [   3    1    2   16    1 1230    9    1    6    4]\n",
            " [   1    1    2    1    5    7 1376    0    3    0]\n",
            " [   4    8   15    3    2    2    0 1446    6   17]\n",
            " [   4    8   11   15    5   10    8    4 1284    8]\n",
            " [   4    5    0    8   16    5    1    9    5 1367]]\n"
          ]
        }
      ],
      "source": [
        "cm = confusion_matrix(y_test, y_pred, labels=mlp.classes_)\n",
        "print(cm)"
      ]
    },
    {
      "cell_type": "markdown",
      "metadata": {
        "id": "BSMvDmTLpPLR"
      },
      "source": [
        "Visualization of MLP weights on MNIST"
      ]
    },
    {
      "cell_type": "markdown",
      "metadata": {
        "id": "PtauKYsMpPLS"
      },
      "source": [
        "Sometimes looking at the learned coefficients of a neural network can provide insight into the learning behavior. For example if weights look unstructured, maybe some were not used at all, or if very large coefficients exist, maybe regularization was too low or the learning rate too high.\n",
        "\n",
        "This example shows how to plot some of the first layer weights in a MLPClassifier trained on the MNIST dataset.\n",
        "\n",
        "The input data consists of 28x28 pixel handwritten digits, leading to 784 features in the dataset. Therefore the first layer weight matrix has the shape (784, hidden_layer_sizes[0]). We can therefore visualize a single column of the weight matrix as a 28x28 pixel image.\n",
        "\n",
        "To make the example run faster, we use very few hidden units, and train only for a very short time. Training longer would result in weights with a much smoother spatial appearance. The example will throw a warning because it doesn’t converge, in this case this is what we want because of resource usage constraints on our Continuous Integration infrastructure that is used to build this documentation on a regular basis."
      ]
    },
    {
      "cell_type": "code",
      "execution_count": null,
      "metadata": {
        "id": "cnDlflk6pPLS",
        "outputId": "a4776b6e-9147-4504-b99c-c18a22a226b7"
      },
      "outputs": [
        {
          "data": {
            "image/png": "[encoded data removed]",
            "text/plain": [
              "<Figure size 640x480 with 16 Axes>"
            ]
          },
          "metadata": {},
          "output_type": "display_data"
        }
      ],
      "source": [
        "fig, axes = plt.subplots(4, 4)\n",
        "# use global min / max to ensure all weights are shown on the same scale\n",
        "vmin, vmax = mlp.coefs_[0].min(), mlp.coefs_[0].max()\n",
        "for coef, ax in zip(mlp.coefs_[0].T, axes.ravel()):\n",
        "    ax.matshow(coef.reshape(28, 28), cmap=plt.cm.gray, vmin=0.5 * vmin, vmax=0.5 * vmax)\n",
        "    ax.set_xticks(())\n",
        "    ax.set_yticks(())"
      ]
    }
  ],
  "metadata": {
    "kernelspec": {
      "display_name": "Python 3",
      "language": "python",
      "name": "python3"
    },
    "language_info": {
      "codemirror_mode": {
        "name": "ipython",
        "version": 3
      },
      "file_extension": ".py",
      "mimetype": "text/x-python",
      "name": "python",
      "nbconvert_exporter": "python",
      "pygments_lexer": "ipython3",
      "version": "3.12.2"
    },
    "colab": {
      "provenance": []
    }
  },
  "nbformat": 4,
  "nbformat_minor": 0
}