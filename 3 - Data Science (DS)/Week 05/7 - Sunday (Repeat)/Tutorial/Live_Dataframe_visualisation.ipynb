{
 "cells": [
  {
   "cell_type": "code",
   "execution_count": 116,
   "metadata": {},
   "outputs": [
    {
     "name": "stdout",
     "output_type": "stream",
     "text": [
      "Requirement already satisfied: plotly in /Library/Frameworks/Python.framework/Versions/3.11/lib/python3.11/site-packages (5.18.0)\n",
      "Requirement already satisfied: tenacity>=6.2.0 in /Library/Frameworks/Python.framework/Versions/3.11/lib/python3.11/site-packages (from plotly) (8.2.3)\n",
      "Requirement already satisfied: packaging in /Library/Frameworks/Python.framework/Versions/3.11/lib/python3.11/site-packages (from plotly) (23.2)\n"
     ]
    }
   ],
   "source": [
    "!pip install plotly"
   ]
  },
  {
   "cell_type": "code",
   "execution_count": 117,
   "metadata": {},
   "outputs": [],
   "source": [
    "import numpy as np\n",
    "import pandas as pd\n",
    "\n",
    "import matplotlib.pyplot as plt\n",
    "import seaborn as sns\n",
    "\n",
    "import plotly.express as px\n",
    "\n",
    "# all other imports"
   ]
  },
  {
   "cell_type": "code",
   "execution_count": 118,
   "metadata": {},
   "outputs": [
    {
     "data": {
      "text/plain": [
       "['anagrams',\n",
       " 'anscombe',\n",
       " 'attention',\n",
       " 'brain_networks',\n",
       " 'car_crashes',\n",
       " 'diamonds',\n",
       " 'dots',\n",
       " 'dowjones',\n",
       " 'exercise',\n",
       " 'flights',\n",
       " 'fmri',\n",
       " 'geyser',\n",
       " 'glue',\n",
       " 'healthexp',\n",
       " 'iris',\n",
       " 'mpg',\n",
       " 'penguins',\n",
       " 'planets',\n",
       " 'seaice',\n",
       " 'taxis',\n",
       " 'tips',\n",
       " 'titanic']"
      ]
     },
     "execution_count": 118,
     "metadata": {},
     "output_type": "execute_result"
    }
   ],
   "source": [
    "sns.get_dataset_names()"
   ]
  },
  {
   "cell_type": "code",
   "execution_count": 119,
   "metadata": {},
   "outputs": [],
   "source": [
    "df = sns.load_dataset(\"titanic\")"
   ]
  },
  {
   "cell_type": "code",
   "execution_count": 120,
   "metadata": {},
   "outputs": [
    {
     "data": {
      "text/html": [
       "<div>\n",
       "<style scoped>\n",
       "    .dataframe tbody tr th:only-of-type {\n",
       "        vertical-align: middle;\n",
       "    }\n",
       "\n",
       "    .dataframe tbody tr th {\n",
       "        vertical-align: top;\n",
       "    }\n",
       "\n",
       "    .dataframe thead th {\n",
       "        text-align: right;\n",
       "    }\n",
       "</style>\n",
       "<table border=\"1\" class=\"dataframe\">\n",
       "  <thead>\n",
       "    <tr style=\"text-align: right;\">\n",
       "      <th></th>\n",
       "      <th>survived</th>\n",
       "      <th>pclass</th>\n",
       "      <th>sex</th>\n",
       "      <th>age</th>\n",
       "      <th>sibsp</th>\n",
       "      <th>parch</th>\n",
       "      <th>fare</th>\n",
       "      <th>embarked</th>\n",
       "      <th>class</th>\n",
       "      <th>who</th>\n",
       "      <th>adult_male</th>\n",
       "      <th>deck</th>\n",
       "      <th>embark_town</th>\n",
       "      <th>alive</th>\n",
       "      <th>alone</th>\n",
       "    </tr>\n",
       "  </thead>\n",
       "  <tbody>\n",
       "    <tr>\n",
       "      <th>0</th>\n",
       "      <td>0</td>\n",
       "      <td>3</td>\n",
       "      <td>male</td>\n",
       "      <td>22.0</td>\n",
       "      <td>1</td>\n",
       "      <td>0</td>\n",
       "      <td>7.2500</td>\n",
       "      <td>S</td>\n",
       "      <td>Third</td>\n",
       "      <td>man</td>\n",
       "      <td>True</td>\n",
       "      <td>NaN</td>\n",
       "      <td>Southampton</td>\n",
       "      <td>no</td>\n",
       "      <td>False</td>\n",
       "    </tr>\n",
       "    <tr>\n",
       "      <th>1</th>\n",
       "      <td>1</td>\n",
       "      <td>1</td>\n",
       "      <td>female</td>\n",
       "      <td>38.0</td>\n",
       "      <td>1</td>\n",
       "      <td>0</td>\n",
       "      <td>71.2833</td>\n",
       "      <td>C</td>\n",
       "      <td>First</td>\n",
       "      <td>woman</td>\n",
       "      <td>False</td>\n",
       "      <td>C</td>\n",
       "      <td>Cherbourg</td>\n",
       "      <td>yes</td>\n",
       "      <td>False</td>\n",
       "    </tr>\n",
       "    <tr>\n",
       "      <th>2</th>\n",
       "      <td>1</td>\n",
       "      <td>3</td>\n",
       "      <td>female</td>\n",
       "      <td>26.0</td>\n",
       "      <td>0</td>\n",
       "      <td>0</td>\n",
       "      <td>7.9250</td>\n",
       "      <td>S</td>\n",
       "      <td>Third</td>\n",
       "      <td>woman</td>\n",
       "      <td>False</td>\n",
       "      <td>NaN</td>\n",
       "      <td>Southampton</td>\n",
       "      <td>yes</td>\n",
       "      <td>True</td>\n",
       "    </tr>\n",
       "    <tr>\n",
       "      <th>3</th>\n",
       "      <td>1</td>\n",
       "      <td>1</td>\n",
       "      <td>female</td>\n",
       "      <td>35.0</td>\n",
       "      <td>1</td>\n",
       "      <td>0</td>\n",
       "      <td>53.1000</td>\n",
       "      <td>S</td>\n",
       "      <td>First</td>\n",
       "      <td>woman</td>\n",
       "      <td>False</td>\n",
       "      <td>C</td>\n",
       "      <td>Southampton</td>\n",
       "      <td>yes</td>\n",
       "      <td>False</td>\n",
       "    </tr>\n",
       "    <tr>\n",
       "      <th>4</th>\n",
       "      <td>0</td>\n",
       "      <td>3</td>\n",
       "      <td>male</td>\n",
       "      <td>35.0</td>\n",
       "      <td>0</td>\n",
       "      <td>0</td>\n",
       "      <td>8.0500</td>\n",
       "      <td>S</td>\n",
       "      <td>Third</td>\n",
       "      <td>man</td>\n",
       "      <td>True</td>\n",
       "      <td>NaN</td>\n",
       "      <td>Southampton</td>\n",
       "      <td>no</td>\n",
       "      <td>True</td>\n",
       "    </tr>\n",
       "  </tbody>\n",
       "</table>\n",
       "</div>"
      ],
      "text/plain": [
       "   survived  pclass     sex   age  sibsp  parch     fare embarked  class  \\\n",
       "0         0       3    male  22.0      1      0   7.2500        S  Third   \n",
       "1         1       1  female  38.0      1      0  71.2833        C  First   \n",
       "2         1       3  female  26.0      0      0   7.9250        S  Third   \n",
       "3         1       1  female  35.0      1      0  53.1000        S  First   \n",
       "4         0       3    male  35.0      0      0   8.0500        S  Third   \n",
       "\n",
       "     who  adult_male deck  embark_town alive  alone  \n",
       "0    man        True  NaN  Southampton    no  False  \n",
       "1  woman       False    C    Cherbourg   yes  False  \n",
       "2  woman       False  NaN  Southampton   yes   True  \n",
       "3  woman       False    C  Southampton   yes  False  \n",
       "4    man        True  NaN  Southampton    no   True  "
      ]
     },
     "execution_count": 120,
     "metadata": {},
     "output_type": "execute_result"
    }
   ],
   "source": [
    "df.head()"
   ]
  },
  {
   "cell_type": "code",
   "execution_count": 121,
   "metadata": {},
   "outputs": [
    {
     "data": {
      "text/plain": [
       "array(['man', 'woman', 'child'], dtype=object)"
      ]
     },
     "execution_count": 121,
     "metadata": {},
     "output_type": "execute_result"
    }
   ],
   "source": [
    "df['who'].unique()"
   ]
  },
  {
   "cell_type": "code",
   "execution_count": 122,
   "metadata": {},
   "outputs": [
    {
     "data": {
      "text/html": [
       "<div>\n",
       "<style scoped>\n",
       "    .dataframe tbody tr th:only-of-type {\n",
       "        vertical-align: middle;\n",
       "    }\n",
       "\n",
       "    .dataframe tbody tr th {\n",
       "        vertical-align: top;\n",
       "    }\n",
       "\n",
       "    .dataframe thead th {\n",
       "        text-align: right;\n",
       "    }\n",
       "</style>\n",
       "<table border=\"1\" class=\"dataframe\">\n",
       "  <thead>\n",
       "    <tr style=\"text-align: right;\">\n",
       "      <th></th>\n",
       "      <th>survived</th>\n",
       "      <th>pclass</th>\n",
       "      <th>age</th>\n",
       "      <th>sibsp</th>\n",
       "      <th>parch</th>\n",
       "      <th>fare</th>\n",
       "    </tr>\n",
       "  </thead>\n",
       "  <tbody>\n",
       "    <tr>\n",
       "      <th>count</th>\n",
       "      <td>891.000000</td>\n",
       "      <td>891.000000</td>\n",
       "      <td>714.000000</td>\n",
       "      <td>891.000000</td>\n",
       "      <td>891.000000</td>\n",
       "      <td>891.000000</td>\n",
       "    </tr>\n",
       "    <tr>\n",
       "      <th>mean</th>\n",
       "      <td>0.383838</td>\n",
       "      <td>2.308642</td>\n",
       "      <td>29.699118</td>\n",
       "      <td>0.523008</td>\n",
       "      <td>0.381594</td>\n",
       "      <td>32.204208</td>\n",
       "    </tr>\n",
       "    <tr>\n",
       "      <th>std</th>\n",
       "      <td>0.486592</td>\n",
       "      <td>0.836071</td>\n",
       "      <td>14.526497</td>\n",
       "      <td>1.102743</td>\n",
       "      <td>0.806057</td>\n",
       "      <td>49.693429</td>\n",
       "    </tr>\n",
       "    <tr>\n",
       "      <th>min</th>\n",
       "      <td>0.000000</td>\n",
       "      <td>1.000000</td>\n",
       "      <td>0.420000</td>\n",
       "      <td>0.000000</td>\n",
       "      <td>0.000000</td>\n",
       "      <td>0.000000</td>\n",
       "    </tr>\n",
       "    <tr>\n",
       "      <th>25%</th>\n",
       "      <td>0.000000</td>\n",
       "      <td>2.000000</td>\n",
       "      <td>20.125000</td>\n",
       "      <td>0.000000</td>\n",
       "      <td>0.000000</td>\n",
       "      <td>7.910400</td>\n",
       "    </tr>\n",
       "    <tr>\n",
       "      <th>50%</th>\n",
       "      <td>0.000000</td>\n",
       "      <td>3.000000</td>\n",
       "      <td>28.000000</td>\n",
       "      <td>0.000000</td>\n",
       "      <td>0.000000</td>\n",
       "      <td>14.454200</td>\n",
       "    </tr>\n",
       "    <tr>\n",
       "      <th>75%</th>\n",
       "      <td>1.000000</td>\n",
       "      <td>3.000000</td>\n",
       "      <td>38.000000</td>\n",
       "      <td>1.000000</td>\n",
       "      <td>0.000000</td>\n",
       "      <td>31.000000</td>\n",
       "    </tr>\n",
       "    <tr>\n",
       "      <th>max</th>\n",
       "      <td>1.000000</td>\n",
       "      <td>3.000000</td>\n",
       "      <td>80.000000</td>\n",
       "      <td>8.000000</td>\n",
       "      <td>6.000000</td>\n",
       "      <td>512.329200</td>\n",
       "    </tr>\n",
       "  </tbody>\n",
       "</table>\n",
       "</div>"
      ],
      "text/plain": [
       "         survived      pclass         age       sibsp       parch        fare\n",
       "count  891.000000  891.000000  714.000000  891.000000  891.000000  891.000000\n",
       "mean     0.383838    2.308642   29.699118    0.523008    0.381594   32.204208\n",
       "std      0.486592    0.836071   14.526497    1.102743    0.806057   49.693429\n",
       "min      0.000000    1.000000    0.420000    0.000000    0.000000    0.000000\n",
       "25%      0.000000    2.000000   20.125000    0.000000    0.000000    7.910400\n",
       "50%      0.000000    3.000000   28.000000    0.000000    0.000000   14.454200\n",
       "75%      1.000000    3.000000   38.000000    1.000000    0.000000   31.000000\n",
       "max      1.000000    3.000000   80.000000    8.000000    6.000000  512.329200"
      ]
     },
     "execution_count": 122,
     "metadata": {},
     "output_type": "execute_result"
    }
   ],
   "source": [
    "df.describe()"
   ]
  },
  {
   "cell_type": "code",
   "execution_count": 123,
   "metadata": {},
   "outputs": [
    {
     "name": "stdout",
     "output_type": "stream",
     "text": [
      "<class 'pandas.core.frame.DataFrame'>\n",
      "RangeIndex: 891 entries, 0 to 890\n",
      "Data columns (total 15 columns):\n",
      " #   Column       Non-Null Count  Dtype   \n",
      "---  ------       --------------  -----   \n",
      " 0   survived     891 non-null    int64   \n",
      " 1   pclass       891 non-null    int64   \n",
      " 2   sex          891 non-null    object  \n",
      " 3   age          714 non-null    float64 \n",
      " 4   sibsp        891 non-null    int64   \n",
      " 5   parch        891 non-null    int64   \n",
      " 6   fare         891 non-null    float64 \n",
      " 7   embarked     889 non-null    object  \n",
      " 8   class        891 non-null    category\n",
      " 9   who          891 non-null    object  \n",
      " 10  adult_male   891 non-null    bool    \n",
      " 11  deck         203 non-null    category\n",
      " 12  embark_town  889 non-null    object  \n",
      " 13  alive        891 non-null    object  \n",
      " 14  alone        891 non-null    bool    \n",
      "dtypes: bool(2), category(2), float64(2), int64(4), object(5)\n",
      "memory usage: 80.7+ KB\n"
     ]
    }
   ],
   "source": [
    "df.info()"
   ]
  },
  {
   "cell_type": "code",
   "execution_count": 124,
   "metadata": {},
   "outputs": [
    {
     "data": {
      "text/plain": [
       "survived         0\n",
       "pclass           0\n",
       "sex              0\n",
       "age            177\n",
       "sibsp            0\n",
       "parch            0\n",
       "fare             0\n",
       "embarked         2\n",
       "class            0\n",
       "who              0\n",
       "adult_male       0\n",
       "deck           688\n",
       "embark_town      2\n",
       "alive            0\n",
       "alone            0\n",
       "dtype: int64"
      ]
     },
     "execution_count": 124,
     "metadata": {},
     "output_type": "execute_result"
    }
   ],
   "source": [
    "df.isnull().sum()"
   ]
  },
  {
   "cell_type": "code",
   "execution_count": 125,
   "metadata": {},
   "outputs": [],
   "source": [
    "age_median = df['age'].median()\n",
    "df['age'] = df['age'].fillna(age_median)"
   ]
  },
  {
   "cell_type": "code",
   "execution_count": 126,
   "metadata": {},
   "outputs": [],
   "source": [
    "df.drop(columns=[\"deck\"], inplace=True)"
   ]
  },
  {
   "cell_type": "code",
   "execution_count": 127,
   "metadata": {},
   "outputs": [],
   "source": [
    "df = df.dropna()"
   ]
  },
  {
   "cell_type": "code",
   "execution_count": 128,
   "metadata": {},
   "outputs": [
    {
     "data": {
      "text/plain": [
       "sex\n",
       "female    0.740385\n",
       "male      0.188908\n",
       "Name: survived, dtype: float64"
      ]
     },
     "execution_count": 128,
     "metadata": {},
     "output_type": "execute_result"
    }
   ],
   "source": [
    "# Which sex was most likely to survive on average\n",
    "survival_rate = df.groupby('sex')['survived'].mean()\n",
    "survival_rate"
   ]
  },
  {
   "cell_type": "code",
   "execution_count": 129,
   "metadata": {},
   "outputs": [
    {
     "data": {
      "text/plain": [
       "Index(['survived', 'pclass', 'sex', 'age', 'sibsp', 'parch', 'fare',\n",
       "       'embarked', 'class', 'who', 'adult_male', 'embark_town', 'alive',\n",
       "       'alone'],\n",
       "      dtype='object')"
      ]
     },
     "execution_count": 129,
     "metadata": {},
     "output_type": "execute_result"
    }
   ],
   "source": [
    "df.columns"
   ]
  },
  {
   "cell_type": "code",
   "execution_count": 130,
   "metadata": {},
   "outputs": [
    {
     "data": {
      "text/plain": [
       "Text(0, 0.5, 'Count')"
      ]
     },
     "execution_count": 130,
     "metadata": {},
     "output_type": "execute_result"
    },
    {
     "data": {
      "image/png": "[encoded data removed]",
      "text/plain": [
       "<Figure size 640x480 with 1 Axes>"
      ]
     },
     "metadata": {},
     "output_type": "display_data"
    }
   ],
   "source": [
    "sns.histplot(df['age'], bins=30, edgecolor=\"black\")\n",
    "plt.title(\"Age Distribution\")\n",
    "plt.xlabel(\"Age\")\n",
    "plt.ylabel(\"Count\")"
   ]
  },
  {
   "cell_type": "code",
   "execution_count": 131,
   "metadata": {},
   "outputs": [
    {
     "data": {
      "text/plain": [
       "Text(0.5, 1.0, 'Survival Rate by Sex')"
      ]
     },
     "execution_count": 131,
     "metadata": {},
     "output_type": "execute_result"
    },
    {
     "data": {
      "image/png": "[encoded data removed]",
      "text/plain": [
       "<Figure size 640x480 with 1 Axes>"
      ]
     },
     "metadata": {},
     "output_type": "display_data"
    }
   ],
   "source": [
    "sns.barplot(data=df, x='sex', y='survived', palette='viridis', hue='sex')\n",
    "plt.title(\"Survival Rate by Sex\")\n",
    "\n",
    "# Dynamite plot - line shows variation"
   ]
  },
  {
   "cell_type": "code",
   "execution_count": 132,
   "metadata": {},
   "outputs": [
    {
     "data": {
      "text/plain": [
       "Index(['survived', 'pclass', 'sex', 'age', 'sibsp', 'parch', 'fare',\n",
       "       'embarked', 'class', 'who', 'adult_male', 'embark_town', 'alive',\n",
       "       'alone'],\n",
       "      dtype='object')"
      ]
     },
     "execution_count": 132,
     "metadata": {},
     "output_type": "execute_result"
    }
   ],
   "source": [
    "df.columns"
   ]
  },
  {
   "cell_type": "code",
   "execution_count": 133,
   "metadata": {},
   "outputs": [
    {
     "data": {
      "text/plain": [
       "<Axes: xlabel='age', ylabel='fare'>"
      ]
     },
     "execution_count": 133,
     "metadata": {},
     "output_type": "execute_result"
    },
    {
     "data": {
      "image/png": "[encoded data removed]",
      "text/plain": [
       "<Figure size 640x480 with 1 Axes>"
      ]
     },
     "metadata": {},
     "output_type": "display_data"
    }
   ],
   "source": [
    "sns.scatterplot(data=df, x='age', y='fare', hue='survived', style='sex')"
   ]
  },
  {
   "cell_type": "code",
   "execution_count": 142,
   "metadata": {},
   "outputs": [
    {
     "data": {
      "text/plain": [
       "<matplotlib.legend.Legend at 0x2a585fb50>"
      ]
     },
     "execution_count": 142,
     "metadata": {},
     "output_type": "execute_result"
    },
    {
     "data": {
      "image/png": "[encoded data removed]",
      "text/plain": [
       "<Figure size 640x480 with 1 Axes>"
      ]
     },
     "metadata": {},
     "output_type": "display_data"
    }
   ],
   "source": [
    "sns.violinplot(data=df, x='pclass', y='age', hue='survived', split=True).legend(labels=['Not Survived', 'Survived'])\n",
    "\n",
    "# TODO: Change label"
   ]
  },
  {
   "cell_type": "code",
   "execution_count": 135,
   "metadata": {},
   "outputs": [
    {
     "data": {
      "text/html": [
       "<div>\n",
       "<style scoped>\n",
       "    .dataframe tbody tr th:only-of-type {\n",
       "        vertical-align: middle;\n",
       "    }\n",
       "\n",
       "    .dataframe tbody tr th {\n",
       "        vertical-align: top;\n",
       "    }\n",
       "\n",
       "    .dataframe thead th {\n",
       "        text-align: right;\n",
       "    }\n",
       "</style>\n",
       "<table border=\"1\" class=\"dataframe\">\n",
       "  <thead>\n",
       "    <tr style=\"text-align: right;\">\n",
       "      <th></th>\n",
       "      <th>survived</th>\n",
       "      <th>pclass</th>\n",
       "      <th>age</th>\n",
       "      <th>sibsp</th>\n",
       "      <th>parch</th>\n",
       "      <th>fare</th>\n",
       "    </tr>\n",
       "  </thead>\n",
       "  <tbody>\n",
       "    <tr>\n",
       "      <th>0</th>\n",
       "      <td>0</td>\n",
       "      <td>3</td>\n",
       "      <td>22.0</td>\n",
       "      <td>1</td>\n",
       "      <td>0</td>\n",
       "      <td>7.2500</td>\n",
       "    </tr>\n",
       "    <tr>\n",
       "      <th>1</th>\n",
       "      <td>1</td>\n",
       "      <td>1</td>\n",
       "      <td>38.0</td>\n",
       "      <td>1</td>\n",
       "      <td>0</td>\n",
       "      <td>71.2833</td>\n",
       "    </tr>\n",
       "    <tr>\n",
       "      <th>2</th>\n",
       "      <td>1</td>\n",
       "      <td>3</td>\n",
       "      <td>26.0</td>\n",
       "      <td>0</td>\n",
       "      <td>0</td>\n",
       "      <td>7.9250</td>\n",
       "    </tr>\n",
       "    <tr>\n",
       "      <th>3</th>\n",
       "      <td>1</td>\n",
       "      <td>1</td>\n",
       "      <td>35.0</td>\n",
       "      <td>1</td>\n",
       "      <td>0</td>\n",
       "      <td>53.1000</td>\n",
       "    </tr>\n",
       "    <tr>\n",
       "      <th>4</th>\n",
       "      <td>0</td>\n",
       "      <td>3</td>\n",
       "      <td>35.0</td>\n",
       "      <td>0</td>\n",
       "      <td>0</td>\n",
       "      <td>8.0500</td>\n",
       "    </tr>\n",
       "  </tbody>\n",
       "</table>\n",
       "</div>"
      ],
      "text/plain": [
       "   survived  pclass   age  sibsp  parch     fare\n",
       "0         0       3  22.0      1      0   7.2500\n",
       "1         1       1  38.0      1      0  71.2833\n",
       "2         1       3  26.0      0      0   7.9250\n",
       "3         1       1  35.0      1      0  53.1000\n",
       "4         0       3  35.0      0      0   8.0500"
      ]
     },
     "execution_count": 135,
     "metadata": {},
     "output_type": "execute_result"
    }
   ],
   "source": [
    "df_subset = df.select_dtypes(include=[np.int64, np.float64])\n",
    "df_subset.head()"
   ]
  },
  {
   "cell_type": "code",
   "execution_count": 136,
   "metadata": {},
   "outputs": [
    {
     "data": {
      "text/plain": [
       "<seaborn.axisgrid.PairGrid at 0x2a4716b10>"
      ]
     },
     "execution_count": 136,
     "metadata": {},
     "output_type": "execute_result"
    },
    {
     "data": {
      "image/png": "[encoded data removed]",
      "text/plain": [
       "<Figure size 1312.99x1250 with 30 Axes>"
      ]
     },
     "metadata": {},
     "output_type": "display_data"
    }
   ],
   "source": [
    "sns.pairplot(df_subset, hue='survived')"
   ]
  },
  {
   "cell_type": "code",
   "execution_count": 137,
   "metadata": {},
   "outputs": [
    {
     "data": {
      "text/plain": [
       "<Axes: >"
      ]
     },
     "execution_count": 137,
     "metadata": {},
     "output_type": "execute_result"
    },
    {
     "data": {
      "image/png": "[encoded data removed]",
      "text/plain": [
       "<Figure size 640x480 with 2 Axes>"
      ]
     },
     "metadata": {},
     "output_type": "display_data"
    }
   ],
   "source": [
    "corr = df_subset.corr()\n",
    "sns.heatmap(corr, annot=True, cmap='coolwarm')"
   ]
  },
  {
   "cell_type": "code",
   "execution_count": 138,
   "metadata": {},
   "outputs": [],
   "source": [
    "sns.set_style('whitegrid')\n",
    "sns.set_palette('Set2')"
   ]
  },
  {
   "cell_type": "code",
   "execution_count": 144,
   "metadata": {},
   "outputs": [
    {
     "data": {
      "image/png": "[encoded data removed]",
      "text/plain": [
       "<Figure size 640x480 with 1 Axes>"
      ]
     },
     "metadata": {},
     "output_type": "display_data"
    }
   ],
   "source": [
    "sns.boxplot(data=df, x='pclass', y='age', hue='survived')\n",
    "plt.savefig(\"boxplot.png\", dpi=300)"
   ]
  },
  {
   "cell_type": "code",
   "execution_count": 147,
   "metadata": {},
   "outputs": [
    {
     "data": {
      "image/png": "[encoded data removed]",
      "text/plain": [
       "<Figure size 1600x600 with 2 Axes>"
      ]
     },
     "metadata": {},
     "output_type": "display_data"
    }
   ],
   "source": [
    "fig, (ax1, ax2) = plt.subplots(1,2, figsize=(16,6))\n",
    "\n",
    "sns.scatterplot(data=df, x='age', y='fare', hue='survived', ax=ax1)\n",
    "sns.scatterplot(data=df, x='age', y='fare', size='pclass', sizes=(20,200), hue='survived', ax=ax2)\n",
    "\n",
    "plt.tight_layout()"
   ]
  },
  {
   "cell_type": "code",
   "execution_count": 153,
   "metadata": {},
   "outputs": [
    {
     "data": {
      "text/plain": [
       "<Axes: xlabel='age', ylabel='fare'>"
      ]
     },
     "execution_count": 153,
     "metadata": {},
     "output_type": "execute_result"
    },
    {
     "data": {
      "image/png": "[encoded data removed]",
      "text/plain": [
       "<Figure size 640x480 with 1 Axes>"
      ]
     },
     "metadata": {},
     "output_type": "display_data"
    }
   ],
   "source": [
    "# Regression\n",
    "\n",
    "sns.regplot(data=df, x='age', y='fare', marker='+')"
   ]
  },
  {
   "cell_type": "code",
   "execution_count": 155,
   "metadata": {},
   "outputs": [
    {
     "data": {
      "application/vnd.plotly.v1+json": {
       "config": {
        "plotlyServerURL": "https://plot.ly"
       },
       "data": [
        {
         "customdata": [
          [
           3,
           "male"
          ],
          [
           1,
           "female"
          ],
          [
           3,
           "female"
          ],
          [
           1,
           "female"
          ],
          [
           3,
           "male"
          ],
          [
           3,
           "male"
          ],
          [
           1,
           "male"
          ],
          [
           3,
           "male"
          ],
          [
           3,
           "female"
          ],
          [
           2,
           "female"
          ],
          [
           3,
           "female"
          ],
          [
           1,
           "female"
          ],
          [
           3,
           "male"
          ],
          [
           3,
           "male"
          ],
          [
           3,
           "female"
          ],
          [
           2,
           "female"
          ],
          [
           3,
           "male"
          ],
          [
           2,
           "male"
          ],
          [
           3,
           "female"
          ],
          [
           3,
           "female"
          ],
          [
           2,
           "male"
          ],
          [
           2,
           "male"
          ],
          [
           3,
           "female"
          ],
          [
           1,
           "male"
          ],
          [
           3,
           "female"
          ],
          [
           3,
           "female"
          ],
          [
           3,
           "male"
          ],
          [
           1,
           "male"
          ],
          [
           3,
           "female"
          ],
          [
           3,
           "male"
          ],
          [
           1,
           "male"
          ],
          [
           1,
           "female"
          ],
          [
           3,
           "female"
          ],
          [
           2,
           "male"
          ],
          [
           1,
           "male"
          ],
          [
           1,
           "male"
          ],
          [
           3,
           "male"
          ],
          [
           3,
           "male"
          ],
          [
           3,
           "female"
          ],
          [
           3,
           "female"
          ],
          [
           3,
           "female"
          ],
          [
           2,
           "female"
          ],
          [
           3,
           "male"
          ],
          [
           2,
           "female"
          ],
          [
           3,
           "female"
          ],
          [
           3,
           "male"
          ],
          [
           3,
           "male"
          ],
          [
           3,
           "female"
          ],
          [
           3,
           "male"
          ],
          [
           3,
           "female"
          ],
          [
           3,
           "male"
          ],
          [
           3,
           "male"
          ],
          [
           1,
           "female"
          ],
          [
           2,
           "female"
          ],
          [
           1,
           "male"
          ],
          [
           1,
           "male"
          ],
          [
           2,
           "female"
          ],
          [
           3,
           "male"
          ],
          [
           2,
           "female"
          ],
          [
           3,
           "male"
          ],
          [
           3,
           "male"
          ],
          [
           1,
           "male"
          ],
          [
           3,
           "male"
          ],
          [
           1,
           "male"
          ],
          [
           3,
           "male"
          ],
          [
           2,
           "female"
          ],
          [
           3,
           "male"
          ],
          [
           3,
           "female"
          ],
          [
           3,
           "male"
          ],
          [
           2,
           "male"
          ],
          [
           3,
           "female"
          ],
          [
           2,
           "male"
          ],
          [
           3,
           "male"
          ],
          [
           3,
           "male"
          ],
          [
           3,
           "male"
          ],
          [
           3,
           "male"
          ],
          [
           3,
           "male"
          ],
          [
           2,
           "male"
          ],
          [
           3,
           "female"
          ],
          [
           3,
           "male"
          ],
          [
           3,
           "male"
          ],
          [
           3,
           "female"
          ],
          [
           1,
           "male"
          ],
          [
           2,
           "female"
          ],
          [
           3,
           "female"
          ],
          [
           3,
           "male"
          ],
          [
           3,
           "male"
          ],
          [
           1,
           "female"
          ],
          [
           3,
           "male"
          ],
          [
           3,
           "male"
          ],
          [
           3,
           "male"
          ],
          [
           1,
           "male"
          ],
          [
           3,
           "male"
          ],
          [
           3,
           "male"
          ],
          [
           3,
           "male"
          ],
          [
           1,
           "male"
          ],
          [
           1,
           "male"
          ],
          [
           2,
           "female"
          ],
          [
           2,
           "male"
          ],
          [
           3,
           "female"
          ],
          [
           3,
           "male"
          ],
          [
           1,
           "male"
          ],
          [
           3,
           "male"
          ],
          [
           3,
           "male"
          ],
          [
           3,
           "male"
          ],
          [
           3,
           "female"
          ],
          [
           3,
           "male"
          ],
          [
           3,
           "male"
          ],
          [
           3,
           "female"
          ],
          [
           1,
           "male"
          ],
          [
           3,
           "female"
          ],
          [
           3,
           "male"
          ],
          [
           3,
           "female"
          ],
          [
           3,
           "female"
          ],
          [
           3,
           "male"
          ],
          [
           3,
           "male"
          ],
          [
           2,
           "male"
          ],
          [
           1,
           "male"
          ],
          [
           3,
           "female"
          ],
          [
           2,
           "male"
          ],
          [
           3,
           "male"
          ],
          [
           2,
           "male"
          ],
          [
           2,
           "female"
          ],
          [
           1,
           "male"
          ],
          [
           3,
           "male"
          ],
          [
           3,
           "male"
          ],
          [
           3,
           "male"
          ],
          [
           3,
           "female"
          ],
          [
           3,
           "male"
          ],
          [
           3,
           "male"
          ],
          [
           3,
           "male"
          ],
          [
           3,
           "female"
          ],
          [
           2,
           "female"
          ],
          [
           2,
           "male"
          ],
          [
           2,
           "male"
          ],
          [
           1,
           "female"
          ],
          [
           1,
           "male"
          ],
          [
           3,
           "male"
          ],
          [
           1,
           "male"
          ],
          [
           3,
           "female"
          ],
          [
           3,
           "female"
          ],
          [
           3,
           "female"
          ],
          [
           3,
           "male"
          ],
          [
           2,
           "male"
          ],
          [
           2,
           "male"
          ],
          [
           3,
           "male"
          ],
          [
           3,
           "female"
          ],
          [
           2,
           "male"
          ],
          [
           2,
           "male"
          ],
          [
           2,
           "male"
          ],
          [
           1,
           "female"
          ],
          [
           3,
           "male"
          ],
          [
           3,
           "male"
          ],
          [
           3,
           "male"
          ],
          [
           1,
           "male"
          ],
          [
           3,
           "female"
          ],
          [
           3,
           "male"
          ],
          [
           3,
           "male"
          ],
          [
           3,
           "male"
          ],
          [
           3,
           "male"
          ],
          [
           2,
           "female"
          ],
          [
           3,
           "male"
          ],
          [
           3,
           "male"
          ],
          [
           3,
           "male"
          ],
          [
           3,
           "male"
          ],
          [
           1,
           "female"
          ],
          [
           3,
           "female"
          ],
          [
           1,
           "male"
          ],
          [
           3,
           "male"
          ],
          [
           1,
           "male"
          ],
          [
           3,
           "male"
          ],
          [
           3,
           "female"
          ],
          [
           3,
           "male"
          ],
          [
           1,
           "male"
          ],
          [
           3,
           "male"
          ],
          [
           3,
           "male"
          ],
          [
           1,
           "female"
          ],
          [
           2,
           "male"
          ],
          [
           3,
           "male"
          ],
          [
           3,
           "female"
          ],
          [
           2,
           "male"
          ],
          [
           3,
           "male"
          ],
          [
           2,
           "male"
          ],
          [
           3,
           "female"
          ],
          [
           1,
           "male"
          ],
          [
           3,
           "female"
          ],
          [
           1,
           "male"
          ],
          [
           3,
           "male"
          ],
          [
           3,
           "male"
          ],
          [
           2,
           "female"
          ],
          [
           2,
           "male"
          ],
          [
           3,
           "female"
          ],
          [
           2,
           "male"
          ],
          [
           1,
           "female"
          ],
          [
           1,
           "female"
          ],
          [
           3,
           "male"
          ],
          [
           3,
           "male"
          ],
          [
           3,
           "female"
          ],
          [
           2,
           "female"
          ],
          [
           3,
           "male"
          ],
          [
           3,
           "male"
          ],
          [
           3,
           "male"
          ],
          [
           3,
           "male"
          ],
          [
           3,
           "male"
          ],
          [
           3,
           "female"
          ],
          [
           3,
           "male"
          ],
          [
           3,
           "male"
          ],
          [
           3,
           "female"
          ],
          [
           1,
           "male"
          ],
          [
           3,
           "male"
          ],
          [
           2,
           "female"
          ],
          [
           3,
           "male"
          ],
          [
           2,
           "male"
          ],
          [
           3,
           "male"
          ],
          [
           1,
           "female"
          ],
          [
           3,
           "female"
          ],
          [
           2,
           "male"
          ],
          [
           1,
           "female"
          ],
          [
           2,
           "male"
          ],
          [
           3,
           "male"
          ],
          [
           2,
           "male"
          ],
          [
           3,
           "male"
          ],
          [
           3,
           "male"
          ],
          [
           1,
           "male"
          ],
          [
           3,
           "male"
          ],
          [
           2,
           "male"
          ],
          [
           3,
           "male"
          ],
          [
           2,
           "male"
          ],
          [
           3,
           "female"
          ],
          [
           1,
           "female"
          ],
          [
           3,
           "male"
          ],
          [
           2,
           "male"
          ],
          [
           3,
           "female"
          ],
          [
           2,
           "male"
          ],
          [
           3,
           "female"
          ],
          [
           2,
           "male"
          ],
          [
           2,
           "female"
          ],
          [
           2,
           "male"
          ],
          [
           2,
           "male"
          ],
          [
           3,
           "female"
          ],
          [
           3,
           "female"
          ],
          [
           2,
           "male"
          ],
          [
           3,
           "male"
          ],
          [
           3,
           "male"
          ],
          [
           1,
           "male"
          ],
          [
           3,
           "female"
          ],
          [
           2,
           "female"
          ],
          [
           1,
           "male"
          ],
          [
           2,
           "male"
          ],
          [
           3,
           "male"
          ],
          [
           3,
           "female"
          ],
          [
           1,
           "male"
          ],
          [
           3,
           "male"
          ],
          [
           3,
           "female"
          ],
          [
           3,
           "female"
          ],
          [
           1,
           "female"
          ],
          [
           1,
           "female"
          ],
          [
           1,
           "female"
          ],
          [
           2,
           "female"
          ],
          [
           3,
           "male"
          ],
          [
           3,
           "male"
          ],
          [
           1,
           "male"
          ],
          [
           1,
           "male"
          ],
          [
           3,
           "female"
          ],
          [
           2,
           "male"
          ],
          [
           3,
           "male"
          ],
          [
           3,
           "male"
          ],
          [
           1,
           "female"
          ],
          [
           1,
           "female"
          ],
          [
           1,
           "male"
          ],
          [
           3,
           "male"
          ],
          [
           2,
           "female"
          ],
          [
           1,
           "male"
          ],
          [
           3,
           "female"
          ],
          [
           1,
           "female"
          ],
          [
           3,
           "female"
          ],
          [
           2,
           "male"
          ],
          [
           3,
           "male"
          ],
          [
           3,
           "female"
          ],
          [
           3,
           "male"
          ],
          [
           3,
           "male"
          ],
          [
           3,
           "male"
          ],
          [
           3,
           "male"
          ],
          [
           1,
           "male"
          ],
          [
           3,
           "male"
          ],
          [
           3,
           "male"
          ],
          [
           3,
           "male"
          ],
          [
           2,
           "male"
          ],
          [
           3,
           "female"
          ],
          [
           1,
           "female"
          ],
          [
           1,
           "female"
          ],
          [
           2,
           "male"
          ],
          [
           3,
           "female"
          ],
          [
           3,
           "male"
          ],
          [
           1,
           "male"
          ],
          [
           3,
           "male"
          ],
          [
           1,
           "female"
          ],
          [
           1,
           "male"
          ],
          [
           1,
           "female"
          ],
          [
           3,
           "female"
          ],
          [
           3,
           "male"
          ],
          [
           3,
           "male"
          ],
          [
           2,
           "female"
          ],
          [
           3,
           "male"
          ],
          [
           1,
           "male"
          ],
          [
           1,
           "female"
          ],
          [
           1,
           "female"
          ],
          [
           2,
           "male"
          ],
          [
           1,
           "female"
          ],
          [
           1,
           "female"
          ],
          [
           1,
           "female"
          ],
          [
           2,
           "female"
          ],
          [
           3,
           "male"
          ],
          [
           2,
           "male"
          ],
          [
           3,
           "female"
          ],
          [
           2,
           "female"
          ],
          [
           2,
           "male"
          ],
          [
           1,
           "female"
          ],
          [
           1,
           "female"
          ],
          [
           3,
           "male"
          ],
          [
           3,
           "male"
          ],
          [
           2,
           "female"
          ],
          [
           2,
           "female"
          ],
          [
           3,
           "male"
          ],
          [
           1,
           "female"
          ],
          [
           3,
           "male"
          ],
          [
           2,
           "female"
          ],
          [
           3,
           "female"
          ],
          [
           1,
           "female"
          ],
          [
           3,
           "female"
          ],
          [
           1,
           "male"
          ],
          [
           1,
           "male"
          ],
          [
           3,
           "male"
          ],
          [
           1,
           "female"
          ],
          [
           3,
           "male"
          ],
          [
           1,
           "male"
          ],
          [
           1,
           "female"
          ],
          [
           3,
           "male"
          ],
          [
           1,
           "male"
          ],
          [
           2,
           "male"
          ],
          [
           1,
           "female"
          ],
          [
           2,
           "male"
          ],
          [
           2,
           "male"
          ],
          [
           2,
           "male"
          ],
          [
           2,
           "female"
          ],
          [
           2,
           "female"
          ],
          [
           3,
           "female"
          ],
          [
           3,
           "male"
          ],
          [
           3,
           "male"
          ],
          [
           3,
           "male"
          ],
          [
           1,
           "male"
          ],
          [
           3,
           "male"
          ],
          [
           3,
           "male"
          ],
          [
           3,
           "male"
          ],
          [
           3,
           "male"
          ],
          [
           1,
           "female"
          ],
          [
           2,
           "female"
          ],
          [
           3,
           "female"
          ],
          [
           3,
           "female"
          ],
          [
           3,
           "male"
          ],
          [
           2,
           "male"
          ],
          [
           3,
           "female"
          ],
          [
           3,
           "male"
          ],
          [
           3,
           "male"
          ],
          [
           3,
           "male"
          ],
          [
           1,
           "female"
          ],
          [
           3,
           "female"
          ],
          [
           3,
           "female"
          ],
          [
           1,
           "female"
          ],
          [
           1,
           "male"
          ],
          [
           3,
           "male"
          ],
          [
           3,
           "male"
          ],
          [
           1,
           "male"
          ],
          [
           3,
           "female"
          ],
          [
           1,
           "female"
          ],
          [
           3,
           "female"
          ],
          [
           1,
           "male"
          ],
          [
           3,
           "male"
          ],
          [
           3,
           "male"
          ],
          [
           1,
           "female"
          ],
          [
           3,
           "female"
          ],
          [
           3,
           "male"
          ],
          [
           1,
           "female"
          ],
          [
           3,
           "male"
          ],
          [
           2,
           "male"
          ],
          [
           3,
           "male"
          ],
          [
           2,
           "female"
          ],
          [
           3,
           "male"
          ],
          [
           2,
           "female"
          ],
          [
           1,
           "male"
          ],
          [
           3,
           "male"
          ],
          [
           3,
           "male"
          ],
          [
           1,
           "female"
          ],
          [
           3,
           "female"
          ],
          [
           3,
           "male"
          ],
          [
           3,
           "female"
          ],
          [
           2,
           "male"
          ],
          [
           2,
           "male"
          ],
          [
           2,
           "female"
          ],
          [
           3,
           "male"
          ],
          [
           3,
           "male"
          ],
          [
           3,
           "female"
          ],
          [
           3,
           "male"
          ],
          [
           3,
           "female"
          ],
          [
           2,
           "male"
          ],
          [
           3,
           "male"
          ],
          [
           2,
           "male"
          ],
          [
           3,
           "male"
          ],
          [
           3,
           "female"
          ],
          [
           3,
           "male"
          ],
          [
           3,
           "male"
          ],
          [
           1,
           "female"
          ],
          [
           2,
           "male"
          ],
          [
           3,
           "male"
          ],
          [
           3,
           "female"
          ],
          [
           2,
           "female"
          ],
          [
           2,
           "female"
          ],
          [
           2,
           "male"
          ],
          [
           3,
           "female"
          ],
          [
           3,
           "male"
          ],
          [
           3,
           "male"
          ],
          [
           3,
           "male"
          ],
          [
           3,
           "female"
          ],
          [
           3,
           "male"
          ],
          [
           3,
           "male"
          ],
          [
           2,
           "female"
          ],
          [
           2,
           "female"
          ],
          [
           3,
           "male"
          ],
          [
           3,
           "male"
          ],
          [
           1,
           "male"
          ],
          [
           3,
           "female"
          ],
          [
           2,
           "female"
          ],
          [
           3,
           "male"
          ],
          [
           1,
           "male"
          ],
          [
           1,
           "female"
          ],
          [
           3,
           "female"
          ],
          [
           2,
           "female"
          ],
          [
           1,
           "male"
          ],
          [
           2,
           "male"
          ],
          [
           2,
           "female"
          ],
          [
           3,
           "male"
          ],
          [
           3,
           "male"
          ],
          [
           2,
           "female"
          ],
          [
           3,
           "male"
          ],
          [
           1,
           "male"
          ],
          [
           2,
           "female"
          ],
          [
           1,
           "male"
          ],
          [
           3,
           "female"
          ],
          [
           1,
           "male"
          ],
          [
           2,
           "male"
          ],
          [
           3,
           "male"
          ],
          [
           1,
           "male"
          ],
          [
           1,
           "male"
          ],
          [
           3,
           "male"
          ],
          [
           3,
           "male"
          ],
          [
           1,
           "male"
          ],
          [
           1,
           "female"
          ],
          [
           2,
           "female"
          ],
          [
           3,
           "male"
          ],
          [
           1,
           "male"
          ],
          [
           3,
           "male"
          ],
          [
           1,
           "male"
          ],
          [
           2,
           "male"
          ],
          [
           3,
           "male"
          ],
          [
           3,
           "male"
          ],
          [
           2,
           "male"
          ],
          [
           1,
           "male"
          ],
          [
           3,
           "male"
          ],
          [
           3,
           "female"
          ],
          [
           3,
           "male"
          ],
          [
           3,
           "male"
          ],
          [
           2,
           "female"
          ],
          [
           2,
           "female"
          ],
          [
           3,
           "female"
          ],
          [
           1,
           "male"
          ],
          [
           2,
           "male"
          ],
          [
           3,
           "male"
          ],
          [
           3,
           "male"
          ],
          [
           3,
           "female"
          ],
          [
           3,
           "male"
          ],
          [
           2,
           "male"
          ],
          [
           3,
           "male"
          ],
          [
           3,
           "female"
          ],
          [
           1,
           "male"
          ],
          [
           3,
           "female"
          ],
          [
           1,
           "female"
          ],
          [
           1,
           "male"
          ],
          [
           3,
           "male"
          ],
          [
           3,
           "male"
          ],
          [
           3,
           "male"
          ],
          [
           3,
           "male"
          ],
          [
           1,
           "male"
          ],
          [
           1,
           "male"
          ],
          [
           3,
           "male"
          ],
          [
           3,
           "male"
          ],
          [
           1,
           "female"
          ],
          [
           3,
           "male"
          ],
          [
           1,
           "female"
          ],
          [
           3,
           "male"
          ],
          [
           3,
           "male"
          ],
          [
           3,
           "female"
          ],
          [
           3,
           "female"
          ],
          [
           3,
           "female"
          ],
          [
           1,
           "female"
          ],
          [
           1,
           "male"
          ],
          [
           2,
           "female"
          ],
          [
           1,
           "male"
          ],
          [
           3,
           "male"
          ],
          [
           3,
           "male"
          ],
          [
           3,
           "male"
          ],
          [
           3,
           "male"
          ],
          [
           1,
           "male"
          ],
          [
           1,
           "female"
          ],
          [
           3,
           "male"
          ],
          [
           1,
           "male"
          ],
          [
           2,
           "female"
          ],
          [
           3,
           "male"
          ],
          [
           2,
           "female"
          ],
          [
           3,
           "male"
          ],
          [
           1,
           "female"
          ],
          [
           3,
           "male"
          ],
          [
           3,
           "male"
          ],
          [
           1,
           "female"
          ],
          [
           3,
           "male"
          ],
          [
           3,
           "male"
          ],
          [
           2,
           "female"
          ],
          [
           1,
           "male"
          ],
          [
           3,
           "male"
          ],
          [
           2,
           "male"
          ],
          [
           2,
           "female"
          ],
          [
           3,
           "male"
          ],
          [
           3,
           "male"
          ],
          [
           3,
           "female"
          ],
          [
           3,
           "female"
          ],
          [
           2,
           "female"
          ],
          [
           1,
           "male"
          ],
          [
           1,
           "female"
          ],
          [
           3,
           "male"
          ],
          [
           1,
           "female"
          ],
          [
           1,
           "female"
          ],
          [
           3,
           "female"
          ],
          [
           3,
           "female"
          ],
          [
           2,
           "male"
          ],
          [
           1,
           "male"
          ],
          [
           1,
           "male"
          ],
          [
           2,
           "female"
          ],
          [
           2,
           "male"
          ],
          [
           3,
           "male"
          ],
          [
           2,
           "male"
          ],
          [
           1,
           "male"
          ],
          [
           2,
           "male"
          ],
          [
           3,
           "male"
          ],
          [
           3,
           "male"
          ],
          [
           3,
           "female"
          ],
          [
           1,
           "male"
          ],
          [
           1,
           "female"
          ],
          [
           1,
           "male"
          ],
          [
           1,
           "female"
          ],
          [
           3,
           "female"
          ],
          [
           3,
           "male"
          ],
          [
           3,
           "male"
          ],
          [
           2,
           "male"
          ],
          [
           3,
           "male"
          ],
          [
           3,
           "female"
          ],
          [
           3,
           "male"
          ],
          [
           3,
           "male"
          ],
          [
           3,
           "female"
          ],
          [
           3,
           "male"
          ],
          [
           3,
           "male"
          ],
          [
           2,
           "male"
          ],
          [
           1,
           "female"
          ],
          [
           1,
           "male"
          ],
          [
           3,
           "female"
          ],
          [
           3,
           "male"
          ],
          [
           3,
           "male"
          ],
          [
           2,
           "female"
          ],
          [
           1,
           "female"
          ],
          [
           3,
           "female"
          ],
          [
           3,
           "male"
          ],
          [
           2,
           "female"
          ],
          [
           1,
           "female"
          ],
          [
           2,
           "male"
          ],
          [
           1,
           "male"
          ],
          [
           3,
           "male"
          ],
          [
           1,
           "female"
          ],
          [
           2,
           "male"
          ],
          [
           1,
           "male"
          ],
          [
           3,
           "male"
          ],
          [
           3,
           "male"
          ],
          [
           3,
           "male"
          ],
          [
           1,
           "female"
          ],
          [
           3,
           "male"
          ],
          [
           3,
           "female"
          ],
          [
           2,
           "male"
          ],
          [
           3,
           "male"
          ],
          [
           2,
           "female"
          ],
          [
           3,
           "male"
          ],
          [
           3,
           "male"
          ],
          [
           1,
           "male"
          ],
          [
           2,
           "female"
          ],
          [
           3,
           "male"
          ],
          [
           1,
           "male"
          ],
          [
           3,
           "male"
          ],
          [
           1,
           "male"
          ],
          [
           3,
           "male"
          ],
          [
           3,
           "male"
          ],
          [
           1,
           "male"
          ],
          [
           2,
           "female"
          ],
          [
           1,
           "female"
          ],
          [
           3,
           "female"
          ],
          [
           3,
           "male"
          ],
          [
           3,
           "female"
          ],
          [
           3,
           "male"
          ],
          [
           3,
           "male"
          ],
          [
           2,
           "female"
          ],
          [
           3,
           "male"
          ],
          [
           3,
           "female"
          ],
          [
           2,
           "female"
          ],
          [
           2,
           "male"
          ],
          [
           3,
           "male"
          ],
          [
           1,
           "male"
          ],
          [
           3,
           "male"
          ],
          [
           3,
           "male"
          ],
          [
           3,
           "male"
          ],
          [
           1,
           "male"
          ],
          [
           2,
           "male"
          ],
          [
           1,
           "female"
          ],
          [
           3,
           "male"
          ],
          [
           3,
           "male"
          ],
          [
           1,
           "male"
          ],
          [
           3,
           "male"
          ],
          [
           1,
           "male"
          ],
          [
           1,
           "male"
          ],
          [
           3,
           "female"
          ],
          [
           2,
           "female"
          ],
          [
           3,
           "male"
          ],
          [
           2,
           "male"
          ],
          [
           3,
           "female"
          ],
          [
           3,
           "male"
          ],
          [
           3,
           "male"
          ],
          [
           1,
           "female"
          ],
          [
           3,
           "female"
          ],
          [
           3,
           "male"
          ],
          [
           3,
           "female"
          ],
          [
           1,
           "male"
          ],
          [
           3,
           "male"
          ],
          [
           1,
           "male"
          ],
          [
           3,
           "male"
          ],
          [
           3,
           "female"
          ],
          [
           3,
           "male"
          ],
          [
           2,
           "female"
          ],
          [
           3,
           "male"
          ],
          [
           3,
           "female"
          ],
          [
           3,
           "female"
          ],
          [
           2,
           "male"
          ],
          [
           3,
           "male"
          ],
          [
           3,
           "female"
          ],
          [
           2,
           "male"
          ],
          [
           1,
           "male"
          ],
          [
           1,
           "male"
          ],
          [
           3,
           "male"
          ],
          [
           1,
           "male"
          ],
          [
           3,
           "male"
          ],
          [
           3,
           "male"
          ],
          [
           2,
           "male"
          ],
          [
           2,
           "male"
          ],
          [
           3,
           "male"
          ],
          [
           3,
           "male"
          ],
          [
           1,
           "female"
          ],
          [
           2,
           "female"
          ],
          [
           1,
           "male"
          ],
          [
           2,
           "male"
          ],
          [
           2,
           "male"
          ],
          [
           2,
           "male"
          ],
          [
           3,
           "male"
          ],
          [
           3,
           "male"
          ],
          [
           3,
           "female"
          ],
          [
           3,
           "female"
          ],
          [
           1,
           "male"
          ],
          [
           3,
           "female"
          ],
          [
           1,
           "male"
          ],
          [
           3,
           "male"
          ],
          [
           3,
           "male"
          ],
          [
           2,
           "male"
          ],
          [
           2,
           "male"
          ],
          [
           3,
           "male"
          ],
          [
           3,
           "male"
          ],
          [
           3,
           "male"
          ],
          [
           1,
           "female"
          ],
          [
           1,
           "male"
          ],
          [
           3,
           "female"
          ],
          [
           3,
           "male"
          ],
          [
           3,
           "male"
          ],
          [
           1,
           "male"
          ],
          [
           2,
           "male"
          ],
          [
           3,
           "male"
          ],
          [
           3,
           "female"
          ],
          [
           1,
           "male"
          ],
          [
           3,
           "male"
          ],
          [
           1,
           "female"
          ],
          [
           1,
           "male"
          ],
          [
           3,
           "female"
          ],
          [
           3,
           "male"
          ],
          [
           3,
           "male"
          ],
          [
           2,
           "male"
          ],
          [
           2,
           "female"
          ],
          [
           1,
           "male"
          ],
          [
           1,
           "female"
          ],
          [
           3,
           "male"
          ],
          [
           1,
           "female"
          ],
          [
           1,
           "male"
          ],
          [
           1,
           "male"
          ],
          [
           3,
           "male"
          ],
          [
           2,
           "male"
          ],
          [
           3,
           "male"
          ],
          [
           1,
           "female"
          ],
          [
           2,
           "female"
          ],
          [
           3,
           "male"
          ],
          [
           3,
           "male"
          ],
          [
           2,
           "female"
          ],
          [
           3,
           "male"
          ],
          [
           2,
           "male"
          ],
          [
           2,
           "male"
          ],
          [
           1,
           "male"
          ],
          [
           3,
           "male"
          ],
          [
           2,
           "female"
          ],
          [
           3,
           "female"
          ],
          [
           2,
           "male"
          ],
          [
           3,
           "female"
          ],
          [
           1,
           "female"
          ],
          [
           3,
           "male"
          ],
          [
           2,
           "male"
          ],
          [
           2,
           "male"
          ],
          [
           2,
           "male"
          ],
          [
           3,
           "male"
          ],
          [
           3,
           "female"
          ],
          [
           1,
           "male"
          ],
          [
           3,
           "male"
          ],
          [
           3,
           "male"
          ],
          [
           1,
           "male"
          ],
          [
           1,
           "male"
          ],
          [
           1,
           "female"
          ],
          [
           3,
           "male"
          ],
          [
           3,
           "male"
          ],
          [
           1,
           "male"
          ],
          [
           3,
           "male"
          ],
          [
           2,
           "female"
          ],
          [
           1,
           "male"
          ],
          [
           3,
           "male"
          ],
          [
           2,
           "female"
          ],
          [
           3,
           "male"
          ],
          [
           3,
           "male"
          ],
          [
           3,
           "male"
          ],
          [
           2,
           "female"
          ],
          [
           2,
           "male"
          ],
          [
           3,
           "male"
          ],
          [
           2,
           "male"
          ],
          [
           3,
           "male"
          ],
          [
           1,
           "female"
          ],
          [
           3,
           "male"
          ],
          [
           3,
           "male"
          ],
          [
           3,
           "male"
          ],
          [
           1,
           "female"
          ],
          [
           3,
           "male"
          ],
          [
           1,
           "female"
          ],
          [
           1,
           "male"
          ],
          [
           3,
           "female"
          ],
          [
           3,
           "male"
          ],
          [
           3,
           "male"
          ],
          [
           3,
           "male"
          ],
          [
           3,
           "male"
          ],
          [
           2,
           "female"
          ],
          [
           3,
           "male"
          ],
          [
           2,
           "female"
          ],
          [
           3,
           "male"
          ],
          [
           3,
           "male"
          ],
          [
           3,
           "female"
          ],
          [
           3,
           "male"
          ],
          [
           1,
           "female"
          ],
          [
           3,
           "female"
          ],
          [
           1,
           "female"
          ],
          [
           1,
           "male"
          ],
          [
           3,
           "male"
          ],
          [
           3,
           "male"
          ],
          [
           3,
           "male"
          ],
          [
           3,
           "female"
          ],
          [
           3,
           "male"
          ],
          [
           3,
           "male"
          ],
          [
           1,
           "male"
          ],
          [
           3,
           "male"
          ],
          [
           2,
           "male"
          ],
          [
           3,
           "female"
          ],
          [
           1,
           "male"
          ],
          [
           3,
           "male"
          ],
          [
           2,
           "male"
          ],
          [
           1,
           "female"
          ],
          [
           3,
           "female"
          ],
          [
           3,
           "male"
          ],
          [
           3,
           "female"
          ],
          [
           2,
           "male"
          ],
          [
           2,
           "female"
          ],
          [
           1,
           "male"
          ],
          [
           3,
           "male"
          ],
          [
           3,
           "male"
          ],
          [
           3,
           "male"
          ],
          [
           1,
           "male"
          ],
          [
           3,
           "female"
          ],
          [
           2,
           "male"
          ],
          [
           1,
           "female"
          ],
          [
           3,
           "male"
          ],
          [
           3,
           "male"
          ],
          [
           2,
           "male"
          ],
          [
           3,
           "female"
          ],
          [
           3,
           "male"
          ],
          [
           1,
           "male"
          ],
          [
           3,
           "female"
          ],
          [
           2,
           "male"
          ],
          [
           3,
           "male"
          ],
          [
           3,
           "male"
          ],
          [
           1,
           "female"
          ],
          [
           3,
           "male"
          ],
          [
           1,
           "male"
          ],
          [
           3,
           "female"
          ],
          [
           3,
           "male"
          ],
          [
           3,
           "male"
          ],
          [
           3,
           "male"
          ],
          [
           2,
           "male"
          ],
          [
           3,
           "male"
          ],
          [
           3,
           "female"
          ],
          [
           2,
           "male"
          ],
          [
           3,
           "male"
          ],
          [
           3,
           "male"
          ],
          [
           3,
           "male"
          ],
          [
           1,
           "female"
          ],
          [
           3,
           "male"
          ],
          [
           3,
           "male"
          ],
          [
           3,
           "male"
          ],
          [
           1,
           "male"
          ],
          [
           3,
           "male"
          ],
          [
           2,
           "male"
          ],
          [
           1,
           "female"
          ],
          [
           3,
           "male"
          ],
          [
           3,
           "male"
          ],
          [
           3,
           "male"
          ],
          [
           3,
           "male"
          ],
          [
           3,
           "male"
          ],
          [
           2,
           "male"
          ],
          [
           1,
           "female"
          ],
          [
           3,
           "male"
          ],
          [
           3,
           "male"
          ],
          [
           3,
           "female"
          ],
          [
           1,
           "female"
          ],
          [
           2,
           "female"
          ],
          [
           3,
           "female"
          ],
          [
           1,
           "female"
          ],
          [
           1,
           "male"
          ],
          [
           3,
           "female"
          ],
          [
           3,
           "male"
          ],
          [
           3,
           "male"
          ],
          [
           2,
           "male"
          ],
          [
           1,
           "female"
          ],
          [
           3,
           "female"
          ],
          [
           2,
           "male"
          ],
          [
           2,
           "female"
          ],
          [
           2,
           "female"
          ],
          [
           1,
           "male"
          ],
          [
           3,
           "male"
          ],
          [
           3,
           "male"
          ],
          [
           3,
           "male"
          ],
          [
           1,
           "female"
          ],
          [
           1,
           "male"
          ],
          [
           3,
           "male"
          ],
          [
           2,
           "female"
          ],
          [
           3,
           "female"
          ],
          [
           3,
           "male"
          ],
          [
           3,
           "male"
          ],
          [
           3,
           "male"
          ],
          [
           1,
           "female"
          ],
          [
           2,
           "female"
          ],
          [
           3,
           "male"
          ],
          [
           3,
           "female"
          ],
          [
           2,
           "male"
          ],
          [
           3,
           "male"
          ],
          [
           3,
           "female"
          ],
          [
           2,
           "male"
          ],
          [
           1,
           "female"
          ],
          [
           3,
           "female"
          ],
          [
           1,
           "male"
          ],
          [
           3,
           "male"
          ]
         ],
         "hovertemplate": "age=%{x}<br>fare=%{y}<br>pclass=%{customdata[0]}<br>sex=%{customdata[1]}<br>survived=%{marker.color}<extra></extra>",
         "legendgroup": "",
         "marker": {
          "color": [
           0,
           1,
           1,
           1,
           0,
           0,
           0,
           0,
           1,
           1,
           1,
           1,
           0,
           0,
           0,
           1,
           0,
           1,
           0,
           1,
           0,
           1,
           1,
           1,
           0,
           1,
           0,
           0,
           1,
           0,
           0,
           1,
           1,
           0,
           0,
           0,
           1,
           0,
           0,
           1,
           0,
           0,
           0,
           1,
           1,
           0,
           0,
           1,
           0,
           0,
           0,
           0,
           1,
           1,
           0,
           1,
           1,
           0,
           1,
           0,
           0,
           0,
           0,
           0,
           1,
           1,
           0,
           1,
           0,
           0,
           0,
           0,
           0,
           1,
           0,
           0,
           0,
           1,
           1,
           0,
           1,
           1,
           0,
           1,
           1,
           0,
           0,
           1,
           0,
           0,
           0,
           0,
           0,
           0,
           0,
           0,
           1,
           1,
           0,
           0,
           0,
           0,
           0,
           0,
           0,
           1,
           1,
           0,
           1,
           0,
           0,
           0,
           0,
           0,
           0,
           0,
           0,
           0,
           0,
           0,
           0,
           0,
           1,
           0,
           1,
           0,
           1,
           1,
           0,
           0,
           0,
           0,
           1,
           0,
           0,
           1,
           0,
           0,
           0,
           0,
           1,
           1,
           0,
           0,
           0,
           1,
           0,
           0,
           0,
           0,
           1,
           0,
           0,
           0,
           0,
           1,
           0,
           0,
           0,
           0,
           1,
           0,
           0,
           0,
           1,
           1,
           0,
           0,
           0,
           0,
           0,
           1,
           0,
           0,
           0,
           0,
           0,
           0,
           0,
           0,
           0,
           0,
           1,
           1,
           0,
           1,
           1,
           0,
           0,
           1,
           0,
           1,
           1,
           1,
           1,
           0,
           0,
           1,
           0,
           0,
           0,
           0,
           0,
           1,
           0,
           0,
           1,
           1,
           1,
           0,
           1,
           0,
           0,
           0,
           1,
           1,
           0,
           1,
           0,
           1,
           0,
           0,
           0,
           1,
           0,
           1,
           0,
           0,
           0,
           1,
           0,
           0,
           1,
           0,
           0,
           0,
           1,
           0,
           0,
           0,
           1,
           0,
           0,
           0,
           0,
           0,
           1,
           1,
           0,
           0,
           0,
           0,
           0,
           0,
           1,
           1,
           1,
           1,
           1,
           0,
           1,
           0,
           0,
           0,
           0,
           0,
           1,
           1,
           1,
           0,
           1,
           1,
           0,
           1,
           1,
           0,
           0,
           0,
           1,
           0,
           0,
           0,
           1,
           0,
           0,
           1,
           0,
           1,
           1,
           1,
           1,
           0,
           0,
           0,
           0,
           0,
           0,
           1,
           1,
           1,
           1,
           0,
           1,
           0,
           1,
           1,
           1,
           0,
           1,
           1,
           1,
           0,
           0,
           0,
           1,
           1,
           0,
           1,
           1,
           0,
           0,
           1,
           1,
           0,
           1,
           0,
           1,
           1,
           1,
           1,
           0,
           0,
           0,
           1,
           0,
           0,
           1,
           1,
           0,
           1,
           1,
           0,
           0,
           0,
           1,
           1,
           1,
           1,
           0,
           0,
           0,
           0,
           0,
           0,
           0,
           1,
           0,
           1,
           1,
           0,
           0,
           0,
           0,
           0,
           0,
           1,
           1,
           1,
           1,
           1,
           0,
           0,
           0,
           0,
           1,
           1,
           0,
           0,
           0,
           1,
           1,
           0,
           1,
           0,
           0,
           0,
           1,
           0,
           1,
           1,
           1,
           0,
           1,
           1,
           0,
           0,
           0,
           0,
           1,
           1,
           0,
           0,
           0,
           0,
           0,
           0,
           1,
           0,
           0,
           0,
           0,
           1,
           0,
           1,
           0,
           1,
           1,
           0,
           0,
           0,
           0,
           0,
           0,
           0,
           0,
           1,
           1,
           0,
           1,
           1,
           1,
           1,
           0,
           0,
           1,
           0,
           1,
           0,
           0,
           1,
           0,
           0,
           1,
           1,
           1,
           1,
           1,
           1,
           1,
           0,
           0,
           0,
           1,
           0,
           1,
           0,
           1,
           1,
           0,
           1,
           0,
           0,
           0,
           0,
           0,
           0,
           0,
           0,
           1,
           0,
           0,
           1,
           1,
           0,
           0,
           0,
           0,
           0,
           1,
           0,
           0,
           0,
           1,
           1,
           0,
           1,
           0,
           0,
           1,
           0,
           0,
           0,
           0,
           0,
           0,
           1,
           0,
           0,
           0,
           0,
           0,
           0,
           0,
           1,
           0,
           1,
           1,
           0,
           1,
           1,
           0,
           1,
           1,
           0,
           0,
           1,
           0,
           1,
           0,
           1,
           0,
           0,
           1,
           0,
           0,
           1,
           0,
           0,
           0,
           1,
           0,
           0,
           1,
           0,
           1,
           0,
           1,
           0,
           1,
           1,
           0,
           0,
           1,
           0,
           0,
           1,
           1,
           0,
           1,
           1,
           0,
           0,
           1,
           1,
           0,
           1,
           0,
           1,
           1,
           0,
           0,
           0,
           0,
           0,
           0,
           0,
           0,
           0,
           1,
           1,
           1,
           1,
           1,
           0,
           0,
           1,
           1,
           0,
           1,
           1,
           1,
           0,
           0,
           0,
           1,
           0,
           1,
           0,
           0,
           0,
           1,
           0,
           0,
           0,
           0,
           1,
           0,
           0,
           1,
           1,
           0,
           0,
           0,
           1,
           0,
           0,
           1,
           1,
           1,
           0,
           0,
           1,
           0,
           0,
           1,
           0,
           0,
           1,
           0,
           0,
           1,
           1,
           0,
           0,
           0,
           0,
           1,
           0,
           0,
           1,
           0,
           1,
           0,
           0,
           1,
           0,
           0,
           0,
           0,
           0,
           1,
           0,
           1,
           1,
           1,
           0,
           1,
           0,
           1,
           0,
           1,
           0,
           1,
           0,
           0,
           0,
           0,
           0,
           0,
           1,
           0,
           0,
           0,
           1,
           0,
           0,
           0,
           0,
           1,
           1,
           0,
           0,
           1,
           0,
           0,
           0,
           1,
           0,
           1,
           0,
           1,
           0,
           0,
           0,
           0,
           0,
           0,
           0,
           1,
           1,
           1,
           1,
           0,
           0,
           0,
           0,
           1,
           0,
           0,
           1,
           1,
           0,
           0,
           0,
           0,
           1,
           1,
           1,
           1,
           1,
           0,
           1,
           0,
           0,
           0,
           1,
           1,
           0,
           0,
           1,
           0,
           0,
           0,
           1,
           0,
           1,
           1,
           0,
           0,
           1,
           0,
           0,
           0,
           0,
           0,
           0,
           1,
           0,
           0,
           1,
           0,
           1,
           0,
           1,
           0,
           0,
           1,
           0,
           0,
           1,
           1,
           0,
           0,
           1,
           1,
           0,
           0,
           0,
           1,
           0,
           0,
           1,
           1,
           0,
           1,
           0,
           0,
           0,
           0,
           0,
           0,
           0,
           0,
           1,
           0,
           0,
           1,
           0,
           1,
           1,
           1,
           0,
           0,
           0,
           0,
           1,
           0,
           1,
           0,
           0,
           0,
           0,
           0,
           0,
           0,
           1,
           1,
           0,
           0,
           0,
           1,
           1,
           1,
           1,
           0,
           0,
           0,
           0,
           1,
           0,
           0,
           0,
           0,
           0,
           0,
           0,
           0,
           0,
           0,
           1,
           1,
           0,
           1,
           0,
           0,
           0,
           1,
           1,
           1,
           1,
           0,
           0,
           0,
           1,
           0,
           0,
           1,
           1,
           0,
           0,
           1,
           0,
           0,
           0,
           0,
           0,
           0,
           1,
           0,
           0,
           0,
           1,
           0,
           1,
           1,
           1,
           1,
           0,
           0,
           0,
           1,
           0,
           0,
           1,
           1,
           0,
           0,
           1,
           0,
           1,
           0,
           0,
           1,
           1,
           0,
           0,
           0,
           1,
           1,
           0,
           0,
           0,
           0,
           0,
           0,
           1,
           0,
           1,
           0
          ],
          "coloraxis": "coloraxis",
          "symbol": "circle"
         },
         "mode": "markers",
         "name": "",
         "orientation": "v",
         "showlegend": false,
         "type": "scatter",
         "x": [
          22,
          38,
          26,
          35,
          35,
          28,
          54,
          2,
          27,
          14,
          4,
          58,
          20,
          39,
          14,
          55,
          2,
          28,
          31,
          28,
          35,
          34,
          15,
          28,
          8,
          38,
          28,
          19,
          28,
          28,
          40,
          28,
          28,
          66,
          28,
          42,
          28,
          21,
          18,
          14,
          40,
          27,
          28,
          3,
          19,
          28,
          28,
          28,
          28,
          18,
          7,
          21,
          49,
          29,
          65,
          28,
          21,
          28.5,
          5,
          11,
          22,
          45,
          4,
          28,
          28,
          29,
          19,
          17,
          26,
          32,
          16,
          21,
          26,
          32,
          25,
          28,
          28,
          0.83,
          30,
          22,
          29,
          28,
          28,
          17,
          33,
          16,
          28,
          23,
          24,
          29,
          20,
          46,
          26,
          59,
          28,
          71,
          23,
          34,
          34,
          28,
          28,
          21,
          33,
          37,
          28,
          21,
          28,
          38,
          28,
          47,
          14.5,
          22,
          20,
          17,
          21,
          70.5,
          29,
          24,
          2,
          21,
          28,
          32.5,
          32.5,
          54,
          12,
          28,
          24,
          28,
          45,
          33,
          20,
          47,
          29,
          25,
          23,
          19,
          37,
          16,
          24,
          28,
          22,
          24,
          19,
          18,
          19,
          27,
          9,
          36.5,
          42,
          51,
          22,
          55.5,
          40.5,
          28,
          51,
          16,
          30,
          28,
          28,
          44,
          40,
          26,
          17,
          1,
          9,
          28,
          45,
          28,
          28,
          61,
          4,
          1,
          21,
          56,
          18,
          28,
          50,
          30,
          36,
          28,
          28,
          9,
          1,
          4,
          28,
          28,
          45,
          40,
          36,
          32,
          19,
          19,
          3,
          44,
          58,
          28,
          42,
          28,
          24,
          28,
          28,
          34,
          45.5,
          18,
          2,
          32,
          26,
          16,
          40,
          24,
          35,
          22,
          30,
          28,
          31,
          27,
          42,
          32,
          30,
          16,
          27,
          51,
          28,
          38,
          22,
          19,
          20.5,
          18,
          28,
          35,
          29,
          59,
          5,
          24,
          28,
          44,
          8,
          19,
          33,
          28,
          28,
          29,
          22,
          30,
          44,
          25,
          24,
          37,
          54,
          28,
          29,
          62,
          30,
          41,
          29,
          28,
          30,
          35,
          50,
          28,
          3,
          52,
          40,
          28,
          36,
          16,
          25,
          58,
          35,
          28,
          25,
          41,
          37,
          28,
          63,
          45,
          28,
          7,
          35,
          65,
          28,
          16,
          19,
          28,
          33,
          30,
          22,
          42,
          22,
          26,
          19,
          36,
          24,
          24,
          28,
          23.5,
          2,
          28,
          50,
          28,
          28,
          19,
          28,
          28,
          0.92,
          28,
          17,
          30,
          30,
          24,
          18,
          26,
          28,
          43,
          26,
          24,
          54,
          31,
          40,
          22,
          27,
          30,
          22,
          28,
          36,
          61,
          36,
          31,
          16,
          28,
          45.5,
          38,
          16,
          28,
          28,
          29,
          41,
          45,
          45,
          2,
          24,
          28,
          25,
          36,
          24,
          40,
          28,
          3,
          42,
          23,
          28,
          15,
          25,
          28,
          28,
          22,
          38,
          28,
          28,
          40,
          29,
          45,
          35,
          28,
          30,
          60,
          28,
          28,
          24,
          25,
          18,
          19,
          22,
          3,
          28,
          22,
          27,
          20,
          19,
          42,
          1,
          32,
          35,
          28,
          18,
          1,
          36,
          28,
          17,
          36,
          21,
          28,
          23,
          24,
          22,
          31,
          46,
          23,
          28,
          39,
          26,
          21,
          28,
          20,
          34,
          51,
          3,
          21,
          28,
          28,
          28,
          33,
          28,
          44,
          28,
          34,
          18,
          30,
          10,
          28,
          21,
          29,
          28,
          18,
          28,
          28,
          19,
          28,
          32,
          28,
          28,
          42,
          17,
          50,
          14,
          21,
          24,
          64,
          31,
          45,
          20,
          25,
          28,
          28,
          4,
          13,
          34,
          5,
          52,
          36,
          28,
          30,
          49,
          28,
          29,
          65,
          28,
          50,
          28,
          48,
          34,
          47,
          48,
          28,
          38,
          28,
          56,
          28,
          0.75,
          28,
          38,
          33,
          23,
          22,
          28,
          34,
          29,
          22,
          2,
          9,
          28,
          50,
          63,
          25,
          28,
          35,
          58,
          30,
          9,
          28,
          21,
          55,
          71,
          21,
          28,
          54,
          28,
          25,
          24,
          17,
          21,
          28,
          37,
          16,
          18,
          33,
          28,
          28,
          26,
          29,
          28,
          36,
          54,
          24,
          47,
          34,
          28,
          36,
          32,
          30,
          22,
          28,
          44,
          28,
          40.5,
          50,
          28,
          39,
          23,
          2,
          28,
          17,
          28,
          30,
          7,
          45,
          30,
          28,
          22,
          36,
          9,
          11,
          32,
          50,
          64,
          19,
          28,
          33,
          8,
          17,
          27,
          28,
          22,
          22,
          62,
          48,
          28,
          39,
          36,
          28,
          40,
          28,
          28,
          28,
          24,
          19,
          29,
          28,
          32,
          62,
          53,
          36,
          28,
          16,
          19,
          34,
          39,
          28,
          32,
          25,
          39,
          54,
          36,
          28,
          18,
          47,
          60,
          22,
          28,
          35,
          52,
          47,
          28,
          37,
          36,
          28,
          49,
          28,
          49,
          24,
          28,
          28,
          44,
          35,
          36,
          30,
          27,
          22,
          40,
          39,
          28,
          28,
          28,
          35,
          24,
          34,
          26,
          4,
          26,
          27,
          42,
          20,
          21,
          21,
          61,
          57,
          21,
          26,
          28,
          80,
          51,
          32,
          28,
          9,
          28,
          32,
          31,
          41,
          28,
          20,
          24,
          2,
          28,
          0.75,
          48,
          19,
          56,
          28,
          23,
          28,
          18,
          21,
          28,
          18,
          24,
          28,
          32,
          23,
          58,
          50,
          40,
          47,
          36,
          20,
          32,
          25,
          28,
          43,
          28,
          40,
          31,
          70,
          31,
          28,
          18,
          24.5,
          18,
          43,
          36,
          28,
          27,
          20,
          14,
          60,
          25,
          14,
          19,
          18,
          15,
          31,
          4,
          28,
          25,
          60,
          52,
          44,
          28,
          49,
          42,
          18,
          35,
          18,
          25,
          26,
          39,
          45,
          42,
          22,
          28,
          24,
          28,
          48,
          29,
          52,
          19,
          38,
          27,
          28,
          33,
          6,
          17,
          34,
          50,
          27,
          20,
          30,
          28,
          25,
          25,
          29,
          11,
          28,
          23,
          23,
          28.5,
          48,
          35,
          28,
          28,
          28,
          36,
          21,
          24,
          31,
          70,
          16,
          30,
          19,
          31,
          4,
          6,
          33,
          23,
          48,
          0.67,
          28,
          18,
          34,
          33,
          28,
          41,
          20,
          36,
          16,
          51,
          28,
          30.5,
          28,
          32,
          24,
          48,
          57,
          28,
          54,
          18,
          28,
          5,
          28,
          43,
          13,
          17,
          29,
          28,
          25,
          25,
          18,
          8,
          1,
          46,
          28,
          16,
          28,
          28,
          25,
          39,
          49,
          31,
          30,
          30,
          34,
          31,
          11,
          0.42,
          27,
          31,
          39,
          18,
          39,
          33,
          26,
          39,
          35,
          6,
          30.5,
          28,
          23,
          31,
          43,
          10,
          52,
          27,
          38,
          27,
          2,
          28,
          28,
          1,
          28,
          15,
          0.83,
          28,
          23,
          18,
          39,
          21,
          28,
          32,
          28,
          20,
          16,
          30,
          34.5,
          17,
          42,
          28,
          35,
          28,
          28,
          4,
          74,
          9,
          16,
          44,
          18,
          45,
          51,
          24,
          28,
          41,
          21,
          48,
          28,
          24,
          42,
          27,
          31,
          28,
          4,
          26,
          47,
          33,
          47,
          28,
          15,
          20,
          19,
          28,
          56,
          25,
          33,
          22,
          28,
          25,
          39,
          27,
          19,
          28,
          26,
          32
         ],
         "xaxis": "x",
         "y": [
          7.25,
          71.2833,
          7.925,
          53.1,
          8.05,
          8.4583,
          51.8625,
          21.075,
          11.1333,
          30.0708,
          16.7,
          26.55,
          8.05,
          31.275,
          7.8542,
          16,
          29.125,
          13,
          18,
          7.225,
          26,
          13,
          8.0292,
          35.5,
          21.075,
          31.3875,
          7.225,
          263,
          7.8792,
          7.8958,
          27.7208,
          146.5208,
          7.75,
          10.5,
          82.1708,
          52,
          7.2292,
          8.05,
          18,
          11.2417,
          9.475,
          21,
          7.8958,
          41.5792,
          7.8792,
          8.05,
          15.5,
          7.75,
          21.6792,
          17.8,
          39.6875,
          7.8,
          76.7292,
          26,
          61.9792,
          35.5,
          10.5,
          7.2292,
          27.75,
          46.9,
          7.2292,
          83.475,
          27.9,
          27.7208,
          15.2458,
          10.5,
          8.1583,
          7.925,
          8.6625,
          10.5,
          46.9,
          73.5,
          14.4542,
          56.4958,
          7.65,
          7.8958,
          8.05,
          29,
          12.475,
          9,
          9.5,
          7.7875,
          47.1,
          10.5,
          15.85,
          34.375,
          8.05,
          263,
          8.05,
          8.05,
          7.8542,
          61.175,
          20.575,
          7.25,
          8.05,
          34.6542,
          63.3583,
          23,
          26,
          7.8958,
          7.8958,
          77.2875,
          8.6542,
          7.925,
          7.8958,
          7.65,
          7.775,
          7.8958,
          24.15,
          52,
          14.4542,
          8.05,
          9.825,
          14.4583,
          7.925,
          7.75,
          21,
          247.5208,
          31.275,
          73.5,
          8.05,
          30.0708,
          13,
          77.2875,
          11.2417,
          7.75,
          7.1417,
          22.3583,
          6.975,
          7.8958,
          7.05,
          14.5,
          26,
          13,
          15.0458,
          26.2833,
          53.1,
          9.2167,
          79.2,
          15.2458,
          7.75,
          15.85,
          6.75,
          11.5,
          36.75,
          7.7958,
          34.375,
          26,
          13,
          12.525,
          66.6,
          8.05,
          14.5,
          7.3125,
          61.3792,
          7.7333,
          8.05,
          8.6625,
          69.55,
          16.1,
          15.75,
          7.775,
          8.6625,
          39.6875,
          20.525,
          55,
          27.9,
          25.925,
          56.4958,
          33.5,
          29.125,
          11.1333,
          7.925,
          30.6958,
          7.8542,
          25.4667,
          28.7125,
          13,
          0,
          69.55,
          15.05,
          31.3875,
          39,
          22.025,
          50,
          15.5,
          26.55,
          15.5,
          7.8958,
          13,
          13,
          7.8542,
          26,
          27.7208,
          146.5208,
          7.75,
          8.4042,
          7.75,
          13,
          9.5,
          69.55,
          6.4958,
          7.225,
          8.05,
          10.4625,
          15.85,
          18.7875,
          7.75,
          31,
          7.05,
          21,
          7.25,
          13,
          7.75,
          113.275,
          7.925,
          27,
          76.2917,
          10.5,
          8.05,
          13,
          8.05,
          7.8958,
          90,
          9.35,
          10.5,
          7.25,
          13,
          25.4667,
          83.475,
          7.775,
          13.5,
          31.3875,
          10.5,
          7.55,
          26,
          26.25,
          10.5,
          12.275,
          14.4542,
          15.5,
          10.5,
          7.125,
          7.225,
          90,
          7.775,
          14.5,
          52.5542,
          26,
          7.25,
          10.4625,
          26.55,
          16.1,
          20.2125,
          15.2458,
          79.2,
          86.5,
          512.3292,
          26,
          7.75,
          31.3875,
          79.65,
          0,
          7.75,
          10.5,
          39.6875,
          7.775,
          153.4625,
          135.6333,
          31,
          0,
          19.5,
          29.7,
          7.75,
          77.9583,
          7.75,
          0,
          29.125,
          20.25,
          7.75,
          7.8542,
          9.5,
          8.05,
          26,
          8.6625,
          9.5,
          7.8958,
          13,
          7.75,
          78.85,
          91.0792,
          12.875,
          8.85,
          7.8958,
          27.7208,
          7.2292,
          151.55,
          30.5,
          247.5208,
          7.75,
          23.25,
          0,
          12.35,
          8.05,
          151.55,
          110.8833,
          108.9,
          24,
          56.9292,
          83.1583,
          262.375,
          26,
          7.8958,
          26.25,
          7.8542,
          26,
          14,
          164.8667,
          134.5,
          7.25,
          7.8958,
          12.35,
          29,
          69.55,
          135.6333,
          6.2375,
          13,
          20.525,
          57.9792,
          23.25,
          28.5,
          153.4625,
          18,
          133.65,
          7.8958,
          66.6,
          134.5,
          8.05,
          35.5,
          26,
          263,
          13,
          13,
          13,
          13,
          13,
          16.1,
          15.9,
          8.6625,
          9.225,
          35,
          7.2292,
          17.8,
          7.225,
          9.5,
          55,
          13,
          7.8792,
          7.8792,
          27.9,
          27.7208,
          14.4542,
          7.05,
          15.5,
          7.25,
          75.25,
          7.2292,
          7.75,
          69.3,
          55.4417,
          6.4958,
          8.05,
          135.6333,
          21.075,
          82.1708,
          7.25,
          211.5,
          4.0125,
          7.775,
          227.525,
          15.7417,
          7.925,
          52,
          7.8958,
          73.5,
          46.9,
          13,
          7.7292,
          12,
          120,
          7.7958,
          7.925,
          113.275,
          16.7,
          7.7958,
          7.8542,
          26,
          10.5,
          12.65,
          7.925,
          8.05,
          9.825,
          15.85,
          8.6625,
          21,
          7.75,
          18.75,
          7.775,
          25.4667,
          7.8958,
          6.8583,
          90,
          0,
          7.925,
          8.05,
          32.5,
          13,
          13,
          24.15,
          7.8958,
          7.7333,
          7.875,
          14.4,
          20.2125,
          7.25,
          26,
          26,
          7.75,
          8.05,
          26.55,
          16.1,
          26,
          7.125,
          55.9,
          120,
          34.375,
          18.75,
          263,
          10.5,
          26.25,
          9.5,
          7.775,
          13,
          8.1125,
          81.8583,
          19.5,
          26.55,
          19.2583,
          30.5,
          27.75,
          19.9667,
          27.75,
          89.1042,
          8.05,
          7.8958,
          26.55,
          51.8625,
          10.5,
          7.75,
          26.55,
          8.05,
          38.5,
          13,
          8.05,
          7.05,
          0,
          26.55,
          7.725,
          19.2583,
          7.25,
          8.6625,
          27.75,
          13.7917,
          9.8375,
          52,
          21,
          7.0458,
          7.5208,
          12.2875,
          46.9,
          0,
          8.05,
          9.5875,
          91.0792,
          25.4667,
          90,
          29.7,
          8.05,
          15.9,
          19.9667,
          7.25,
          30.5,
          49.5042,
          8.05,
          14.4583,
          78.2667,
          15.1,
          151.55,
          7.7958,
          8.6625,
          7.75,
          7.6292,
          9.5875,
          86.5,
          108.9,
          26,
          26.55,
          22.525,
          56.4958,
          7.75,
          8.05,
          26.2875,
          59.4,
          7.4958,
          34.0208,
          10.5,
          24.15,
          26,
          7.8958,
          93.5,
          7.8958,
          7.225,
          57.9792,
          7.2292,
          7.75,
          10.5,
          221.7792,
          7.925,
          11.5,
          26,
          7.2292,
          7.2292,
          22.3583,
          8.6625,
          26.25,
          26.55,
          106.425,
          14.5,
          49.5,
          71,
          31.275,
          31.275,
          26,
          106.425,
          26,
          26,
          13.8625,
          20.525,
          36.75,
          110.8833,
          26,
          7.8292,
          7.225,
          7.775,
          26.55,
          39.6,
          227.525,
          79.65,
          17.4,
          7.75,
          7.8958,
          13.5,
          8.05,
          8.05,
          24.15,
          7.8958,
          21.075,
          7.2292,
          7.8542,
          10.5,
          51.4792,
          26.3875,
          7.75,
          8.05,
          14.5,
          13,
          55.9,
          14.4583,
          7.925,
          30,
          110.8833,
          26,
          40.125,
          8.7125,
          79.65,
          15,
          79.2,
          8.05,
          8.05,
          7.125,
          78.2667,
          7.25,
          7.75,
          26,
          24.15,
          33,
          0,
          7.225,
          56.9292,
          27,
          7.8958,
          42.4,
          8.05,
          26.55,
          15.55,
          7.8958,
          30.5,
          41.5792,
          153.4625,
          31.275,
          7.05,
          15.5,
          7.75,
          8.05,
          65,
          14.4,
          16.1,
          39,
          10.5,
          14.4542,
          52.5542,
          15.7417,
          7.8542,
          16.1,
          32.3208,
          12.35,
          77.9583,
          7.8958,
          7.7333,
          30,
          7.0542,
          30.5,
          0,
          27.9,
          13,
          7.925,
          26.25,
          39.6875,
          16.1,
          7.8542,
          69.3,
          27.9,
          56.4958,
          19.2583,
          76.7292,
          7.8958,
          35.5,
          7.55,
          7.55,
          7.8958,
          23,
          8.4333,
          7.8292,
          6.75,
          73.5,
          7.8958,
          15.5,
          13,
          113.275,
          133.65,
          7.225,
          25.5875,
          7.4958,
          7.925,
          73.5,
          13,
          7.775,
          8.05,
          52,
          39,
          52,
          10.5,
          13,
          0,
          7.775,
          8.05,
          9.8417,
          46.9,
          512.3292,
          8.1375,
          76.7292,
          9.225,
          46.9,
          39,
          41.5792,
          39.6875,
          10.1708,
          7.7958,
          211.3375,
          57,
          13.4167,
          56.4958,
          7.225,
          26.55,
          13.5,
          8.05,
          7.7333,
          110.8833,
          7.65,
          227.525,
          26.2875,
          14.4542,
          7.7417,
          7.8542,
          26,
          13.5,
          26.2875,
          151.55,
          15.2458,
          49.5042,
          26.55,
          52,
          9.4833,
          13,
          7.65,
          227.525,
          10.5,
          15.5,
          7.775,
          33,
          7.0542,
          13,
          13,
          53.1,
          8.6625,
          21,
          7.7375,
          26,
          7.925,
          211.3375,
          18.7875,
          0,
          13,
          13,
          16.1,
          34.375,
          512.3292,
          7.8958,
          7.8958,
          30,
          78.85,
          262.375,
          16.1,
          7.925,
          71,
          20.25,
          13,
          53.1,
          7.75,
          23,
          12.475,
          9.5,
          7.8958,
          65,
          14.5,
          7.7958,
          11.5,
          8.05,
          86.5,
          14.5,
          7.125,
          7.2292,
          120,
          7.775,
          77.9583,
          39.6,
          7.75,
          24.15,
          8.3625,
          9.5,
          7.8542,
          10.5,
          7.225,
          23,
          7.75,
          7.75,
          12.475,
          7.7375,
          211.3375,
          7.2292,
          57,
          30,
          23.45,
          7.05,
          7.25,
          7.4958,
          29.125,
          20.575,
          79.2,
          7.75,
          26,
          69.55,
          30.6958,
          7.8958,
          13,
          25.9292,
          8.6833,
          7.2292,
          24.15,
          13,
          26.25,
          120,
          8.5167,
          6.975,
          7.775,
          0,
          7.775,
          13,
          53.1,
          7.8875,
          24.15,
          10.5,
          31.275,
          8.05,
          0,
          7.925,
          37.0042,
          6.45,
          27.9,
          93.5,
          8.6625,
          0,
          12.475,
          39.6875,
          6.95,
          56.4958,
          37.0042,
          7.75,
          14.4542,
          18.75,
          7.2292,
          7.8542,
          8.3,
          83.1583,
          8.6625,
          8.05,
          56.4958,
          29.7,
          7.925,
          10.5,
          31,
          6.4375,
          8.6625,
          7.55,
          69.55,
          7.8958,
          33,
          89.1042,
          31.275,
          7.775,
          15.2458,
          39.4,
          26,
          9.35,
          164.8667,
          26.55,
          19.2583,
          7.2292,
          14.1083,
          11.5,
          25.9292,
          69.55,
          13,
          13,
          13.8583,
          50.4958,
          9.5,
          11.1333,
          7.8958,
          52.5542,
          5,
          9,
          24,
          7.225,
          9.8458,
          7.8958,
          7.8958,
          83.1583,
          26,
          7.8958,
          10.5167,
          10.5,
          7.05,
          29.125,
          13,
          30,
          23.45,
          30,
          7.75
         ],
         "yaxis": "y"
        }
       ],
       "layout": {
        "coloraxis": {
         "colorbar": {
          "title": {
           "text": "survived"
          }
         },
         "colorscale": [
          [
           0,
           "#0d0887"
          ],
          [
           0.1111111111111111,
           "#46039f"
          ],
          [
           0.2222222222222222,
           "#7201a8"
          ],
          [
           0.3333333333333333,
           "#9c179e"
          ],
          [
           0.4444444444444444,
           "#bd3786"
          ],
          [
           0.5555555555555556,
           "#d8576b"
          ],
          [
           0.6666666666666666,
           "#ed7953"
          ],
          [
           0.7777777777777778,
           "#fb9f3a"
          ],
          [
           0.8888888888888888,
           "#fdca26"
          ],
          [
           1,
           "#f0f921"
          ]
         ]
        },
        "legend": {
         "tracegroupgap": 0
        },
        "margin": {
         "t": 60
        },
        "template": {
         "data": {
          "bar": [
           {
            "error_x": {
             "color": "#2a3f5f"
            },
            "error_y": {
             "color": "#2a3f5f"
            },
            "marker": {
             "line": {
              "color": "#E5ECF6",
              "width": 0.5
             },
             "pattern": {
              "fillmode": "overlay",
              "size": 10,
              "solidity": 0.2
             }
            },
            "type": "bar"
           }
          ],
          "barpolar": [
           {
            "marker": {
             "line": {
              "color": "#E5ECF6",
              "width": 0.5
             },
             "pattern": {
              "fillmode": "overlay",
              "size": 10,
              "solidity": 0.2
             }
            },
            "type": "barpolar"
           }
          ],
          "carpet": [
           {
            "aaxis": {
             "endlinecolor": "#2a3f5f",
             "gridcolor": "white",
             "linecolor": "white",
             "minorgridcolor": "white",
             "startlinecolor": "#2a3f5f"
            },
            "baxis": {
             "endlinecolor": "#2a3f5f",
             "gridcolor": "white",
             "linecolor": "white",
             "minorgridcolor": "white",
             "startlinecolor": "#2a3f5f"
            },
            "type": "carpet"
           }
          ],
          "choropleth": [
           {
            "colorbar": {
             "outlinewidth": 0,
             "ticks": ""
            },
            "type": "choropleth"
           }
          ],
          "contour": [
           {
            "colorbar": {
             "outlinewidth": 0,
             "ticks": ""
            },
            "colorscale": [
             [
              0,
              "#0d0887"
             ],
             [
              0.1111111111111111,
              "#46039f"
             ],
             [
              0.2222222222222222,
              "#7201a8"
             ],
             [
              0.3333333333333333,
              "#9c179e"
             ],
             [
              0.4444444444444444,
              "#bd3786"
             ],
             [
              0.5555555555555556,
              "#d8576b"
             ],
             [
              0.6666666666666666,
              "#ed7953"
             ],
             [
              0.7777777777777778,
              "#fb9f3a"
             ],
             [
              0.8888888888888888,
              "#fdca26"
             ],
             [
              1,
              "#f0f921"
             ]
            ],
            "type": "contour"
           }
          ],
          "contourcarpet": [
           {
            "colorbar": {
             "outlinewidth": 0,
             "ticks": ""
            },
            "type": "contourcarpet"
           }
          ],
          "heatmap": [
           {
            "colorbar": {
             "outlinewidth": 0,
             "ticks": ""
            },
            "colorscale": [
             [
              0,
              "#0d0887"
             ],
             [
              0.1111111111111111,
              "#46039f"
             ],
             [
              0.2222222222222222,
              "#7201a8"
             ],
             [
              0.3333333333333333,
              "#9c179e"
             ],
             [
              0.4444444444444444,
              "#bd3786"
             ],
             [
              0.5555555555555556,
              "#d8576b"
             ],
             [
              0.6666666666666666,
              "#ed7953"
             ],
             [
              0.7777777777777778,
              "#fb9f3a"
             ],
             [
              0.8888888888888888,
              "#fdca26"
             ],
             [
              1,
              "#f0f921"
             ]
            ],
            "type": "heatmap"
           }
          ],
          "heatmapgl": [
           {
            "colorbar": {
             "outlinewidth": 0,
             "ticks": ""
            },
            "colorscale": [
             [
              0,
              "#0d0887"
             ],
             [
              0.1111111111111111,
              "#46039f"
             ],
             [
              0.2222222222222222,
              "#7201a8"
             ],
             [
              0.3333333333333333,
              "#9c179e"
             ],
             [
              0.4444444444444444,
              "#bd3786"
             ],
             [
              0.5555555555555556,
              "#d8576b"
             ],
             [
              0.6666666666666666,
              "#ed7953"
             ],
             [
              0.7777777777777778,
              "#fb9f3a"
             ],
             [
              0.8888888888888888,
              "#fdca26"
             ],
             [
              1,
              "#f0f921"
             ]
            ],
            "type": "heatmapgl"
           }
          ],
          "histogram": [
           {
            "marker": {
             "pattern": {
              "fillmode": "overlay",
              "size": 10,
              "solidity": 0.2
             }
            },
            "type": "histogram"
           }
          ],
          "histogram2d": [
           {
            "colorbar": {
             "outlinewidth": 0,
             "ticks": ""
            },
            "colorscale": [
             [
              0,
              "#0d0887"
             ],
             [
              0.1111111111111111,
              "#46039f"
             ],
             [
              0.2222222222222222,
              "#7201a8"
             ],
             [
              0.3333333333333333,
              "#9c179e"
             ],
             [
              0.4444444444444444,
              "#bd3786"
             ],
             [
              0.5555555555555556,
              "#d8576b"
             ],
             [
              0.6666666666666666,
              "#ed7953"
             ],
             [
              0.7777777777777778,
              "#fb9f3a"
             ],
             [
              0.8888888888888888,
              "#fdca26"
             ],
             [
              1,
              "#f0f921"
             ]
            ],
            "type": "histogram2d"
           }
          ],
          "histogram2dcontour": [
           {
            "colorbar": {
             "outlinewidth": 0,
             "ticks": ""
            },
            "colorscale": [
             [
              0,
              "#0d0887"
             ],
             [
              0.1111111111111111,
              "#46039f"
             ],
             [
              0.2222222222222222,
              "#7201a8"
             ],
             [
              0.3333333333333333,
              "#9c179e"
             ],
             [
              0.4444444444444444,
              "#bd3786"
             ],
             [
              0.5555555555555556,
              "#d8576b"
             ],
             [
              0.6666666666666666,
              "#ed7953"
             ],
             [
              0.7777777777777778,
              "#fb9f3a"
             ],
             [
              0.8888888888888888,
              "#fdca26"
             ],
             [
              1,
              "#f0f921"
             ]
            ],
            "type": "histogram2dcontour"
           }
          ],
          "mesh3d": [
           {
            "colorbar": {
             "outlinewidth": 0,
             "ticks": ""
            },
            "type": "mesh3d"
           }
          ],
          "parcoords": [
           {
            "line": {
             "colorbar": {
              "outlinewidth": 0,
              "ticks": ""
             }
            },
            "type": "parcoords"
           }
          ],
          "pie": [
           {
            "automargin": true,
            "type": "pie"
           }
          ],
          "scatter": [
           {
            "fillpattern": {
             "fillmode": "overlay",
             "size": 10,
             "solidity": 0.2
            },
            "type": "scatter"
           }
          ],
          "scatter3d": [
           {
            "line": {
             "colorbar": {
              "outlinewidth": 0,
              "ticks": ""
             }
            },
            "marker": {
             "colorbar": {
              "outlinewidth": 0,
              "ticks": ""
             }
            },
            "type": "scatter3d"
           }
          ],
          "scattercarpet": [
           {
            "marker": {
             "colorbar": {
              "outlinewidth": 0,
              "ticks": ""
             }
            },
            "type": "scattercarpet"
           }
          ],
          "scattergeo": [
           {
            "marker": {
             "colorbar": {
              "outlinewidth": 0,
              "ticks": ""
             }
            },
            "type": "scattergeo"
           }
          ],
          "scattergl": [
           {
            "marker": {
             "colorbar": {
              "outlinewidth": 0,
              "ticks": ""
             }
            },
            "type": "scattergl"
           }
          ],
          "scattermapbox": [
           {
            "marker": {
             "colorbar": {
              "outlinewidth": 0,
              "ticks": ""
             }
            },
            "type": "scattermapbox"
           }
          ],
          "scatterpolar": [
           {
            "marker": {
             "colorbar": {
              "outlinewidth": 0,
              "ticks": ""
             }
            },
            "type": "scatterpolar"
           }
          ],
          "scatterpolargl": [
           {
            "marker": {
             "colorbar": {
              "outlinewidth": 0,
              "ticks": ""
             }
            },
            "type": "scatterpolargl"
           }
          ],
          "scatterternary": [
           {
            "marker": {
             "colorbar": {
              "outlinewidth": 0,
              "ticks": ""
             }
            },
            "type": "scatterternary"
           }
          ],
          "surface": [
           {
            "colorbar": {
             "outlinewidth": 0,
             "ticks": ""
            },
            "colorscale": [
             [
              0,
              "#0d0887"
             ],
             [
              0.1111111111111111,
              "#46039f"
             ],
             [
              0.2222222222222222,
              "#7201a8"
             ],
             [
              0.3333333333333333,
              "#9c179e"
             ],
             [
              0.4444444444444444,
              "#bd3786"
             ],
             [
              0.5555555555555556,
              "#d8576b"
             ],
             [
              0.6666666666666666,
              "#ed7953"
             ],
             [
              0.7777777777777778,
              "#fb9f3a"
             ],
             [
              0.8888888888888888,
              "#fdca26"
             ],
             [
              1,
              "#f0f921"
             ]
            ],
            "type": "surface"
           }
          ],
          "table": [
           {
            "cells": {
             "fill": {
              "color": "#EBF0F8"
             },
             "line": {
              "color": "white"
             }
            },
            "header": {
             "fill": {
              "color": "#C8D4E3"
             },
             "line": {
              "color": "white"
             }
            },
            "type": "table"
           }
          ]
         },
         "layout": {
          "annotationdefaults": {
           "arrowcolor": "#2a3f5f",
           "arrowhead": 0,
           "arrowwidth": 1
          },
          "autotypenumbers": "strict",
          "coloraxis": {
           "colorbar": {
            "outlinewidth": 0,
            "ticks": ""
           }
          },
          "colorscale": {
           "diverging": [
            [
             0,
             "#8e0152"
            ],
            [
             0.1,
             "#c51b7d"
            ],
            [
             0.2,
             "#de77ae"
            ],
            [
             0.3,
             "#f1b6da"
            ],
            [
             0.4,
             "#fde0ef"
            ],
            [
             0.5,
             "#f7f7f7"
            ],
            [
             0.6,
             "#e6f5d0"
            ],
            [
             0.7,
             "#b8e186"
            ],
            [
             0.8,
             "#7fbc41"
            ],
            [
             0.9,
             "#4d9221"
            ],
            [
             1,
             "#276419"
            ]
           ],
           "sequential": [
            [
             0,
             "#0d0887"
            ],
            [
             0.1111111111111111,
             "#46039f"
            ],
            [
             0.2222222222222222,
             "#7201a8"
            ],
            [
             0.3333333333333333,
             "#9c179e"
            ],
            [
             0.4444444444444444,
             "#bd3786"
            ],
            [
             0.5555555555555556,
             "#d8576b"
            ],
            [
             0.6666666666666666,
             "#ed7953"
            ],
            [
             0.7777777777777778,
             "#fb9f3a"
            ],
            [
             0.8888888888888888,
             "#fdca26"
            ],
            [
             1,
             "#f0f921"
            ]
           ],
           "sequentialminus": [
            [
             0,
             "#0d0887"
            ],
            [
             0.1111111111111111,
             "#46039f"
            ],
            [
             0.2222222222222222,
             "#7201a8"
            ],
            [
             0.3333333333333333,
             "#9c179e"
            ],
            [
             0.4444444444444444,
             "#bd3786"
            ],
            [
             0.5555555555555556,
             "#d8576b"
            ],
            [
             0.6666666666666666,
             "#ed7953"
            ],
            [
             0.7777777777777778,
             "#fb9f3a"
            ],
            [
             0.8888888888888888,
             "#fdca26"
            ],
            [
             1,
             "#f0f921"
            ]
           ]
          },
          "colorway": [
           "#636efa",
           "#EF553B",
           "#00cc96",
           "#ab63fa",
           "#FFA15A",
           "#19d3f3",
           "#FF6692",
           "#B6E880",
           "#FF97FF",
           "#FECB52"
          ],
          "font": {
           "color": "#2a3f5f"
          },
          "geo": {
           "bgcolor": "white",
           "lakecolor": "white",
           "landcolor": "#E5ECF6",
           "showlakes": true,
           "showland": true,
           "subunitcolor": "white"
          },
          "hoverlabel": {
           "align": "left"
          },
          "hovermode": "closest",
          "mapbox": {
           "style": "light"
          },
          "paper_bgcolor": "white",
          "plot_bgcolor": "#E5ECF6",
          "polar": {
           "angularaxis": {
            "gridcolor": "white",
            "linecolor": "white",
            "ticks": ""
           },
           "bgcolor": "#E5ECF6",
           "radialaxis": {
            "gridcolor": "white",
            "linecolor": "white",
            "ticks": ""
           }
          },
          "scene": {
           "xaxis": {
            "backgroundcolor": "#E5ECF6",
            "gridcolor": "white",
            "gridwidth": 2,
            "linecolor": "white",
            "showbackground": true,
            "ticks": "",
            "zerolinecolor": "white"
           },
           "yaxis": {
            "backgroundcolor": "#E5ECF6",
            "gridcolor": "white",
            "gridwidth": 2,
            "linecolor": "white",
            "showbackground": true,
            "ticks": "",
            "zerolinecolor": "white"
           },
           "zaxis": {
            "backgroundcolor": "#E5ECF6",
            "gridcolor": "white",
            "gridwidth": 2,
            "linecolor": "white",
            "showbackground": true,
            "ticks": "",
            "zerolinecolor": "white"
           }
          },
          "shapedefaults": {
           "line": {
            "color": "#2a3f5f"
           }
          },
          "ternary": {
           "aaxis": {
            "gridcolor": "white",
            "linecolor": "white",
            "ticks": ""
           },
           "baxis": {
            "gridcolor": "white",
            "linecolor": "white",
            "ticks": ""
           },
           "bgcolor": "#E5ECF6",
           "caxis": {
            "gridcolor": "white",
            "linecolor": "white",
            "ticks": ""
           }
          },
          "title": {
           "x": 0.05
          },
          "xaxis": {
           "automargin": true,
           "gridcolor": "white",
           "linecolor": "white",
           "ticks": "",
           "title": {
            "standoff": 15
           },
           "zerolinecolor": "white",
           "zerolinewidth": 2
          },
          "yaxis": {
           "automargin": true,
           "gridcolor": "white",
           "linecolor": "white",
           "ticks": "",
           "title": {
            "standoff": 15
           },
           "zerolinecolor": "white",
           "zerolinewidth": 2
          }
         }
        },
        "xaxis": {
         "anchor": "y",
         "domain": [
          0,
          1
         ],
         "title": {
          "text": "age"
         }
        },
        "yaxis": {
         "anchor": "x",
         "domain": [
          0,
          1
         ],
         "title": {
          "text": "fare"
         }
        }
       }
      }
     },
     "metadata": {},
     "output_type": "display_data"
    }
   ],
   "source": [
    "fig = px.scatter(df, x='age', y='fare', color='survived', hover_data=['pclass','sex'])\n",
    "fig.show()"
   ]
  },
  {
   "cell_type": "code",
   "execution_count": null,
   "metadata": {},
   "outputs": [],
   "source": []
  }
 ],
 "metadata": {
  "kernelspec": {
   "display_name": "Python 3",
   "language": "python",
   "name": "python3"
  },
  "language_info": {
   "codemirror_mode": {
    "name": "ipython",
    "version": 3
   },
   "file_extension": ".py",
   "mimetype": "text/x-python",
   "name": "python",
   "nbconvert_exporter": "python",
   "pygments_lexer": "ipython3",
   "version": "3.11.6"
  }
 },
 "nbformat": 4,
 "nbformat_minor": 2
}
