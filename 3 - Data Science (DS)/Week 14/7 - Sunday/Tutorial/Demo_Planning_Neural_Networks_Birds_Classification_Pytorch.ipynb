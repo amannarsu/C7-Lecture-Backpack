{
 "cells": [
  {
   "cell_type": "code",
   "execution_count": 1,
   "metadata": {},
   "outputs": [],
   "source": [
    "import pandas as pd\n",
    "import numpy as np\n",
    "import matplotlib.pyplot as plt\n",
    "import seaborn as sns\n",
    "\n",
    "import torch\n",
    "import torch.nn as nn\n",
    "import torch.optim as optim\n",
    "from torch.utils.data import Dataset, DataLoader\n",
    "\n",
    "from sklearn.model_selection import train_test_split\n",
    "from sklearn.preprocessing import StandardScaler\n",
    "from sklearn.metrics import confusion_matrix, classification_report"
   ]
  },
  {
   "cell_type": "code",
   "execution_count": 2,
   "metadata": {},
   "outputs": [
    {
     "data": {
      "text/plain": [
       "<torch._C.Generator at 0x3235ac9b0>"
      ]
     },
     "execution_count": 2,
     "metadata": {},
     "output_type": "execute_result"
    }
   ],
   "source": [
    "# Set random seed for reproducibility\n",
    "torch.manual_seed(42)"
   ]
  },
  {
   "cell_type": "code",
   "execution_count": 3,
   "metadata": {},
   "outputs": [],
   "source": [
    "# Load the data\n",
    "data = pd.read_csv('Bird_Data_missing.txt', delimiter=' ')\n",
    "incomplete_records = data.iloc[148:, [3, 4]]\n",
    "data = data.iloc[:148, :]"
   ]
  },
  {
   "cell_type": "code",
   "execution_count": 4,
   "metadata": {},
   "outputs": [],
   "source": [
    "# Extract features and labels\n",
    "X = data.loc[:, ['Wing', 'Weight']]\n",
    "y = data.loc[:, ['Firewing', 'Shadowhawk', 'Thunderbeaks']]"
   ]
  },
  {
   "cell_type": "code",
   "execution_count": 6,
   "metadata": {},
   "outputs": [],
   "source": [
    "# Split the data into training, validation, and testing sets\n",
    "X_train, X_other, y_train, y_other = train_test_split(X, y, test_size=0.3, random_state=42)\n",
    "X_val, X_test, y_val, y_test = train_test_split(X_other, y_other, test_size=0.5, random_state=42)"
   ]
  },
  {
   "cell_type": "code",
   "execution_count": 7,
   "metadata": {},
   "outputs": [],
   "source": [
    "# Scale the features\n",
    "scaler = StandardScaler()\n",
    "X_train = scaler.fit_transform(X_train)\n",
    "X_val = scaler.transform(X_val)\n",
    "X_test = scaler.transform(X_test)"
   ]
  },
  {
   "cell_type": "code",
   "execution_count": 8,
   "metadata": {},
   "outputs": [],
   "source": [
    "# Create a custom dataset\n",
    "class BirdDataset(Dataset):\n",
    "    def __init__(self, X, y):\n",
    "        self.X = torch.tensor(X, dtype=torch.float32)\n",
    "        self.y = torch.tensor(y.values, dtype=torch.float32)\n",
    "\n",
    "    def __len__(self):\n",
    "        return len(self.X)\n",
    "\n",
    "    def __getitem__(self, idx):\n",
    "        return self.X[idx], self.y[idx]"
   ]
  },
  {
   "cell_type": "code",
   "execution_count": 9,
   "metadata": {},
   "outputs": [],
   "source": [
    "# Create dataloaders\n",
    "train_dataset = BirdDataset(X_train, y_train)\n",
    "val_dataset = BirdDataset(X_val, y_val)\n",
    "test_dataset = BirdDataset(X_test, y_test)"
   ]
  },
  {
   "cell_type": "code",
   "execution_count": 10,
   "metadata": {},
   "outputs": [],
   "source": [
    "train_loader = DataLoader(train_dataset, batch_size=16, shuffle=True)\n",
    "val_loader = DataLoader(val_dataset, batch_size=16)\n",
    "test_loader = DataLoader(test_dataset, batch_size=16)"
   ]
  },
  {
   "cell_type": "code",
   "execution_count": 11,
   "metadata": {},
   "outputs": [],
   "source": [
    "# Define the neural network model\n",
    "class BirdClassifier(nn.Module):\n",
    "    def __init__(self, input_dim, hidden_dim, output_dim):\n",
    "        super(BirdClassifier, self).__init__()\n",
    "        self.hidden = nn.Linear(input_dim, hidden_dim)\n",
    "        self.output = nn.Linear(hidden_dim, output_dim)\n",
    "        self.relu = nn.ReLU()\n",
    "        self.softmax = nn.Softmax(dim=1)\n",
    "\n",
    "    def forward(self, x):\n",
    "        x = self.hidden(x)\n",
    "        x = self.relu(x)\n",
    "        x = self.output(x)\n",
    "        x = self.softmax(x)\n",
    "        return x"
   ]
  },
  {
   "cell_type": "code",
   "execution_count": 12,
   "metadata": {},
   "outputs": [],
   "source": [
    "# Set up hyperparameter grid\n",
    "param_grid = {\n",
    "    'hidden_dim': [8, 12, 16, 24, 32],\n",
    "    'learning_rate': [0.1, 0.01, 0.001],\n",
    "    'weight_decay': [0.1, 0.01, 0.001, 0.0001, 0]\n",
    "}"
   ]
  },
  {
   "cell_type": "code",
   "execution_count": 13,
   "metadata": {},
   "outputs": [],
   "source": [
    "# Initialize variables to track the best model\n",
    "best_accuracy = 0.0\n",
    "best_params = None\n",
    "best_model = None"
   ]
  },
  {
   "cell_type": "code",
   "execution_count": 14,
   "metadata": {},
   "outputs": [
    {
     "name": "stdout",
     "output_type": "stream",
     "text": [
      "Training model with 8 hidden units, learning rate 0.1, and weight decay 0.1\n",
      "Accuracy on validation set: 81.82%\n",
      "Training model with 8 hidden units, learning rate 0.1, and weight decay 0.01\n",
      "Accuracy on validation set: 95.45%\n",
      "Training model with 8 hidden units, learning rate 0.1, and weight decay 0.001\n",
      "Accuracy on validation set: 95.45%\n",
      "Training model with 8 hidden units, learning rate 0.1, and weight decay 0.0001\n",
      "Accuracy on validation set: 90.91%\n",
      "Training model with 8 hidden units, learning rate 0.1, and weight decay 0\n",
      "Accuracy on validation set: 90.91%\n",
      "Training model with 8 hidden units, learning rate 0.01, and weight decay 0.1\n",
      "Accuracy on validation set: 63.64%\n",
      "Training model with 8 hidden units, learning rate 0.01, and weight decay 0.01\n",
      "Accuracy on validation set: 90.91%\n",
      "Training model with 8 hidden units, learning rate 0.01, and weight decay 0.001\n",
      "Accuracy on validation set: 95.45%\n",
      "Training model with 8 hidden units, learning rate 0.01, and weight decay 0.0001\n",
      "Accuracy on validation set: 90.91%\n",
      "Training model with 8 hidden units, learning rate 0.01, and weight decay 0\n",
      "Accuracy on validation set: 95.45%\n",
      "Training model with 8 hidden units, learning rate 0.001, and weight decay 0.1\n",
      "Accuracy on validation set: 63.64%\n",
      "Training model with 8 hidden units, learning rate 0.001, and weight decay 0.01\n",
      "Accuracy on validation set: 86.36%\n",
      "Training model with 8 hidden units, learning rate 0.001, and weight decay 0.001\n",
      "Accuracy on validation set: 86.36%\n",
      "Training model with 8 hidden units, learning rate 0.001, and weight decay 0.0001\n",
      "Accuracy on validation set: 86.36%\n",
      "Training model with 8 hidden units, learning rate 0.001, and weight decay 0\n",
      "Accuracy on validation set: 86.36%\n",
      "Training model with 12 hidden units, learning rate 0.1, and weight decay 0.1\n",
      "Accuracy on validation set: 63.64%\n",
      "Training model with 12 hidden units, learning rate 0.1, and weight decay 0.01\n",
      "Accuracy on validation set: 90.91%\n",
      "Training model with 12 hidden units, learning rate 0.1, and weight decay 0.001\n",
      "Accuracy on validation set: 90.91%\n",
      "Training model with 12 hidden units, learning rate 0.1, and weight decay 0.0001\n",
      "Accuracy on validation set: 95.45%\n",
      "Training model with 12 hidden units, learning rate 0.1, and weight decay 0\n",
      "Accuracy on validation set: 90.91%\n",
      "Training model with 12 hidden units, learning rate 0.01, and weight decay 0.1\n",
      "Accuracy on validation set: 63.64%\n",
      "Training model with 12 hidden units, learning rate 0.01, and weight decay 0.01\n",
      "Accuracy on validation set: 90.91%\n",
      "Training model with 12 hidden units, learning rate 0.01, and weight decay 0.001\n",
      "Accuracy on validation set: 95.45%\n",
      "Training model with 12 hidden units, learning rate 0.01, and weight decay 0.0001\n",
      "Accuracy on validation set: 95.45%\n",
      "Training model with 12 hidden units, learning rate 0.01, and weight decay 0\n",
      "Accuracy on validation set: 95.45%\n",
      "Training model with 12 hidden units, learning rate 0.001, and weight decay 0.1\n",
      "Accuracy on validation set: 63.64%\n",
      "Training model with 12 hidden units, learning rate 0.001, and weight decay 0.01\n",
      "Accuracy on validation set: 86.36%\n",
      "Training model with 12 hidden units, learning rate 0.001, and weight decay 0.001\n",
      "Accuracy on validation set: 90.91%\n",
      "Training model with 12 hidden units, learning rate 0.001, and weight decay 0.0001\n",
      "Accuracy on validation set: 86.36%\n",
      "Training model with 12 hidden units, learning rate 0.001, and weight decay 0\n",
      "Accuracy on validation set: 90.91%\n",
      "Training model with 16 hidden units, learning rate 0.1, and weight decay 0.1\n",
      "Accuracy on validation set: 63.64%\n",
      "Training model with 16 hidden units, learning rate 0.1, and weight decay 0.01\n",
      "Accuracy on validation set: 90.91%\n",
      "Training model with 16 hidden units, learning rate 0.1, and weight decay 0.001\n",
      "Accuracy on validation set: 68.18%\n",
      "Training model with 16 hidden units, learning rate 0.1, and weight decay 0.0001\n",
      "Accuracy on validation set: 90.91%\n",
      "Training model with 16 hidden units, learning rate 0.1, and weight decay 0\n",
      "Accuracy on validation set: 90.91%\n",
      "Training model with 16 hidden units, learning rate 0.01, and weight decay 0.1\n",
      "Accuracy on validation set: 77.27%\n",
      "Training model with 16 hidden units, learning rate 0.01, and weight decay 0.01\n",
      "Accuracy on validation set: 90.91%\n",
      "Training model with 16 hidden units, learning rate 0.01, and weight decay 0.001\n",
      "Accuracy on validation set: 90.91%\n",
      "Training model with 16 hidden units, learning rate 0.01, and weight decay 0.0001\n",
      "Accuracy on validation set: 95.45%\n",
      "Training model with 16 hidden units, learning rate 0.01, and weight decay 0\n",
      "Accuracy on validation set: 95.45%\n",
      "Training model with 16 hidden units, learning rate 0.001, and weight decay 0.1\n",
      "Accuracy on validation set: 63.64%\n",
      "Training model with 16 hidden units, learning rate 0.001, and weight decay 0.01\n",
      "Accuracy on validation set: 86.36%\n",
      "Training model with 16 hidden units, learning rate 0.001, and weight decay 0.001\n",
      "Accuracy on validation set: 86.36%\n",
      "Training model with 16 hidden units, learning rate 0.001, and weight decay 0.0001\n",
      "Accuracy on validation set: 90.91%\n",
      "Training model with 16 hidden units, learning rate 0.001, and weight decay 0\n",
      "Accuracy on validation set: 90.91%\n",
      "Training model with 24 hidden units, learning rate 0.1, and weight decay 0.1\n",
      "Accuracy on validation set: 63.64%\n",
      "Training model with 24 hidden units, learning rate 0.1, and weight decay 0.01\n",
      "Accuracy on validation set: 86.36%\n",
      "Training model with 24 hidden units, learning rate 0.1, and weight decay 0.001\n",
      "Accuracy on validation set: 90.91%\n",
      "Training model with 24 hidden units, learning rate 0.1, and weight decay 0.0001\n",
      "Accuracy on validation set: 90.91%\n",
      "Training model with 24 hidden units, learning rate 0.1, and weight decay 0\n",
      "Accuracy on validation set: 95.45%\n",
      "Training model with 24 hidden units, learning rate 0.01, and weight decay 0.1\n",
      "Accuracy on validation set: 77.27%\n",
      "Training model with 24 hidden units, learning rate 0.01, and weight decay 0.01\n",
      "Accuracy on validation set: 90.91%\n",
      "Training model with 24 hidden units, learning rate 0.01, and weight decay 0.001\n",
      "Accuracy on validation set: 95.45%\n",
      "Training model with 24 hidden units, learning rate 0.01, and weight decay 0.0001\n",
      "Accuracy on validation set: 90.91%\n",
      "Training model with 24 hidden units, learning rate 0.01, and weight decay 0\n",
      "Accuracy on validation set: 95.45%\n",
      "Training model with 24 hidden units, learning rate 0.001, and weight decay 0.1\n",
      "Accuracy on validation set: 63.64%\n",
      "Training model with 24 hidden units, learning rate 0.001, and weight decay 0.01\n",
      "Accuracy on validation set: 90.91%\n",
      "Training model with 24 hidden units, learning rate 0.001, and weight decay 0.001\n",
      "Accuracy on validation set: 90.91%\n",
      "Training model with 24 hidden units, learning rate 0.001, and weight decay 0.0001\n",
      "Accuracy on validation set: 90.91%\n",
      "Training model with 24 hidden units, learning rate 0.001, and weight decay 0\n",
      "Accuracy on validation set: 90.91%\n",
      "Training model with 32 hidden units, learning rate 0.1, and weight decay 0.1\n",
      "Accuracy on validation set: 63.64%\n",
      "Training model with 32 hidden units, learning rate 0.1, and weight decay 0.01\n",
      "Accuracy on validation set: 90.91%\n",
      "Training model with 32 hidden units, learning rate 0.1, and weight decay 0.001\n",
      "Accuracy on validation set: 90.91%\n",
      "Training model with 32 hidden units, learning rate 0.1, and weight decay 0.0001\n",
      "Accuracy on validation set: 95.45%\n",
      "Training model with 32 hidden units, learning rate 0.1, and weight decay 0\n",
      "Accuracy on validation set: 90.91%\n",
      "Training model with 32 hidden units, learning rate 0.01, and weight decay 0.1\n",
      "Accuracy on validation set: 63.64%\n",
      "Training model with 32 hidden units, learning rate 0.01, and weight decay 0.01\n",
      "Accuracy on validation set: 90.91%\n",
      "Training model with 32 hidden units, learning rate 0.01, and weight decay 0.001\n",
      "Accuracy on validation set: 95.45%\n",
      "Training model with 32 hidden units, learning rate 0.01, and weight decay 0.0001\n",
      "Accuracy on validation set: 90.91%\n",
      "Training model with 32 hidden units, learning rate 0.01, and weight decay 0\n",
      "Accuracy on validation set: 95.45%\n",
      "Training model with 32 hidden units, learning rate 0.001, and weight decay 0.1\n",
      "Accuracy on validation set: 81.82%\n",
      "Training model with 32 hidden units, learning rate 0.001, and weight decay 0.01\n",
      "Accuracy on validation set: 90.91%\n",
      "Training model with 32 hidden units, learning rate 0.001, and weight decay 0.001\n",
      "Accuracy on validation set: 90.91%\n",
      "Training model with 32 hidden units, learning rate 0.001, and weight decay 0.0001\n",
      "Accuracy on validation set: 90.91%\n",
      "Training model with 32 hidden units, learning rate 0.001, and weight decay 0\n",
      "Accuracy on validation set: 90.91%\n"
     ]
    }
   ],
   "source": [
    "# Iterate over the hyperparameter grid\n",
    "for hidden_dim in param_grid['hidden_dim']:\n",
    "    for learning_rate in param_grid['learning_rate']:\n",
    "        for weight_decay in param_grid['weight_decay']:\n",
    "            print(f\"Training model with {hidden_dim} hidden units, learning rate {learning_rate}, and weight decay {weight_decay}\")\n",
    "\n",
    "            model = BirdClassifier(input_dim=2, hidden_dim=hidden_dim, output_dim=3)\n",
    "            criterion = nn.BCELoss()\n",
    "            optimizer = optim.Adam(model.parameters(), lr=learning_rate, weight_decay=weight_decay)\n",
    "\n",
    "            # Training loop\n",
    "            num_epochs = 100\n",
    "            for epoch in range(num_epochs):\n",
    "                model.train()\n",
    "                for X_batch, y_batch in train_loader:\n",
    "                    optimizer.zero_grad()\n",
    "                    y_pred = model(X_batch)\n",
    "                    loss = criterion(y_pred, y_batch)\n",
    "                    loss.backward()\n",
    "                    optimizer.step()\n",
    "\n",
    "            # Evaluation on validation set\n",
    "            model.eval()\n",
    "            correct = 0\n",
    "            total = 0\n",
    "            with torch.no_grad():\n",
    "                for X_val, y_val in val_loader:\n",
    "                    y_pred = model(X_val)\n",
    "                    _, predicted = torch.max(y_pred.data, 1)\n",
    "                    total += y_val.size(0)\n",
    "                    correct += (predicted == torch.max(y_val, 1)[1]).sum().item()\n",
    "\n",
    "            accuracy = correct / total\n",
    "            print(f\"Accuracy on validation set: {accuracy * 100:.2f}%\")\n",
    "\n",
    "            # Update the best model if the current one is better\n",
    "            if accuracy > best_accuracy:\n",
    "                best_accuracy = accuracy\n",
    "                best_params = {'hidden_dim': hidden_dim, 'learning_rate': learning_rate, 'weight_decay': weight_decay}\n",
    "                best_model = model"
   ]
  },
  {
   "cell_type": "code",
   "execution_count": 15,
   "metadata": {},
   "outputs": [
    {
     "name": "stdout",
     "output_type": "stream",
     "text": [
      "Best Model Results \n",
      "Hidden Units: 8 \n",
      "Learning Rate: 0.1 \n",
      "Weight Decay: 0.01 \n",
      "Accuracy on validation set: 95.45%\n"
     ]
    }
   ],
   "source": [
    "# Output details of the optimal model\n",
    "print(f\"Best Model Results \\nHidden Units: {best_params['hidden_dim']} \\nLearning Rate: {best_params['learning_rate']} \\nWeight Decay: {best_params['weight_decay']} \\nAccuracy on validation set: {best_accuracy * 100:.2f}%\")"
   ]
  },
  {
   "cell_type": "code",
   "execution_count": 16,
   "metadata": {},
   "outputs": [],
   "source": [
    "# Evaluate the best model on the test set\n",
    "best_model.eval()\n",
    "correct = 0\n",
    "total = 0\n",
    "with torch.no_grad():\n",
    "    for X_test, y_test in test_loader:\n",
    "        y_pred = best_model(X_test)\n",
    "        _, predicted = torch.max(y_pred.data, 1)\n",
    "        total += y_test.size(0)\n",
    "        correct += (predicted == torch.max(y_test, 1)[1]).sum().item()"
   ]
  },
  {
   "cell_type": "code",
   "execution_count": 17,
   "metadata": {},
   "outputs": [
    {
     "name": "stdout",
     "output_type": "stream",
     "text": [
      "Accuracy of the best model on the test set: 95.65%\n"
     ]
    }
   ],
   "source": [
    "accuracy_test = correct / total\n",
    "print(f\"Accuracy of the best model on the test set: {accuracy_test * 100:.2f}%\")"
   ]
  },
  {
   "cell_type": "code",
   "execution_count": null,
   "metadata": {},
   "outputs": [],
   "source": []
  }
 ],
 "metadata": {
  "kernelspec": {
   "display_name": "Python 3",
   "language": "python",
   "name": "python3"
  },
  "language_info": {
   "codemirror_mode": {
    "name": "ipython",
    "version": 3
   },
   "file_extension": ".py",
   "mimetype": "text/x-python",
   "name": "python",
   "nbconvert_exporter": "python",
   "pygments_lexer": "ipython3",
   "version": "3.11.6"
  }
 },
 "nbformat": 4,
 "nbformat_minor": 2
}
