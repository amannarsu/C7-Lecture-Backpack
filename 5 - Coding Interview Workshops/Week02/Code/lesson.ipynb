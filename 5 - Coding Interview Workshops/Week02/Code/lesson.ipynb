{
 "cells": [
  {
   "cell_type": "code",
   "execution_count": 1,
   "metadata": {},
   "outputs": [
    {
     "name": "stdout",
     "output_type": "stream",
     "text": [
      "[4 6]\n",
      "[2 4]\n"
     ]
    }
   ],
   "source": [
    "import numpy as np\n",
    "\n",
    "# 2D vector space\n",
    "v1 = np.array([1, 2])\n",
    "v2 = np.array([3, 4])\n",
    "\n",
    "# Vector addition\n",
    "v3 = v1 + v2\n",
    "print(v3)  # Output: [4, 6]\n",
    "\n",
    "# Scalar multiplication\n",
    "v4 = 2 * v1\n",
    "print(v4)  # Output: [2, 4]"
   ]
  },
  {
   "cell_type": "code",
   "execution_count": 2,
   "metadata": {},
   "outputs": [
    {
     "name": "stdout",
     "output_type": "stream",
     "text": [
      "False\n"
     ]
    }
   ],
   "source": [
    "import numpy as np\n",
    "\n",
    "def is_linearly_independent(vectors):\n",
    "    matrix = np.column_stack(vectors)\n",
    "    rank = np.linalg.matrix_rank(matrix)\n",
    "    return rank == len(vectors)\n",
    "\n",
    "# Example usage\n",
    "v1 = np.array([1, 0])\n",
    "v2 = np.array([0, 1])\n",
    "v3 = np.array([2, 2])\n",
    "\n",
    "vectors = [v1, v2, v3]\n",
    "print(is_linearly_independent(vectors))  # Output: False"
   ]
  },
  {
   "cell_type": "code",
   "execution_count": 3,
   "metadata": {},
   "outputs": [
    {
     "name": "stdout",
     "output_type": "stream",
     "text": [
      "False\n"
     ]
    }
   ],
   "source": [
    "def is_linearly_independent(vectors):\n",
    "    matrix = np.column_stack(vectors)\n",
    "    rank = np.linalg.matrix_rank(matrix)\n",
    "    return rank == len(vectors)\n",
    "\n",
    "# Example usage\n",
    "v1 = np.array([1, 0])\n",
    "v2 = np.array([0, 1])\n",
    "v3 = np.array([2, 2])\n",
    "\n",
    "vectors = [v1, v2, v3]\n",
    "print(is_linearly_independent(vectors))  # Output: False"
   ]
  },
  {
   "cell_type": "code",
   "execution_count": 5,
   "metadata": {},
   "outputs": [
    {
     "name": "stdout",
     "output_type": "stream",
     "text": [
      "[[ 6  8]\n",
      " [10 12]]\n",
      "[[-4 -4]\n",
      " [-4 -4]]\n"
     ]
    }
   ],
   "source": [
    "A = np.array([[1, 2], [3, 4]])\n",
    "B = np.array([[5, 6], [7, 8]])\n",
    "\n",
    "# Matrix addition\n",
    "C = A + B\n",
    "print(C)\n",
    "# Output:\n",
    "# [[6 8]\n",
    "#  [10 12]]\n",
    "\n",
    "# Matrix subtraction\n",
    "D = A - B\n",
    "print(D)\n",
    "# Output:\n",
    "# [[-4 -4]\n",
    "#  [-4 -4]]"
   ]
  },
  {
   "cell_type": "code",
   "execution_count": 6,
   "metadata": {},
   "outputs": [
    {
     "name": "stdout",
     "output_type": "stream",
     "text": [
      "[[2 4]\n",
      " [6 8]]\n",
      "[[19 22]\n",
      " [43 50]]\n"
     ]
    }
   ],
   "source": [
    "A = np.array([[1, 2], [3, 4]])\n",
    "B = np.array([[5, 6], [7, 8]])\n",
    "\n",
    "# Scalar multiplication\n",
    "C = 2 * A\n",
    "print(C)\n",
    "# Output:\n",
    "# [[2 4]\n",
    "#  [6 8]]\n",
    "\n",
    "# Matrix multiplication\n",
    "D = np.dot(A, B)\n",
    "print(D)\n",
    "# Output:\n",
    "# [[19 22]\n",
    "#  [43 50]]"
   ]
  },
  {
   "cell_type": "code",
   "execution_count": 7,
   "metadata": {},
   "outputs": [
    {
     "name": "stdout",
     "output_type": "stream",
     "text": [
      "Eigenvalues:\n",
      "[3. 1.]\n",
      "Eigenvectors:\n",
      "[[ 0.70710678 -0.70710678]\n",
      " [ 0.70710678  0.70710678]]\n"
     ]
    }
   ],
   "source": [
    "A = np.array([[2, 1], [1, 2]])\n",
    "\n",
    "eigenvalues, eigenvectors = np.linalg.eig(A)\n",
    "\n",
    "print(\"Eigenvalues:\")\n",
    "print(eigenvalues)\n",
    "# Output: [3. 1.]\n",
    "\n",
    "print(\"Eigenvectors:\")\n",
    "print(eigenvectors)\n",
    "# Output:\n",
    "# [[ 0.70710678 -0.70710678]\n",
    "#  [ 0.70710678  0.70710678]]"
   ]
  },
  {
   "cell_type": "code",
   "execution_count": 10,
   "metadata": {},
   "outputs": [
    {
     "name": "stdout",
     "output_type": "stream",
     "text": [
      "Original Data:\n",
      "[[1 2]\n",
      " [3 4]\n",
      " [5 6]\n",
      " [7 8]]\n",
      "PCA-transformed Data:\n",
      "[[-1.8973666 ]\n",
      " [-0.63245553]\n",
      " [ 0.63245553]\n",
      " [ 1.8973666 ]]\n"
     ]
    }
   ],
   "source": [
    "from sklearn.decomposition import PCA\n",
    "from sklearn.preprocessing import StandardScaler\n",
    "\n",
    "# Generate sample data\n",
    "X = np.array([[1, 2], [3, 4], [5, 6], [7, 8]])\n",
    "\n",
    "# Standardize the data\n",
    "scaler = StandardScaler()\n",
    "X_std = scaler.fit_transform(X)\n",
    "\n",
    "# Apply PCA\n",
    "pca = PCA(n_components=1)\n",
    "X_pca = pca.fit_transform(X_std)\n",
    "\n",
    "print(\"Original Data:\")\n",
    "print(X)\n",
    "# Output:\n",
    "# [[1 2]\n",
    "#  [3 4]\n",
    "#  [5 6]\n",
    "#  [7 8]]\n",
    "\n",
    "print(\"PCA-transformed Data:\")\n",
    "print(X_pca)\n",
    "# Output:\n",
    "# [[-1.8973666 ]\n",
    "# [-0.63245553]\n",
    "# [ 0.63245553]\n",
    "# [ 1.8973666 ]]"
   ]
  },
  {
   "cell_type": "code",
   "execution_count": 11,
   "metadata": {},
   "outputs": [
    {
     "name": "stdout",
     "output_type": "stream",
     "text": [
      "Rotated vector: [1.11022302e-16 1.41421356e+00]\n",
      "Scaled vector: [2 3]\n",
      "Sheared vector: [2 3]\n"
     ]
    }
   ],
   "source": [
    "def rotation_matrix(theta):\n",
    "    cos_theta = np.cos(theta)\n",
    "    sin_theta = np.sin(theta)\n",
    "    return np.array([[cos_theta, -sin_theta], [sin_theta, cos_theta]])\n",
    "\n",
    "def scaling_matrix(sx, sy):\n",
    "    return np.array([[sx, 0], [0, sy]])\n",
    "\n",
    "def shearing_matrix(kx, ky):\n",
    "    return np.array([[1, kx], [ky, 1]])\n",
    "\n",
    "# Example usage\n",
    "v = np.array([1, 1])\n",
    "\n",
    "# Rotation by 45 degrees\n",
    "rotation = rotation_matrix(np.pi/4)\n",
    "v_rotated = np.dot(rotation, v)\n",
    "print(\"Rotated vector:\", v_rotated)\n",
    "# Rotated vector: [1.11022302e-16 1.41421356e+00]\n",
    "\n",
    "# Scaling by 2 along x-axis and 3 along y-axis\n",
    "scaling = scaling_matrix(2, 3)\n",
    "v_scaled = np.dot(scaling, v)\n",
    "print(\"Scaled vector:\", v_scaled)\n",
    "# Scaled vector: [2 3]\n",
    "\n",
    "# Shearing by 1 along x-axis and 2 along y-axis\n",
    "shearing = shearing_matrix(1, 2)\n",
    "v_sheared = np.dot(shearing, v)\n",
    "print(\"Sheared vector:\", v_sheared)\n",
    "# Sheared vector: [2 3]"
   ]
  },
  {
   "cell_type": "code",
   "execution_count": 12,
   "metadata": {},
   "outputs": [
    {
     "name": "stdout",
     "output_type": "stream",
     "text": [
      "Solution: [0.5 3. ]\n"
     ]
    }
   ],
   "source": [
    "def gaussian_elimination(A, b):\n",
    "    n = len(b)\n",
    "\n",
    "    # Create the augmented matrix\n",
    "    Ab = np.concatenate((A, b.reshape(n, 1)), axis=1)\n",
    "\n",
    "    # Forward elimination\n",
    "    for i in range(n):\n",
    "        pivot = Ab[i][i]\n",
    "        for j in range(i+1, n):\n",
    "            factor = Ab[j][i] / pivot\n",
    "            Ab[j] = Ab[j] - factor * Ab[i]\n",
    "\n",
    "    # Back-substitution\n",
    "    x = np.zeros(n)\n",
    "    for i in range(n-1, -1, -1):\n",
    "        x[i] = (Ab[i][-1] - np.dot(Ab[i][:-1], x)) / Ab[i][i]\n",
    "\n",
    "    return x\n",
    "\n",
    "# Example usage\n",
    "A = np.array([[2, 1], [1, 2]])\n",
    "b = np.array([4, 5])\n",
    "\n",
    "solution = gaussian_elimination(A, b)\n",
    "print(\"Solution:\", solution)"
   ]
  },
  {
   "cell_type": "code",
   "execution_count": null,
   "metadata": {},
   "outputs": [],
   "source": []
  }
 ],
 "metadata": {
  "kernelspec": {
   "display_name": "Python 3",
   "language": "python",
   "name": "python3"
  },
  "language_info": {
   "codemirror_mode": {
    "name": "ipython",
    "version": 3
   },
   "file_extension": ".py",
   "mimetype": "text/x-python",
   "name": "python",
   "nbconvert_exporter": "python",
   "pygments_lexer": "ipython3",
   "version": "3.11.6"
  }
 },
 "nbformat": 4,
 "nbformat_minor": 2
}
